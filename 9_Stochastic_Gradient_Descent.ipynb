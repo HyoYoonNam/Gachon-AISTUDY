{
  "nbformat": 4,
  "nbformat_minor": 0,
  "metadata": {
    "colab": {
      "provenance": [],
      "authorship_tag": "ABX9TyN2+doaWSnZ3uuYYd2FpVe7",
      "include_colab_link": true
    },
    "kernelspec": {
      "name": "python3",
      "display_name": "Python 3"
    },
    "language_info": {
      "name": "python"
    }
  },
  "cells": [
    {
      "cell_type": "markdown",
      "metadata": {
        "id": "view-in-github",
        "colab_type": "text"
      },
      "source": [
        "<a href=\"https://colab.research.google.com/github/rudevico/Gachon-AISTUDY/blob/main/9_Stochastic_Gradient_Descent.ipynb\" target=\"_parent\"><img src=\"https://colab.research.google.com/assets/colab-badge.svg\" alt=\"Open In Colab\"/></a>"
      ]
    },
    {
      "cell_type": "markdown",
      "source": [
        "# 예제 설명\n",
        "* 새로운 생선이 추가로 도착할 때마다 훈련을 진행한다고 하자.  \n",
        "* 즉 훈련 데이터(새로운 생선)은 조금씩 전달되고, 이를 이용하여 모델을 훈련해야 한다.  \n",
        "* 이때 사용할 수 있는 방법에 대해 생각해보자.  \n",
        "  - 방법1. 새로운 데이터가 추가될 때마다 기존 훈련 데이터에 새로운 데이터를 추가하여 모델을 매일매일 다시 훈련한다.  \n",
        "  => 시간이 지날수록 데이터가 점점 늘어나 용량이 너무 커지게 된다.  \n",
        "\n",
        "  - 방법2. 새로운 데이터를 추가할 때 이전 데이터를 버림으로써 훈련 데이터 크기를 일정하게 유지한다.  \n",
        "  => 생선 A의 데이터가 '버려지게 된 이전 데이터'에만 존재한다면 이를 잃게 된다.\n",
        "\n",
        "  - 방법3. ***Incremental Learning; 점진적 학습**을 사용한다.\n",
        "\n",
        "> *In computer science, incremental learning is a method of machine learning in which __input data is continuously used to extend the existing model's knowledge__ i.e. to further train the model.  \n",
        "It represents a dynamic technique of supervised learning and unsupervised learning that can be applied when __training data becomes available gradually over time or its size is out of system memory limits__.  \n",
        "The aim of incremental learning is for the learning model to __adapt to new data without forgetting its existing knowledge__."
      ],
      "metadata": {
        "id": "1QXn2bgCXJpO"
      }
    },
    {
      "cell_type": "markdown",
      "source": [
        "# 1. Stochastic Gradient Descent; 확률적 경사 하강법\n",
        "**types of gradient descent**  \n",
        "* **Batch Gradient Descent**: 전체 sample을 선택\n",
        "* **Stochastic Gradient Descent**: sample 중 무작위로 1개를 선택\n",
        "* **Minibatch Gradient Descent**: sample 중 무작위로 minibatch 크기 만큼 선택  \n",
        "\n",
        "선택된 sample을 train set에 넣는다.  \n",
        "만약 train set 내의 sample을 모두 사용했는데도 ***원하는 결과**를 얻지 못했다면, sample을 다시 선택해서 train set에 넣은 뒤에 이를 반복한다.  \n",
        "> 이때 **훈련 세트를 한 번 모두 사용하는 과정**을 **epoch**라고 한다.  \n",
        "일반적으로 Stochastic Gradient Descent에서는 수십, 수백 번 이상의 epoch를 수행한다.\n",
        "\n",
        "> *원하는 결과란  __만족할만한 수준의 loss function 값__을 의미한다.  \n",
        "  >> 이때 loss function은 '머신러닝 알고리즘이 얼마나 엉터리인지'를 측정하는 기준이다.  \n",
        "  따라서 loss function 값은 작을수록 좋은데, 최솟값이 얼마인지는 알 수가 없다.  \n",
        "  따라서 epoch를 따라 descent하면서 '이 정도면 만족할만한 정도의 loss function 값이다.`라고 생각이 될 때 멈추면 된다."
      ],
      "metadata": {
        "id": "UVplkX9tdneX"
      }
    },
    {
      "cell_type": "code",
      "source": [
        "import pandas as pd\n",
        "\n",
        "fish = pd.read_csv('http://bit.ly/fish_csv_data')"
      ],
      "metadata": {
        "id": "72aH6SRvl9T9"
      },
      "execution_count": null,
      "outputs": []
    },
    {
      "cell_type": "code",
      "source": [
        "fish_input = fish[['Weight', 'Length', 'Diagonal', 'Height', 'Width']].to_numpy()\n",
        "fish_target = fish['Species'].to_numpy()\n",
        "\n",
        "print(fish['Species'].unique()) # df에 대한 unique(np에 대한 nuique도 있음)\n",
        "                                # df unique는 raw data 순서 그대로 리턴"
      ],
      "metadata": {
        "colab": {
          "base_uri": "https://localhost:8080/"
        },
        "id": "NaJ_Otg1mKo0",
        "outputId": "56826cb1-edb2-4eac-aed2-4f3500132470"
      },
      "execution_count": null,
      "outputs": [
        {
          "output_type": "stream",
          "name": "stdout",
          "text": [
            "['Bream' 'Roach' 'Whitefish' 'Parkki' 'Perch' 'Pike' 'Smelt']\n"
          ]
        }
      ]
    },
    {
      "cell_type": "code",
      "source": [
        "from sklearn.model_selection import train_test_split\n",
        "\n",
        "train_input, test_input, train_target, test_target = train_test_split(\n",
        "    fish_input, fish_target, random_state=42)"
      ],
      "metadata": {
        "id": "36jgpoD7mX58"
      },
      "execution_count": null,
      "outputs": []
    },
    {
      "cell_type": "code",
      "source": [
        "from sklearn.preprocessing import StandardScaler\n",
        "\n",
        "ss = StandardScaler()\n",
        "ss.fit(train_input)\n",
        "train_scaled = ss.transform(train_input)\n",
        "test_scaled = ss.transform(test_input)\n",
        "\n",
        "print(train_scaled[:5])"
      ],
      "metadata": {
        "colab": {
          "base_uri": "https://localhost:8080/"
        },
        "id": "Q4Zj8fBKmkar",
        "outputId": "f805cad8-269b-4b07-f7d0-b95ea5c405ce"
      },
      "execution_count": null,
      "outputs": [
        {
          "output_type": "stream",
          "name": "stdout",
          "text": [
            "[[ 0.91965782  0.60943175  0.81041221  1.85194896  1.00075672]\n",
            " [ 0.30041219  1.54653445  1.45316551 -0.46981663  0.27291745]\n",
            " [-1.0858536  -1.68646987 -1.70848587 -1.70159849 -2.0044758 ]\n",
            " [-0.79734143 -0.60880176 -0.67486907 -0.82480589 -0.27631471]\n",
            " [-0.71289885 -0.73062511 -0.70092664 -0.0802298  -0.7033869 ]]\n"
          ]
        }
      ]
    },
    {
      "cell_type": "code",
      "source": [
        "from sklearn.linear_model import SGDClassifier # Stochastic Gradient Descent Classifier\n",
        "\n",
        "sc = SGDClassifier(loss='log_loss', max_iter=10, random_state=42)\n",
        "sc.fit(train_scaled, train_target)\n",
        "print(sc.score(train_scaled, train_target))\n",
        "print(sc.score(test_scaled, test_target))"
      ],
      "metadata": {
        "colab": {
          "base_uri": "https://localhost:8080/"
        },
        "id": "Lucs_yHcmyJO",
        "outputId": "868f2d43-f878-4f40-a20a-4e02b1e73afe"
      },
      "execution_count": null,
      "outputs": [
        {
          "output_type": "stream",
          "name": "stdout",
          "text": [
            "0.773109243697479\n",
            "0.775\n"
          ]
        },
        {
          "output_type": "stream",
          "name": "stderr",
          "text": [
            "/usr/local/lib/python3.10/dist-packages/sklearn/linear_model/_stochastic_gradient.py:702: ConvergenceWarning: Maximum number of iteration reached before convergence. Consider increasing max_iter to improve the fit.\n",
            "  warnings.warn(\n"
          ]
        }
      ]
    },
    {
      "cell_type": "code",
      "source": [
        "count = 0\n",
        "print(\"[fitting 1회 진행]\")\n",
        "print(sc.score(train_scaled, train_target))\n",
        "print(sc.score(test_scaled, test_target))\n",
        "for i in range(10):\n",
        "    count+=1\n",
        "    print(\"[partial fitting %d회 진행]\" % count)\n",
        "    sc.partial_fit(train_scaled, train_target) # 1 epoch씩 이어서 부분적으로 훈련(partial fitting)\n",
        "    print(sc.score(train_scaled, train_target))\n",
        "    print(sc.score(test_scaled, test_target))"
      ],
      "metadata": {
        "colab": {
          "base_uri": "https://localhost:8080/"
        },
        "id": "_M8z0YeMo-ES",
        "outputId": "345afcc7-996e-4eeb-aaa9-6ad0cb5048ce"
      },
      "execution_count": null,
      "outputs": [
        {
          "output_type": "stream",
          "name": "stdout",
          "text": [
            "[fitting 1회 진행]\n",
            "0.773109243697479\n",
            "0.775\n",
            "[partial fitting 1회 진행]\n",
            "0.8151260504201681\n",
            "0.85\n",
            "[partial fitting 2회 진행]\n",
            "0.7815126050420168\n",
            "0.8\n",
            "[partial fitting 3회 진행]\n",
            "0.8067226890756303\n",
            "0.8\n",
            "[partial fitting 4회 진행]\n",
            "0.8487394957983193\n",
            "0.85\n",
            "[partial fitting 5회 진행]\n",
            "0.8571428571428571\n",
            "0.9\n",
            "[partial fitting 6회 진행]\n",
            "0.8487394957983193\n",
            "0.9\n",
            "[partial fitting 7회 진행]\n",
            "0.865546218487395\n",
            "0.9\n",
            "[partial fitting 8회 진행]\n",
            "0.8487394957983193\n",
            "0.9\n",
            "[partial fitting 9회 진행]\n",
            "0.8571428571428571\n",
            "0.9\n",
            "[partial fitting 10회 진행]\n",
            "0.8487394957983193\n",
            "0.9\n"
          ]
        }
      ]
    },
    {
      "cell_type": "code",
      "source": [
        "import numpy as np\n",
        "\n",
        "sc = SGDClassifier(loss='log_loss', random_state=42)\n",
        "train_score = []\n",
        "test_score = []\n",
        "classes = np.unique(train_target) # np에 대한 unique(df에 대한 nuique도 있음)\n",
        "\n",
        "print(classes) # np unique는 알파벳 sort해서 리턴"
      ],
      "metadata": {
        "colab": {
          "base_uri": "https://localhost:8080/"
        },
        "id": "mOispgNgvgq2",
        "outputId": "789d1cdd-be89-4b99-e2dd-73f85229f02f"
      },
      "execution_count": null,
      "outputs": [
        {
          "output_type": "stream",
          "name": "stdout",
          "text": [
            "['Bream' 'Parkki' 'Perch' 'Pike' 'Roach' 'Smelt' 'Whitefish']\n"
          ]
        }
      ]
    },
    {
      "cell_type": "code",
      "source": [
        "for _ in range(0, 300):\n",
        "    sc.partial_fit(train_scaled, train_target, classes=classes)\n",
        "    train_score.append(sc.score(train_scaled, train_target))\n",
        "    test_score.append(sc.score(test_scaled, test_target))"
      ],
      "metadata": {
        "id": "5wKH_5Ysv7lf"
      },
      "execution_count": null,
      "outputs": []
    },
    {
      "cell_type": "code",
      "source": [
        "import matplotlib.pyplot as plt\n",
        "\n",
        "plt.plot(train_score)\n",
        "plt.plot(test_score)\n",
        "plt.xlabel('epoch')\n",
        "plt.xlabel('accuracy')\n",
        "plt.show()"
      ],
      "metadata": {
        "colab": {
          "base_uri": "https://localhost:8080/",
          "height": 449
        },
        "id": "72HAW4I9wnPs",
        "outputId": "57dc59f8-5ab7-4b46-aec8-e1735b63bccf"
      },
      "execution_count": null,
      "outputs": [
        {
          "output_type": "display_data",
          "data": {
            "text/plain": [
              "<Figure size 640x480 with 1 Axes>"
            ],
            "image/png": "[encoded data removed]"
          },
          "metadata": {}
        }
      ]
    },
    {
      "cell_type": "markdown",
      "source": [
        "따라서 optimal epoch는 100이라고 추정할 수 있겠다."
      ],
      "metadata": {
        "id": "vXf9uNSV-WO6"
      }
    },
    {
      "cell_type": "code",
      "source": [
        "sc = SGDClassifier(loss='log_loss', max_iter=100, tol=None, random_state=42) # tolerance를 None으로 설정 즉, 100번을 무조건 반복\n",
        "sc.fit(train_scaled, train_target)\n",
        "print(sc.score(train_scaled, train_target))\n",
        "print(sc.score(test_scaled, test_target))"
      ],
      "metadata": {
        "colab": {
          "base_uri": "https://localhost:8080/"
        },
        "id": "6W7LuPdv-hXE",
        "outputId": "2a8473ab-8041-4b80-a2ab-e07d9e1b8411"
      },
      "execution_count": 35,
      "outputs": [
        {
          "output_type": "stream",
          "name": "stdout",
          "text": [
            "0.957983193277311\n",
            "0.925\n"
          ]
        }
      ]
    },
    {
      "cell_type": "code",
      "source": [
        "# hinge는 support vector machine이라는 머신러닝 알고리즘을 위한 loss function임. 이를 SGDClassifier에서도 사용 가능\n",
        "sc = SGDClassifier(loss='hinge', max_iter=100, tol=None, random_state=42) # loss function을 hinge로 설정\n",
        "sc.fit(train_scaled, train_target)\n",
        "print(sc.score(train_scaled, train_target))\n",
        "print(sc.score(test_scaled, test_target))"
      ],
      "metadata": {
        "colab": {
          "base_uri": "https://localhost:8080/"
        },
        "id": "Yw9jDAex_kor",
        "outputId": "3d9faa30-781f-4cf8-ca79-89c22f851f4f"
      },
      "execution_count": 37,
      "outputs": [
        {
          "output_type": "stream",
          "name": "stdout",
          "text": [
            "0.9495798319327731\n",
            "0.925\n"
          ]
        }
      ]
    }
  ]
}