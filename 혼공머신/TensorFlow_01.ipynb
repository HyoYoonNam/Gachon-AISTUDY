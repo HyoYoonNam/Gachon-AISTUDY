{
  "nbformat": 4,
  "nbformat_minor": 0,
  "metadata": {
    "colab": {
      "provenance": [],
      "gpuType": "T4",
      "authorship_tag": "ABX9TyMwGyTpBRsANtxeWMG51XG0",
      "include_colab_link": true
    },
    "kernelspec": {
      "name": "python3",
      "display_name": "Python 3"
    },
    "language_info": {
      "name": "python"
    },
    "accelerator": "GPU"
  },
  "cells": [
    {
      "cell_type": "markdown",
      "metadata": {
        "id": "view-in-github",
        "colab_type": "text"
      },
      "source": [
        "<a href=\"https://colab.research.google.com/github/rudevico/Gachon-AISTUDY/blob/main/TensorFlow_01.ipynb\" target=\"_parent\"><img src=\"https://colab.research.google.com/assets/colab-badge.svg\" alt=\"Open In Colab\"/></a>"
      ]
    },
    {
      "cell_type": "code",
      "execution_count": 1,
      "metadata": {
        "id": "JMceQssd2vIJ"
      },
      "outputs": [],
      "source": [
        "import numpy as np\n",
        "\n",
        "import tensorflow as tf\n",
        "from tensorflow import keras"
      ]
    },
    {
      "cell_type": "code",
      "source": [
        "# load the dataset\n",
        "(X_train, y_train), (X_test, y_test) = \\\n",
        "    keras.datasets.fashion_mnist.load_data()"
      ],
      "metadata": {
        "id": "RpobvXtJ54Ri",
        "colab": {
          "base_uri": "https://localhost:8080/"
        },
        "outputId": "09c098da-75e0-4db0-8e29-9d52f3d6be12"
      },
      "execution_count": 2,
      "outputs": [
        {
          "output_type": "stream",
          "name": "stdout",
          "text": [
            "Downloading data from https://storage.googleapis.com/tensorflow/tf-keras-datasets/train-labels-idx1-ubyte.gz\n",
            "\u001b[1m29515/29515\u001b[0m \u001b[32m━━━━━━━━━━━━━━━━━━━━\u001b[0m\u001b[37m\u001b[0m \u001b[1m0s\u001b[0m 0us/step\n",
            "Downloading data from https://storage.googleapis.com/tensorflow/tf-keras-datasets/train-images-idx3-ubyte.gz\n",
            "\u001b[1m26421880/26421880\u001b[0m \u001b[32m━━━━━━━━━━━━━━━━━━━━\u001b[0m\u001b[37m\u001b[0m \u001b[1m0s\u001b[0m 0us/step\n",
            "Downloading data from https://storage.googleapis.com/tensorflow/tf-keras-datasets/t10k-labels-idx1-ubyte.gz\n",
            "\u001b[1m5148/5148\u001b[0m \u001b[32m━━━━━━━━━━━━━━━━━━━━\u001b[0m\u001b[37m\u001b[0m \u001b[1m0s\u001b[0m 0us/step\n",
            "Downloading data from https://storage.googleapis.com/tensorflow/tf-keras-datasets/t10k-images-idx3-ubyte.gz\n",
            "\u001b[1m4422102/4422102\u001b[0m \u001b[32m━━━━━━━━━━━━━━━━━━━━\u001b[0m\u001b[37m\u001b[0m \u001b[1m0s\u001b[0m 0us/step\n"
          ]
        }
      ]
    },
    {
      "cell_type": "markdown",
      "source": [
        "**cf. Dataset in TensorFlow, PyTorch**  \n",
        "**Dataset**이란 X(features)와 y(label)이 함께 포함된 형태를 의미한다.  \n",
        "(위 cell)따라서 (X_train, y_train)과 같이 지정하면 알아서 X_train에는 X가, y_train에는 y가 보관된다."
      ],
      "metadata": {
        "id": "dPPsi3pO8TTG"
      }
    },
    {
      "cell_type": "markdown",
      "source": [
        "**cf. `\\`의 사용**  \n",
        "References. [PEP 8 - Style Guide for Python Code](https://peps.python.org/pep-0008/)  \n",
        "\n",
        "The Python standard library is conservative and requires **limiting lines to 79 characters** (and docstrings/comments to 72).  \n",
        "**Backslashes(\\\\)** may still be appropriate at times. For example, long, multiple with-statements could not use implicit continuation before Python 3.10, so backslashes were acceptable for that case:  \n",
        "```python\n",
        "with open('/path/to/some/file/you/want/to/read') as file_1, \\\n",
        "     open('/path/to/some/file/being/written', 'w') as file_2:\n",
        "    file_2.write(file_1.read())\n",
        "```"
      ],
      "metadata": {
        "id": "6m1ag_Ys6p3p"
      }
    },
    {
      "cell_type": "code",
      "source": [
        "# check the shape and type of X, y\n",
        "print(f'X_train: Shape {X_train.shape} Type {type(X_train)}, y_train: Shape {y_train.shape} Type {type(y_train)}')\n",
        "print(f'X_test: Shape {X_test.shape} Type {type(X_test)}, y_test: Shape {y_test.shape} Type {type(y_test)}')"
      ],
      "metadata": {
        "colab": {
          "base_uri": "https://localhost:8080/"
        },
        "id": "8aozJ5nV-Hr3",
        "outputId": "b5b6352b-bfe9-4c73-a228-151190a8d042"
      },
      "execution_count": 3,
      "outputs": [
        {
          "output_type": "stream",
          "name": "stdout",
          "text": [
            "X_train: Shape (60000, 28, 28) Type <class 'numpy.ndarray'>, y_train: Shape (60000,) Type <class 'numpy.ndarray'>\n",
            "X_test: Shape (10000, 28, 28) Type <class 'numpy.ndarray'>, y_test: Shape (10000,) Type <class 'numpy.ndarray'>\n"
          ]
        }
      ]
    },
    {
      "cell_type": "code",
      "source": [
        "# 만약 sample 수가 너무 많고, y가 continuous value라면,\n",
        "# np.unique()에 리소스 소모가 클 수 있으므로 먼저 5개만 출력\n",
        "print(y_train[:5]) # Output: [9 0 0 3 0]\n",
        "# y가 dicrete인 것을 확인 후에 np.unique() 리턴\n",
        "print(np.unique(y_train)) # Output: [0 1 2 3 4 5 6 7 8 9]"
      ],
      "metadata": {
        "colab": {
          "base_uri": "https://localhost:8080/"
        },
        "id": "_jKS-TqN-_g2",
        "outputId": "85844836-690f-4241-895b-ae4e0f4dc1b9"
      },
      "execution_count": 4,
      "outputs": [
        {
          "output_type": "stream",
          "name": "stdout",
          "text": [
            "[9 0 0 3 0]\n",
            "[0 1 2 3 4 5 6 7 8 9]\n"
          ]
        }
      ]
    },
    {
      "cell_type": "code",
      "source": [
        "# check the labels count\n",
        "from collections import Counter\n",
        "\n",
        "# label_counter: Counter({9: 6000, 0: 6000, ..., 4: 6000, 8: 6000}) NO SORTED\n",
        "label_counter = Counter(y_train)\n",
        "\n",
        "# x[0]은 Key 기준, x[1]은 Value 기준 정렬\n",
        "# reverse=False이면 ascending, reverse=True이면 descending\n",
        "print(sorted(label_counter.items(), key=lambda x: x[0], reverse=False))"
      ],
      "metadata": {
        "colab": {
          "base_uri": "https://localhost:8080/"
        },
        "id": "3VH25MQr_wY-",
        "outputId": "0f080d06-dd2e-4435-e3aa-6ec8155608b6"
      },
      "execution_count": 5,
      "outputs": [
        {
          "output_type": "stream",
          "name": "stdout",
          "text": [
            "[(0, 6000), (1, 6000), (2, 6000), (3, 6000), (4, 6000), (5, 6000), (6, 6000), (7, 6000), (8, 6000), (9, 6000)]\n"
          ]
        }
      ]
    },
    {
      "cell_type": "code",
      "source": [
        "# Logistic Regression\n",
        "\n",
        "from sklearn.model_selection import cross_validate\n",
        "from sklearn.linear_model import SGDClassifier\n",
        "\n",
        "X_train_scaled = (X_train / 255.0).reshape(-1, 28*28)\n",
        "\n",
        "sc = SGDClassifier(loss='log_loss', max_iter=5, random_state=42)\n",
        "scores = cross_validate(estimator=sc,\n",
        "                        X=X_train_scaled, y=y_train,\n",
        "                        return_train_score=True,\n",
        "                        n_jobs=-1)\n",
        "\n",
        "train_score = np.mean(scores['train_score'])\n",
        "test_score = np.mean(scores['test_score'])\n",
        "print(f'train_score: {train_score}, test_score: {test_score}')"
      ],
      "metadata": {
        "id": "70Ee3JFQi2m4",
        "colab": {
          "base_uri": "https://localhost:8080/"
        },
        "outputId": "a653b777-d295-416c-8789-273b63ad368d"
      },
      "execution_count": 6,
      "outputs": [
        {
          "output_type": "stream",
          "name": "stderr",
          "text": [
            "/usr/local/lib/python3.10/dist-packages/joblib/externals/loky/backend/fork_exec.py:38: RuntimeWarning: os.fork() was called. os.fork() is incompatible with multithreaded code, and JAX is multithreaded, so this will likely lead to a deadlock.\n",
            "  pid = os.fork()\n",
            "/usr/local/lib/python3.10/dist-packages/joblib/externals/loky/backend/fork_exec.py:38: RuntimeWarning: os.fork() was called. os.fork() is incompatible with multithreaded code, and JAX is multithreaded, so this will likely lead to a deadlock.\n",
            "  pid = os.fork()\n"
          ]
        },
        {
          "output_type": "stream",
          "name": "stdout",
          "text": [
            "train_score: 0.8308250000000001, test_score: 0.8196000000000001\n"
          ]
        }
      ]
    },
    {
      "cell_type": "code",
      "source": [
        "# cf. 컴퓨터는 28pixel * 28pixel을 그림으로 이해하지 못한다\n",
        "# 따라서 .reshape(-1, 28*28)을 통해서 784pixel의 1-dim으로 만든다\n",
        "# 따라서 60,000개의 이미지는 각각 784개의 x_j값을 가진 데이터 인스턴스이다\n",
        "X_train_scaled.shape"
      ],
      "metadata": {
        "colab": {
          "base_uri": "https://localhost:8080/"
        },
        "id": "ypLk3NaWvcGm",
        "outputId": "f44e91dd-2e01-4357-f488-f1c1aeeaca36"
      },
      "execution_count": 7,
      "outputs": [
        {
          "output_type": "execute_result",
          "data": {
            "text/plain": [
              "(60000, 784)"
            ]
          },
          "metadata": {},
          "execution_count": 7
        }
      ]
    },
    {
      "cell_type": "markdown",
      "source": [
        "**cf. 위 cell 이어서**  \n",
        "input: $x^i_j$에 대해서 $i = 0, 1, ..., 59999$ 그리고 $j = 0, 1, ..., 783$  \n",
        "output: $z_k$에 대해서 $k = 0, 1, ..., 9$  \n",
        "\n",
        "$x^i$에 대한 $z_k = \\Sigma^{783}_{i=0}{(w_{ki}*x_{i})} + b_k$이다.  \n",
        "* 동일한 $x_i$에 대한 weight라고 하더라도, $z_k$에 따라 weight값이 다르기 때문에 $w_{ki}$라고 표현함.\n",
        "* 마찬가지로 bias값도 $z_k$에 달라지므로 $b_k$라고 표현함.\n",
        "\n",
        "$z_k$ 자체는 continuous이며, 이를 $softmax$ function에 통과시킨 값은 다음과 같다.  \n",
        "* $0<=softmax(z_k)<=1$ 그리고 $\\Sigma{softmax(z_k)}=1$\n",
        "\n",
        "* 즉 각 class에 속할 확률이 된다.\n",
        "\n",
        "즉 Input Node는 784개이고, Output Node는 10개임. 이 과정을 (X_train_scaled 60,000개 기준) 60,000번 수행하는 것임."
      ],
      "metadata": {
        "id": "6jIOiDz0wQzI"
      }
    },
    {
      "cell_type": "markdown",
      "source": [
        "* * *\n",
        "Deep Learning 분야의 데이터셋은 충분히 크기 때문에 validation score가 안정적이고, cross-validate를 하기에는 시간이 오래 걸리기 때문에 1개의 validation set으로만 검증한다."
      ],
      "metadata": {
        "id": "g8h7pGTGs9lr"
      }
    },
    {
      "cell_type": "code",
      "source": [
        "# Split train set into train set and validate set\n",
        "from sklearn.model_selection import train_test_split\n",
        "\n",
        "X_train, X_val, y_train, y_val = train_test_split(X_train_scaled,\n",
        "                                                  y_train,\n",
        "                                                  test_size=0.2,\n",
        "                                                  stratify=y_train,\n",
        "                                                  random_state=42)\n",
        "\n",
        "print(f'X_train: Shape {X_train.shape} Type {type(X_train)}, y_train: Shape {y_train.shape} Type {type(y_train)}')\n",
        "print(f'X_val: Shape {X_val.shape} Type {type(X_val)}, y_val: Shape {y_val.shape} Type {type(y_val)}')"
      ],
      "metadata": {
        "colab": {
          "base_uri": "https://localhost:8080/"
        },
        "id": "JmOmx9ZntYEN",
        "outputId": "4f8f588f-423c-4b59-e919-af7dc2dc7867"
      },
      "execution_count": 8,
      "outputs": [
        {
          "output_type": "stream",
          "name": "stdout",
          "text": [
            "X_train: Shape (48000, 784) Type <class 'numpy.ndarray'>, y_train: Shape (48000,) Type <class 'numpy.ndarray'>\n",
            "X_val: Shape (12000, 784) Type <class 'numpy.ndarray'>, y_val: Shape (12000,) Type <class 'numpy.ndarray'>\n"
          ]
        }
      ]
    },
    {
      "cell_type": "code",
      "source": [
        "# Create the Dense layer\n",
        "dense = keras.layers.Dense(units=10, # 다음 neuron(node) 수\n",
        "                           activation='softmax',\n",
        "                           input_shape=(784,))"
      ],
      "metadata": {
        "colab": {
          "base_uri": "https://localhost:8080/"
        },
        "id": "lDlMBzf50ZFs",
        "outputId": "132fe6ed-0c63-4b2d-e269-449bfa6df0a2"
      },
      "execution_count": 9,
      "outputs": [
        {
          "output_type": "stream",
          "name": "stderr",
          "text": [
            "/usr/local/lib/python3.10/dist-packages/keras/src/layers/core/dense.py:87: UserWarning: Do not pass an `input_shape`/`input_dim` argument to a layer. When using Sequential models, prefer using an `Input(shape)` object as the first layer in the model instead.\n",
            "  super().__init__(activity_regularizer=activity_regularizer, **kwargs)\n"
          ]
        }
      ]
    },
    {
      "cell_type": "markdown",
      "source": [
        "**cf. `keras.layers.Dense()`**  \n",
        "References. [tf.keras.layers.Dense](https://www.tensorflow.org/api_docs/python/tf/keras/layers/Dense)  \n",
        "\n",
        "* **units**: Positive integer, dimensionality of the output space.\n",
        "    - input layer - output layer 바로 연결되기 때문에 다음 node의 수는 10개(label 종류)\n",
        "* **activation**: Activation function to use. If you don't specify anything, no activation is applied (i.e. a(x) = x)"
      ],
      "metadata": {
        "id": "jgH2T51t1DTL"
      }
    },
    {
      "cell_type": "code",
      "source": [
        "# Create the Model\n",
        "model1 = keras.models.Sequential()\n",
        "model1.add(dense)\n",
        "\n",
        "model1.summary()"
      ],
      "metadata": {
        "colab": {
          "base_uri": "https://localhost:8080/",
          "height": 170
        },
        "id": "Tht9-nGm2b2l",
        "outputId": "b083cb56-0970-4c8f-82d3-8b60dde24f11"
      },
      "execution_count": 10,
      "outputs": [
        {
          "output_type": "display_data",
          "data": {
            "text/plain": [
              "\u001b[1mModel: \"sequential\"\u001b[0m\n"
            ],
            "text/html": [
              "<pre style=\"white-space:pre;overflow-x:auto;line-height:normal;font-family:Menlo,'DejaVu Sans Mono',consolas,'Courier New',monospace\"><span style=\"font-weight: bold\">Model: \"sequential\"</span>\n",
              "</pre>\n"
            ]
          },
          "metadata": {}
        },
        {
          "output_type": "display_data",
          "data": {
            "text/plain": [
              "┏━━━━━━━━━━━━━━━━━━━━━━━━━━━━━━━━━━━━━━┳━━━━━━━━━━━━━━━━━━━━━━━━━━━━━┳━━━━━━━━━━━━━━━━━┓\n",
              "┃\u001b[1m \u001b[0m\u001b[1mLayer (type)                        \u001b[0m\u001b[1m \u001b[0m┃\u001b[1m \u001b[0m\u001b[1mOutput Shape               \u001b[0m\u001b[1m \u001b[0m┃\u001b[1m \u001b[0m\u001b[1m        Param #\u001b[0m\u001b[1m \u001b[0m┃\n",
              "┡━━━━━━━━━━━━━━━━━━━━━━━━━━━━━━━━━━━━━━╇━━━━━━━━━━━━━━━━━━━━━━━━━━━━━╇━━━━━━━━━━━━━━━━━┩\n",
              "│ dense (\u001b[38;5;33mDense\u001b[0m)                        │ (\u001b[38;5;45mNone\u001b[0m, \u001b[38;5;34m10\u001b[0m)                  │           \u001b[38;5;34m7,850\u001b[0m │\n",
              "└──────────────────────────────────────┴─────────────────────────────┴─────────────────┘\n"
            ],
            "text/html": [
              "<pre style=\"white-space:pre;overflow-x:auto;line-height:normal;font-family:Menlo,'DejaVu Sans Mono',consolas,'Courier New',monospace\">┏━━━━━━━━━━━━━━━━━━━━━━━━━━━━━━━━━━━━━━┳━━━━━━━━━━━━━━━━━━━━━━━━━━━━━┳━━━━━━━━━━━━━━━━━┓\n",
              "┃<span style=\"font-weight: bold\"> Layer (type)                         </span>┃<span style=\"font-weight: bold\"> Output Shape                </span>┃<span style=\"font-weight: bold\">         Param # </span>┃\n",
              "┡━━━━━━━━━━━━━━━━━━━━━━━━━━━━━━━━━━━━━━╇━━━━━━━━━━━━━━━━━━━━━━━━━━━━━╇━━━━━━━━━━━━━━━━━┩\n",
              "│ dense (<span style=\"color: #0087ff; text-decoration-color: #0087ff\">Dense</span>)                        │ (<span style=\"color: #00d7ff; text-decoration-color: #00d7ff\">None</span>, <span style=\"color: #00af00; text-decoration-color: #00af00\">10</span>)                  │           <span style=\"color: #00af00; text-decoration-color: #00af00\">7,850</span> │\n",
              "└──────────────────────────────────────┴─────────────────────────────┴─────────────────┘\n",
              "</pre>\n"
            ]
          },
          "metadata": {}
        },
        {
          "output_type": "display_data",
          "data": {
            "text/plain": [
              "\u001b[1m Total params: \u001b[0m\u001b[38;5;34m7,850\u001b[0m (30.66 KB)\n"
            ],
            "text/html": [
              "<pre style=\"white-space:pre;overflow-x:auto;line-height:normal;font-family:Menlo,'DejaVu Sans Mono',consolas,'Courier New',monospace\"><span style=\"font-weight: bold\"> Total params: </span><span style=\"color: #00af00; text-decoration-color: #00af00\">7,850</span> (30.66 KB)\n",
              "</pre>\n"
            ]
          },
          "metadata": {}
        },
        {
          "output_type": "display_data",
          "data": {
            "text/plain": [
              "\u001b[1m Trainable params: \u001b[0m\u001b[38;5;34m7,850\u001b[0m (30.66 KB)\n"
            ],
            "text/html": [
              "<pre style=\"white-space:pre;overflow-x:auto;line-height:normal;font-family:Menlo,'DejaVu Sans Mono',consolas,'Courier New',monospace\"><span style=\"font-weight: bold\"> Trainable params: </span><span style=\"color: #00af00; text-decoration-color: #00af00\">7,850</span> (30.66 KB)\n",
              "</pre>\n"
            ]
          },
          "metadata": {}
        },
        {
          "output_type": "display_data",
          "data": {
            "text/plain": [
              "\u001b[1m Non-trainable params: \u001b[0m\u001b[38;5;34m0\u001b[0m (0.00 B)\n"
            ],
            "text/html": [
              "<pre style=\"white-space:pre;overflow-x:auto;line-height:normal;font-family:Menlo,'DejaVu Sans Mono',consolas,'Courier New',monospace\"><span style=\"font-weight: bold\"> Non-trainable params: </span><span style=\"color: #00af00; text-decoration-color: #00af00\">0</span> (0.00 B)\n",
              "</pre>\n"
            ]
          },
          "metadata": {}
        }
      ]
    },
    {
      "cell_type": "markdown",
      "source": [
        "**cf. `model.summary()` 결과 해석**  \n",
        "\n",
        "**Output Shape**  \n",
        "* (Batch_size, \\*Output_Dimensions)\n",
        "* 본 예제에서는 Batch_size 없으므로 `None`\n",
        "\n",
        "**Total params**  \n",
        "* 해당 layer를 통과하는 parameter 수\n",
        "* 각 data instance는 784(=28*28) 개의 $x_j$를 가지고 있으므로, $w_j$ 또한 이에 대응하여 784개가 존재함.\n",
        "* bias 1개를 추가하면 785개임.\n",
        "* 이때 layer와 연결된 output node가 10개이므로, 785 * 10 = 7,850임.\n",
        "\n",
        "**Trainable params**  \n",
        "* 말 그대로, 학습 가능한(= 업데이트 가능한) parameters\n",
        "* 표에서 **Param #**에 해당함.\n",
        "\n",
        "**Non-trainable params**  \n",
        "(지금 수준에서는 알 필요 없다고 판단됨)\n",
        "* case1. pre-trained model의 일부 layer를 freeze하여 학습 중에 update되지 않도록 설정\n",
        "* case2. 특정 parameter를 고정하여 학습 과정에서 변경되지 않도록 설정\n",
        "* case3. `moving mean` 및 `moving variance`와 같은 통계값은 학습 불가능한 parameter로 간주됨."
      ],
      "metadata": {
        "id": "zBwDuVrk5ARy"
      }
    },
    {
      "cell_type": "code",
      "source": [
        "# Compile the model\n",
        "# model training 전에 기타 설정을 함\n",
        "model1.compile(loss='sparse_categorical_crossentropy', \\\n",
        "              metrics=['accuracy'])\n",
        "\n",
        "# cf. 'sparse_categorical_crossentropy'\n",
        "# 다중분류 손실함수인 'categorical_crossentropy'는 one-hot encoding필요\n",
        "# sprase는 one-hot encoding 하지 않아도 가능하도록 해주는 tensorflow 함수\n",
        "# 바람직하지 않은 방법이지만, 실습이므로 그대로 진행함"
      ],
      "metadata": {
        "id": "Q8GQeTbIH9OV"
      },
      "execution_count": 11,
      "outputs": []
    },
    {
      "cell_type": "markdown",
      "source": [
        "**cf. `model.compile()`**  \n",
        "references. [tf.keras.Model.compile](https://www.tensorflow.org/api_docs/python/tf/keras/Model?_gl=1*iz7k9n*_up*MQ..*_ga*NjI0NTAyODA0LjE3MjI5NTYwNzg.*_ga_W0YLR4190T*MTcyMjk1NjA3Ny4xLjAuMTcyMjk1NjA3Ny4wLjAuMA..#compile)  \n",
        "> Configures the model for training.  \n",
        "즉 엄밀히 말하자면 compile보다는 configure가 적절하다.  \n",
        "위에서는 모델에 대한 layer, activation function 등을 설정했고, 여기서는 optimizer, loss function 등을 설정한다.\n",
        "\n",
        "```python\n",
        "# 해당 parameter value들은 default value\n",
        "compile(\n",
        "    optimizer='rmsprop', # 아래에서 설명\n",
        "    loss=None, # 아래에서 설명\n",
        "    loss_weights=None, # 무시\n",
        "    metrics=None, # 아래에서 설명\n",
        "    weighted_metrics=None, # 무시\n",
        "    run_eagerly=False, # 무시\n",
        "    steps_per_execution=1, # 무시\n",
        "    jit_compile='auto', # 무시\n",
        "    auto_scale_loss=True # 무시\n",
        ")\n",
        "```\n",
        "\n",
        "* **optimizer**: 최적화 함수. 종류는 [여기](https://www.tensorflow.org/api_docs/python/tf/keras/optimizers#classes)를 참고.\n",
        "* **loss**: 손실 함수. 종류는 [여기](https://www.tensorflow.org/api_docs/python/tf/keras/losses#classes)를 참고.\n",
        "* **metrics**: 평가 지표. 종류는 [여기](https://www.tensorflow.org/api_docs/python/tf/keras/metrics#classes)를 참고.\n",
        "    - **`keras`**에서는 기본적으로 epoch마다 loss 값을 출력한다. 이때 loss 값 외에도 추가적인 평가 지표를 출력하기를 원할 때 해당 parameter를 사용할 수 있다."
      ],
      "metadata": {
        "id": "hJ1Do0QUJpKv"
      }
    },
    {
      "cell_type": "code",
      "source": [
        "# Fitting the model\n",
        "train_epochs = 5\n",
        "# model.fit()은 기본적으로 epoch마다 loss값을 출력해준다\n",
        "# 그리고 부가 정보들도 model.fit()이 리턴하는 객체에 담긴다\n",
        "# 따라서 이 정보들을 추가적으로 이용하기 위해 history라는 변수에 보관하는 것이 바람직한 습관\n",
        "# ㄴ 추가적이라는 것은 그래프 그리기 등등을 의미함\n",
        "history = model1.fit(X_train, y_train,\n",
        "                    batch_size=None, # keras는 기본적으로 mini-batch, size=32 사용\n",
        "                    verbose=2,\n",
        "                    epochs=train_epochs)\n",
        "\n",
        "# cf. 또한 train_val을 사실 위에서 미리 만들지 않고,\n",
        "# model fitting할 때 설정할 수 있다.\n",
        "# model.fit(...,  validation_split = 0.1)"
      ],
      "metadata": {
        "colab": {
          "base_uri": "https://localhost:8080/"
        },
        "id": "rkfjnxGCJPiu",
        "outputId": "c9cb6858-8969-41c3-b87a-cbdbfc129a81"
      },
      "execution_count": 12,
      "outputs": [
        {
          "output_type": "stream",
          "name": "stdout",
          "text": [
            "Epoch 1/5\n",
            "1500/1500 - 3s - 2ms/step - accuracy: 0.7927 - loss: 0.6106\n",
            "Epoch 2/5\n",
            "1500/1500 - 4s - 3ms/step - accuracy: 0.8390 - loss: 0.4805\n",
            "Epoch 3/5\n",
            "1500/1500 - 2s - 2ms/step - accuracy: 0.8462 - loss: 0.4549\n",
            "Epoch 4/5\n",
            "1500/1500 - 3s - 2ms/step - accuracy: 0.8506 - loss: 0.4429\n",
            "Epoch 5/5\n",
            "1500/1500 - 2s - 1ms/step - accuracy: 0.8533 - loss: 0.4337\n"
          ]
        }
      ]
    },
    {
      "cell_type": "code",
      "source": [
        "# cf. model.fit()이 리턴하는 객체\n",
        "print(history)\n",
        "\n",
        "# Output: <keras.src.callbacks.history.History object at 0x7e05ed1d1930>"
      ],
      "metadata": {
        "colab": {
          "base_uri": "https://localhost:8080/"
        },
        "id": "12DfYjNJhb99",
        "outputId": "18505696-69f6-4e9e-894a-28be8e4293df"
      },
      "execution_count": 13,
      "outputs": [
        {
          "output_type": "stream",
          "name": "stdout",
          "text": [
            "<keras.src.callbacks.history.History object at 0x7f39bfd08490>\n"
          ]
        }
      ]
    },
    {
      "cell_type": "markdown",
      "source": [
        "**cf. `model.fit()`**  \n",
        "references. [tf.keras.Model.fit](https://www.tensorflow.org/api_docs/python/tf/keras/Model#fit)  \n",
        "\n",
        "```python\n",
        "fit(\n",
        "    x=None, # 무시\n",
        "    y=None, # 무시\n",
        "    batch_size=None, # 무시\n",
        "    epochs=1, # 무시\n",
        "    verbose='auto', # 아래에서 설명\n",
        "    callbacks=None, # 무시\n",
        "    ...\n",
        ")\n",
        "```\n",
        "\n",
        "* **verbose**: Verbosity mode.\n",
        "    - 'auto': default. becomes 1 for most cases.\n",
        "    - 0: silent.\n",
        "    - 1: progress bar. interactively하게 진행되는 동안 계속 loss, accuracy 등의 값을 업데이트하며 알려줌.  \n",
        "    > Note that **the progress bar is not particularly useful** when logged to a file\n",
        "    - 2: one line per epoch. 에포크 끝날 때마다만 알려줌.\n",
        "\n",
        "결론은 어지간하면 'auto'나 2로 쓰라는 것."
      ],
      "metadata": {
        "id": "IyTEl8TMcNIa"
      }
    },
    {
      "cell_type": "code",
      "source": [
        "# cf. model.fit()이 리턴하는 객체에 담긴 정보로 그래프 그리기 - loss\n",
        "import matplotlib.pyplot as plt\n",
        "\n",
        "loss = history.history['loss']\n",
        "# val_loss = history.history['val_loss'] # validation 설정 안했으므로 사용x\n",
        "epochs = range(1, len(loss) + 1)\n",
        "plt.plot(epochs, loss, 'y', label='Training loss')\n",
        "# plt.plot(epochs, val_loss, 'r', label='Validation loss') # 위 comment와 동일\n",
        "plt.title('Training and validation loss')\n",
        "plt.xlabel('Epochs')\n",
        "plt.ylabel('Loss')\n",
        "plt.legend()\n",
        "plt.show()"
      ],
      "metadata": {
        "colab": {
          "base_uri": "https://localhost:8080/",
          "height": 472
        },
        "id": "mo4-3IJXeYZJ",
        "outputId": "95cc7dad-7252-4c31-e6eb-e6d50b7efe7c"
      },
      "execution_count": 14,
      "outputs": [
        {
          "output_type": "display_data",
          "data": {
            "text/plain": [
              "<Figure size 640x480 with 1 Axes>"
            ],
            "image/png": "[encoded data removed]"
          },
          "metadata": {}
        }
      ]
    },
    {
      "cell_type": "code",
      "source": [
        "# cf. model.fit()이 리턴하는 객체에 담긴 정보로 그래프 그리기 - accuracy\n",
        "acc = history.history['accuracy']\n",
        "# val_acc = history.history['val_accuracy'] # validation 설정 안했으므로 사용x\n",
        "plt.plot(epochs, acc, 'y', label='Training acc')\n",
        "# plt.plot(epochs, val_acc, 'r', label='Validation acc') # 위 comment와 동일\n",
        "plt.title('Training and validation accuracy')\n",
        "plt.xlabel('Epochs')\n",
        "plt.ylabel('Accuracy')\n",
        "plt.legend()\n",
        "plt.show()"
      ],
      "metadata": {
        "colab": {
          "base_uri": "https://localhost:8080/",
          "height": 472
        },
        "id": "jILNEFZCiMMS",
        "outputId": "2e75f22d-561a-45c0-e44a-35204bdc11a6"
      },
      "execution_count": 15,
      "outputs": [
        {
          "output_type": "display_data",
          "data": {
            "text/plain": [
              "<Figure size 640x480 with 1 Axes>"
            ],
            "image/png": "[encoded data removed]"
          },
          "metadata": {}
        }
      ]
    },
    {
      "cell_type": "code",
      "source": [
        "# Evaluate the train_val\n",
        "# 기본적으로 model.compile()에서 지정했던 평가 지표들을 리턴함\n",
        "model1.evaluate(X_val, y_val,\n",
        "               verbose=2,\n",
        "               return_dict=True)"
      ],
      "metadata": {
        "colab": {
          "base_uri": "https://localhost:8080/"
        },
        "id": "B0Je-P8DivKq",
        "outputId": "816dec41-5c9a-4386-dfdf-49a35be7cd96"
      },
      "execution_count": 16,
      "outputs": [
        {
          "output_type": "stream",
          "name": "stdout",
          "text": [
            "375/375 - 1s - 2ms/step - accuracy: 0.8417 - loss: 0.4593\n"
          ]
        },
        {
          "output_type": "execute_result",
          "data": {
            "text/plain": [
              "{'accuracy': 0.8416666388511658, 'loss': 0.45934244990348816}"
            ]
          },
          "metadata": {},
          "execution_count": 16
        }
      ]
    },
    {
      "cell_type": "markdown",
      "source": [
        "**cf. `model.evaluate()`**  \n",
        "references. [tf.keras.Model.evaluate](https://www.tensorflow.org/api_docs/python/tf/keras/Model#evaluate)"
      ],
      "metadata": {
        "id": "S7mSg2b3sPJ9"
      }
    },
    {
      "cell_type": "code",
      "source": [
        "# 더 자세한 결과 확인\n",
        "# model.compile()에서 'metrics'를 이용해서도 확인 가능할 것 같지만,\n",
        "# 일단 배운대로만 진행함\n",
        "\n",
        "from sklearn.metrics import classification_report, confusion_matrix\n",
        "\n",
        "def softmax(x):\n",
        "    e_x = np.exp(x - np.max(x))\n",
        "    return e_x / e_x.sum(axis=0)\n",
        "\n",
        "y_pred = model1(X_val)\n",
        "y_pred_probs = softmax(y_pred)\n",
        "y_pred_class = np.argmax(y_pred_probs, axis=1)\n",
        "y_val_class = y_val # one-hot encoding 안 해서 이렇게 사용\n",
        "# 만약 했다면, 다음과 같이 했을 거임\n",
        "# y_val_class = np.argmax(y_val, axis=1)\n",
        "\n",
        "print(classification_report(y_val_class, y_pred_class,\n",
        "                            zero_division=0))\n",
        "print(confusion_matrix(y_val_class, y_pred_class))"
      ],
      "metadata": {
        "colab": {
          "base_uri": "https://localhost:8080/"
        },
        "id": "VOBM_FwWu5p-",
        "outputId": "927b1cbd-6a78-411c-e550-bbff1ef995f3"
      },
      "execution_count": 17,
      "outputs": [
        {
          "output_type": "stream",
          "name": "stdout",
          "text": [
            "              precision    recall  f1-score   support\n",
            "\n",
            "           0       0.78      0.89      0.83      1200\n",
            "           1       0.97      0.96      0.97      1200\n",
            "           2       0.77      0.68      0.72      1200\n",
            "           3       0.89      0.84      0.86      1200\n",
            "           4       0.61      0.90      0.73      1200\n",
            "           5       0.93      0.96      0.94      1200\n",
            "           6       0.73      0.42      0.53      1200\n",
            "           7       0.94      0.91      0.93      1200\n",
            "           8       0.95      0.96      0.96      1200\n",
            "           9       0.95      0.95      0.95      1200\n",
            "\n",
            "    accuracy                           0.85     12000\n",
            "   macro avg       0.85      0.85      0.84     12000\n",
            "weighted avg       0.85      0.85      0.84     12000\n",
            "\n",
            "[[1062    6   16   35   13    1   53    0   14    0]\n",
            " [   4 1155    6   24    7    1    3    0    0    0]\n",
            " [  21    2  820   10  277    0   64    0    5    1]\n",
            " [  53   19   18 1008   76    0   22    0    4    0]\n",
            " [   2    0   57   27 1078    0   30    0    6    0]\n",
            " [   2    0    0    1    0 1148    2   28    3   16]\n",
            " [ 216    4  139   23  297    0  501    0   20    0]\n",
            " [   0    0    0    0    0   58    0 1093    3   46]\n",
            " [   2    1    8    3   11    7    7    4 1157    0]\n",
            " [   0    0    0    0    0   20    1   34    1 1144]]\n"
          ]
        }
      ]
    },
    {
      "cell_type": "code",
      "source": [
        "# cf.\n",
        "print(y_pred, end='\\n\\n\\n')\n",
        "print(y_pred_probs, end='\\n\\n\\n')\n",
        "print(y_pred_class, end='\\n\\n\\n')\n",
        "print(y_val_class)"
      ],
      "metadata": {
        "colab": {
          "base_uri": "https://localhost:8080/"
        },
        "id": "PrMIZgbHz_fz",
        "outputId": "c7fbe378-dbb5-4b53-83f0-ea85e6638959"
      },
      "execution_count": 18,
      "outputs": [
        {
          "output_type": "stream",
          "name": "stdout",
          "text": [
            "tf.Tensor(\n",
            "[[1.60384334e-05 2.37586573e-06 6.10236311e-05 ... 1.33775651e-01\n",
            "  2.13197935e-02 2.14219809e-01]\n",
            " [1.24550925e-03 7.37591563e-06 2.58330884e-03 ... 1.27847274e-17\n",
            "  1.06712156e-04 2.14334129e-19]\n",
            " [8.80085449e-10 1.15021703e-09 3.42990241e-08 ... 2.33949292e-02\n",
            "  4.86990350e-04 1.95877533e-03]\n",
            " ...\n",
            " [3.50901155e-06 5.97604412e-07 2.90279568e-04 ... 5.51888292e-11\n",
            "  9.97308254e-01 9.66114341e-11]\n",
            " [6.23241474e-04 1.62249162e-05 9.90201294e-01 ... 9.08341446e-15\n",
            "  1.40880977e-04 1.70691355e-13]\n",
            " [5.13346240e-05 2.00800378e-06 2.71983245e-05 ... 1.02983631e-05\n",
            "  9.99400020e-01 6.76193895e-06]], shape=(12000, 10), dtype=float32)\n",
            "\n",
            "\n",
            "[[7.0980241e-05 7.1376948e-05 7.3984978e-05 ... 8.2810904e-05\n",
            "  7.2807983e-05 8.8561705e-05]\n",
            " [7.1067567e-05 7.1377304e-05 7.4171832e-05 ... 7.2441842e-05\n",
            "  7.1279756e-05 7.1484435e-05]\n",
            " [7.0979106e-05 7.1376773e-05 7.3980467e-05 ... 7.4156596e-05\n",
            "  7.1306866e-05 7.1624592e-05]\n",
            " ...\n",
            " [7.0979353e-05 7.1376817e-05 7.4001939e-05 ... 7.2441842e-05\n",
            "  1.9321700e-04 7.1484435e-05]\n",
            " [7.1023358e-05 7.1377930e-05 1.9913886e-04 ... 7.2441842e-05\n",
            "  7.1282193e-05 7.1484435e-05]\n",
            " [7.0982751e-05 7.1376919e-05 7.3982475e-05 ... 7.2442592e-05\n",
            "  1.9362161e-04 7.1484916e-05]]\n",
            "\n",
            "\n",
            "[5 4 5 ... 8 2 8]\n",
            "\n",
            "\n",
            "[5 4 5 ... 8 2 8]\n"
          ]
        }
      ]
    },
    {
      "cell_type": "code",
      "source": [
        "'''cf.\n",
        "precision   | TP / (TP + FP)\n",
        "recall      | TP / (TP + FN)\n",
        "f1-score    | harmonic mean of precision and recall\n",
        "              (2 * (precision * recall)) / (precision + recall)\n",
        "              일반적으로 precision과 recall은 trade-off 관계라서 이를 절충할 수 있도록 한 개념임\n",
        "support     | 각 class의 sample count\n",
        "accuracy    | (TP + TN) / (TP + TN + FP + FN)\n",
        "macro avg   | arithmatic mean of precision(각 class들의 precision 평균)\n",
        "'''"
      ],
      "metadata": {
        "id": "7Xi3OlBh0Vrw",
        "colab": {
          "base_uri": "https://localhost:8080/",
          "height": 90
        },
        "outputId": "d4d6c4fc-51d7-4c4a-c6e5-2a4f08e32170"
      },
      "execution_count": 19,
      "outputs": [
        {
          "output_type": "execute_result",
          "data": {
            "text/plain": [
              "'cf.\\nprecision   | TP / (TP + FP)\\nrecall      | TP / (TP + FN)\\nf1-score    | harmonic mean of precision and recall\\n              (2 * (precision * recall)) / (precision + recall)\\n              일반적으로 precision과 recall은 trade-off 관계라서 이를 절충할 수 있도록 한 개념임\\nsupport     | 각 class의 sample count\\naccuracy    | (TP + TN) / (TP + TN + FP + FN)\\nmacro avg   | arithmatic mean of precision(각 class들의 precision 평균)\\n'"
            ],
            "application/vnd.google.colaboratory.intrinsic+json": {
              "type": "string"
            }
          },
          "metadata": {},
          "execution_count": 19
        }
      ]
    },
    {
      "cell_type": "code",
      "source": [
        "'''cf.\n",
        "TN  | True Negative(진음성)\n",
        "FN  | False Negative(위음성)\n",
        "FP  | False Positive(위양성)\n",
        "TP  | True Positive(진양성)\n",
        "'''"
      ],
      "metadata": {
        "id": "gqY_CUs-0ZAb",
        "colab": {
          "base_uri": "https://localhost:8080/",
          "height": 54
        },
        "outputId": "21913cc4-b9c4-4c7b-806e-20d38c848f89"
      },
      "execution_count": 20,
      "outputs": [
        {
          "output_type": "execute_result",
          "data": {
            "text/plain": [
              "'cf.\\nTN  | True Negative(진음성)\\nFN  | False Negative(위음성)\\nFP  | False Positive(위양성)\\nTP  | True Positive(진양성)\\n'"
            ],
            "application/vnd.google.colaboratory.intrinsic+json": {
              "type": "string"
            }
          },
          "metadata": {},
          "execution_count": 20
        }
      ]
    },
    {
      "cell_type": "markdown",
      "source": [
        "* * *\n",
        "* * *\n",
        "앞선 model network는 input layer(784,)와 output layer(10,)만 있었다.  \n",
        "이번에는 여기에 hidden layer를 하나 추가해서 **$^{1)}$Multi-layer Perceptron**을 구현한다.  \n",
        "$^{1)}$cf. [Topic/What is Perceptron.md](https://github.com/rudevico/Gachon-AISTUDY/blob/main/Topic/What%20is%20Perceptron.md)"
      ],
      "metadata": {
        "id": "jCEjRl6y9m9S"
      }
    },
    {
      "cell_type": "code",
      "source": [
        "# cf. 현재까지의 X, y 목록\n",
        "# X_train, X_val, X_test, y_train, y_val, y_test"
      ],
      "metadata": {
        "id": "S0MnXsXc-a1C"
      },
      "execution_count": 21,
      "outputs": []
    },
    {
      "cell_type": "code",
      "source": [
        "# hidden layer\n",
        "dense1 = keras.layers.Dense(units=100,\n",
        "                            activation='sigmoid',\n",
        "                            input_shape=(28*28,),\n",
        "                            name='hidden_layer_1')\n",
        "# output layer\n",
        "dense2 = keras.layers.Dense(units=10,\n",
        "                            activation='softmax',\n",
        "                            name='output_layer')"
      ],
      "metadata": {
        "colab": {
          "base_uri": "https://localhost:8080/"
        },
        "id": "DZleR22j-uAW",
        "outputId": "9489fd56-e8a8-447e-b7fa-d597de0c8bdf"
      },
      "execution_count": 22,
      "outputs": [
        {
          "output_type": "stream",
          "name": "stderr",
          "text": [
            "/usr/local/lib/python3.10/dist-packages/keras/src/layers/core/dense.py:87: UserWarning: Do not pass an `input_shape`/`input_dim` argument to a layer. When using Sequential models, prefer using an `Input(shape)` object as the first layer in the model instead.\n",
            "  super().__init__(activity_regularizer=activity_regularizer, **kwargs)\n"
          ]
        }
      ]
    },
    {
      "cell_type": "code",
      "source": [
        "model = keras.models.Sequential(name='Multi-layer-Perceptron')\n",
        "model.add(dense1)\n",
        "model.add(dense2)\n",
        "\n",
        "model.summary()\n",
        "\n",
        "# hidden_layer_1의 Param # = 784*100(weights) + 1*100(biases)\n",
        "# output_layer의 Param # = 100*10(weights) + 1*10(biases)"
      ],
      "metadata": {
        "colab": {
          "base_uri": "https://localhost:8080/",
          "height": 204
        },
        "id": "iKDjwPzV_zWb",
        "outputId": "434f630f-1195-4c11-9c40-20b15bc1ba96"
      },
      "execution_count": 23,
      "outputs": [
        {
          "output_type": "display_data",
          "data": {
            "text/plain": [
              "\u001b[1mModel: \"Multi-layer-Perceptron\"\u001b[0m\n"
            ],
            "text/html": [
              "<pre style=\"white-space:pre;overflow-x:auto;line-height:normal;font-family:Menlo,'DejaVu Sans Mono',consolas,'Courier New',monospace\"><span style=\"font-weight: bold\">Model: \"Multi-layer-Perceptron\"</span>\n",
              "</pre>\n"
            ]
          },
          "metadata": {}
        },
        {
          "output_type": "display_data",
          "data": {
            "text/plain": [
              "┏━━━━━━━━━━━━━━━━━━━━━━━━━━━━━━━━━━━━━━┳━━━━━━━━━━━━━━━━━━━━━━━━━━━━━┳━━━━━━━━━━━━━━━━━┓\n",
              "┃\u001b[1m \u001b[0m\u001b[1mLayer (type)                        \u001b[0m\u001b[1m \u001b[0m┃\u001b[1m \u001b[0m\u001b[1mOutput Shape               \u001b[0m\u001b[1m \u001b[0m┃\u001b[1m \u001b[0m\u001b[1m        Param #\u001b[0m\u001b[1m \u001b[0m┃\n",
              "┡━━━━━━━━━━━━━━━━━━━━━━━━━━━━━━━━━━━━━━╇━━━━━━━━━━━━━━━━━━━━━━━━━━━━━╇━━━━━━━━━━━━━━━━━┩\n",
              "│ hidden_layer_1 (\u001b[38;5;33mDense\u001b[0m)               │ (\u001b[38;5;45mNone\u001b[0m, \u001b[38;5;34m100\u001b[0m)                 │          \u001b[38;5;34m78,500\u001b[0m │\n",
              "├──────────────────────────────────────┼─────────────────────────────┼─────────────────┤\n",
              "│ output_layer (\u001b[38;5;33mDense\u001b[0m)                 │ (\u001b[38;5;45mNone\u001b[0m, \u001b[38;5;34m10\u001b[0m)                  │           \u001b[38;5;34m1,010\u001b[0m │\n",
              "└──────────────────────────────────────┴─────────────────────────────┴─────────────────┘\n"
            ],
            "text/html": [
              "<pre style=\"white-space:pre;overflow-x:auto;line-height:normal;font-family:Menlo,'DejaVu Sans Mono',consolas,'Courier New',monospace\">┏━━━━━━━━━━━━━━━━━━━━━━━━━━━━━━━━━━━━━━┳━━━━━━━━━━━━━━━━━━━━━━━━━━━━━┳━━━━━━━━━━━━━━━━━┓\n",
              "┃<span style=\"font-weight: bold\"> Layer (type)                         </span>┃<span style=\"font-weight: bold\"> Output Shape                </span>┃<span style=\"font-weight: bold\">         Param # </span>┃\n",
              "┡━━━━━━━━━━━━━━━━━━━━━━━━━━━━━━━━━━━━━━╇━━━━━━━━━━━━━━━━━━━━━━━━━━━━━╇━━━━━━━━━━━━━━━━━┩\n",
              "│ hidden_layer_1 (<span style=\"color: #0087ff; text-decoration-color: #0087ff\">Dense</span>)               │ (<span style=\"color: #00d7ff; text-decoration-color: #00d7ff\">None</span>, <span style=\"color: #00af00; text-decoration-color: #00af00\">100</span>)                 │          <span style=\"color: #00af00; text-decoration-color: #00af00\">78,500</span> │\n",
              "├──────────────────────────────────────┼─────────────────────────────┼─────────────────┤\n",
              "│ output_layer (<span style=\"color: #0087ff; text-decoration-color: #0087ff\">Dense</span>)                 │ (<span style=\"color: #00d7ff; text-decoration-color: #00d7ff\">None</span>, <span style=\"color: #00af00; text-decoration-color: #00af00\">10</span>)                  │           <span style=\"color: #00af00; text-decoration-color: #00af00\">1,010</span> │\n",
              "└──────────────────────────────────────┴─────────────────────────────┴─────────────────┘\n",
              "</pre>\n"
            ]
          },
          "metadata": {}
        },
        {
          "output_type": "display_data",
          "data": {
            "text/plain": [
              "\u001b[1m Total params: \u001b[0m\u001b[38;5;34m79,510\u001b[0m (310.59 KB)\n"
            ],
            "text/html": [
              "<pre style=\"white-space:pre;overflow-x:auto;line-height:normal;font-family:Menlo,'DejaVu Sans Mono',consolas,'Courier New',monospace\"><span style=\"font-weight: bold\"> Total params: </span><span style=\"color: #00af00; text-decoration-color: #00af00\">79,510</span> (310.59 KB)\n",
              "</pre>\n"
            ]
          },
          "metadata": {}
        },
        {
          "output_type": "display_data",
          "data": {
            "text/plain": [
              "\u001b[1m Trainable params: \u001b[0m\u001b[38;5;34m79,510\u001b[0m (310.59 KB)\n"
            ],
            "text/html": [
              "<pre style=\"white-space:pre;overflow-x:auto;line-height:normal;font-family:Menlo,'DejaVu Sans Mono',consolas,'Courier New',monospace\"><span style=\"font-weight: bold\"> Trainable params: </span><span style=\"color: #00af00; text-decoration-color: #00af00\">79,510</span> (310.59 KB)\n",
              "</pre>\n"
            ]
          },
          "metadata": {}
        },
        {
          "output_type": "display_data",
          "data": {
            "text/plain": [
              "\u001b[1m Non-trainable params: \u001b[0m\u001b[38;5;34m0\u001b[0m (0.00 B)\n"
            ],
            "text/html": [
              "<pre style=\"white-space:pre;overflow-x:auto;line-height:normal;font-family:Menlo,'DejaVu Sans Mono',consolas,'Courier New',monospace\"><span style=\"font-weight: bold\"> Non-trainable params: </span><span style=\"color: #00af00; text-decoration-color: #00af00\">0</span> (0.00 B)\n",
              "</pre>\n"
            ]
          },
          "metadata": {}
        }
      ]
    },
    {
      "cell_type": "code",
      "source": [
        "# cf. model에 layer를 추가하는 또 다른 방법\n",
        "# 해당 방법이 조금 더 model을 dynamic하게 사용할 수 있음\n",
        "model2 = keras.models.Sequential(name='Multi-layer_Perceptron')\n",
        "model2.add(keras.layers.Dense(units=100,\n",
        "                            activation='sigmoid',\n",
        "                            input_shape=(28*28,),\n",
        "                            name='hidden_layer_1'))\n",
        "model2.add(keras.layers.Dense(units=10,\n",
        "                            activation='softmax',\n",
        "                            name='output_layer_1'))\n",
        "\n",
        "model2.summary()"
      ],
      "metadata": {
        "colab": {
          "base_uri": "https://localhost:8080/",
          "height": 204
        },
        "id": "bZ-voa6CDOai",
        "outputId": "53fe4a50-06df-4484-c27f-f6fd0987ccdd"
      },
      "execution_count": 24,
      "outputs": [
        {
          "output_type": "display_data",
          "data": {
            "text/plain": [
              "\u001b[1mModel: \"Multi-layer_Perceptron\"\u001b[0m\n"
            ],
            "text/html": [
              "<pre style=\"white-space:pre;overflow-x:auto;line-height:normal;font-family:Menlo,'DejaVu Sans Mono',consolas,'Courier New',monospace\"><span style=\"font-weight: bold\">Model: \"Multi-layer_Perceptron\"</span>\n",
              "</pre>\n"
            ]
          },
          "metadata": {}
        },
        {
          "output_type": "display_data",
          "data": {
            "text/plain": [
              "┏━━━━━━━━━━━━━━━━━━━━━━━━━━━━━━━━━━━━━━┳━━━━━━━━━━━━━━━━━━━━━━━━━━━━━┳━━━━━━━━━━━━━━━━━┓\n",
              "┃\u001b[1m \u001b[0m\u001b[1mLayer (type)                        \u001b[0m\u001b[1m \u001b[0m┃\u001b[1m \u001b[0m\u001b[1mOutput Shape               \u001b[0m\u001b[1m \u001b[0m┃\u001b[1m \u001b[0m\u001b[1m        Param #\u001b[0m\u001b[1m \u001b[0m┃\n",
              "┡━━━━━━━━━━━━━━━━━━━━━━━━━━━━━━━━━━━━━━╇━━━━━━━━━━━━━━━━━━━━━━━━━━━━━╇━━━━━━━━━━━━━━━━━┩\n",
              "│ hidden_layer_1 (\u001b[38;5;33mDense\u001b[0m)               │ (\u001b[38;5;45mNone\u001b[0m, \u001b[38;5;34m100\u001b[0m)                 │          \u001b[38;5;34m78,500\u001b[0m │\n",
              "├──────────────────────────────────────┼─────────────────────────────┼─────────────────┤\n",
              "│ output_layer_1 (\u001b[38;5;33mDense\u001b[0m)               │ (\u001b[38;5;45mNone\u001b[0m, \u001b[38;5;34m10\u001b[0m)                  │           \u001b[38;5;34m1,010\u001b[0m │\n",
              "└──────────────────────────────────────┴─────────────────────────────┴─────────────────┘\n"
            ],
            "text/html": [
              "<pre style=\"white-space:pre;overflow-x:auto;line-height:normal;font-family:Menlo,'DejaVu Sans Mono',consolas,'Courier New',monospace\">┏━━━━━━━━━━━━━━━━━━━━━━━━━━━━━━━━━━━━━━┳━━━━━━━━━━━━━━━━━━━━━━━━━━━━━┳━━━━━━━━━━━━━━━━━┓\n",
              "┃<span style=\"font-weight: bold\"> Layer (type)                         </span>┃<span style=\"font-weight: bold\"> Output Shape                </span>┃<span style=\"font-weight: bold\">         Param # </span>┃\n",
              "┡━━━━━━━━━━━━━━━━━━━━━━━━━━━━━━━━━━━━━━╇━━━━━━━━━━━━━━━━━━━━━━━━━━━━━╇━━━━━━━━━━━━━━━━━┩\n",
              "│ hidden_layer_1 (<span style=\"color: #0087ff; text-decoration-color: #0087ff\">Dense</span>)               │ (<span style=\"color: #00d7ff; text-decoration-color: #00d7ff\">None</span>, <span style=\"color: #00af00; text-decoration-color: #00af00\">100</span>)                 │          <span style=\"color: #00af00; text-decoration-color: #00af00\">78,500</span> │\n",
              "├──────────────────────────────────────┼─────────────────────────────┼─────────────────┤\n",
              "│ output_layer_1 (<span style=\"color: #0087ff; text-decoration-color: #0087ff\">Dense</span>)               │ (<span style=\"color: #00d7ff; text-decoration-color: #00d7ff\">None</span>, <span style=\"color: #00af00; text-decoration-color: #00af00\">10</span>)                  │           <span style=\"color: #00af00; text-decoration-color: #00af00\">1,010</span> │\n",
              "└──────────────────────────────────────┴─────────────────────────────┴─────────────────┘\n",
              "</pre>\n"
            ]
          },
          "metadata": {}
        },
        {
          "output_type": "display_data",
          "data": {
            "text/plain": [
              "\u001b[1m Total params: \u001b[0m\u001b[38;5;34m79,510\u001b[0m (310.59 KB)\n"
            ],
            "text/html": [
              "<pre style=\"white-space:pre;overflow-x:auto;line-height:normal;font-family:Menlo,'DejaVu Sans Mono',consolas,'Courier New',monospace\"><span style=\"font-weight: bold\"> Total params: </span><span style=\"color: #00af00; text-decoration-color: #00af00\">79,510</span> (310.59 KB)\n",
              "</pre>\n"
            ]
          },
          "metadata": {}
        },
        {
          "output_type": "display_data",
          "data": {
            "text/plain": [
              "\u001b[1m Trainable params: \u001b[0m\u001b[38;5;34m79,510\u001b[0m (310.59 KB)\n"
            ],
            "text/html": [
              "<pre style=\"white-space:pre;overflow-x:auto;line-height:normal;font-family:Menlo,'DejaVu Sans Mono',consolas,'Courier New',monospace\"><span style=\"font-weight: bold\"> Trainable params: </span><span style=\"color: #00af00; text-decoration-color: #00af00\">79,510</span> (310.59 KB)\n",
              "</pre>\n"
            ]
          },
          "metadata": {}
        },
        {
          "output_type": "display_data",
          "data": {
            "text/plain": [
              "\u001b[1m Non-trainable params: \u001b[0m\u001b[38;5;34m0\u001b[0m (0.00 B)\n"
            ],
            "text/html": [
              "<pre style=\"white-space:pre;overflow-x:auto;line-height:normal;font-family:Menlo,'DejaVu Sans Mono',consolas,'Courier New',monospace\"><span style=\"font-weight: bold\"> Non-trainable params: </span><span style=\"color: #00af00; text-decoration-color: #00af00\">0</span> (0.00 B)\n",
              "</pre>\n"
            ]
          },
          "metadata": {}
        }
      ]
    },
    {
      "cell_type": "code",
      "source": [
        "model2.compile(loss='sparse_categorical_crossentropy',\n",
        "              metrics=['accuracy'])\n",
        "history = model2.fit(X_train, y_train, epochs=train_epochs, verbose=2)"
      ],
      "metadata": {
        "colab": {
          "base_uri": "https://localhost:8080/"
        },
        "id": "5dh-ubm5Db4_",
        "outputId": "dbb56441-0303-46e0-cffd-4cd4f610c638"
      },
      "execution_count": 25,
      "outputs": [
        {
          "output_type": "stream",
          "name": "stdout",
          "text": [
            "Epoch 1/5\n",
            "1500/1500 - 3s - 2ms/step - accuracy: 0.8034 - loss: 0.5759\n",
            "Epoch 2/5\n",
            "1500/1500 - 2s - 2ms/step - accuracy: 0.8496 - loss: 0.4156\n",
            "Epoch 3/5\n",
            "1500/1500 - 3s - 2ms/step - accuracy: 0.8617 - loss: 0.3804\n",
            "Epoch 4/5\n",
            "1500/1500 - 4s - 3ms/step - accuracy: 0.8719 - loss: 0.3564\n",
            "Epoch 5/5\n",
            "1500/1500 - 2s - 1ms/step - accuracy: 0.8762 - loss: 0.3392\n"
          ]
        }
      ]
    },
    {
      "cell_type": "code",
      "source": [
        "model2.evaluate(X_val, y_val,\n",
        "               verbose=2,\n",
        "               return_dict=True)"
      ],
      "metadata": {
        "colab": {
          "base_uri": "https://localhost:8080/"
        },
        "id": "Df_KrZICHV9v",
        "outputId": "9e1918d9-2665-4aeb-ab67-da62f7d659a7"
      },
      "execution_count": 26,
      "outputs": [
        {
          "output_type": "stream",
          "name": "stdout",
          "text": [
            "375/375 - 1s - 2ms/step - accuracy: 0.8720 - loss: 0.3509\n"
          ]
        },
        {
          "output_type": "execute_result",
          "data": {
            "text/plain": [
              "{'accuracy': 0.871999979019165, 'loss': 0.350943922996521}"
            ]
          },
          "metadata": {},
          "execution_count": 26
        }
      ]
    },
    {
      "cell_type": "markdown",
      "source": [
        "* * *\n",
        "* hidden layer의 activation function을 sigmoid → ReLU로 바꿔본다.  \n",
        "    **cf. [why is ReLU used as an activation function](https://www.geeksforgeeks.org/why-is-relu-used-as-an-activation-function/)**\n",
        "* 또한 `.reshape()`로 (28, 28)을 (28*28,)으로 바꿔서 input에 넣었었는데,  \n",
        "(28, 28) 그대로 넣고 `flatten()`을 사용한다.\n",
        "\n"
      ],
      "metadata": {
        "id": "O8dLbFJuHeWJ"
      }
    },
    {
      "cell_type": "code",
      "source": [
        "model3 = keras.models.Sequential(name='Multi-layer_Perceptron_flatten-x_ReLU')\n",
        "# Flatten layer를 집중적으로 볼 것\n",
        "model3.add(keras.layers.Flatten(input_shape=(28, 28),\n",
        "                                name='flatten_layer'))\n",
        "model3.add(keras.layers.Dense(units=100,\n",
        "                             activation='relu',\n",
        "                             name='hidden_layer'))\n",
        "model3.add(keras.layers.Dense(units=10,\n",
        "                             activation='softmax',\n",
        "                             name='output_layer'))\n",
        "\n",
        "model3.summary()\n",
        "\n",
        "# flatten_layer는 학습하는 layer가 아니기 때문에,\n",
        "# 해당 Neural Network의 depth는 2라고 할 수 있다(hidden, output)."
      ],
      "metadata": {
        "colab": {
          "base_uri": "https://localhost:8080/",
          "height": 295
        },
        "id": "F5UDhGfxI6Lo",
        "outputId": "9d193a95-39dc-4606-a42a-232e24bdd31c"
      },
      "execution_count": 27,
      "outputs": [
        {
          "output_type": "stream",
          "name": "stderr",
          "text": [
            "/usr/local/lib/python3.10/dist-packages/keras/src/layers/reshaping/flatten.py:37: UserWarning: Do not pass an `input_shape`/`input_dim` argument to a layer. When using Sequential models, prefer using an `Input(shape)` object as the first layer in the model instead.\n",
            "  super().__init__(**kwargs)\n"
          ]
        },
        {
          "output_type": "display_data",
          "data": {
            "text/plain": [
              "\u001b[1mModel: \"Multi-layer_Perceptron_flatten-x_ReLU\"\u001b[0m\n"
            ],
            "text/html": [
              "<pre style=\"white-space:pre;overflow-x:auto;line-height:normal;font-family:Menlo,'DejaVu Sans Mono',consolas,'Courier New',monospace\"><span style=\"font-weight: bold\">Model: \"Multi-layer_Perceptron_flatten-x_ReLU\"</span>\n",
              "</pre>\n"
            ]
          },
          "metadata": {}
        },
        {
          "output_type": "display_data",
          "data": {
            "text/plain": [
              "┏━━━━━━━━━━━━━━━━━━━━━━━━━━━━━━━━━━━━━━┳━━━━━━━━━━━━━━━━━━━━━━━━━━━━━┳━━━━━━━━━━━━━━━━━┓\n",
              "┃\u001b[1m \u001b[0m\u001b[1mLayer (type)                        \u001b[0m\u001b[1m \u001b[0m┃\u001b[1m \u001b[0m\u001b[1mOutput Shape               \u001b[0m\u001b[1m \u001b[0m┃\u001b[1m \u001b[0m\u001b[1m        Param #\u001b[0m\u001b[1m \u001b[0m┃\n",
              "┡━━━━━━━━━━━━━━━━━━━━━━━━━━━━━━━━━━━━━━╇━━━━━━━━━━━━━━━━━━━━━━━━━━━━━╇━━━━━━━━━━━━━━━━━┩\n",
              "│ flatten_layer (\u001b[38;5;33mFlatten\u001b[0m)              │ (\u001b[38;5;45mNone\u001b[0m, \u001b[38;5;34m784\u001b[0m)                 │               \u001b[38;5;34m0\u001b[0m │\n",
              "├──────────────────────────────────────┼─────────────────────────────┼─────────────────┤\n",
              "│ hidden_layer (\u001b[38;5;33mDense\u001b[0m)                 │ (\u001b[38;5;45mNone\u001b[0m, \u001b[38;5;34m100\u001b[0m)                 │          \u001b[38;5;34m78,500\u001b[0m │\n",
              "├──────────────────────────────────────┼─────────────────────────────┼─────────────────┤\n",
              "│ output_layer (\u001b[38;5;33mDense\u001b[0m)                 │ (\u001b[38;5;45mNone\u001b[0m, \u001b[38;5;34m10\u001b[0m)                  │           \u001b[38;5;34m1,010\u001b[0m │\n",
              "└──────────────────────────────────────┴─────────────────────────────┴─────────────────┘\n"
            ],
            "text/html": [
              "<pre style=\"white-space:pre;overflow-x:auto;line-height:normal;font-family:Menlo,'DejaVu Sans Mono',consolas,'Courier New',monospace\">┏━━━━━━━━━━━━━━━━━━━━━━━━━━━━━━━━━━━━━━┳━━━━━━━━━━━━━━━━━━━━━━━━━━━━━┳━━━━━━━━━━━━━━━━━┓\n",
              "┃<span style=\"font-weight: bold\"> Layer (type)                         </span>┃<span style=\"font-weight: bold\"> Output Shape                </span>┃<span style=\"font-weight: bold\">         Param # </span>┃\n",
              "┡━━━━━━━━━━━━━━━━━━━━━━━━━━━━━━━━━━━━━━╇━━━━━━━━━━━━━━━━━━━━━━━━━━━━━╇━━━━━━━━━━━━━━━━━┩\n",
              "│ flatten_layer (<span style=\"color: #0087ff; text-decoration-color: #0087ff\">Flatten</span>)              │ (<span style=\"color: #00d7ff; text-decoration-color: #00d7ff\">None</span>, <span style=\"color: #00af00; text-decoration-color: #00af00\">784</span>)                 │               <span style=\"color: #00af00; text-decoration-color: #00af00\">0</span> │\n",
              "├──────────────────────────────────────┼─────────────────────────────┼─────────────────┤\n",
              "│ hidden_layer (<span style=\"color: #0087ff; text-decoration-color: #0087ff\">Dense</span>)                 │ (<span style=\"color: #00d7ff; text-decoration-color: #00d7ff\">None</span>, <span style=\"color: #00af00; text-decoration-color: #00af00\">100</span>)                 │          <span style=\"color: #00af00; text-decoration-color: #00af00\">78,500</span> │\n",
              "├──────────────────────────────────────┼─────────────────────────────┼─────────────────┤\n",
              "│ output_layer (<span style=\"color: #0087ff; text-decoration-color: #0087ff\">Dense</span>)                 │ (<span style=\"color: #00d7ff; text-decoration-color: #00d7ff\">None</span>, <span style=\"color: #00af00; text-decoration-color: #00af00\">10</span>)                  │           <span style=\"color: #00af00; text-decoration-color: #00af00\">1,010</span> │\n",
              "└──────────────────────────────────────┴─────────────────────────────┴─────────────────┘\n",
              "</pre>\n"
            ]
          },
          "metadata": {}
        },
        {
          "output_type": "display_data",
          "data": {
            "text/plain": [
              "\u001b[1m Total params: \u001b[0m\u001b[38;5;34m79,510\u001b[0m (310.59 KB)\n"
            ],
            "text/html": [
              "<pre style=\"white-space:pre;overflow-x:auto;line-height:normal;font-family:Menlo,'DejaVu Sans Mono',consolas,'Courier New',monospace\"><span style=\"font-weight: bold\"> Total params: </span><span style=\"color: #00af00; text-decoration-color: #00af00\">79,510</span> (310.59 KB)\n",
              "</pre>\n"
            ]
          },
          "metadata": {}
        },
        {
          "output_type": "display_data",
          "data": {
            "text/plain": [
              "\u001b[1m Trainable params: \u001b[0m\u001b[38;5;34m79,510\u001b[0m (310.59 KB)\n"
            ],
            "text/html": [
              "<pre style=\"white-space:pre;overflow-x:auto;line-height:normal;font-family:Menlo,'DejaVu Sans Mono',consolas,'Courier New',monospace\"><span style=\"font-weight: bold\"> Trainable params: </span><span style=\"color: #00af00; text-decoration-color: #00af00\">79,510</span> (310.59 KB)\n",
              "</pre>\n"
            ]
          },
          "metadata": {}
        },
        {
          "output_type": "display_data",
          "data": {
            "text/plain": [
              "\u001b[1m Non-trainable params: \u001b[0m\u001b[38;5;34m0\u001b[0m (0.00 B)\n"
            ],
            "text/html": [
              "<pre style=\"white-space:pre;overflow-x:auto;line-height:normal;font-family:Menlo,'DejaVu Sans Mono',consolas,'Courier New',monospace\"><span style=\"font-weight: bold\"> Non-trainable params: </span><span style=\"color: #00af00; text-decoration-color: #00af00\">0</span> (0.00 B)\n",
              "</pre>\n"
            ]
          },
          "metadata": {}
        }
      ]
    },
    {
      "cell_type": "code",
      "source": [
        "# cf. model3에는 flatten_layer가 존재하기 때문에,\n",
        "# 28pixel * 28pixel의 2-dim 데이터를 28*28의 1-dim으로 미리 변형하지 않아도 된다.\n",
        "\n",
        "(X_train, y_train), (X_test, y_test) = \\\n",
        "    keras.datasets.fashion_mnist.load_data()\n",
        "X_train = X_train / 255.0"
      ],
      "metadata": {
        "id": "oygQDifbLQhb"
      },
      "execution_count": 28,
      "outputs": []
    },
    {
      "cell_type": "code",
      "source": [
        "model3.compile(loss='sparse_categorical_crossentropy',\n",
        "               metrics=['accuracy'])\n",
        "# 이번에는 train_val을 따로 나누지 않고, validation_split parameter를 사용\n",
        "history = model3.fit(X_train, y_train,\n",
        "                     validation_split=0.2,\n",
        "                     verbose=2,\n",
        "                     epochs=train_epochs)"
      ],
      "metadata": {
        "colab": {
          "base_uri": "https://localhost:8080/"
        },
        "id": "jN02LC41L8zz",
        "outputId": "43f55226-ddba-4f7c-ae57-16c00a6ddce1"
      },
      "execution_count": 29,
      "outputs": [
        {
          "output_type": "stream",
          "name": "stdout",
          "text": [
            "Epoch 1/5\n",
            "1500/1500 - 5s - 3ms/step - accuracy: 0.8141 - loss: 0.5290 - val_accuracy: 0.8428 - val_loss: 0.4462\n",
            "Epoch 2/5\n",
            "1500/1500 - 3s - 2ms/step - accuracy: 0.8609 - loss: 0.3897 - val_accuracy: 0.8634 - val_loss: 0.3805\n",
            "Epoch 3/5\n",
            "1500/1500 - 3s - 2ms/step - accuracy: 0.8734 - loss: 0.3507 - val_accuracy: 0.8722 - val_loss: 0.3673\n",
            "Epoch 4/5\n",
            "1500/1500 - 6s - 4ms/step - accuracy: 0.8807 - loss: 0.3324 - val_accuracy: 0.8838 - val_loss: 0.3454\n",
            "Epoch 5/5\n",
            "1500/1500 - 3s - 2ms/step - accuracy: 0.8866 - loss: 0.3161 - val_accuracy: 0.8738 - val_loss: 0.3667\n"
          ]
        }
      ]
    },
    {
      "cell_type": "markdown",
      "source": [
        "* * *\n",
        "* optimizer를 변경해본다.  \n",
        "    **cf. [tf.keras.optimizers](https://www.tensorflow.org/api_docs/python/tf/keras/optimizers)**  \n",
        "    **cf. [tf.keras.optimizers.SGD](https://www.tensorflow.org/api_docs/python/tf/keras/optimizers/SGD?_gl=1*1bsob3k*_up*MQ..*_ga*MTAyNzI4OTg0MS4xNzIzMTA0Mzky*_ga_W0YLR4190T*MTcyMzEwNDM5Mi4xLjAuMTcyMzEwNDM5Mi4wLjAuMA..)**\n",
        "* `sgd = keras.optimizers.SGD()`를 수행하지 않아도 `.compile()`에서 'sgd'를 자동으로 인식해주기는 한다.\n",
        "\n",
        "> 기본적으로 다음과 같은 optimizer를 주로 사용한다.\n",
        "\n",
        "* `keras.optimizers.SGD`: (normal) sgd, momentum, neserov momentum\n",
        "* `keras.optimizers.Adagrad`\n",
        "* `keras.optimizers.RMSprop`\n",
        "* `keras.optimizers.Adam`"
      ],
      "metadata": {
        "id": "LyAUc82IBInM"
      }
    },
    {
      "cell_type": "code",
      "source": [
        "sgd = keras.optimizers.SGD(learning_rate=0.1) # default = 0.01\n",
        "model3.compile(optimizer='sgd', # default = 'RMSprop'\n",
        "               loss='sparse_categorical_crossentropy',\n",
        "               metrics=['accuracy'])"
      ],
      "metadata": {
        "id": "9C2q5a7oBQCJ"
      },
      "execution_count": 30,
      "outputs": []
    },
    {
      "cell_type": "code",
      "source": [
        "history = model3.fit(X_train, y_train,\n",
        "                     validation_split=0.2,\n",
        "                     verbose=2,\n",
        "                     epochs=train_epochs)"
      ],
      "metadata": {
        "colab": {
          "base_uri": "https://localhost:8080/"
        },
        "id": "sQKGUcCNCKyu",
        "outputId": "0bfaf96a-fe17-4c0d-fc68-40051e600147"
      },
      "execution_count": 31,
      "outputs": [
        {
          "output_type": "stream",
          "name": "stdout",
          "text": [
            "Epoch 1/5\n",
            "1500/1500 - 4s - 3ms/step - accuracy: 0.9073 - loss: 0.2582 - val_accuracy: 0.8912 - val_loss: 0.3191\n",
            "Epoch 2/5\n",
            "1500/1500 - 4s - 3ms/step - accuracy: 0.9099 - loss: 0.2495 - val_accuracy: 0.8915 - val_loss: 0.3174\n",
            "Epoch 3/5\n",
            "1500/1500 - 3s - 2ms/step - accuracy: 0.9105 - loss: 0.2459 - val_accuracy: 0.8917 - val_loss: 0.3186\n",
            "Epoch 4/5\n",
            "1500/1500 - 4s - 3ms/step - accuracy: 0.9116 - loss: 0.2436 - val_accuracy: 0.8922 - val_loss: 0.3146\n",
            "Epoch 5/5\n",
            "1500/1500 - 2s - 2ms/step - accuracy: 0.9115 - loss: 0.2416 - val_accuracy: 0.8918 - val_loss: 0.3147\n"
          ]
        }
      ]
    },
    {
      "cell_type": "markdown",
      "source": [
        "* * *\n",
        "\n",
        "**cf0. sgd(normal sgd) Optimization:**  \n",
        "\n",
        "**expression:**  \n",
        "$𝝷_{t+1} = 𝝷_t\\ -\\ η*g_t$  \n",
        "* $g_t$ is loss function의 gradient == $∇_𝝷J(𝝷_t)$\n",
        "    - $∇_𝝷$는 𝝷에 대한 미분을 의미함.\n",
        "    - $J$는 loss function을 의미함.\n",
        "* $η$ is learning rate\n",
        "* $𝝷_t$ is iteration t번 째의 parameter value\n",
        "* $g_t$ is iteration t번 째의 loss function value\n",
        "* $𝝷_0$ is 임의의 초기 random parameter value\n",
        "\n",
        "```python\n",
        "# code example.\n",
        "sgd_normal = keras.optimizers.SGD(learning_rate=0.01)\n",
        "```\n",
        "* * *\n",
        "\n",
        "**cf1. enhanced sgd: Momentum Optimization**  \n",
        "references. [Problems with Gradient Descent - Cornell edu.](https://optimization.cbe.cornell.edu/index.php?title=Momentum#Problems_with_Gradient_Descent)  \n",
        "\n",
        "With gradient descent, a weight update at time *t* is given by the learning rate and gradient at that exact moment.  \n",
        "This means that the previous steps are not considered when searching for the next iteration's solution.  \n",
        "This results in two issues:  \n",
        "1. Unlike convex functions, a non-convex cost function can haver many local minima's meaning the first local minima found is not guaranteed to be the global minima. At the local minima, the gradient of the cost function will be very small resulting in no weight updates.  \n",
        "Because of this, gradient descent will get stuck and fail to find the globa optimal solution.\n",
        "2. Gradient descent can be noisy with many oscillations which results int a larger number of iterations needed to reach convergence.\n",
        "\n",
        "**expression:**  \n",
        "$𝝷_{t+1} = 𝝷_t\\ -\\ η*v_{t+1}$  \n",
        "* $v_{t+1}$ = $β*v_t\\ +\\ (1-β)g_t$\n",
        "* $β$ is momentum coefficient  \n",
        "주로 1에 가까운 값.\n",
        "\n",
        "```python\n",
        "# code example.\n",
        "# 'momentum'을 0보다 크게 설정(default 0), nesterov는 False(default)\n",
        "# 'momentum'은 주로 1에 가까운 값을 지정\n",
        "sgd_momentum = keras.optimizers.SGD(learning_rate=0.01, momentum=0.9, nesterov=False)\n",
        "```\n",
        "* * *\n",
        "\n",
        "**cf2. enhanced sgd: Nesterov Momentum Optimization**  \n",
        "\n",
        "**expression:**  \n",
        "~~생략~~\n",
        "\n",
        "```python\n",
        "# code example.\n",
        "# 'momentum'을 0보다 크게 설정하고, 'nesterov'를 True로 설정.\n",
        "sgd_nestrov = keras.optimizers.SGD(learning_rate=0.01, momentum=0.9, nesterov=True)\n",
        "```\n",
        "\n",
        "* * *"
      ],
      "metadata": {
        "id": "ZtfEfNrfD4FA"
      }
    },
    {
      "cell_type": "markdown",
      "source": [
        "References. [tf.keras.layers.Dropout](https://www.tensorflow.org/api_docs/python/tf/keras/layers/Dropout)  \n",
        "\n",
        "dropout을 통해 overfitting을 방지할 수 있다.  \n",
        "> The Dropout layer **randomly sets input units to 0** with a frequency of rate at each step during training time, which **helps prevent overfitting**."
      ],
      "metadata": {
        "id": "IdD7NA0KAFCy"
      }
    },
    {
      "cell_type": "code",
      "source": [
        "# dropout layer 추가\n",
        "# 추가 위치는 기존의 hidden_layer 다음\n",
        "# cf. model을 처음부터 재정의하지 않고 dynamic하게 할 수 있는 방법이 있지만,\n",
        "# 다음에 다룰 예정\n",
        "model5 = keras.models.Sequential(name='Multi-layer_Perceptron_flatten-x_ReLU_droptout_updated')\n",
        "model5.add(keras.layers.Flatten(input_shape=(28, 28),\n",
        "                                name='flatten_layer'))\n",
        "model5.add(keras.layers.Dense(units=100,\n",
        "                             activation='relu',\n",
        "                             name='hidden_layer'))\n",
        "# 이전 layer의 node 중 0.3 비율 만큼의 node를 dropout\n",
        "model5.add(keras.layers.Dropout(rate=0.3,\n",
        "                                name='dropout_layer'))\n",
        "model5.add(keras.layers.Dense(units=10,\n",
        "                             activation='softmax',\n",
        "                             name='output_layer'))\n",
        "\n",
        "model5.summary()"
      ],
      "metadata": {
        "colab": {
          "base_uri": "https://localhost:8080/",
          "height": 272
        },
        "id": "P_z1ATym8e2V",
        "outputId": "307d2e18-47c8-4f74-df21-2765fa400319"
      },
      "execution_count": 32,
      "outputs": [
        {
          "output_type": "display_data",
          "data": {
            "text/plain": [
              "\u001b[1mModel: \"Multi-layer_Perceptron_flatten-x_ReLU_droptout_updated\"\u001b[0m\n"
            ],
            "text/html": [
              "<pre style=\"white-space:pre;overflow-x:auto;line-height:normal;font-family:Menlo,'DejaVu Sans Mono',consolas,'Courier New',monospace\"><span style=\"font-weight: bold\">Model: \"Multi-layer_Perceptron_flatten-x_ReLU_droptout_updated\"</span>\n",
              "</pre>\n"
            ]
          },
          "metadata": {}
        },
        {
          "output_type": "display_data",
          "data": {
            "text/plain": [
              "┏━━━━━━━━━━━━━━━━━━━━━━━━━━━━━━━━━━━━━━┳━━━━━━━━━━━━━━━━━━━━━━━━━━━━━┳━━━━━━━━━━━━━━━━━┓\n",
              "┃\u001b[1m \u001b[0m\u001b[1mLayer (type)                        \u001b[0m\u001b[1m \u001b[0m┃\u001b[1m \u001b[0m\u001b[1mOutput Shape               \u001b[0m\u001b[1m \u001b[0m┃\u001b[1m \u001b[0m\u001b[1m        Param #\u001b[0m\u001b[1m \u001b[0m┃\n",
              "┡━━━━━━━━━━━━━━━━━━━━━━━━━━━━━━━━━━━━━━╇━━━━━━━━━━━━━━━━━━━━━━━━━━━━━╇━━━━━━━━━━━━━━━━━┩\n",
              "│ flatten_layer (\u001b[38;5;33mFlatten\u001b[0m)              │ (\u001b[38;5;45mNone\u001b[0m, \u001b[38;5;34m784\u001b[0m)                 │               \u001b[38;5;34m0\u001b[0m │\n",
              "├──────────────────────────────────────┼─────────────────────────────┼─────────────────┤\n",
              "│ hidden_layer (\u001b[38;5;33mDense\u001b[0m)                 │ (\u001b[38;5;45mNone\u001b[0m, \u001b[38;5;34m100\u001b[0m)                 │          \u001b[38;5;34m78,500\u001b[0m │\n",
              "├──────────────────────────────────────┼─────────────────────────────┼─────────────────┤\n",
              "│ dropout_layer (\u001b[38;5;33mDropout\u001b[0m)              │ (\u001b[38;5;45mNone\u001b[0m, \u001b[38;5;34m100\u001b[0m)                 │               \u001b[38;5;34m0\u001b[0m │\n",
              "├──────────────────────────────────────┼─────────────────────────────┼─────────────────┤\n",
              "│ output_layer (\u001b[38;5;33mDense\u001b[0m)                 │ (\u001b[38;5;45mNone\u001b[0m, \u001b[38;5;34m10\u001b[0m)                  │           \u001b[38;5;34m1,010\u001b[0m │\n",
              "└──────────────────────────────────────┴─────────────────────────────┴─────────────────┘\n"
            ],
            "text/html": [
              "<pre style=\"white-space:pre;overflow-x:auto;line-height:normal;font-family:Menlo,'DejaVu Sans Mono',consolas,'Courier New',monospace\">┏━━━━━━━━━━━━━━━━━━━━━━━━━━━━━━━━━━━━━━┳━━━━━━━━━━━━━━━━━━━━━━━━━━━━━┳━━━━━━━━━━━━━━━━━┓\n",
              "┃<span style=\"font-weight: bold\"> Layer (type)                         </span>┃<span style=\"font-weight: bold\"> Output Shape                </span>┃<span style=\"font-weight: bold\">         Param # </span>┃\n",
              "┡━━━━━━━━━━━━━━━━━━━━━━━━━━━━━━━━━━━━━━╇━━━━━━━━━━━━━━━━━━━━━━━━━━━━━╇━━━━━━━━━━━━━━━━━┩\n",
              "│ flatten_layer (<span style=\"color: #0087ff; text-decoration-color: #0087ff\">Flatten</span>)              │ (<span style=\"color: #00d7ff; text-decoration-color: #00d7ff\">None</span>, <span style=\"color: #00af00; text-decoration-color: #00af00\">784</span>)                 │               <span style=\"color: #00af00; text-decoration-color: #00af00\">0</span> │\n",
              "├──────────────────────────────────────┼─────────────────────────────┼─────────────────┤\n",
              "│ hidden_layer (<span style=\"color: #0087ff; text-decoration-color: #0087ff\">Dense</span>)                 │ (<span style=\"color: #00d7ff; text-decoration-color: #00d7ff\">None</span>, <span style=\"color: #00af00; text-decoration-color: #00af00\">100</span>)                 │          <span style=\"color: #00af00; text-decoration-color: #00af00\">78,500</span> │\n",
              "├──────────────────────────────────────┼─────────────────────────────┼─────────────────┤\n",
              "│ dropout_layer (<span style=\"color: #0087ff; text-decoration-color: #0087ff\">Dropout</span>)              │ (<span style=\"color: #00d7ff; text-decoration-color: #00d7ff\">None</span>, <span style=\"color: #00af00; text-decoration-color: #00af00\">100</span>)                 │               <span style=\"color: #00af00; text-decoration-color: #00af00\">0</span> │\n",
              "├──────────────────────────────────────┼─────────────────────────────┼─────────────────┤\n",
              "│ output_layer (<span style=\"color: #0087ff; text-decoration-color: #0087ff\">Dense</span>)                 │ (<span style=\"color: #00d7ff; text-decoration-color: #00d7ff\">None</span>, <span style=\"color: #00af00; text-decoration-color: #00af00\">10</span>)                  │           <span style=\"color: #00af00; text-decoration-color: #00af00\">1,010</span> │\n",
              "└──────────────────────────────────────┴─────────────────────────────┴─────────────────┘\n",
              "</pre>\n"
            ]
          },
          "metadata": {}
        },
        {
          "output_type": "display_data",
          "data": {
            "text/plain": [
              "\u001b[1m Total params: \u001b[0m\u001b[38;5;34m79,510\u001b[0m (310.59 KB)\n"
            ],
            "text/html": [
              "<pre style=\"white-space:pre;overflow-x:auto;line-height:normal;font-family:Menlo,'DejaVu Sans Mono',consolas,'Courier New',monospace\"><span style=\"font-weight: bold\"> Total params: </span><span style=\"color: #00af00; text-decoration-color: #00af00\">79,510</span> (310.59 KB)\n",
              "</pre>\n"
            ]
          },
          "metadata": {}
        },
        {
          "output_type": "display_data",
          "data": {
            "text/plain": [
              "\u001b[1m Trainable params: \u001b[0m\u001b[38;5;34m79,510\u001b[0m (310.59 KB)\n"
            ],
            "text/html": [
              "<pre style=\"white-space:pre;overflow-x:auto;line-height:normal;font-family:Menlo,'DejaVu Sans Mono',consolas,'Courier New',monospace\"><span style=\"font-weight: bold\"> Trainable params: </span><span style=\"color: #00af00; text-decoration-color: #00af00\">79,510</span> (310.59 KB)\n",
              "</pre>\n"
            ]
          },
          "metadata": {}
        },
        {
          "output_type": "display_data",
          "data": {
            "text/plain": [
              "\u001b[1m Non-trainable params: \u001b[0m\u001b[38;5;34m0\u001b[0m (0.00 B)\n"
            ],
            "text/html": [
              "<pre style=\"white-space:pre;overflow-x:auto;line-height:normal;font-family:Menlo,'DejaVu Sans Mono',consolas,'Courier New',monospace\"><span style=\"font-weight: bold\"> Non-trainable params: </span><span style=\"color: #00af00; text-decoration-color: #00af00\">0</span> (0.00 B)\n",
              "</pre>\n"
            ]
          },
          "metadata": {}
        }
      ]
    },
    {
      "cell_type": "code",
      "source": [
        "adam = keras.optimizers.Adam()\n",
        "model5.compile(optimizer='adam',\n",
        "               loss='sparse_categorical_crossentropy',\n",
        "               metrics=['accuracy'])\n",
        "\n",
        "history = model5.fit(X_train, y_train,\n",
        "                     validation_split=0.2,\n",
        "                     epochs=train_epochs,\n",
        "                     verbose=2)"
      ],
      "metadata": {
        "colab": {
          "base_uri": "https://localhost:8080/"
        },
        "id": "DpF-CsmhAmqU",
        "outputId": "d9a4e188-7b1b-48b8-d463-2aba76fc30c6"
      },
      "execution_count": 33,
      "outputs": [
        {
          "output_type": "stream",
          "name": "stdout",
          "text": [
            "Epoch 1/5\n",
            "1500/1500 - 6s - 4ms/step - accuracy: 0.7920 - loss: 0.5881 - val_accuracy: 0.8453 - val_loss: 0.4304\n",
            "Epoch 2/5\n",
            "1500/1500 - 3s - 2ms/step - accuracy: 0.8431 - loss: 0.4326 - val_accuracy: 0.8568 - val_loss: 0.3986\n",
            "Epoch 3/5\n",
            "1500/1500 - 5s - 3ms/step - accuracy: 0.8558 - loss: 0.4003 - val_accuracy: 0.8653 - val_loss: 0.3618\n",
            "Epoch 4/5\n",
            "1500/1500 - 3s - 2ms/step - accuracy: 0.8603 - loss: 0.3800 - val_accuracy: 0.8696 - val_loss: 0.3556\n",
            "Epoch 5/5\n",
            "1500/1500 - 4s - 2ms/step - accuracy: 0.8659 - loss: 0.3631 - val_accuracy: 0.8763 - val_loss: 0.3439\n"
          ]
        }
      ]
    },
    {
      "cell_type": "code",
      "source": [
        "loss = history.history['loss']\n",
        "val_loss = history.history['val_loss'] # validation 설정 안했으므로 사용x\n",
        "epochs = range(1, len(loss) + 1)\n",
        "plt.plot(epochs, loss, 'y', label='Training loss')\n",
        "plt.plot(epochs, val_loss, 'r', label='Validation loss') # 위 comment와 동일\n",
        "plt.title('Training and validation loss')\n",
        "plt.xlabel('Epochs')\n",
        "plt.ylabel('Loss')\n",
        "plt.legend()\n",
        "plt.show()\n",
        "\n",
        "# Validation loss가 더 낮으므로 overfitting이지만,\n",
        "# 단순 실습이므로 이를 개선하지는 않겠음"
      ],
      "metadata": {
        "colab": {
          "base_uri": "https://localhost:8080/",
          "height": 472
        },
        "id": "q3lnA6YAEMEH",
        "outputId": "47ed0beb-6c26-456c-9b1d-de1296bccf0e"
      },
      "execution_count": 34,
      "outputs": [
        {
          "output_type": "display_data",
          "data": {
            "text/plain": [
              "<Figure size 640x480 with 1 Axes>"
            ],
            "image/png": "[encoded data removed]"
          },
          "metadata": {}
        }
      ]
    },
    {
      "cell_type": "markdown",
      "source": [
        "추가로 할 것: model save and load, callback, early stopping"
      ],
      "metadata": {
        "id": "GUXZzx2oEf6p"
      }
    }
  ]
}
