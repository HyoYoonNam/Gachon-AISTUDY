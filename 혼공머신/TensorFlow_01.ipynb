{
  "nbformat": 4,
  "nbformat_minor": 0,
  "metadata": {
    "colab": {
      "provenance": [],
      "authorship_tag": "ABX9TyNG97HS2goJ7yjSMAQGe1Ls",
      "include_colab_link": true
    },
    "kernelspec": {
      "name": "python3",
      "display_name": "Python 3"
    },
    "language_info": {
      "name": "python"
    }
  },
  "cells": [
    {
      "cell_type": "markdown",
      "metadata": {
        "id": "view-in-github",
        "colab_type": "text"
      },
      "source": [
        "<a href=\"https://colab.research.google.com/github/rudevico/Gachon-AISTUDY/blob/main/TensorFlow_01.ipynb\" target=\"_parent\"><img src=\"https://colab.research.google.com/assets/colab-badge.svg\" alt=\"Open In Colab\"/></a>"
      ]
    },
    {
      "cell_type": "code",
      "execution_count": 1,
      "metadata": {
        "id": "JMceQssd2vIJ"
      },
      "outputs": [],
      "source": [
        "import numpy as np\n",
        "\n",
        "import tensorflow as tf\n",
        "from tensorflow import keras"
      ]
    },
    {
      "cell_type": "code",
      "source": [
        "# load the dataset\n",
        "(X_train, y_train), (X_test, y_test) = \\\n",
        "    keras.datasets.fashion_mnist.load_data()"
      ],
      "metadata": {
        "id": "RpobvXtJ54Ri",
        "colab": {
          "base_uri": "https://localhost:8080/"
        },
        "outputId": "bcc2d53b-3f0e-4d04-9aab-a5ea7025330a"
      },
      "execution_count": 2,
      "outputs": [
        {
          "output_type": "stream",
          "name": "stdout",
          "text": [
            "Downloading data from https://storage.googleapis.com/tensorflow/tf-keras-datasets/train-labels-idx1-ubyte.gz\n",
            "\u001b[1m29515/29515\u001b[0m \u001b[32m━━━━━━━━━━━━━━━━━━━━\u001b[0m\u001b[37m\u001b[0m \u001b[1m0s\u001b[0m 0us/step\n",
            "Downloading data from https://storage.googleapis.com/tensorflow/tf-keras-datasets/train-images-idx3-ubyte.gz\n",
            "\u001b[1m26421880/26421880\u001b[0m \u001b[32m━━━━━━━━━━━━━━━━━━━━\u001b[0m\u001b[37m\u001b[0m \u001b[1m1s\u001b[0m 0us/step\n",
            "Downloading data from https://storage.googleapis.com/tensorflow/tf-keras-datasets/t10k-labels-idx1-ubyte.gz\n",
            "\u001b[1m5148/5148\u001b[0m \u001b[32m━━━━━━━━━━━━━━━━━━━━\u001b[0m\u001b[37m\u001b[0m \u001b[1m0s\u001b[0m 1us/step\n",
            "Downloading data from https://storage.googleapis.com/tensorflow/tf-keras-datasets/t10k-images-idx3-ubyte.gz\n",
            "\u001b[1m4422102/4422102\u001b[0m \u001b[32m━━━━━━━━━━━━━━━━━━━━\u001b[0m\u001b[37m\u001b[0m \u001b[1m0s\u001b[0m 0us/step\n"
          ]
        }
      ]
    },
    {
      "cell_type": "markdown",
      "source": [
        "**cf. Dataset in TensorFlow, PyTorch**  \n",
        "**Dataset**이란 X(features)와 y(label)이 함께 포함된 형태를 의미한다.  \n",
        "(위 cell)따라서 (X_train, y_train)과 같이 지정하면 알아서 X_train에는 X가, y_train에는 y가 보관된다."
      ],
      "metadata": {
        "id": "dPPsi3pO8TTG"
      }
    },
    {
      "cell_type": "markdown",
      "source": [
        "**cf. `\\`의 사용**  \n",
        "References. [PEP 8 - Style Guide for Python Code](https://peps.python.org/pep-0008/)  \n",
        "\n",
        "The Python standard library is conservative and requires **limiting lines to 79 characters** (and docstrings/comments to 72).  \n",
        "**Backslashes(\\\\)** may still be appropriate at times. For example, long, multiple with-statements could not use implicit continuation before Python 3.10, so backslashes were acceptable for that case:  \n",
        "```python\n",
        "with open('/path/to/some/file/you/want/to/read') as file_1, \\\n",
        "     open('/path/to/some/file/being/written', 'w') as file_2:\n",
        "    file_2.write(file_1.read())\n",
        "```"
      ],
      "metadata": {
        "id": "6m1ag_Ys6p3p"
      }
    },
    {
      "cell_type": "code",
      "source": [
        "# check the shape and type of X, y\n",
        "print(f'X_train: Shape {X_train.shape} Type {type(X_train)}, y_train: Shape {y_train.shape} Type {type(y_train)}')\n",
        "print(f'X_test: Shape {X_test.shape} Type {type(X_test)}, y_test: Shape {y_test.shape} Type {type(y_test)}')"
      ],
      "metadata": {
        "colab": {
          "base_uri": "https://localhost:8080/"
        },
        "id": "8aozJ5nV-Hr3",
        "outputId": "df56e029-1180-4d24-c7a6-159eaa81bc1a"
      },
      "execution_count": 3,
      "outputs": [
        {
          "output_type": "stream",
          "name": "stdout",
          "text": [
            "X_train: Shape (60000, 28, 28) Type <class 'numpy.ndarray'>, y_train: Shape (60000,) Type <class 'numpy.ndarray'>\n",
            "X_test: Shape (10000, 28, 28) Type <class 'numpy.ndarray'>, y_test: Shape (10000,) Type <class 'numpy.ndarray'>\n"
          ]
        }
      ]
    },
    {
      "cell_type": "code",
      "source": [
        "# 만약 sample 수가 너무 많고, y가 continuous value라면,\n",
        "# np.unique()에 리소스 소모가 클 수 있으므로 먼저 5개만 출력\n",
        "print(y_train[:5]) # Output: [9 0 0 3 0]\n",
        "# y가 dicrete인 것을 확인 후에 np.unique() 리턴\n",
        "print(np.unique(y_train)) # Output: [0 1 2 3 4 5 6 7 8 9]"
      ],
      "metadata": {
        "colab": {
          "base_uri": "https://localhost:8080/"
        },
        "id": "_jKS-TqN-_g2",
        "outputId": "167157fb-a61e-4d8c-af71-ec4d6a33a26c"
      },
      "execution_count": 4,
      "outputs": [
        {
          "output_type": "stream",
          "name": "stdout",
          "text": [
            "[9 0 0 3 0]\n",
            "[0 1 2 3 4 5 6 7 8 9]\n"
          ]
        }
      ]
    },
    {
      "cell_type": "code",
      "source": [
        "# check the labels count\n",
        "from collections import Counter\n",
        "\n",
        "# label_counter: Counter({9: 6000, 0: 6000, ..., 4: 6000, 8: 6000}) NO SORTED\n",
        "label_counter = Counter(y_train)\n",
        "\n",
        "# x[0]은 Key 기준, x[1]은 Value 기준 정렬\n",
        "# reverse=False이면 ascending, reverse=True이면 descending\n",
        "print(sorted(label_counter.items(), key=lambda x: x[0], reverse=False))"
      ],
      "metadata": {
        "colab": {
          "base_uri": "https://localhost:8080/"
        },
        "id": "3VH25MQr_wY-",
        "outputId": "357781c0-ea75-4bc7-86b4-d03e159c79e6"
      },
      "execution_count": 5,
      "outputs": [
        {
          "output_type": "stream",
          "name": "stdout",
          "text": [
            "[(0, 6000), (1, 6000), (2, 6000), (3, 6000), (4, 6000), (5, 6000), (6, 6000), (7, 6000), (8, 6000), (9, 6000)]\n"
          ]
        }
      ]
    },
    {
      "cell_type": "code",
      "source": [
        "# Logistic Regression\n",
        "\n",
        "from sklearn.model_selection import cross_validate\n",
        "from sklearn.linear_model import SGDClassifier\n",
        "\n",
        "X_train_scaled = (X_train / 255.0).reshape(-1, 28*28)\n",
        "\n",
        "sc = SGDClassifier(loss='log_loss', max_iter=5, random_state=42)\n",
        "scores = cross_validate(estimator=sc,\n",
        "                        X=X_train_scaled, y=y_train,\n",
        "                        return_train_score=True,\n",
        "                        n_jobs=-1)\n",
        "\n",
        "train_score = np.mean(scores['train_score'])\n",
        "test_score = np.mean(scores['test_score'])\n",
        "print(f'train_score: {train_score}, test_score: {test_score}')"
      ],
      "metadata": {
        "id": "70Ee3JFQi2m4",
        "colab": {
          "base_uri": "https://localhost:8080/"
        },
        "outputId": "6736e5dc-37a3-4ec7-fcc1-bb1bb4e98376"
      },
      "execution_count": 6,
      "outputs": [
        {
          "output_type": "stream",
          "name": "stderr",
          "text": [
            "/usr/local/lib/python3.10/dist-packages/joblib/externals/loky/backend/fork_exec.py:38: RuntimeWarning: os.fork() was called. os.fork() is incompatible with multithreaded code, and JAX is multithreaded, so this will likely lead to a deadlock.\n",
            "  pid = os.fork()\n",
            "/usr/local/lib/python3.10/dist-packages/joblib/externals/loky/backend/fork_exec.py:38: RuntimeWarning: os.fork() was called. os.fork() is incompatible with multithreaded code, and JAX is multithreaded, so this will likely lead to a deadlock.\n",
            "  pid = os.fork()\n"
          ]
        },
        {
          "output_type": "stream",
          "name": "stdout",
          "text": [
            "train_score: 0.8308250000000001, test_score: 0.8196000000000001\n"
          ]
        }
      ]
    },
    {
      "cell_type": "code",
      "source": [
        "# cf. 컴퓨터는 28pixel * 28pixel을 그림으로 이해하지 못한다\n",
        "# 따라서 .reshape(-1, 28*28)을 통해서 784pixel의 1-dim으로 만든다\n",
        "# 따라서 60,000개의 이미지는 각각 784개의 x_j값을 가진 데이터 인스턴스이다\n",
        "X_train_scaled.shape"
      ],
      "metadata": {
        "colab": {
          "base_uri": "https://localhost:8080/"
        },
        "id": "ypLk3NaWvcGm",
        "outputId": "bb0b42ff-dc2f-4f46-c188-5847ca0d7e55"
      },
      "execution_count": 7,
      "outputs": [
        {
          "output_type": "execute_result",
          "data": {
            "text/plain": [
              "(60000, 784)"
            ]
          },
          "metadata": {},
          "execution_count": 7
        }
      ]
    },
    {
      "cell_type": "markdown",
      "source": [
        "**cf. 위 cell 이어서**  \n",
        "input: $x^i_j$에 대해서 $i = 0, 1, ..., 59999$ 그리고 $j = 0, 1, ..., 783$  \n",
        "output: $z_k$에 대해서 $k = 0, 1, ..., 9$  \n",
        "\n",
        "$x^i$에 대한 $z_k = \\Sigma^{783}_{i=0}{(w_{ki}*x_{i})} + b_k$이다.  \n",
        "* 동일한 $x_i$에 대한 weight라고 하더라도, $z_k$에 따라 weight값이 다르기 때문에 $w_{ki}$라고 표현함.\n",
        "* 마찬가지로 bias값도 $z_k$에 달라지므로 $b_k$라고 표현함.\n",
        "\n",
        "$z_k$ 자체는 continuous이며, 이를 $softmax$ function에 통과시킨 값은 다음과 같다.  \n",
        "* $0<=softmax(z_k)<=1$ 그리고 $\\Sigma{softmax(z_k)}=1$\n",
        "\n",
        "* 즉 각 class에 속할 확률이 된다.\n",
        "\n",
        "즉 Input Node는 784개이고, Output Node는 10개임. 이 과정을 (X_train_scaled 60,000개 기준) 60,000번 수행하는 것임."
      ],
      "metadata": {
        "id": "6jIOiDz0wQzI"
      }
    },
    {
      "cell_type": "markdown",
      "source": [
        "* * *\n",
        "Deep Learning 분야의 데이터셋은 충분히 크기 때문에 validation score가 안정적이고, cross-validate를 하기에는 시간이 오래 걸리기 때문에 1개의 validation set으로만 검증한다."
      ],
      "metadata": {
        "id": "g8h7pGTGs9lr"
      }
    },
    {
      "cell_type": "code",
      "source": [
        "# Split train set into train set and validate set\n",
        "from sklearn.model_selection import train_test_split\n",
        "\n",
        "X_train, X_val, y_train, y_val = train_test_split(X_train_scaled,\n",
        "                                                  y_train,\n",
        "                                                  test_size=0.2,\n",
        "                                                  stratify=y_train,\n",
        "                                                  random_state=42)\n",
        "\n",
        "print(f'X_train: Shape {X_train.shape} Type {type(X_train)}, y_train: Shape {y_train.shape} Type {type(y_train)}')\n",
        "print(f'X_val: Shape {X_val.shape} Type {type(X_val)}, y_val: Shape {y_val.shape} Type {type(y_val)}')"
      ],
      "metadata": {
        "colab": {
          "base_uri": "https://localhost:8080/"
        },
        "id": "JmOmx9ZntYEN",
        "outputId": "f394af5e-6cd2-4801-d68a-bfc53ec2e5fc"
      },
      "execution_count": 8,
      "outputs": [
        {
          "output_type": "stream",
          "name": "stdout",
          "text": [
            "X_train: Shape (48000, 784) Type <class 'numpy.ndarray'>, y_train: Shape (48000,) Type <class 'numpy.ndarray'>\n",
            "X_val: Shape (12000, 784) Type <class 'numpy.ndarray'>, y_val: Shape (12000,) Type <class 'numpy.ndarray'>\n"
          ]
        }
      ]
    },
    {
      "cell_type": "code",
      "source": [
        "# Create the Dense layer\n",
        "dense = keras.layers.Dense(units=10, # 다음 neuron(node) 수\n",
        "                           activation='softmax',\n",
        "                           input_shape=(784,))"
      ],
      "metadata": {
        "colab": {
          "base_uri": "https://localhost:8080/"
        },
        "id": "lDlMBzf50ZFs",
        "outputId": "ffae541c-7035-44e0-cefd-6c094af3ea29"
      },
      "execution_count": 9,
      "outputs": [
        {
          "output_type": "stream",
          "name": "stderr",
          "text": [
            "/usr/local/lib/python3.10/dist-packages/keras/src/layers/core/dense.py:87: UserWarning: Do not pass an `input_shape`/`input_dim` argument to a layer. When using Sequential models, prefer using an `Input(shape)` object as the first layer in the model instead.\n",
            "  super().__init__(activity_regularizer=activity_regularizer, **kwargs)\n"
          ]
        }
      ]
    },
    {
      "cell_type": "markdown",
      "source": [
        "**cf. Keras Dense layer**  \n",
        "References. [Keras 3 API documentation](https://keras.io/api/layers/core_layers/dense/)  \n",
        "\n",
        "* **units**: Positive integer, dimensionality of the output space.\n",
        "    - input layer - output layer 바로 연결되기 때문에 다음 node의 수는 10개(label 종류)\n",
        "* **activation**: Activation function to use. If you don't specify anything, no activation is applied (i.e. a(x) = x)"
      ],
      "metadata": {
        "id": "jgH2T51t1DTL"
      }
    },
    {
      "cell_type": "code",
      "source": [
        "# Create the Model\n",
        "model = keras.models.Sequential()\n",
        "model.add(dense)\n",
        "\n",
        "model.summary()"
      ],
      "metadata": {
        "colab": {
          "base_uri": "https://localhost:8080/",
          "height": 170
        },
        "id": "Tht9-nGm2b2l",
        "outputId": "da73bd3b-c193-44e3-e8c8-1c1ecc66d693"
      },
      "execution_count": 10,
      "outputs": [
        {
          "output_type": "display_data",
          "data": {
            "text/plain": [
              "\u001b[1mModel: \"sequential\"\u001b[0m\n"
            ],
            "text/html": [
              "<pre style=\"white-space:pre;overflow-x:auto;line-height:normal;font-family:Menlo,'DejaVu Sans Mono',consolas,'Courier New',monospace\"><span style=\"font-weight: bold\">Model: \"sequential\"</span>\n",
              "</pre>\n"
            ]
          },
          "metadata": {}
        },
        {
          "output_type": "display_data",
          "data": {
            "text/plain": [
              "┏━━━━━━━━━━━━━━━━━━━━━━━━━━━━━━━━━━━━━━┳━━━━━━━━━━━━━━━━━━━━━━━━━━━━━┳━━━━━━━━━━━━━━━━━┓\n",
              "┃\u001b[1m \u001b[0m\u001b[1mLayer (type)                        \u001b[0m\u001b[1m \u001b[0m┃\u001b[1m \u001b[0m\u001b[1mOutput Shape               \u001b[0m\u001b[1m \u001b[0m┃\u001b[1m \u001b[0m\u001b[1m        Param #\u001b[0m\u001b[1m \u001b[0m┃\n",
              "┡━━━━━━━━━━━━━━━━━━━━━━━━━━━━━━━━━━━━━━╇━━━━━━━━━━━━━━━━━━━━━━━━━━━━━╇━━━━━━━━━━━━━━━━━┩\n",
              "│ dense (\u001b[38;5;33mDense\u001b[0m)                        │ (\u001b[38;5;45mNone\u001b[0m, \u001b[38;5;34m10\u001b[0m)                  │           \u001b[38;5;34m7,850\u001b[0m │\n",
              "└──────────────────────────────────────┴─────────────────────────────┴─────────────────┘\n"
            ],
            "text/html": [
              "<pre style=\"white-space:pre;overflow-x:auto;line-height:normal;font-family:Menlo,'DejaVu Sans Mono',consolas,'Courier New',monospace\">┏━━━━━━━━━━━━━━━━━━━━━━━━━━━━━━━━━━━━━━┳━━━━━━━━━━━━━━━━━━━━━━━━━━━━━┳━━━━━━━━━━━━━━━━━┓\n",
              "┃<span style=\"font-weight: bold\"> Layer (type)                         </span>┃<span style=\"font-weight: bold\"> Output Shape                </span>┃<span style=\"font-weight: bold\">         Param # </span>┃\n",
              "┡━━━━━━━━━━━━━━━━━━━━━━━━━━━━━━━━━━━━━━╇━━━━━━━━━━━━━━━━━━━━━━━━━━━━━╇━━━━━━━━━━━━━━━━━┩\n",
              "│ dense (<span style=\"color: #0087ff; text-decoration-color: #0087ff\">Dense</span>)                        │ (<span style=\"color: #00d7ff; text-decoration-color: #00d7ff\">None</span>, <span style=\"color: #00af00; text-decoration-color: #00af00\">10</span>)                  │           <span style=\"color: #00af00; text-decoration-color: #00af00\">7,850</span> │\n",
              "└──────────────────────────────────────┴─────────────────────────────┴─────────────────┘\n",
              "</pre>\n"
            ]
          },
          "metadata": {}
        },
        {
          "output_type": "display_data",
          "data": {
            "text/plain": [
              "\u001b[1m Total params: \u001b[0m\u001b[38;5;34m7,850\u001b[0m (30.66 KB)\n"
            ],
            "text/html": [
              "<pre style=\"white-space:pre;overflow-x:auto;line-height:normal;font-family:Menlo,'DejaVu Sans Mono',consolas,'Courier New',monospace\"><span style=\"font-weight: bold\"> Total params: </span><span style=\"color: #00af00; text-decoration-color: #00af00\">7,850</span> (30.66 KB)\n",
              "</pre>\n"
            ]
          },
          "metadata": {}
        },
        {
          "output_type": "display_data",
          "data": {
            "text/plain": [
              "\u001b[1m Trainable params: \u001b[0m\u001b[38;5;34m7,850\u001b[0m (30.66 KB)\n"
            ],
            "text/html": [
              "<pre style=\"white-space:pre;overflow-x:auto;line-height:normal;font-family:Menlo,'DejaVu Sans Mono',consolas,'Courier New',monospace\"><span style=\"font-weight: bold\"> Trainable params: </span><span style=\"color: #00af00; text-decoration-color: #00af00\">7,850</span> (30.66 KB)\n",
              "</pre>\n"
            ]
          },
          "metadata": {}
        },
        {
          "output_type": "display_data",
          "data": {
            "text/plain": [
              "\u001b[1m Non-trainable params: \u001b[0m\u001b[38;5;34m0\u001b[0m (0.00 B)\n"
            ],
            "text/html": [
              "<pre style=\"white-space:pre;overflow-x:auto;line-height:normal;font-family:Menlo,'DejaVu Sans Mono',consolas,'Courier New',monospace\"><span style=\"font-weight: bold\"> Non-trainable params: </span><span style=\"color: #00af00; text-decoration-color: #00af00\">0</span> (0.00 B)\n",
              "</pre>\n"
            ]
          },
          "metadata": {}
        }
      ]
    },
    {
      "cell_type": "markdown",
      "source": [
        "**cf. `model.summary()` 결과 해석**  \n",
        "\n",
        "**Output Shape**  \n",
        "* (Batch_size, \\*Output_Dimensions)\n",
        "* 본 예제에서는 Batch_size 없으므로 `None`\n",
        "\n",
        "**Total params**  \n",
        "* 해당 layer를 통과하는 parameter 수\n",
        "* 각 data instance는 784(=28*28) 개의 $x_j$를 가지고 있으므로, $w_j$ 또한 이에 대응하여 784개가 존재함.\n",
        "* bias 1개를 추가하면 785개임.\n",
        "* 이때 layer와 연결된 output node가 10개이므로, 785 * 10 = 7,850임.\n",
        "\n",
        "**Trainable params**  \n",
        "* 말 그대로, 학습 가능한(= 업데이트 가능한) parameters\n",
        "* 표에서 **Param #**에 해당함.\n",
        "\n",
        "**Non-trainable params**  \n",
        "(지금 수준에서는 알 필요 없다고 판단됨)\n",
        "* case1. pre-trained model의 일부 layer를 freeze하여 학습 중에 update되지 않도록 설정\n",
        "* case2. 특정 parameter를 고정하여 학습 과정에서 변경되지 않도록 설정\n",
        "* case3. `moving mean` 및 `moving variance`와 같은 통계값은 학습 불가능한 parameter로 간주됨."
      ],
      "metadata": {
        "id": "zBwDuVrk5ARy"
      }
    },
    {
      "cell_type": "code",
      "source": [
        "# Compile the model\n",
        "# model training 전에 기타 설정을 함\n",
        "model.compile(loss='sparse_categorical_crossentropy', \\\n",
        "              metrics=['accuracy'])\n",
        "\n",
        "# cf. 'sparse_categorical_crossentropy'\n",
        "# 다중분류 손실함수인 'categorical_crossentropy'는 one-hot encoding필요\n",
        "# sprase는 one-hot encoding 하지 않아도 가능하도록 해주는 tensorflow 함수\n",
        "# 바람직하지 않은 방법이지만, 실습이므로 그대로 진행함"
      ],
      "metadata": {
        "id": "Q8GQeTbIH9OV"
      },
      "execution_count": 24,
      "outputs": []
    },
    {
      "cell_type": "markdown",
      "source": [
        "**cf. `model.compile()`**  \n",
        "references. [tf.keras.Model.compile](https://www.tensorflow.org/api_docs/python/tf/keras/Model?_gl=1*iz7k9n*_up*MQ..*_ga*NjI0NTAyODA0LjE3MjI5NTYwNzg.*_ga_W0YLR4190T*MTcyMjk1NjA3Ny4xLjAuMTcyMjk1NjA3Ny4wLjAuMA..#compile)  \n",
        "> Configures the model for training.  \n",
        "즉 엄밀히 말하자면 compile보다는 configure가 적절하다.  \n",
        "위에서는 모델에 대한 layer, activation function 등을 설정했고, 여기서는 optimizer, loss function 등을 설정한다.\n",
        "\n",
        "```python\n",
        "# 해당 parameter value들은 default value\n",
        "compile(\n",
        "    optimizer='rmsprop', # 아래에서 설명\n",
        "    loss=None, # 아래에서 설명\n",
        "    loss_weights=None, # 무시\n",
        "    metrics=None, # 아래에서 설명\n",
        "    weighted_metrics=None, # 무시\n",
        "    run_eagerly=False, # 무시\n",
        "    steps_per_execution=1, # 무시\n",
        "    jit_compile='auto', # 무시\n",
        "    auto_scale_loss=True # 무시\n",
        ")\n",
        "```\n",
        "\n",
        "* **optimizer**: 최적화 함수. 종류는 [여기](https://www.tensorflow.org/api_docs/python/tf/keras/optimizers#classes)를 참고.\n",
        "* **loss**: 손실 함수. 종류는 [여기](https://www.tensorflow.org/api_docs/python/tf/keras/losses#classes)를 참고.\n",
        "* **metrics**: 평가 지표. 종류는 [여기](https://www.tensorflow.org/api_docs/python/tf/keras/metrics#classes)를 참고.\n",
        "    - **`keras`**에서는 기본적으로 epoch마다 loss 값을 출력한다. 이때 loss 값 외에도 추가적인 평가 지표를 출력하기를 원할 때 해당 parameter를 사용할 수 있다."
      ],
      "metadata": {
        "id": "hJ1Do0QUJpKv"
      }
    },
    {
      "cell_type": "code",
      "source": [
        "# Fitting the model\n",
        "train_epochs = 5\n",
        "# model.fit()은 기본적으로 epoch마다 loss값을 출력해준다\n",
        "# 그리고 부가 정보들도 model.fit()이 리턴하는 객체에 담긴다\n",
        "# 따라서 이 정보들을 추가적으로 이용하기 위해 history라는 변수에 보관하는 것이 바람직한 습관\n",
        "# ㄴ 추가적이라는 것은 그래프 그리기 등등을 의미함\n",
        "history = model.fit(X_train, y_train,\n",
        "                    batch_size=None,\n",
        "                    verbose=2,\n",
        "                    epochs=train_epochs)\n",
        "\n",
        "# cf. 또한 train_val을 사실 위에서 미리 만들지 않고,\n",
        "# model fitting할 때 설정할 수 있다.\n",
        "# model.fit(...,  validation_split = 0.1)"
      ],
      "metadata": {
        "colab": {
          "base_uri": "https://localhost:8080/"
        },
        "id": "rkfjnxGCJPiu",
        "outputId": "c73182e5-68b5-48fa-b0ee-2157cc9e7197"
      },
      "execution_count": 12,
      "outputs": [
        {
          "output_type": "stream",
          "name": "stdout",
          "text": [
            "Epoch 1/5\n",
            "1500/1500 - 2s - 2ms/step - accuracy: 0.7921 - loss: 0.6098\n",
            "Epoch 2/5\n",
            "1500/1500 - 2s - 2ms/step - accuracy: 0.8380 - loss: 0.4789\n",
            "Epoch 3/5\n",
            "1500/1500 - 2s - 2ms/step - accuracy: 0.8453 - loss: 0.4545\n",
            "Epoch 4/5\n",
            "1500/1500 - 4s - 2ms/step - accuracy: 0.8496 - loss: 0.4423\n",
            "Epoch 5/5\n",
            "1500/1500 - 4s - 3ms/step - accuracy: 0.8549 - loss: 0.4335\n"
          ]
        }
      ]
    },
    {
      "cell_type": "code",
      "source": [
        "# cf. model.fit()이 리턴하는 객체\n",
        "print(history)\n",
        "\n",
        "# Output: <keras.src.callbacks.history.History object at 0x7dfbf4d13040>"
      ],
      "metadata": {
        "colab": {
          "base_uri": "https://localhost:8080/"
        },
        "id": "12DfYjNJhb99",
        "outputId": "0b9e1198-3aff-4807-e2b1-3fa3fedbcb0a"
      },
      "execution_count": 17,
      "outputs": [
        {
          "output_type": "stream",
          "name": "stdout",
          "text": [
            "<keras.src.callbacks.history.History object at 0x7dfbf4d13040>\n"
          ]
        }
      ]
    },
    {
      "cell_type": "markdown",
      "source": [
        "**cf. `model.fit()`**  \n",
        "references. [tf.keras.Model.fit](https://www.tensorflow.org/api_docs/python/tf/keras/Model#fit)  \n",
        "\n",
        "```python\n",
        "fit(\n",
        "    x=None, # 무시\n",
        "    y=None, # 무시\n",
        "    batch_size=None, # 무시\n",
        "    epochs=1, # 무시\n",
        "    verbose='auto', # 아래에서 설명\n",
        "    callbacks=None, # 무시\n",
        "    ...\n",
        ")\n",
        "```\n",
        "\n",
        "* **verbose**: Verbosity mode.\n",
        "    - 'auto': default. becomes 1 for most cases.\n",
        "    - 0: silent.\n",
        "    - 1: progress bar. interactively하게 진행되는 동안 계속 loss, accuracy 등의 값을 업데이트하며 알려줌.  \n",
        "    > Note that **the progress bar is not particularly useful** when logged to a file\n",
        "    - 2: one line per epoch. 에포크 끝날 때마다만 알려줌.\n",
        "\n",
        "결론은 어지간하면 'auto'나 2로 쓰라는 것."
      ],
      "metadata": {
        "id": "IyTEl8TMcNIa"
      }
    },
    {
      "cell_type": "code",
      "source": [
        "# cf. model.fit()이 리턴하는 객체에 담긴 정보로 그래프 그리기 - loss\n",
        "import matplotlib.pyplot as plt\n",
        "\n",
        "loss = history.history['loss']\n",
        "# val_loss = history.history['val_loss'] # validation 설정 안했으므로 사용x\n",
        "epochs = range(1, len(loss) + 1)\n",
        "plt.plot(epochs, loss, 'y', label='Training loss')\n",
        "# plt.plot(epochs, val_loss, 'r', label='Validation loss') # 위 comment와 동일\n",
        "plt.title('Training and validation loss')\n",
        "plt.xlabel('Epochs')\n",
        "plt.ylabel('Loss')\n",
        "plt.legend()\n",
        "plt.show()"
      ],
      "metadata": {
        "colab": {
          "base_uri": "https://localhost:8080/",
          "height": 472
        },
        "id": "mo4-3IJXeYZJ",
        "outputId": "0ccd8074-c11c-41a8-c627-ff8564fa8a81"
      },
      "execution_count": 13,
      "outputs": [
        {
          "output_type": "display_data",
          "data": {
            "text/plain": [
              "<Figure size 640x480 with 1 Axes>"
            ],
            "image/png": "[encoded data removed]"
          },
          "metadata": {}
        }
      ]
    },
    {
      "cell_type": "code",
      "source": [
        "# cf. model.fit()이 리턴하는 객체에 담긴 정보로 그래프 그리기 - accuracy\n",
        "acc = history.history['accuracy']\n",
        "# val_acc = history.history['val_accuracy'] # validation 설정 안했으므로 사용x\n",
        "plt.plot(epochs, acc, 'y', label='Training acc')\n",
        "# plt.plot(epochs, val_acc, 'r', label='Validation acc') # 위 comment와 동일\n",
        "plt.title('Training and validation accuracy')\n",
        "plt.xlabel('Epochs')\n",
        "plt.ylabel('Accuracy')\n",
        "plt.legend()\n",
        "plt.show()"
      ],
      "metadata": {
        "colab": {
          "base_uri": "https://localhost:8080/",
          "height": 472
        },
        "id": "jILNEFZCiMMS",
        "outputId": "6f062187-b0d5-4a27-d0e8-40abbf106415"
      },
      "execution_count": 18,
      "outputs": [
        {
          "output_type": "display_data",
          "data": {
            "text/plain": [
              "<Figure size 640x480 with 1 Axes>"
            ],
            "image/png": "[encoded data removed]"
          },
          "metadata": {}
        }
      ]
    },
    {
      "cell_type": "code",
      "source": [
        "# Evaluate the train_val\n",
        "# 기본적으로 model.compile()에서 지정했던 평가 지표들을 리턴함\n",
        "model.evaluate(X_val, y_val,\n",
        "               verbose=2,\n",
        "               return_dict=True)"
      ],
      "metadata": {
        "colab": {
          "base_uri": "https://localhost:8080/"
        },
        "id": "B0Je-P8DivKq",
        "outputId": "9073f200-6d1f-4623-eba6-277005e4f467"
      },
      "execution_count": 28,
      "outputs": [
        {
          "output_type": "stream",
          "name": "stdout",
          "text": [
            "375/375 - 1s - 2ms/step - accuracy: 0.8570 - loss: 0.4246\n"
          ]
        },
        {
          "output_type": "execute_result",
          "data": {
            "text/plain": [
              "{'accuracy': 0.8569999933242798, 'loss': 0.42456698417663574}"
            ]
          },
          "metadata": {},
          "execution_count": 28
        }
      ]
    },
    {
      "cell_type": "markdown",
      "source": [
        "**cf. `model.evaluate()`**  \n",
        "references. [tf.keras.Model.evaluate](https://www.tensorflow.org/api_docs/python/tf/keras/Model#evaluate)"
      ],
      "metadata": {
        "id": "S7mSg2b3sPJ9"
      }
    },
    {
      "cell_type": "code",
      "source": [
        "# 더 자세한 결과 확인\n",
        "# model.compile()에서 'metrics'를 이용해서도 확인 가능할 것 같지만,\n",
        "# 일단 배운대로만 진행함\n",
        "\n",
        "from sklearn.metrics import classification_report, confusion_matrix\n",
        "\n",
        "def softmax(x):\n",
        "    e_x = np.exp(x - np.max(x))\n",
        "    return e_x / e_x.sum(axis=0)\n",
        "\n",
        "y_pred = model(X_val)\n",
        "y_pred_probs = softmax(y_pred)\n",
        "y_pred_class = np.argmax(y_pred_probs, axis=1)\n",
        "y_val_class = y_val # one-hot encoding 안 해서 이렇게 사용\n",
        "# 만약 했다면, 다음과 같이 했을 거임\n",
        "# y_val_class = np.argmax(y_val, axis=1)\n",
        "\n",
        "print(classification_report(y_val_class, y_pred_class,\n",
        "                            zero_division=0))\n",
        "print(confusion_matrix(y_val_class, y_pred_class))"
      ],
      "metadata": {
        "colab": {
          "base_uri": "https://localhost:8080/"
        },
        "id": "VOBM_FwWu5p-",
        "outputId": "dbad17f7-9eb9-4f34-d29a-e59259385062"
      },
      "execution_count": 54,
      "outputs": [
        {
          "output_type": "stream",
          "name": "stdout",
          "text": [
            "              precision    recall  f1-score   support\n",
            "\n",
            "           0       0.78      0.88      0.83      1200\n",
            "           1       0.98      0.96      0.97      1200\n",
            "           2       0.78      0.74      0.76      1200\n",
            "           3       0.87      0.86      0.87      1200\n",
            "           4       0.76      0.72      0.74      1200\n",
            "           5       0.95      0.94      0.94      1200\n",
            "           6       0.62      0.64      0.63      1200\n",
            "           7       0.91      0.95      0.93      1200\n",
            "           8       0.97      0.95      0.96      1200\n",
            "           9       0.96      0.94      0.95      1200\n",
            "\n",
            "    accuracy                           0.86     12000\n",
            "   macro avg       0.86      0.86      0.86     12000\n",
            "weighted avg       0.86      0.86      0.86     12000\n",
            "\n",
            "[[1058    4   12   35    5    1   77    0    8    0]\n",
            " [   7 1154    2   27    2    1    7    0    0    0]\n",
            " [  23    2  884   10  133    0  142    0    5    1]\n",
            " [  62   16   12 1034   37    0   36    0    3    0]\n",
            " [   4    0  103   57  863    0  169    0    4    0]\n",
            " [   1    0    0    0    0 1128    2   49    4   16]\n",
            " [ 203    4  111   21   86    0  763    0   12    0]\n",
            " [   0    0    0    0    0   35    0 1135    2   28]\n",
            " [   3    1    7    5    4    8   23    5 1144    0]\n",
            " [   0    0    0    0    0   19    2   53    0 1126]]\n"
          ]
        }
      ]
    },
    {
      "cell_type": "code",
      "source": [
        "# cf.\n",
        "print(y_pred, end='\\n\\n\\n')\n",
        "print(y_pred_probs, end='\\n\\n\\n')\n",
        "print(y_pred_class, end='\\n\\n\\n')\n",
        "print(y_val_class)"
      ],
      "metadata": {
        "colab": {
          "base_uri": "https://localhost:8080/"
        },
        "id": "PrMIZgbHz_fz",
        "outputId": "4ff2d74d-e891-4702-b12b-48df36cb6d9b"
      },
      "execution_count": 57,
      "outputs": [
        {
          "output_type": "stream",
          "name": "stdout",
          "text": [
            "tf.Tensor(\n",
            "[[1.6275853e-05 2.1960041e-06 5.8148824e-05 ... 1.5568231e-01\n",
            "  1.0693696e-02 1.7132224e-01]\n",
            " [5.9845624e-03 2.3820045e-05 6.1021899e-03 ... 2.2649576e-16\n",
            "  1.3503678e-04 1.4278465e-18]\n",
            " [6.3020172e-10 6.4309358e-10 1.9763363e-08 ... 5.7603963e-02\n",
            "  1.4517219e-04 1.1131078e-03]\n",
            " ...\n",
            " [1.0578196e-05 4.1704166e-07 3.7194387e-04 ... 7.6261014e-10\n",
            "  9.9830389e-01 3.6439998e-10]\n",
            " [8.3568599e-04 1.0516826e-05 9.8545152e-01 ... 5.9604733e-14\n",
            "  8.4302425e-05 4.5479684e-13]\n",
            " [8.1472055e-05 3.0491462e-06 2.5108169e-05 ... 7.6074408e-05\n",
            "  9.9880797e-01 1.6078702e-05]], shape=(12000, 10), dtype=float32)\n",
            "\n",
            "\n",
            "[[7.1259034e-05 7.1435825e-05 7.3494339e-05 ... 8.3375780e-05\n",
            "  7.2404982e-05 8.5395935e-05]\n",
            " [7.1685608e-05 7.1437367e-05 7.3939889e-05 ... 7.1355578e-05\n",
            "  7.1644499e-05 7.1950344e-05]\n",
            " [7.1257877e-05 7.1435657e-05 7.3490060e-05 ... 7.5586635e-05\n",
            "  7.1645227e-05 7.2030474e-05]\n",
            " ...\n",
            " [7.1258633e-05 7.1435687e-05 7.3517404e-05 ... 7.1355578e-05\n",
            "  1.9439365e-04 7.1950344e-05]\n",
            " [7.1317445e-05 7.1436414e-05 1.9688145e-04 ... 7.1355578e-05\n",
            "  7.1640861e-05 7.1950344e-05]\n",
            " [7.1263690e-05 7.1435883e-05 7.3491909e-05 ... 7.1361006e-05\n",
            "  1.9449169e-04 7.1951508e-05]]\n",
            "\n",
            "\n",
            "[5 4 5 ... 8 2 8]\n",
            "\n",
            "\n",
            "[5 4 5 ... 8 2 8]\n"
          ]
        }
      ]
    },
    {
      "cell_type": "code",
      "source": [
        "'''cf.\n",
        "precision   | TP / (TP + FP)\n",
        "recall      | TP / (TP + FN)\n",
        "f1-score    | harmonic mean of precision and recall\n",
        "              (2 * (precision * recall)) / (precision + recall)\n",
        "              일반적으로 precision과 recall은 trade-off 관계라서 이를 절충할 수 있도록 한 개념임\n",
        "support     | 각 class의 sample count\n",
        "accuracy    | (TP + TN) / (TP + TN + FP + FN)\n",
        "macro avg   | arithmatic mean of precision(각 class들의 precision 평균)\n",
        "'''"
      ],
      "metadata": {
        "id": "7Xi3OlBh0Vrw"
      },
      "execution_count": null,
      "outputs": []
    },
    {
      "cell_type": "code",
      "source": [
        "'''cf.\n",
        "TN  | True Negative(진음성)\n",
        "FN  | False Negative(위음성)\n",
        "FP  | False Positive(위양성)\n",
        "TP  | True Positive(진양성)\n",
        "'''"
      ],
      "metadata": {
        "id": "gqY_CUs-0ZAb"
      },
      "execution_count": null,
      "outputs": []
    }
  ]
}
