{
  "nbformat": 4,
  "nbformat_minor": 0,
  "metadata": {
    "colab": {
      "provenance": [],
      "authorship_tag": "ABX9TyNmxBJFQgAP1uWmCqP5pn55",
      "include_colab_link": true
    },
    "kernelspec": {
      "name": "python3",
      "display_name": "Python 3"
    },
    "language_info": {
      "name": "python"
    }
  },
  "cells": [
    {
      "cell_type": "markdown",
      "metadata": {
        "id": "view-in-github",
        "colab_type": "text"
      },
      "source": [
        "<a href=\"https://colab.research.google.com/github/rudevico/Gachon-AISTUDY/blob/main/PyTorch_1_Architecture.ipynb\" target=\"_parent\"><img src=\"https://colab.research.google.com/assets/colab-badge.svg\" alt=\"Open In Colab\"/></a>"
      ]
    },
    {
      "cell_type": "markdown",
      "source": [
        "# PyTorch Architecture\n",
        "\n",
        "> 결론은 Top-level의 Python API를 통해서 손쉽게 사용 가능하다는 것\n",
        "\n",
        "**Top-level API**\n",
        "* `torch`\n",
        "* `torch.autograd`\n",
        "* `torch.nn`\n",
        "* `torch.multiprocessing`\n",
        "* `torch.utils`\n",
        "    - `.data.DataLoader`\n",
        "    - `.bottleneck`\n",
        "    - `.checkpoint`\n",
        "\n",
        "**Mid-level Engine**\n",
        "* Autograd C++\n",
        "* ATen C++\n",
        "* JIT C++\n",
        "\n",
        "**Low-level Library**\n",
        "* TH C\n",
        "* THNN C\n",
        "* THC CUDA\n",
        "* THCUNN CUDA"
      ],
      "metadata": {
        "id": "1mfB_aURQWc8"
      }
    }
  ]
}