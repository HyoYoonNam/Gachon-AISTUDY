{
  "nbformat": 4,
  "nbformat_minor": 0,
  "metadata": {
    "colab": {
      "provenance": [],
      "authorship_tag": "ABX9TyNiVe/mWCLR0u6/4altTaqo",
      "include_colab_link": true
    },
    "kernelspec": {
      "name": "python3",
      "display_name": "Python 3"
    },
    "language_info": {
      "name": "python"
    }
  },
  "cells": [
    {
      "cell_type": "markdown",
      "metadata": {
        "id": "view-in-github",
        "colab_type": "text"
      },
      "source": [
        "<a href=\"https://colab.research.google.com/github/rudevico/Gachon-AISTUDY/blob/main/UCI_raisin_Classifications.ipynb\" target=\"_parent\"><img src=\"https://colab.research.google.com/assets/colab-badge.svg\" alt=\"Open In Colab\"/></a>"
      ]
    },
    {
      "cell_type": "markdown",
      "source": [
        "# 0. Introdction\n",
        "* [Download sample data set: Raisin](https://archive.ics.uci.edu/dataset/850/raisin) (CINAR I., KOKLU M. and TASDEMIR S., 2020)[1]\n",
        "\n",
        "UCI Macine Learning Repository의 Raisin(; 건포도) data set을 사용해서 5가지 타입의 분류를 수행합니다.  \n",
        "또한 그 중에서도 우선 **Binary Classification**에 대해서만 수행합니다.\n",
        "\n",
        "**types of Classification algorithms that we use**  \n",
        "* #1. K-Nearest Neighbors; K-NN\n",
        "* #2. Logistic Regression; LR\n",
        "* #3. Decision Tree; DT\n",
        "* #4. Random Forest; RF\n",
        "* #5. Support Vector Machine; SVM"
      ],
      "metadata": {
        "id": "vh5QbSbIQa_p"
      }
    },
    {
      "cell_type": "markdown",
      "source": [
        "## 0. 1. How to Upload & Load file to google colab\n",
        "[ref1. google colab에서 file 사용하기](https://teki.tistory.com/29)  \n",
        "[ref2. colab에 csv 파일 불러오기](https://resultofeffort.tistory.com/60)  \n",
        "\n",
        "다음 cell에서 google colab의 default working directory를 확인할 수 있다.  \n",
        "또한 기본적으로 `files.upload()`를 통해 업로드한 파일은 working directory에 저장된다."
      ],
      "metadata": {
        "id": "8QKqn6C4d17M"
      }
    },
    {
      "cell_type": "code",
      "source": [
        "import os\n",
        "\n",
        "# in colab, default working directory is /content\n",
        "print(os.popen('pwd').read())"
      ],
      "metadata": {
        "colab": {
          "base_uri": "https://localhost:8080/"
        },
        "id": "0DoI49uwbwOO",
        "outputId": "6eab37db-c431-453f-af5f-c7c2f1d9c98e"
      },
      "execution_count": 3,
      "outputs": [
        {
          "output_type": "stream",
          "name": "stdout",
          "text": [
            "/content\n",
            "\n"
          ]
        }
      ]
    },
    {
      "cell_type": "code",
      "source": [
        "from google.colab import files\n",
        "\n",
        "uploaded = files.upload()"
      ],
      "metadata": {
        "colab": {
          "base_uri": "https://localhost:8080/",
          "height": 77
        },
        "id": "rK96K_UdZFLD",
        "outputId": "c4453d98-6407-4b34-b3ae-8bc404a6619d"
      },
      "execution_count": 4,
      "outputs": [
        {
          "output_type": "display_data",
          "data": {
            "text/plain": [
              "<IPython.core.display.HTML object>"
            ],
            "text/html": [
              "\n",
              "     <input type=\"file\" id=\"files-781932b6-c7f6-4c7d-a611-9e5db818e814\" name=\"files[]\" multiple disabled\n",
              "        style=\"border:none\" />\n",
              "     <output id=\"result-781932b6-c7f6-4c7d-a611-9e5db818e814\">\n",
              "      Upload widget is only available when the cell has been executed in the\n",
              "      current browser session. Please rerun this cell to enable.\n",
              "      </output>\n",
              "      <script>// Copyright 2017 Google LLC\n",
              "//\n",
              "// Licensed under the Apache License, Version 2.0 (the \"License\");\n",
              "// you may not use this file except in compliance with the License.\n",
              "// You may obtain a copy of the License at\n",
              "//\n",
              "//      http://www.apache.org/licenses/LICENSE-2.0\n",
              "//\n",
              "// Unless required by applicable law or agreed to in writing, software\n",
              "// distributed under the License is distributed on an \"AS IS\" BASIS,\n",
              "// WITHOUT WARRANTIES OR CONDITIONS OF ANY KIND, either express or implied.\n",
              "// See the License for the specific language governing permissions and\n",
              "// limitations under the License.\n",
              "\n",
              "/**\n",
              " * @fileoverview Helpers for google.colab Python module.\n",
              " */\n",
              "(function(scope) {\n",
              "function span(text, styleAttributes = {}) {\n",
              "  const element = document.createElement('span');\n",
              "  element.textContent = text;\n",
              "  for (const key of Object.keys(styleAttributes)) {\n",
              "    element.style[key] = styleAttributes[key];\n",
              "  }\n",
              "  return element;\n",
              "}\n",
              "\n",
              "// Max number of bytes which will be uploaded at a time.\n",
              "const MAX_PAYLOAD_SIZE = 100 * 1024;\n",
              "\n",
              "function _uploadFiles(inputId, outputId) {\n",
              "  const steps = uploadFilesStep(inputId, outputId);\n",
              "  const outputElement = document.getElementById(outputId);\n",
              "  // Cache steps on the outputElement to make it available for the next call\n",
              "  // to uploadFilesContinue from Python.\n",
              "  outputElement.steps = steps;\n",
              "\n",
              "  return _uploadFilesContinue(outputId);\n",
              "}\n",
              "\n",
              "// This is roughly an async generator (not supported in the browser yet),\n",
              "// where there are multiple asynchronous steps and the Python side is going\n",
              "// to poll for completion of each step.\n",
              "// This uses a Promise to block the python side on completion of each step,\n",
              "// then passes the result of the previous step as the input to the next step.\n",
              "function _uploadFilesContinue(outputId) {\n",
              "  const outputElement = document.getElementById(outputId);\n",
              "  const steps = outputElement.steps;\n",
              "\n",
              "  const next = steps.next(outputElement.lastPromiseValue);\n",
              "  return Promise.resolve(next.value.promise).then((value) => {\n",
              "    // Cache the last promise value to make it available to the next\n",
              "    // step of the generator.\n",
              "    outputElement.lastPromiseValue = value;\n",
              "    return next.value.response;\n",
              "  });\n",
              "}\n",
              "\n",
              "/**\n",
              " * Generator function which is called between each async step of the upload\n",
              " * process.\n",
              " * @param {string} inputId Element ID of the input file picker element.\n",
              " * @param {string} outputId Element ID of the output display.\n",
              " * @return {!Iterable<!Object>} Iterable of next steps.\n",
              " */\n",
              "function* uploadFilesStep(inputId, outputId) {\n",
              "  const inputElement = document.getElementById(inputId);\n",
              "  inputElement.disabled = false;\n",
              "\n",
              "  const outputElement = document.getElementById(outputId);\n",
              "  outputElement.innerHTML = '';\n",
              "\n",
              "  const pickedPromise = new Promise((resolve) => {\n",
              "    inputElement.addEventListener('change', (e) => {\n",
              "      resolve(e.target.files);\n",
              "    });\n",
              "  });\n",
              "\n",
              "  const cancel = document.createElement('button');\n",
              "  inputElement.parentElement.appendChild(cancel);\n",
              "  cancel.textContent = 'Cancel upload';\n",
              "  const cancelPromise = new Promise((resolve) => {\n",
              "    cancel.onclick = () => {\n",
              "      resolve(null);\n",
              "    };\n",
              "  });\n",
              "\n",
              "  // Wait for the user to pick the files.\n",
              "  const files = yield {\n",
              "    promise: Promise.race([pickedPromise, cancelPromise]),\n",
              "    response: {\n",
              "      action: 'starting',\n",
              "    }\n",
              "  };\n",
              "\n",
              "  cancel.remove();\n",
              "\n",
              "  // Disable the input element since further picks are not allowed.\n",
              "  inputElement.disabled = true;\n",
              "\n",
              "  if (!files) {\n",
              "    return {\n",
              "      response: {\n",
              "        action: 'complete',\n",
              "      }\n",
              "    };\n",
              "  }\n",
              "\n",
              "  for (const file of files) {\n",
              "    const li = document.createElement('li');\n",
              "    li.append(span(file.name, {fontWeight: 'bold'}));\n",
              "    li.append(span(\n",
              "        `(${file.type || 'n/a'}) - ${file.size} bytes, ` +\n",
              "        `last modified: ${\n",
              "            file.lastModifiedDate ? file.lastModifiedDate.toLocaleDateString() :\n",
              "                                    'n/a'} - `));\n",
              "    const percent = span('0% done');\n",
              "    li.appendChild(percent);\n",
              "\n",
              "    outputElement.appendChild(li);\n",
              "\n",
              "    const fileDataPromise = new Promise((resolve) => {\n",
              "      const reader = new FileReader();\n",
              "      reader.onload = (e) => {\n",
              "        resolve(e.target.result);\n",
              "      };\n",
              "      reader.readAsArrayBuffer(file);\n",
              "    });\n",
              "    // Wait for the data to be ready.\n",
              "    let fileData = yield {\n",
              "      promise: fileDataPromise,\n",
              "      response: {\n",
              "        action: 'continue',\n",
              "      }\n",
              "    };\n",
              "\n",
              "    // Use a chunked sending to avoid message size limits. See b/62115660.\n",
              "    let position = 0;\n",
              "    do {\n",
              "      const length = Math.min(fileData.byteLength - position, MAX_PAYLOAD_SIZE);\n",
              "      const chunk = new Uint8Array(fileData, position, length);\n",
              "      position += length;\n",
              "\n",
              "      const base64 = btoa(String.fromCharCode.apply(null, chunk));\n",
              "      yield {\n",
              "        response: {\n",
              "          action: 'append',\n",
              "          file: file.name,\n",
              "          data: base64,\n",
              "        },\n",
              "      };\n",
              "\n",
              "      let percentDone = fileData.byteLength === 0 ?\n",
              "          100 :\n",
              "          Math.round((position / fileData.byteLength) * 100);\n",
              "      percent.textContent = `${percentDone}% done`;\n",
              "\n",
              "    } while (position < fileData.byteLength);\n",
              "  }\n",
              "\n",
              "  // All done.\n",
              "  yield {\n",
              "    response: {\n",
              "      action: 'complete',\n",
              "    }\n",
              "  };\n",
              "}\n",
              "\n",
              "scope.google = scope.google || {};\n",
              "scope.google.colab = scope.google.colab || {};\n",
              "scope.google.colab._files = {\n",
              "  _uploadFiles,\n",
              "  _uploadFilesContinue,\n",
              "};\n",
              "})(self);\n",
              "</script> "
            ]
          },
          "metadata": {}
        },
        {
          "output_type": "stream",
          "name": "stdout",
          "text": [
            "Saving Raisin_Dataset.xlsx to Raisin_Dataset.xlsx\n"
          ]
        }
      ]
    },
    {
      "cell_type": "markdown",
      "source": [
        "# 1. K-Nearest Neighbors; K-NN\n",
        "\n",
        "\n"
      ],
      "metadata": {
        "id": "NGbojenaWNdf"
      }
    },
    {
      "cell_type": "markdown",
      "source": [
        "[cf. manual of pandas.read_excel](https://pandas.pydata.org/docs/reference/api/pandas.read_excel.html)"
      ],
      "metadata": {
        "id": "rp87vtb5fU1H"
      }
    },
    {
      "cell_type": "code",
      "source": [
        "import pandas as pd\n",
        "\n",
        "# df = pd.read_excel('./Raisin_Dataset.xlsx', header=None)\n",
        "# df = pd.read_excel('./Raisin_Dataset.xlsx', header=1)\n",
        "raisin = pd.read_excel('./Raisin_Dataset.xlsx', header=0) # cf. header parameter default = 0\n",
        "raisin.head()"
      ],
      "metadata": {
        "colab": {
          "base_uri": "https://localhost:8080/",
          "height": 206
        },
        "id": "SxV8IVwIXANU",
        "outputId": "71a9355d-11ee-4199-eb59-970b21a2b49f"
      },
      "execution_count": 5,
      "outputs": [
        {
          "output_type": "execute_result",
          "data": {
            "text/plain": [
              "    Area  MajorAxisLength  MinorAxisLength  Eccentricity  ConvexArea  \\\n",
              "0  87524       442.246011       253.291155      0.819738       90546   \n",
              "1  75166       406.690687       243.032436      0.801805       78789   \n",
              "2  90856       442.267048       266.328318      0.798354       93717   \n",
              "3  45928       286.540559       208.760042      0.684989       47336   \n",
              "4  79408       352.190770       290.827533      0.564011       81463   \n",
              "\n",
              "     Extent  Perimeter    Class  \n",
              "0  0.758651   1184.040  Kecimen  \n",
              "1  0.684130   1121.786  Kecimen  \n",
              "2  0.637613   1208.575  Kecimen  \n",
              "3  0.699599    844.162  Kecimen  \n",
              "4  0.792772   1073.251  Kecimen  "
            ],
            "text/html": [
              "\n",
              "  <div id=\"df-e0cd9fa2-7390-4041-aa41-c94774310ea7\" class=\"colab-df-container\">\n",
              "    <div>\n",
              "<style scoped>\n",
              "    .dataframe tbody tr th:only-of-type {\n",
              "        vertical-align: middle;\n",
              "    }\n",
              "\n",
              "    .dataframe tbody tr th {\n",
              "        vertical-align: top;\n",
              "    }\n",
              "\n",
              "    .dataframe thead th {\n",
              "        text-align: right;\n",
              "    }\n",
              "</style>\n",
              "<table border=\"1\" class=\"dataframe\">\n",
              "  <thead>\n",
              "    <tr style=\"text-align: right;\">\n",
              "      <th></th>\n",
              "      <th>Area</th>\n",
              "      <th>MajorAxisLength</th>\n",
              "      <th>MinorAxisLength</th>\n",
              "      <th>Eccentricity</th>\n",
              "      <th>ConvexArea</th>\n",
              "      <th>Extent</th>\n",
              "      <th>Perimeter</th>\n",
              "      <th>Class</th>\n",
              "    </tr>\n",
              "  </thead>\n",
              "  <tbody>\n",
              "    <tr>\n",
              "      <th>0</th>\n",
              "      <td>87524</td>\n",
              "      <td>442.246011</td>\n",
              "      <td>253.291155</td>\n",
              "      <td>0.819738</td>\n",
              "      <td>90546</td>\n",
              "      <td>0.758651</td>\n",
              "      <td>1184.040</td>\n",
              "      <td>Kecimen</td>\n",
              "    </tr>\n",
              "    <tr>\n",
              "      <th>1</th>\n",
              "      <td>75166</td>\n",
              "      <td>406.690687</td>\n",
              "      <td>243.032436</td>\n",
              "      <td>0.801805</td>\n",
              "      <td>78789</td>\n",
              "      <td>0.684130</td>\n",
              "      <td>1121.786</td>\n",
              "      <td>Kecimen</td>\n",
              "    </tr>\n",
              "    <tr>\n",
              "      <th>2</th>\n",
              "      <td>90856</td>\n",
              "      <td>442.267048</td>\n",
              "      <td>266.328318</td>\n",
              "      <td>0.798354</td>\n",
              "      <td>93717</td>\n",
              "      <td>0.637613</td>\n",
              "      <td>1208.575</td>\n",
              "      <td>Kecimen</td>\n",
              "    </tr>\n",
              "    <tr>\n",
              "      <th>3</th>\n",
              "      <td>45928</td>\n",
              "      <td>286.540559</td>\n",
              "      <td>208.760042</td>\n",
              "      <td>0.684989</td>\n",
              "      <td>47336</td>\n",
              "      <td>0.699599</td>\n",
              "      <td>844.162</td>\n",
              "      <td>Kecimen</td>\n",
              "    </tr>\n",
              "    <tr>\n",
              "      <th>4</th>\n",
              "      <td>79408</td>\n",
              "      <td>352.190770</td>\n",
              "      <td>290.827533</td>\n",
              "      <td>0.564011</td>\n",
              "      <td>81463</td>\n",
              "      <td>0.792772</td>\n",
              "      <td>1073.251</td>\n",
              "      <td>Kecimen</td>\n",
              "    </tr>\n",
              "  </tbody>\n",
              "</table>\n",
              "</div>\n",
              "    <div class=\"colab-df-buttons\">\n",
              "\n",
              "  <div class=\"colab-df-container\">\n",
              "    <button class=\"colab-df-convert\" onclick=\"convertToInteractive('df-e0cd9fa2-7390-4041-aa41-c94774310ea7')\"\n",
              "            title=\"Convert this dataframe to an interactive table.\"\n",
              "            style=\"display:none;\">\n",
              "\n",
              "  <svg xmlns=\"http://www.w3.org/2000/svg\" height=\"24px\" viewBox=\"0 -960 960 960\">\n",
              "    <path d=\"M120-120v-720h720v720H120Zm60-500h600v-160H180v160Zm220 220h160v-160H400v160Zm0 220h160v-160H400v160ZM180-400h160v-160H180v160Zm440 0h160v-160H620v160ZM180-180h160v-160H180v160Zm440 0h160v-160H620v160Z\"/>\n",
              "  </svg>\n",
              "    </button>\n",
              "\n",
              "  <style>\n",
              "    .colab-df-container {\n",
              "      display:flex;\n",
              "      gap: 12px;\n",
              "    }\n",
              "\n",
              "    .colab-df-convert {\n",
              "      background-color: #E8F0FE;\n",
              "      border: none;\n",
              "      border-radius: 50%;\n",
              "      cursor: pointer;\n",
              "      display: none;\n",
              "      fill: #1967D2;\n",
              "      height: 32px;\n",
              "      padding: 0 0 0 0;\n",
              "      width: 32px;\n",
              "    }\n",
              "\n",
              "    .colab-df-convert:hover {\n",
              "      background-color: #E2EBFA;\n",
              "      box-shadow: 0px 1px 2px rgba(60, 64, 67, 0.3), 0px 1px 3px 1px rgba(60, 64, 67, 0.15);\n",
              "      fill: #174EA6;\n",
              "    }\n",
              "\n",
              "    .colab-df-buttons div {\n",
              "      margin-bottom: 4px;\n",
              "    }\n",
              "\n",
              "    [theme=dark] .colab-df-convert {\n",
              "      background-color: #3B4455;\n",
              "      fill: #D2E3FC;\n",
              "    }\n",
              "\n",
              "    [theme=dark] .colab-df-convert:hover {\n",
              "      background-color: #434B5C;\n",
              "      box-shadow: 0px 1px 3px 1px rgba(0, 0, 0, 0.15);\n",
              "      filter: drop-shadow(0px 1px 2px rgba(0, 0, 0, 0.3));\n",
              "      fill: #FFFFFF;\n",
              "    }\n",
              "  </style>\n",
              "\n",
              "    <script>\n",
              "      const buttonEl =\n",
              "        document.querySelector('#df-e0cd9fa2-7390-4041-aa41-c94774310ea7 button.colab-df-convert');\n",
              "      buttonEl.style.display =\n",
              "        google.colab.kernel.accessAllowed ? 'block' : 'none';\n",
              "\n",
              "      async function convertToInteractive(key) {\n",
              "        const element = document.querySelector('#df-e0cd9fa2-7390-4041-aa41-c94774310ea7');\n",
              "        const dataTable =\n",
              "          await google.colab.kernel.invokeFunction('convertToInteractive',\n",
              "                                                    [key], {});\n",
              "        if (!dataTable) return;\n",
              "\n",
              "        const docLinkHtml = 'Like what you see? Visit the ' +\n",
              "          '<a target=\"_blank\" href=https://colab.research.google.com/notebooks/data_table.ipynb>data table notebook</a>'\n",
              "          + ' to learn more about interactive tables.';\n",
              "        element.innerHTML = '';\n",
              "        dataTable['output_type'] = 'display_data';\n",
              "        await google.colab.output.renderOutput(dataTable, element);\n",
              "        const docLink = document.createElement('div');\n",
              "        docLink.innerHTML = docLinkHtml;\n",
              "        element.appendChild(docLink);\n",
              "      }\n",
              "    </script>\n",
              "  </div>\n",
              "\n",
              "\n",
              "<div id=\"df-79ad264e-2978-4ee0-a8ba-8d639b5a7648\">\n",
              "  <button class=\"colab-df-quickchart\" onclick=\"quickchart('df-79ad264e-2978-4ee0-a8ba-8d639b5a7648')\"\n",
              "            title=\"Suggest charts\"\n",
              "            style=\"display:none;\">\n",
              "\n",
              "<svg xmlns=\"http://www.w3.org/2000/svg\" height=\"24px\"viewBox=\"0 0 24 24\"\n",
              "     width=\"24px\">\n",
              "    <g>\n",
              "        <path d=\"M19 3H5c-1.1 0-2 .9-2 2v14c0 1.1.9 2 2 2h14c1.1 0 2-.9 2-2V5c0-1.1-.9-2-2-2zM9 17H7v-7h2v7zm4 0h-2V7h2v10zm4 0h-2v-4h2v4z\"/>\n",
              "    </g>\n",
              "</svg>\n",
              "  </button>\n",
              "\n",
              "<style>\n",
              "  .colab-df-quickchart {\n",
              "      --bg-color: #E8F0FE;\n",
              "      --fill-color: #1967D2;\n",
              "      --hover-bg-color: #E2EBFA;\n",
              "      --hover-fill-color: #174EA6;\n",
              "      --disabled-fill-color: #AAA;\n",
              "      --disabled-bg-color: #DDD;\n",
              "  }\n",
              "\n",
              "  [theme=dark] .colab-df-quickchart {\n",
              "      --bg-color: #3B4455;\n",
              "      --fill-color: #D2E3FC;\n",
              "      --hover-bg-color: #434B5C;\n",
              "      --hover-fill-color: #FFFFFF;\n",
              "      --disabled-bg-color: #3B4455;\n",
              "      --disabled-fill-color: #666;\n",
              "  }\n",
              "\n",
              "  .colab-df-quickchart {\n",
              "    background-color: var(--bg-color);\n",
              "    border: none;\n",
              "    border-radius: 50%;\n",
              "    cursor: pointer;\n",
              "    display: none;\n",
              "    fill: var(--fill-color);\n",
              "    height: 32px;\n",
              "    padding: 0;\n",
              "    width: 32px;\n",
              "  }\n",
              "\n",
              "  .colab-df-quickchart:hover {\n",
              "    background-color: var(--hover-bg-color);\n",
              "    box-shadow: 0 1px 2px rgba(60, 64, 67, 0.3), 0 1px 3px 1px rgba(60, 64, 67, 0.15);\n",
              "    fill: var(--button-hover-fill-color);\n",
              "  }\n",
              "\n",
              "  .colab-df-quickchart-complete:disabled,\n",
              "  .colab-df-quickchart-complete:disabled:hover {\n",
              "    background-color: var(--disabled-bg-color);\n",
              "    fill: var(--disabled-fill-color);\n",
              "    box-shadow: none;\n",
              "  }\n",
              "\n",
              "  .colab-df-spinner {\n",
              "    border: 2px solid var(--fill-color);\n",
              "    border-color: transparent;\n",
              "    border-bottom-color: var(--fill-color);\n",
              "    animation:\n",
              "      spin 1s steps(1) infinite;\n",
              "  }\n",
              "\n",
              "  @keyframes spin {\n",
              "    0% {\n",
              "      border-color: transparent;\n",
              "      border-bottom-color: var(--fill-color);\n",
              "      border-left-color: var(--fill-color);\n",
              "    }\n",
              "    20% {\n",
              "      border-color: transparent;\n",
              "      border-left-color: var(--fill-color);\n",
              "      border-top-color: var(--fill-color);\n",
              "    }\n",
              "    30% {\n",
              "      border-color: transparent;\n",
              "      border-left-color: var(--fill-color);\n",
              "      border-top-color: var(--fill-color);\n",
              "      border-right-color: var(--fill-color);\n",
              "    }\n",
              "    40% {\n",
              "      border-color: transparent;\n",
              "      border-right-color: var(--fill-color);\n",
              "      border-top-color: var(--fill-color);\n",
              "    }\n",
              "    60% {\n",
              "      border-color: transparent;\n",
              "      border-right-color: var(--fill-color);\n",
              "    }\n",
              "    80% {\n",
              "      border-color: transparent;\n",
              "      border-right-color: var(--fill-color);\n",
              "      border-bottom-color: var(--fill-color);\n",
              "    }\n",
              "    90% {\n",
              "      border-color: transparent;\n",
              "      border-bottom-color: var(--fill-color);\n",
              "    }\n",
              "  }\n",
              "</style>\n",
              "\n",
              "  <script>\n",
              "    async function quickchart(key) {\n",
              "      const quickchartButtonEl =\n",
              "        document.querySelector('#' + key + ' button');\n",
              "      quickchartButtonEl.disabled = true;  // To prevent multiple clicks.\n",
              "      quickchartButtonEl.classList.add('colab-df-spinner');\n",
              "      try {\n",
              "        const charts = await google.colab.kernel.invokeFunction(\n",
              "            'suggestCharts', [key], {});\n",
              "      } catch (error) {\n",
              "        console.error('Error during call to suggestCharts:', error);\n",
              "      }\n",
              "      quickchartButtonEl.classList.remove('colab-df-spinner');\n",
              "      quickchartButtonEl.classList.add('colab-df-quickchart-complete');\n",
              "    }\n",
              "    (() => {\n",
              "      let quickchartButtonEl =\n",
              "        document.querySelector('#df-79ad264e-2978-4ee0-a8ba-8d639b5a7648 button');\n",
              "      quickchartButtonEl.style.display =\n",
              "        google.colab.kernel.accessAllowed ? 'block' : 'none';\n",
              "    })();\n",
              "  </script>\n",
              "</div>\n",
              "\n",
              "    </div>\n",
              "  </div>\n"
            ],
            "application/vnd.google.colaboratory.intrinsic+json": {
              "type": "dataframe",
              "variable_name": "raisin",
              "summary": "{\n  \"name\": \"raisin\",\n  \"rows\": 900,\n  \"fields\": [\n    {\n      \"column\": \"Area\",\n      \"properties\": {\n        \"dtype\": \"number\",\n        \"std\": 39002,\n        \"min\": 25387,\n        \"max\": 235047,\n        \"num_unique_values\": 900,\n        \"samples\": [\n          95347,\n          61861,\n          52693\n        ],\n        \"semantic_type\": \"\",\n        \"description\": \"\"\n      }\n    },\n    {\n      \"column\": \"MajorAxisLength\",\n      \"properties\": {\n        \"dtype\": \"number\",\n        \"std\": 116.03512062468943,\n        \"min\": 225.629541,\n        \"max\": 997.2919406,\n        \"num_unique_values\": 900,\n        \"samples\": [\n          451.5261542,\n          345.9436498,\n          283.5042387\n        ],\n        \"semantic_type\": \"\",\n        \"description\": \"\"\n      }\n    },\n    {\n      \"column\": \"MinorAxisLength\",\n      \"properties\": {\n        \"dtype\": \"number\",\n        \"std\": 49.98890170571764,\n        \"min\": 143.7108718,\n        \"max\": 492.2752785,\n        \"num_unique_values\": 900,\n        \"samples\": [\n          280.2261534,\n          235.4304678,\n          242.1139544\n        ],\n        \"semantic_type\": \"\",\n        \"description\": \"\"\n      }\n    },\n    {\n      \"column\": \"Eccentricity\",\n      \"properties\": {\n        \"dtype\": \"number\",\n        \"std\": 0.09031840993160666,\n        \"min\": 0.348729642,\n        \"max\": 0.96212444,\n        \"num_unique_values\": 900,\n        \"samples\": [\n          0.784111496,\n          0.732705625,\n          0.520265279\n        ],\n        \"semantic_type\": \"\",\n        \"description\": \"\"\n      }\n    },\n    {\n      \"column\": \"ConvexArea\",\n      \"properties\": {\n        \"dtype\": \"number\",\n        \"std\": 40769,\n        \"min\": 26139,\n        \"max\": 278217,\n        \"num_unique_values\": 896,\n        \"samples\": [\n          89794,\n          71336,\n          120657\n        ],\n        \"semantic_type\": \"\",\n        \"description\": \"\"\n      }\n    },\n    {\n      \"column\": \"Extent\",\n      \"properties\": {\n        \"dtype\": \"number\",\n        \"std\": 0.053468200288159295,\n        \"min\": 0.379856115,\n        \"max\": 0.835454545,\n        \"num_unique_values\": 900,\n        \"samples\": [\n          0.674956111,\n          0.70227959,\n          0.737749216\n        ],\n        \"semantic_type\": \"\",\n        \"description\": \"\"\n      }\n    },\n    {\n      \"column\": \"Perimeter\",\n      \"properties\": {\n        \"dtype\": \"number\",\n        \"std\": 273.7643154160196,\n        \"min\": 619.074,\n        \"max\": 2697.753,\n        \"num_unique_values\": 900,\n        \"samples\": [\n          1255.245,\n          1063.621,\n          895.745\n        ],\n        \"semantic_type\": \"\",\n        \"description\": \"\"\n      }\n    },\n    {\n      \"column\": \"Class\",\n      \"properties\": {\n        \"dtype\": \"category\",\n        \"num_unique_values\": 2,\n        \"samples\": [\n          \"Besni\",\n          \"Kecimen\"\n        ],\n        \"semantic_type\": \"\",\n        \"description\": \"\"\n      }\n    }\n  ]\n}"
            }
          },
          "metadata": {},
          "execution_count": 5
        }
      ]
    },
    {
      "cell_type": "code",
      "source": [
        "print(raisin.shape) # cf. 900 rows, 8 columns"
      ],
      "metadata": {
        "colab": {
          "base_uri": "https://localhost:8080/"
        },
        "id": "DTooHrPtkNO7",
        "outputId": "183ebca1-95bc-4895-beaf-66d611c716f6"
      },
      "execution_count": 6,
      "outputs": [
        {
          "output_type": "stream",
          "name": "stdout",
          "text": [
            "(900, 8)\n"
          ]
        }
      ]
    },
    {
      "cell_type": "markdown",
      "source": [
        "해당 실습에서는 Classification을 진행하므로 다음과 같이 구분할 수 있겠다.  \n",
        "* 900개의 **data instances**\n",
        "* 7개의 **features**(Area, MajorAxisLength, ..., Perimeter) -> 수학에서의 *independent variables*\n",
        "* 1개의 **label**(Class) -> 수학에서의 *dependent variable*\n",
        "\n",
        "또한 다음 cell과 같이 Class에 어떤 종류가 있는지 확인할 수 있다."
      ],
      "metadata": {
        "id": "xkOJ86Gmj4l0"
      }
    },
    {
      "cell_type": "code",
      "source": [
        "print(raisin['Class'].unique()) # cf. pandas dataframe에서의 unique 출력 방법(1)\n",
        "print(pd.unique(raisin['Class'])) # cf. pandas dataframe에서의 unique 출력 방법(2)"
      ],
      "metadata": {
        "colab": {
          "base_uri": "https://localhost:8080/"
        },
        "id": "FrcLp3PQf46n",
        "outputId": "a146dbb6-df89-4f77-80b3-9f057665f0d4"
      },
      "execution_count": 7,
      "outputs": [
        {
          "output_type": "stream",
          "name": "stdout",
          "text": [
            "['Kecimen' 'Besni']\n",
            "['Kecimen' 'Besni']\n"
          ]
        }
      ]
    },
    {
      "cell_type": "code",
      "source": [
        "print(raisin.to_numpy()) # cf. default, no include header"
      ],
      "metadata": {
        "colab": {
          "base_uri": "https://localhost:8080/"
        },
        "id": "SQH0GNdaaVcu",
        "outputId": "f9658a69-4d79-433f-8282-1eb1b9994d04"
      },
      "execution_count": 8,
      "outputs": [
        {
          "output_type": "stream",
          "name": "stdout",
          "text": [
            "[[87524 442.2460114 253.291155 ... 0.758650579 1184.04 'Kecimen']\n",
            " [75166 406.690687 243.0324363 ... 0.68412957 1121.786 'Kecimen']\n",
            " [90856 442.2670483 266.3283177 ... 0.637612812 1208.575 'Kecimen']\n",
            " ...\n",
            " [99657 431.7069809 298.8373229 ... 0.741098519 1292.828 'Besni']\n",
            " [93523 476.3440939 254.1760536 ... 0.658798253 1258.548 'Besni']\n",
            " [85609 512.0817743 215.2719758 ... 0.632019963 1272.862 'Besni']]\n"
          ]
        }
      ]
    },
    {
      "cell_type": "code",
      "source": [
        "raisin_input = raisin[['Area', 'MajorAxisLength', 'MinorAxisLength', 'Eccentricity', 'ConvexArea', 'Extent','Perimeter']].to_numpy()\n",
        "raisin_target = raisin['Class'].to_numpy()\n",
        "print(raisin_input[:3]) # standardization 필요한 것을 확인할 수 있음\n",
        "print(raisin_target[:3])"
      ],
      "metadata": {
        "colab": {
          "base_uri": "https://localhost:8080/"
        },
        "id": "BmcifVRriSeq",
        "outputId": "63e3b975-ccf3-46d3-8f13-06b3b5b8a9c0"
      },
      "execution_count": 9,
      "outputs": [
        {
          "output_type": "stream",
          "name": "stdout",
          "text": [
            "[[8.75240000e+04 4.42246011e+02 2.53291155e+02 8.19738392e-01\n",
            "  9.05460000e+04 7.58650579e-01 1.18404000e+03]\n",
            " [7.51660000e+04 4.06690687e+02 2.43032436e+02 8.01805234e-01\n",
            "  7.87890000e+04 6.84129570e-01 1.12178600e+03]\n",
            " [9.08560000e+04 4.42267048e+02 2.66328318e+02 7.98353619e-01\n",
            "  9.37170000e+04 6.37612812e-01 1.20857500e+03]]\n",
            "['Kecimen' 'Kecimen' 'Kecimen']\n"
          ]
        }
      ]
    },
    {
      "cell_type": "markdown",
      "source": [
        "이제 다음 작업을 수행한다.  \n",
        "* data set을 train set과 test으로 나누기\n",
        "* standardization"
      ],
      "metadata": {
        "id": "GFqx65WvnMFN"
      }
    },
    {
      "cell_type": "code",
      "source": [
        "from sklearn.model_selection import train_test_split\n",
        "\n",
        "# cf. default, suffle parameter=True, test_size=0.25, train_size=1-test_size\n",
        "train_input, test_input, train_target, test_target = train_test_split(\n",
        "    raisin_input, raisin_target\n",
        ")\n",
        "\n",
        "print(train_target.shape, test_target.shape) # cf. split ratio 0.75 : 0.25\n",
        "print(test_target[:10]) # cf. shuffle"
      ],
      "metadata": {
        "colab": {
          "base_uri": "https://localhost:8080/"
        },
        "id": "DDyXL_khnUrD",
        "outputId": "86d406f2-1797-4f09-ccaf-2eeda98473a3"
      },
      "execution_count": 10,
      "outputs": [
        {
          "output_type": "stream",
          "name": "stdout",
          "text": [
            "(675,) (225,)\n",
            "['Besni' 'Besni' 'Besni' 'Besni' 'Besni' 'Kecimen' 'Besni' 'Besni' 'Besni'\n",
            " 'Besni']\n"
          ]
        }
      ]
    },
    {
      "cell_type": "code",
      "source": [
        "from sklearn.preprocessing import StandardScaler\n",
        "\n",
        "ss = StandardScaler()\n",
        "ss.fit(train_input)\n",
        "train_scaled = ss.transform(train_input)\n",
        "test_scaled = ss.transform(test_input)\n",
        "\n",
        "print(train_scaled[:3]) # cf. standardization"
      ],
      "metadata": {
        "colab": {
          "base_uri": "https://localhost:8080/"
        },
        "id": "qBsY4zpWpGv3",
        "outputId": "310b836b-8c4b-4c0d-942f-bfac77241138"
      },
      "execution_count": 11,
      "outputs": [
        {
          "output_type": "stream",
          "name": "stdout",
          "text": [
            "[[-5.38741642e-04  1.03436963e-01  1.00395881e-01  3.14346186e-01\n",
            "  -2.33674430e-02 -6.00709224e-03  1.00342721e-01]\n",
            " [-2.59991169e-01  2.69014113e-01 -7.48881155e-01  1.11187880e+00\n",
            "  -2.82547708e-01 -7.75928715e-01 -8.31649275e-02]\n",
            " [ 1.32762301e+00  1.14913930e+00  1.28249772e+00  4.74187776e-01\n",
            "   1.30497522e+00 -4.15360195e-01  1.20367397e+00]]\n"
          ]
        }
      ]
    },
    {
      "cell_type": "markdown",
      "source": [
        "이제 다음 작업을 수행한다.  \n",
        "* Model training(fitting) by `fit()`\n",
        "* Model의 accuracy 확인 by `score()`"
      ],
      "metadata": {
        "id": "ox65O_D8qEBK"
      }
    },
    {
      "cell_type": "code",
      "source": [
        "from sklearn.neighbors import KNeighborsClassifier\n",
        "\n",
        "kn = KNeighborsClassifier()\n",
        "kn.fit(train_scaled, train_target)\n",
        "\n",
        "# underfitting이라고 판단할 수 있겠다.\n",
        "print(kn.score(train_scaled, train_target))\n",
        "print(kn.score(test_scaled, test_target))"
      ],
      "metadata": {
        "colab": {
          "base_uri": "https://localhost:8080/"
        },
        "id": "cxHipFoIqMOZ",
        "outputId": "968b5c01-fdf1-40de-ae45-25009252c1f9"
      },
      "execution_count": 30,
      "outputs": [
        {
          "output_type": "stream",
          "name": "stdout",
          "text": [
            "0.882962962962963\n",
            "0.8355555555555556\n"
          ]
        }
      ]
    },
    {
      "cell_type": "markdown",
      "source": [
        "이제 다음 작업을 수행한다.  \n",
        "* Solve the underfitting\n",
        "\n",
        "> fix, solve, handle, deal with 등의 용어를 사용할 수 있다.  \n",
        "  * [Link](https://www.linkedin.com/advice/0/how-can-you-fix-underfitting-deep-learning-optimization-jxjae)\n",
        "  How can you **fix** underfitting in deep learning optimization?\n",
        "  * [Link](https://allcloud.io/blog/how-to-solve-underfitting-and-overfitting-data-models/)\n",
        "  How to **Solve** Underfitting and Overfitting Data Models\n",
        "  * [Link](https://deepchecks.com/question/how-do-we-handle-overfitting-and-underfitting-in-a-machine-learning-model/) How do we **handle** overfitting and underfitting in a machine learning model?\n",
        "  * [Link](https://medium.com/@akshaykr.sharma19966/steps-to-deal-with-overfitting-and-underfitting-on-image-data-using-image-augmentation-87848ab06351)\n",
        "  Steps to **deal with** Overfitting and Underfitting on Image Data using Image Augmentation."
      ],
      "metadata": {
        "id": "PCeZ364LsSBV"
      }
    },
    {
      "cell_type": "markdown",
      "source": [
        "이때 underfitting의 원인에 따라 해결을 위한 접근방식을 다르게 취해야 한다.  \n",
        "underfitting의 원인은 다음과 같이 추정할 수 있다.  \n",
        "\n",
        "**common causes of underfitting**\n",
        "  * 적은 수의 training data\n",
        "  * 낮은 Complexity\n",
        "  * ...\n",
        "\n",
        "Model의 Complexity를 높이는 방법에는 여러 가지가 있다.  \n",
        "그 중 K-NN의 경우 **K**의 값을 줄여서 Complexity를 쉽게 높일 수 있다.\n",
        "> k의 값을 지정하는 `n_neighbors` parameter는 default 값이 5이다."
      ],
      "metadata": {
        "id": "eDIItuzEuXm5"
      }
    },
    {
      "cell_type": "code",
      "source": [
        "# 처음에 attribute 설정을 잘못해서 n_neighbors가 아닌, k_neighbors라고 입력함.\n",
        "# 이 경우 python은 k_neighbors라는 attribute를 새로 만든다.\n",
        "# del 명령으로 삭제가 가능\n",
        "# kn.k_neighbors = 3\n",
        "# del kn.k_neighbors\n",
        "\n",
        "kn.n_neighbors = 3\n",
        "kn.fit(train_scaled, train_target)\n",
        "\n",
        "print(kn.score(train_scaled, train_target))\n",
        "print(kn.score(test_scaled, test_target))"
      ],
      "metadata": {
        "colab": {
          "base_uri": "https://localhost:8080/"
        },
        "id": "kcIU6MzW8Yqb",
        "outputId": "71ae5f95-abcb-46e8-e7c5-9bba2aa6871b"
      },
      "execution_count": 31,
      "outputs": [
        {
          "output_type": "stream",
          "name": "stdout",
          "text": [
            "0.9022222222222223\n",
            "0.8266666666666667\n"
          ]
        }
      ]
    },
    {
      "cell_type": "markdown",
      "source": [
        "위 cell에서 n_neighbors의 수를 낮게 조정하여 model complexity를 높이려고 시도했다.  \n",
        "그 결과로 train set에 대한 score는 높아졌지만, test set에 대한 score는 더 낮아져서 여전히 underfitting인 상태이다.  \n",
        "다음 cell을 통해서 n_neighbors value 조정에 따른 train set과 test set의 score를 확인하자."
      ],
      "metadata": {
        "id": "oDPeorm--itz"
      }
    },
    {
      "cell_type": "code",
      "source": [
        "for n in range(2, 7):\n",
        "    kn.n_neighbors = n\n",
        "    kn.fit(train_scaled, train_target)\n",
        "    print(\">> n_neighbors is %d\" % n)\n",
        "    print(\"train set score: %f\" % kn.score(train_scaled, train_target))\n",
        "    print(\"test  set score: %f\\n\" % kn.score(test_scaled, test_target))\n",
        "\n",
        "kn.n_neighbors = 3"
      ],
      "metadata": {
        "colab": {
          "base_uri": "https://localhost:8080/"
        },
        "id": "eN7_y3v7_BJ7",
        "outputId": "daabb772-45e6-4e85-9266-e0fa50a1339b"
      },
      "execution_count": 35,
      "outputs": [
        {
          "output_type": "stream",
          "name": "stdout",
          "text": [
            ">> n_neighbors is 2\n",
            "train set score: 0.924444\n",
            "test  set score: 0.786667\n",
            "\n",
            ">> n_neighbors is 3\n",
            "train set score: 0.902222\n",
            "test  set score: 0.826667\n",
            "\n",
            ">> n_neighbors is 4\n",
            "train set score: 0.885926\n",
            "test  set score: 0.817778\n",
            "\n",
            ">> n_neighbors is 5\n",
            "train set score: 0.882963\n",
            "test  set score: 0.835556\n",
            "\n",
            ">> n_neighbors is 6\n",
            "train set score: 0.884444\n",
            "test  set score: 0.831111\n",
            "\n"
          ]
        }
      ]
    },
    {
      "cell_type": "markdown",
      "source": [
        "`n_neighbors`값은 3으로 놔두고, 이제 다른 방법으로 underfitting에 대한 해결을 시도하자.  \n",
        "두 번째로 시도할 방법은 `PolynomialFeatures()`를 이용해서 feature의 수를 늘리는 것이다.  \n",
        "`PolynomialFeatures` 클래스는 **original features**를 거듭 제곱 또는 서로 곱하여 **derived features**를 만든다.  \n",
        "해당 예제에서는 다음과 같이 구분할 수 있겠다.  \n",
        "* **original features**\n",
        "  - $ x_1 $: Area\n",
        "  - $ x_2 $: MajorAxisLength\n",
        "  - ...\n",
        "  - $ x_7 $: Perimeter\n",
        "* **derived features**\n",
        "  - $ x_1^2 $\n",
        "  - $ x_2^2 $\n",
        "  - ...\n",
        "  - $ x_1*x_2 $\n",
        "  - ..."
      ],
      "metadata": {
        "id": "eK9vbybEAY5-"
      }
    },
    {
      "cell_type": "code",
      "source": [
        "from sklearn.preprocessing import PolynomialFeatures\n",
        "\n",
        "# default, degree=2, interaction_only=False\n",
        "# degree는 최대 차수 지정 x_0^2와 x_0*x_1 모두 degree=2\n",
        "# interaction_only는 True이면 거듭제곱은 하지 않음\n",
        "poly = PolynomialFeatures(degree=2, interaction_only=False)\n",
        "poly.fit(train_scaled)\n",
        "train_poly = poly.transform(train_scaled)\n",
        "test_poly = poly.transform(test_scaled)\n",
        "\n",
        "print(train_poly.shape)\n",
        "print(poly.get_feature_names_out())"
      ],
      "metadata": {
        "colab": {
          "base_uri": "https://localhost:8080/"
        },
        "id": "PBbHZjpuCpHK",
        "outputId": "b485a1ff-d796-476c-c50b-87f392ed670e"
      },
      "execution_count": 49,
      "outputs": [
        {
          "output_type": "stream",
          "name": "stdout",
          "text": [
            "(675, 36)\n",
            "['1' 'x0' 'x1' 'x2' 'x3' 'x4' 'x5' 'x6' 'x0^2' 'x0 x1' 'x0 x2' 'x0 x3'\n",
            " 'x0 x4' 'x0 x5' 'x0 x6' 'x1^2' 'x1 x2' 'x1 x3' 'x1 x4' 'x1 x5' 'x1 x6'\n",
            " 'x2^2' 'x2 x3' 'x2 x4' 'x2 x5' 'x2 x6' 'x3^2' 'x3 x4' 'x3 x5' 'x3 x6'\n",
            " 'x4^2' 'x4 x5' 'x4 x6' 'x5^2' 'x5 x6' 'x6^2']\n"
          ]
        }
      ]
    },
    {
      "cell_type": "code",
      "source": [
        "kn.fit(train_poly, train_target)\n",
        "\n",
        "print(kn.score(train_poly, train_target))\n",
        "print(kn.score(test_poly, test_target))"
      ],
      "metadata": {
        "colab": {
          "base_uri": "https://localhost:8080/"
        },
        "id": "rtXPRJKVDmtl",
        "outputId": "bec86cd4-e844-4cb0-fe33-7aa9b762d7f8"
      },
      "execution_count": 50,
      "outputs": [
        {
          "output_type": "stream",
          "name": "stdout",
          "text": [
            "0.9037037037037037\n",
            "0.8444444444444444\n"
          ]
        }
      ]
    },
    {
      "cell_type": "code",
      "source": [
        "for n in range(2, 7):\n",
        "    kn.n_neighbors = n\n",
        "    kn.fit(train_poly, train_target)\n",
        "    print(\">> n_neighbors is %d\" % n)\n",
        "    print(\"train set score: %f\" % kn.score(train_poly, train_target))\n",
        "    print(\"test  set score: %f\\n\" % kn.score(test_poly, test_target))"
      ],
      "metadata": {
        "colab": {
          "base_uri": "https://localhost:8080/"
        },
        "id": "tDpckI8JGEfm",
        "outputId": "d22c9764-f548-464f-83fa-5ffb4474c4d9"
      },
      "execution_count": 51,
      "outputs": [
        {
          "output_type": "stream",
          "name": "stdout",
          "text": [
            ">> n_neighbors is 2\n",
            "train set score: 0.920000\n",
            "test  set score: 0.795556\n",
            "\n",
            ">> n_neighbors is 3\n",
            "train set score: 0.903704\n",
            "test  set score: 0.844444\n",
            "\n",
            ">> n_neighbors is 4\n",
            "train set score: 0.885926\n",
            "test  set score: 0.822222\n",
            "\n",
            ">> n_neighbors is 5\n",
            "train set score: 0.890370\n",
            "test  set score: 0.822222\n",
            "\n",
            ">> n_neighbors is 6\n",
            "train set score: 0.880000\n",
            "test  set score: 0.822222\n",
            "\n"
          ]
        }
      ]
    },
    {
      "cell_type": "markdown",
      "source": [
        "지금까지 **`StandardScaler()`**와 **`n_neighbors`**, **`PolynomialFeatures()`**를 사용해서 model의 accuracy를 높이려는 시도를 했다.  \n",
        "최종적으로 다음과 같이 정리할 수 있겠다.  \n",
        "\n",
        "**standardization to Z-Score**, **n_neighbors=3**, **features=36**(original=7, derived=29)\n",
        "* train set accuracy: 0.903704\n",
        "* test  set accuracy: 0.844444"
      ],
      "metadata": {
        "id": "-p4COySmHMec"
      }
    },
    {
      "cell_type": "markdown",
      "source": [
        "# References\n",
        "[1] CINAR I., KOKLU M. and TASDEMIR S., (2020), Classification of Raisin Grains Using Machine Vision and Artificial Intelligence Methods. Gazi Journal of Engineering Sciences, vol. 6, no. 3, pp. 200-209, December, 2020."
      ],
      "metadata": {
        "id": "2p0AcQuMRgWD"
      }
    }
  ]
}