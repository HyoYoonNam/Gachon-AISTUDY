{
  "nbformat": 4,
  "nbformat_minor": 0,
  "metadata": {
    "colab": {
      "provenance": [],
      "collapsed_sections": [
        "NGbojenaWNdf",
        "S-qp_0M_Xs_i"
      ],
      "authorship_tag": "ABX9TyMr75ZBwHHlamTohTR7Knoa",
      "include_colab_link": true
    },
    "kernelspec": {
      "name": "python3",
      "display_name": "Python 3"
    },
    "language_info": {
      "name": "python"
    }
  },
  "cells": [
    {
      "cell_type": "markdown",
      "metadata": {
        "id": "view-in-github",
        "colab_type": "text"
      },
      "source": [
        "<a href=\"https://colab.research.google.com/github/rudevico/Gachon-AISTUDY/blob/main/UCI_raisin_Classifications.ipynb\" target=\"_parent\"><img src=\"https://colab.research.google.com/assets/colab-badge.svg\" alt=\"Open In Colab\"/></a>"
      ]
    },
    {
      "cell_type": "markdown",
      "source": [
        "# 0. Introdction\n",
        "* [Download sample data set: Raisin](https://archive.ics.uci.edu/dataset/850/raisin) (CINAR I., KOKLU M. and TASDEMIR S., 2020)[1]\n",
        "\n",
        "UCI Macine Learning Repository의 Raisin(; 건포도) data set을 사용해서 5가지 타입의 분류를 수행한다.  \n",
        "또한 그 중에서도 우선 **Binary Classification**에 대해서만 수행한다.\n",
        "\n",
        "**types of Classification algorithms that we use**  \n",
        "* #1. K-Nearest Neighbors; K-NN\n",
        "* #2. Logistic Regression; LR\n",
        "* #3. Decision Tree; DT\n",
        "* #4. Random Forest; RF\n",
        "* #5. Support Vector Machine; SVM"
      ],
      "metadata": {
        "id": "vh5QbSbIQa_p"
      }
    },
    {
      "cell_type": "markdown",
      "source": [
        "## 0. 1. How to Upload & Load file to google colab\n",
        "[ref1. google colab에서 file 사용하기](https://teki.tistory.com/29)  \n",
        "[ref2. colab에 csv 파일 불러오기](https://resultofeffort.tistory.com/60)  \n",
        "\n",
        "다음 cell에서 google colab의 default working directory를 확인할 수 있다.  \n",
        "또한 기본적으로 `files.upload()`를 통해 업로드한 파일은 working directory에 저장된다."
      ],
      "metadata": {
        "id": "8QKqn6C4d17M"
      }
    },
    {
      "cell_type": "code",
      "source": [
        "import os\n",
        "\n",
        "# in colab, default working directory is /content\n",
        "print(os.popen('pwd').read())"
      ],
      "metadata": {
        "colab": {
          "base_uri": "https://localhost:8080/"
        },
        "id": "0DoI49uwbwOO",
        "outputId": "6eab37db-c431-453f-af5f-c7c2f1d9c98e"
      },
      "execution_count": null,
      "outputs": [
        {
          "output_type": "stream",
          "name": "stdout",
          "text": [
            "/content\n",
            "\n"
          ]
        }
      ]
    },
    {
      "cell_type": "code",
      "source": [
        "from google.colab import files\n",
        "\n",
        "uploaded = files.upload()"
      ],
      "metadata": {
        "colab": {
          "base_uri": "https://localhost:8080/",
          "height": 74
        },
        "id": "rK96K_UdZFLD",
        "outputId": "f9fec91b-4410-49e7-9b40-a4f2e7c0adb1"
      },
      "execution_count": 1,
      "outputs": [
        {
          "output_type": "display_data",
          "data": {
            "text/plain": [
              "<IPython.core.display.HTML object>"
            ],
            "text/html": [
              "\n",
              "     <input type=\"file\" id=\"files-a228be21-9d9c-4836-80b3-852801e1b53e\" name=\"files[]\" multiple disabled\n",
              "        style=\"border:none\" />\n",
              "     <output id=\"result-a228be21-9d9c-4836-80b3-852801e1b53e\">\n",
              "      Upload widget is only available when the cell has been executed in the\n",
              "      current browser session. Please rerun this cell to enable.\n",
              "      </output>\n",
              "      <script>// Copyright 2017 Google LLC\n",
              "//\n",
              "// Licensed under the Apache License, Version 2.0 (the \"License\");\n",
              "// you may not use this file except in compliance with the License.\n",
              "// You may obtain a copy of the License at\n",
              "//\n",
              "//      http://www.apache.org/licenses/LICENSE-2.0\n",
              "//\n",
              "// Unless required by applicable law or agreed to in writing, software\n",
              "// distributed under the License is distributed on an \"AS IS\" BASIS,\n",
              "// WITHOUT WARRANTIES OR CONDITIONS OF ANY KIND, either express or implied.\n",
              "// See the License for the specific language governing permissions and\n",
              "// limitations under the License.\n",
              "\n",
              "/**\n",
              " * @fileoverview Helpers for google.colab Python module.\n",
              " */\n",
              "(function(scope) {\n",
              "function span(text, styleAttributes = {}) {\n",
              "  const element = document.createElement('span');\n",
              "  element.textContent = text;\n",
              "  for (const key of Object.keys(styleAttributes)) {\n",
              "    element.style[key] = styleAttributes[key];\n",
              "  }\n",
              "  return element;\n",
              "}\n",
              "\n",
              "// Max number of bytes which will be uploaded at a time.\n",
              "const MAX_PAYLOAD_SIZE = 100 * 1024;\n",
              "\n",
              "function _uploadFiles(inputId, outputId) {\n",
              "  const steps = uploadFilesStep(inputId, outputId);\n",
              "  const outputElement = document.getElementById(outputId);\n",
              "  // Cache steps on the outputElement to make it available for the next call\n",
              "  // to uploadFilesContinue from Python.\n",
              "  outputElement.steps = steps;\n",
              "\n",
              "  return _uploadFilesContinue(outputId);\n",
              "}\n",
              "\n",
              "// This is roughly an async generator (not supported in the browser yet),\n",
              "// where there are multiple asynchronous steps and the Python side is going\n",
              "// to poll for completion of each step.\n",
              "// This uses a Promise to block the python side on completion of each step,\n",
              "// then passes the result of the previous step as the input to the next step.\n",
              "function _uploadFilesContinue(outputId) {\n",
              "  const outputElement = document.getElementById(outputId);\n",
              "  const steps = outputElement.steps;\n",
              "\n",
              "  const next = steps.next(outputElement.lastPromiseValue);\n",
              "  return Promise.resolve(next.value.promise).then((value) => {\n",
              "    // Cache the last promise value to make it available to the next\n",
              "    // step of the generator.\n",
              "    outputElement.lastPromiseValue = value;\n",
              "    return next.value.response;\n",
              "  });\n",
              "}\n",
              "\n",
              "/**\n",
              " * Generator function which is called between each async step of the upload\n",
              " * process.\n",
              " * @param {string} inputId Element ID of the input file picker element.\n",
              " * @param {string} outputId Element ID of the output display.\n",
              " * @return {!Iterable<!Object>} Iterable of next steps.\n",
              " */\n",
              "function* uploadFilesStep(inputId, outputId) {\n",
              "  const inputElement = document.getElementById(inputId);\n",
              "  inputElement.disabled = false;\n",
              "\n",
              "  const outputElement = document.getElementById(outputId);\n",
              "  outputElement.innerHTML = '';\n",
              "\n",
              "  const pickedPromise = new Promise((resolve) => {\n",
              "    inputElement.addEventListener('change', (e) => {\n",
              "      resolve(e.target.files);\n",
              "    });\n",
              "  });\n",
              "\n",
              "  const cancel = document.createElement('button');\n",
              "  inputElement.parentElement.appendChild(cancel);\n",
              "  cancel.textContent = 'Cancel upload';\n",
              "  const cancelPromise = new Promise((resolve) => {\n",
              "    cancel.onclick = () => {\n",
              "      resolve(null);\n",
              "    };\n",
              "  });\n",
              "\n",
              "  // Wait for the user to pick the files.\n",
              "  const files = yield {\n",
              "    promise: Promise.race([pickedPromise, cancelPromise]),\n",
              "    response: {\n",
              "      action: 'starting',\n",
              "    }\n",
              "  };\n",
              "\n",
              "  cancel.remove();\n",
              "\n",
              "  // Disable the input element since further picks are not allowed.\n",
              "  inputElement.disabled = true;\n",
              "\n",
              "  if (!files) {\n",
              "    return {\n",
              "      response: {\n",
              "        action: 'complete',\n",
              "      }\n",
              "    };\n",
              "  }\n",
              "\n",
              "  for (const file of files) {\n",
              "    const li = document.createElement('li');\n",
              "    li.append(span(file.name, {fontWeight: 'bold'}));\n",
              "    li.append(span(\n",
              "        `(${file.type || 'n/a'}) - ${file.size} bytes, ` +\n",
              "        `last modified: ${\n",
              "            file.lastModifiedDate ? file.lastModifiedDate.toLocaleDateString() :\n",
              "                                    'n/a'} - `));\n",
              "    const percent = span('0% done');\n",
              "    li.appendChild(percent);\n",
              "\n",
              "    outputElement.appendChild(li);\n",
              "\n",
              "    const fileDataPromise = new Promise((resolve) => {\n",
              "      const reader = new FileReader();\n",
              "      reader.onload = (e) => {\n",
              "        resolve(e.target.result);\n",
              "      };\n",
              "      reader.readAsArrayBuffer(file);\n",
              "    });\n",
              "    // Wait for the data to be ready.\n",
              "    let fileData = yield {\n",
              "      promise: fileDataPromise,\n",
              "      response: {\n",
              "        action: 'continue',\n",
              "      }\n",
              "    };\n",
              "\n",
              "    // Use a chunked sending to avoid message size limits. See b/62115660.\n",
              "    let position = 0;\n",
              "    do {\n",
              "      const length = Math.min(fileData.byteLength - position, MAX_PAYLOAD_SIZE);\n",
              "      const chunk = new Uint8Array(fileData, position, length);\n",
              "      position += length;\n",
              "\n",
              "      const base64 = btoa(String.fromCharCode.apply(null, chunk));\n",
              "      yield {\n",
              "        response: {\n",
              "          action: 'append',\n",
              "          file: file.name,\n",
              "          data: base64,\n",
              "        },\n",
              "      };\n",
              "\n",
              "      let percentDone = fileData.byteLength === 0 ?\n",
              "          100 :\n",
              "          Math.round((position / fileData.byteLength) * 100);\n",
              "      percent.textContent = `${percentDone}% done`;\n",
              "\n",
              "    } while (position < fileData.byteLength);\n",
              "  }\n",
              "\n",
              "  // All done.\n",
              "  yield {\n",
              "    response: {\n",
              "      action: 'complete',\n",
              "    }\n",
              "  };\n",
              "}\n",
              "\n",
              "scope.google = scope.google || {};\n",
              "scope.google.colab = scope.google.colab || {};\n",
              "scope.google.colab._files = {\n",
              "  _uploadFiles,\n",
              "  _uploadFilesContinue,\n",
              "};\n",
              "})(self);\n",
              "</script> "
            ]
          },
          "metadata": {}
        },
        {
          "output_type": "stream",
          "name": "stdout",
          "text": [
            "Saving Raisin_Dataset.xlsx to Raisin_Dataset.xlsx\n"
          ]
        }
      ]
    },
    {
      "cell_type": "markdown",
      "source": [
        "# 1. K-Nearest Neighbors; K-NN\n",
        "\n",
        "\n"
      ],
      "metadata": {
        "id": "NGbojenaWNdf"
      }
    },
    {
      "cell_type": "markdown",
      "source": [
        "[cf. manual of pandas.read_excel](https://pandas.pydata.org/docs/reference/api/pandas.read_excel.html)"
      ],
      "metadata": {
        "id": "rp87vtb5fU1H"
      }
    },
    {
      "cell_type": "code",
      "source": [
        "import pandas as pd\n",
        "\n",
        "# df = pd.read_excel('./Raisin_Dataset.xlsx', header=None)\n",
        "# df = pd.read_excel('./Raisin_Dataset.xlsx', header=1)\n",
        "raisin = pd.read_excel('./Raisin_Dataset.xlsx', header=0) # cf. header parameter default = 0\n",
        "raisin.head()"
      ],
      "metadata": {
        "colab": {
          "base_uri": "https://localhost:8080/",
          "height": 206
        },
        "id": "SxV8IVwIXANU",
        "outputId": "d3754379-6ce4-438e-e300-951a62b2696d"
      },
      "execution_count": null,
      "outputs": [
        {
          "output_type": "execute_result",
          "data": {
            "text/plain": [
              "    Area  MajorAxisLength  MinorAxisLength  Eccentricity  ConvexArea  \\\n",
              "0  87524       442.246011       253.291155      0.819738       90546   \n",
              "1  75166       406.690687       243.032436      0.801805       78789   \n",
              "2  90856       442.267048       266.328318      0.798354       93717   \n",
              "3  45928       286.540559       208.760042      0.684989       47336   \n",
              "4  79408       352.190770       290.827533      0.564011       81463   \n",
              "\n",
              "     Extent  Perimeter    Class  \n",
              "0  0.758651   1184.040  Kecimen  \n",
              "1  0.684130   1121.786  Kecimen  \n",
              "2  0.637613   1208.575  Kecimen  \n",
              "3  0.699599    844.162  Kecimen  \n",
              "4  0.792772   1073.251  Kecimen  "
            ],
            "text/html": [
              "\n",
              "  <div id=\"df-6ffd1caf-9b64-40cd-9bb1-04272416cc58\" class=\"colab-df-container\">\n",
              "    <div>\n",
              "<style scoped>\n",
              "    .dataframe tbody tr th:only-of-type {\n",
              "        vertical-align: middle;\n",
              "    }\n",
              "\n",
              "    .dataframe tbody tr th {\n",
              "        vertical-align: top;\n",
              "    }\n",
              "\n",
              "    .dataframe thead th {\n",
              "        text-align: right;\n",
              "    }\n",
              "</style>\n",
              "<table border=\"1\" class=\"dataframe\">\n",
              "  <thead>\n",
              "    <tr style=\"text-align: right;\">\n",
              "      <th></th>\n",
              "      <th>Area</th>\n",
              "      <th>MajorAxisLength</th>\n",
              "      <th>MinorAxisLength</th>\n",
              "      <th>Eccentricity</th>\n",
              "      <th>ConvexArea</th>\n",
              "      <th>Extent</th>\n",
              "      <th>Perimeter</th>\n",
              "      <th>Class</th>\n",
              "    </tr>\n",
              "  </thead>\n",
              "  <tbody>\n",
              "    <tr>\n",
              "      <th>0</th>\n",
              "      <td>87524</td>\n",
              "      <td>442.246011</td>\n",
              "      <td>253.291155</td>\n",
              "      <td>0.819738</td>\n",
              "      <td>90546</td>\n",
              "      <td>0.758651</td>\n",
              "      <td>1184.040</td>\n",
              "      <td>Kecimen</td>\n",
              "    </tr>\n",
              "    <tr>\n",
              "      <th>1</th>\n",
              "      <td>75166</td>\n",
              "      <td>406.690687</td>\n",
              "      <td>243.032436</td>\n",
              "      <td>0.801805</td>\n",
              "      <td>78789</td>\n",
              "      <td>0.684130</td>\n",
              "      <td>1121.786</td>\n",
              "      <td>Kecimen</td>\n",
              "    </tr>\n",
              "    <tr>\n",
              "      <th>2</th>\n",
              "      <td>90856</td>\n",
              "      <td>442.267048</td>\n",
              "      <td>266.328318</td>\n",
              "      <td>0.798354</td>\n",
              "      <td>93717</td>\n",
              "      <td>0.637613</td>\n",
              "      <td>1208.575</td>\n",
              "      <td>Kecimen</td>\n",
              "    </tr>\n",
              "    <tr>\n",
              "      <th>3</th>\n",
              "      <td>45928</td>\n",
              "      <td>286.540559</td>\n",
              "      <td>208.760042</td>\n",
              "      <td>0.684989</td>\n",
              "      <td>47336</td>\n",
              "      <td>0.699599</td>\n",
              "      <td>844.162</td>\n",
              "      <td>Kecimen</td>\n",
              "    </tr>\n",
              "    <tr>\n",
              "      <th>4</th>\n",
              "      <td>79408</td>\n",
              "      <td>352.190770</td>\n",
              "      <td>290.827533</td>\n",
              "      <td>0.564011</td>\n",
              "      <td>81463</td>\n",
              "      <td>0.792772</td>\n",
              "      <td>1073.251</td>\n",
              "      <td>Kecimen</td>\n",
              "    </tr>\n",
              "  </tbody>\n",
              "</table>\n",
              "</div>\n",
              "    <div class=\"colab-df-buttons\">\n",
              "\n",
              "  <div class=\"colab-df-container\">\n",
              "    <button class=\"colab-df-convert\" onclick=\"convertToInteractive('df-6ffd1caf-9b64-40cd-9bb1-04272416cc58')\"\n",
              "            title=\"Convert this dataframe to an interactive table.\"\n",
              "            style=\"display:none;\">\n",
              "\n",
              "  <svg xmlns=\"http://www.w3.org/2000/svg\" height=\"24px\" viewBox=\"0 -960 960 960\">\n",
              "    <path d=\"M120-120v-720h720v720H120Zm60-500h600v-160H180v160Zm220 220h160v-160H400v160Zm0 220h160v-160H400v160ZM180-400h160v-160H180v160Zm440 0h160v-160H620v160ZM180-180h160v-160H180v160Zm440 0h160v-160H620v160Z\"/>\n",
              "  </svg>\n",
              "    </button>\n",
              "\n",
              "  <style>\n",
              "    .colab-df-container {\n",
              "      display:flex;\n",
              "      gap: 12px;\n",
              "    }\n",
              "\n",
              "    .colab-df-convert {\n",
              "      background-color: #E8F0FE;\n",
              "      border: none;\n",
              "      border-radius: 50%;\n",
              "      cursor: pointer;\n",
              "      display: none;\n",
              "      fill: #1967D2;\n",
              "      height: 32px;\n",
              "      padding: 0 0 0 0;\n",
              "      width: 32px;\n",
              "    }\n",
              "\n",
              "    .colab-df-convert:hover {\n",
              "      background-color: #E2EBFA;\n",
              "      box-shadow: 0px 1px 2px rgba(60, 64, 67, 0.3), 0px 1px 3px 1px rgba(60, 64, 67, 0.15);\n",
              "      fill: #174EA6;\n",
              "    }\n",
              "\n",
              "    .colab-df-buttons div {\n",
              "      margin-bottom: 4px;\n",
              "    }\n",
              "\n",
              "    [theme=dark] .colab-df-convert {\n",
              "      background-color: #3B4455;\n",
              "      fill: #D2E3FC;\n",
              "    }\n",
              "\n",
              "    [theme=dark] .colab-df-convert:hover {\n",
              "      background-color: #434B5C;\n",
              "      box-shadow: 0px 1px 3px 1px rgba(0, 0, 0, 0.15);\n",
              "      filter: drop-shadow(0px 1px 2px rgba(0, 0, 0, 0.3));\n",
              "      fill: #FFFFFF;\n",
              "    }\n",
              "  </style>\n",
              "\n",
              "    <script>\n",
              "      const buttonEl =\n",
              "        document.querySelector('#df-6ffd1caf-9b64-40cd-9bb1-04272416cc58 button.colab-df-convert');\n",
              "      buttonEl.style.display =\n",
              "        google.colab.kernel.accessAllowed ? 'block' : 'none';\n",
              "\n",
              "      async function convertToInteractive(key) {\n",
              "        const element = document.querySelector('#df-6ffd1caf-9b64-40cd-9bb1-04272416cc58');\n",
              "        const dataTable =\n",
              "          await google.colab.kernel.invokeFunction('convertToInteractive',\n",
              "                                                    [key], {});\n",
              "        if (!dataTable) return;\n",
              "\n",
              "        const docLinkHtml = 'Like what you see? Visit the ' +\n",
              "          '<a target=\"_blank\" href=https://colab.research.google.com/notebooks/data_table.ipynb>data table notebook</a>'\n",
              "          + ' to learn more about interactive tables.';\n",
              "        element.innerHTML = '';\n",
              "        dataTable['output_type'] = 'display_data';\n",
              "        await google.colab.output.renderOutput(dataTable, element);\n",
              "        const docLink = document.createElement('div');\n",
              "        docLink.innerHTML = docLinkHtml;\n",
              "        element.appendChild(docLink);\n",
              "      }\n",
              "    </script>\n",
              "  </div>\n",
              "\n",
              "\n",
              "<div id=\"df-8527d462-4bd3-4cd7-b8d2-0a6ec76b2647\">\n",
              "  <button class=\"colab-df-quickchart\" onclick=\"quickchart('df-8527d462-4bd3-4cd7-b8d2-0a6ec76b2647')\"\n",
              "            title=\"Suggest charts\"\n",
              "            style=\"display:none;\">\n",
              "\n",
              "<svg xmlns=\"http://www.w3.org/2000/svg\" height=\"24px\"viewBox=\"0 0 24 24\"\n",
              "     width=\"24px\">\n",
              "    <g>\n",
              "        <path d=\"M19 3H5c-1.1 0-2 .9-2 2v14c0 1.1.9 2 2 2h14c1.1 0 2-.9 2-2V5c0-1.1-.9-2-2-2zM9 17H7v-7h2v7zm4 0h-2V7h2v10zm4 0h-2v-4h2v4z\"/>\n",
              "    </g>\n",
              "</svg>\n",
              "  </button>\n",
              "\n",
              "<style>\n",
              "  .colab-df-quickchart {\n",
              "      --bg-color: #E8F0FE;\n",
              "      --fill-color: #1967D2;\n",
              "      --hover-bg-color: #E2EBFA;\n",
              "      --hover-fill-color: #174EA6;\n",
              "      --disabled-fill-color: #AAA;\n",
              "      --disabled-bg-color: #DDD;\n",
              "  }\n",
              "\n",
              "  [theme=dark] .colab-df-quickchart {\n",
              "      --bg-color: #3B4455;\n",
              "      --fill-color: #D2E3FC;\n",
              "      --hover-bg-color: #434B5C;\n",
              "      --hover-fill-color: #FFFFFF;\n",
              "      --disabled-bg-color: #3B4455;\n",
              "      --disabled-fill-color: #666;\n",
              "  }\n",
              "\n",
              "  .colab-df-quickchart {\n",
              "    background-color: var(--bg-color);\n",
              "    border: none;\n",
              "    border-radius: 50%;\n",
              "    cursor: pointer;\n",
              "    display: none;\n",
              "    fill: var(--fill-color);\n",
              "    height: 32px;\n",
              "    padding: 0;\n",
              "    width: 32px;\n",
              "  }\n",
              "\n",
              "  .colab-df-quickchart:hover {\n",
              "    background-color: var(--hover-bg-color);\n",
              "    box-shadow: 0 1px 2px rgba(60, 64, 67, 0.3), 0 1px 3px 1px rgba(60, 64, 67, 0.15);\n",
              "    fill: var(--button-hover-fill-color);\n",
              "  }\n",
              "\n",
              "  .colab-df-quickchart-complete:disabled,\n",
              "  .colab-df-quickchart-complete:disabled:hover {\n",
              "    background-color: var(--disabled-bg-color);\n",
              "    fill: var(--disabled-fill-color);\n",
              "    box-shadow: none;\n",
              "  }\n",
              "\n",
              "  .colab-df-spinner {\n",
              "    border: 2px solid var(--fill-color);\n",
              "    border-color: transparent;\n",
              "    border-bottom-color: var(--fill-color);\n",
              "    animation:\n",
              "      spin 1s steps(1) infinite;\n",
              "  }\n",
              "\n",
              "  @keyframes spin {\n",
              "    0% {\n",
              "      border-color: transparent;\n",
              "      border-bottom-color: var(--fill-color);\n",
              "      border-left-color: var(--fill-color);\n",
              "    }\n",
              "    20% {\n",
              "      border-color: transparent;\n",
              "      border-left-color: var(--fill-color);\n",
              "      border-top-color: var(--fill-color);\n",
              "    }\n",
              "    30% {\n",
              "      border-color: transparent;\n",
              "      border-left-color: var(--fill-color);\n",
              "      border-top-color: var(--fill-color);\n",
              "      border-right-color: var(--fill-color);\n",
              "    }\n",
              "    40% {\n",
              "      border-color: transparent;\n",
              "      border-right-color: var(--fill-color);\n",
              "      border-top-color: var(--fill-color);\n",
              "    }\n",
              "    60% {\n",
              "      border-color: transparent;\n",
              "      border-right-color: var(--fill-color);\n",
              "    }\n",
              "    80% {\n",
              "      border-color: transparent;\n",
              "      border-right-color: var(--fill-color);\n",
              "      border-bottom-color: var(--fill-color);\n",
              "    }\n",
              "    90% {\n",
              "      border-color: transparent;\n",
              "      border-bottom-color: var(--fill-color);\n",
              "    }\n",
              "  }\n",
              "</style>\n",
              "\n",
              "  <script>\n",
              "    async function quickchart(key) {\n",
              "      const quickchartButtonEl =\n",
              "        document.querySelector('#' + key + ' button');\n",
              "      quickchartButtonEl.disabled = true;  // To prevent multiple clicks.\n",
              "      quickchartButtonEl.classList.add('colab-df-spinner');\n",
              "      try {\n",
              "        const charts = await google.colab.kernel.invokeFunction(\n",
              "            'suggestCharts', [key], {});\n",
              "      } catch (error) {\n",
              "        console.error('Error during call to suggestCharts:', error);\n",
              "      }\n",
              "      quickchartButtonEl.classList.remove('colab-df-spinner');\n",
              "      quickchartButtonEl.classList.add('colab-df-quickchart-complete');\n",
              "    }\n",
              "    (() => {\n",
              "      let quickchartButtonEl =\n",
              "        document.querySelector('#df-8527d462-4bd3-4cd7-b8d2-0a6ec76b2647 button');\n",
              "      quickchartButtonEl.style.display =\n",
              "        google.colab.kernel.accessAllowed ? 'block' : 'none';\n",
              "    })();\n",
              "  </script>\n",
              "</div>\n",
              "\n",
              "    </div>\n",
              "  </div>\n"
            ],
            "application/vnd.google.colaboratory.intrinsic+json": {
              "type": "dataframe",
              "variable_name": "raisin",
              "summary": "{\n  \"name\": \"raisin\",\n  \"rows\": 900,\n  \"fields\": [\n    {\n      \"column\": \"Area\",\n      \"properties\": {\n        \"dtype\": \"number\",\n        \"std\": 39002,\n        \"min\": 25387,\n        \"max\": 235047,\n        \"num_unique_values\": 900,\n        \"samples\": [\n          95347,\n          61861,\n          52693\n        ],\n        \"semantic_type\": \"\",\n        \"description\": \"\"\n      }\n    },\n    {\n      \"column\": \"MajorAxisLength\",\n      \"properties\": {\n        \"dtype\": \"number\",\n        \"std\": 116.03512062468943,\n        \"min\": 225.629541,\n        \"max\": 997.2919406,\n        \"num_unique_values\": 900,\n        \"samples\": [\n          451.5261542,\n          345.9436498,\n          283.5042387\n        ],\n        \"semantic_type\": \"\",\n        \"description\": \"\"\n      }\n    },\n    {\n      \"column\": \"MinorAxisLength\",\n      \"properties\": {\n        \"dtype\": \"number\",\n        \"std\": 49.98890170571764,\n        \"min\": 143.7108718,\n        \"max\": 492.2752785,\n        \"num_unique_values\": 900,\n        \"samples\": [\n          280.2261534,\n          235.4304678,\n          242.1139544\n        ],\n        \"semantic_type\": \"\",\n        \"description\": \"\"\n      }\n    },\n    {\n      \"column\": \"Eccentricity\",\n      \"properties\": {\n        \"dtype\": \"number\",\n        \"std\": 0.09031840993160666,\n        \"min\": 0.348729642,\n        \"max\": 0.96212444,\n        \"num_unique_values\": 900,\n        \"samples\": [\n          0.784111496,\n          0.732705625,\n          0.520265279\n        ],\n        \"semantic_type\": \"\",\n        \"description\": \"\"\n      }\n    },\n    {\n      \"column\": \"ConvexArea\",\n      \"properties\": {\n        \"dtype\": \"number\",\n        \"std\": 40769,\n        \"min\": 26139,\n        \"max\": 278217,\n        \"num_unique_values\": 896,\n        \"samples\": [\n          89794,\n          71336,\n          120657\n        ],\n        \"semantic_type\": \"\",\n        \"description\": \"\"\n      }\n    },\n    {\n      \"column\": \"Extent\",\n      \"properties\": {\n        \"dtype\": \"number\",\n        \"std\": 0.053468200288159295,\n        \"min\": 0.379856115,\n        \"max\": 0.835454545,\n        \"num_unique_values\": 900,\n        \"samples\": [\n          0.674956111,\n          0.70227959,\n          0.737749216\n        ],\n        \"semantic_type\": \"\",\n        \"description\": \"\"\n      }\n    },\n    {\n      \"column\": \"Perimeter\",\n      \"properties\": {\n        \"dtype\": \"number\",\n        \"std\": 273.7643154160196,\n        \"min\": 619.074,\n        \"max\": 2697.753,\n        \"num_unique_values\": 900,\n        \"samples\": [\n          1255.245,\n          1063.621,\n          895.745\n        ],\n        \"semantic_type\": \"\",\n        \"description\": \"\"\n      }\n    },\n    {\n      \"column\": \"Class\",\n      \"properties\": {\n        \"dtype\": \"category\",\n        \"num_unique_values\": 2,\n        \"samples\": [\n          \"Besni\",\n          \"Kecimen\"\n        ],\n        \"semantic_type\": \"\",\n        \"description\": \"\"\n      }\n    }\n  ]\n}"
            }
          },
          "metadata": {},
          "execution_count": 2
        }
      ]
    },
    {
      "cell_type": "code",
      "source": [
        "print(raisin.shape) # cf. 900 rows, 8 columns"
      ],
      "metadata": {
        "colab": {
          "base_uri": "https://localhost:8080/"
        },
        "id": "DTooHrPtkNO7",
        "outputId": "3a196994-150a-4168-fc28-3ca412d70635"
      },
      "execution_count": null,
      "outputs": [
        {
          "output_type": "stream",
          "name": "stdout",
          "text": [
            "(900, 8)\n"
          ]
        }
      ]
    },
    {
      "cell_type": "markdown",
      "source": [
        "해당 실습에서는 Classification을 진행하므로 다음과 같이 구분할 수 있겠다.  \n",
        "* 900개의 **data instances**\n",
        "* 7개의 **features**(Area, MajorAxisLength, ..., Perimeter) -> 수학에서의 *independent variables*\n",
        "* 1개의 **label**(Class) -> 수학에서의 *dependent variable*\n",
        "\n",
        "또한 다음 cell과 같이 Class에 어떤 종류가 있는지 확인할 수 있다."
      ],
      "metadata": {
        "id": "xkOJ86Gmj4l0"
      }
    },
    {
      "cell_type": "code",
      "source": [
        "print(raisin['Class'].unique()) # cf. pandas dataframe에서의 unique 출력 방법(1)\n",
        "print(pd.unique(raisin['Class'])) # cf. pandas dataframe에서의 unique 출력 방법(2)"
      ],
      "metadata": {
        "colab": {
          "base_uri": "https://localhost:8080/"
        },
        "id": "FrcLp3PQf46n",
        "outputId": "5fe3ba35-f8c6-4bed-dc93-4b82f037347f"
      },
      "execution_count": null,
      "outputs": [
        {
          "output_type": "stream",
          "name": "stdout",
          "text": [
            "['Kecimen' 'Besni']\n",
            "['Kecimen' 'Besni']\n"
          ]
        }
      ]
    },
    {
      "cell_type": "code",
      "source": [
        "print(raisin.to_numpy()) # cf. default, no include header"
      ],
      "metadata": {
        "colab": {
          "base_uri": "https://localhost:8080/"
        },
        "id": "SQH0GNdaaVcu",
        "outputId": "48aa4063-7c90-4144-e96e-c9c42a9ba2bb"
      },
      "execution_count": null,
      "outputs": [
        {
          "output_type": "stream",
          "name": "stdout",
          "text": [
            "[[87524 442.2460114 253.291155 ... 0.758650579 1184.04 'Kecimen']\n",
            " [75166 406.690687 243.0324363 ... 0.68412957 1121.786 'Kecimen']\n",
            " [90856 442.2670483 266.3283177 ... 0.637612812 1208.575 'Kecimen']\n",
            " ...\n",
            " [99657 431.7069809 298.8373229 ... 0.741098519 1292.828 'Besni']\n",
            " [93523 476.3440939 254.1760536 ... 0.658798253 1258.548 'Besni']\n",
            " [85609 512.0817743 215.2719758 ... 0.632019963 1272.862 'Besni']]\n"
          ]
        }
      ]
    },
    {
      "cell_type": "code",
      "source": [
        "raisin_input = raisin[['Area', 'MajorAxisLength', 'MinorAxisLength', 'Eccentricity', 'ConvexArea', 'Extent','Perimeter']].to_numpy()\n",
        "raisin_target = raisin['Class'].to_numpy()\n",
        "print(raisin_input[:3]) # standardization 필요한 것을 확인할 수 있음\n",
        "print(raisin_target[:3])"
      ],
      "metadata": {
        "colab": {
          "base_uri": "https://localhost:8080/"
        },
        "id": "BmcifVRriSeq",
        "outputId": "de179494-d621-4aa9-ab98-7d862e3b7e83"
      },
      "execution_count": null,
      "outputs": [
        {
          "output_type": "stream",
          "name": "stdout",
          "text": [
            "[[8.75240000e+04 4.42246011e+02 2.53291155e+02 8.19738392e-01\n",
            "  9.05460000e+04 7.58650579e-01 1.18404000e+03]\n",
            " [7.51660000e+04 4.06690687e+02 2.43032436e+02 8.01805234e-01\n",
            "  7.87890000e+04 6.84129570e-01 1.12178600e+03]\n",
            " [9.08560000e+04 4.42267048e+02 2.66328318e+02 7.98353619e-01\n",
            "  9.37170000e+04 6.37612812e-01 1.20857500e+03]]\n",
            "['Kecimen' 'Kecimen' 'Kecimen']\n"
          ]
        }
      ]
    },
    {
      "cell_type": "markdown",
      "source": [
        "이제 다음 작업을 수행한다.  \n",
        "* data set을 train set과 test으로 나누기\n",
        "* standardization"
      ],
      "metadata": {
        "id": "GFqx65WvnMFN"
      }
    },
    {
      "cell_type": "code",
      "source": [
        "from sklearn.model_selection import train_test_split\n",
        "\n",
        "# cf. default, suffle parameter=True, test_size=0.25, train_size=1-test_size\n",
        "train_input, test_input, train_target, test_target = train_test_split(\n",
        "    raisin_input, raisin_target, random_state=42)\n",
        "\n",
        "print(train_target.shape, test_target.shape) # cf. split ratio 0.75 : 0.25\n",
        "print(test_target[:10]) # cf. shuffle"
      ],
      "metadata": {
        "colab": {
          "base_uri": "https://localhost:8080/"
        },
        "id": "DDyXL_khnUrD",
        "outputId": "229958f0-5e79-4d1c-8fad-d4f76cf54370"
      },
      "execution_count": null,
      "outputs": [
        {
          "output_type": "stream",
          "name": "stdout",
          "text": [
            "(675,) (225,)\n",
            "['Kecimen' 'Besni' 'Kecimen' 'Besni' 'Kecimen' 'Besni' 'Kecimen' 'Kecimen'\n",
            " 'Kecimen' 'Kecimen']\n"
          ]
        }
      ]
    },
    {
      "cell_type": "code",
      "source": [
        "from sklearn.preprocessing import StandardScaler\n",
        "\n",
        "ss = StandardScaler()\n",
        "ss.fit(train_input)\n",
        "train_scaled = ss.transform(train_input)\n",
        "test_scaled = ss.transform(test_input)\n",
        "\n",
        "print(train_scaled[:3]) # cf. standardization"
      ],
      "metadata": {
        "colab": {
          "base_uri": "https://localhost:8080/"
        },
        "id": "qBsY4zpWpGv3",
        "outputId": "e14ce41d-8290-497d-b6d1-98e62f7e7e85"
      },
      "execution_count": null,
      "outputs": [
        {
          "output_type": "stream",
          "name": "stdout",
          "text": [
            "[[ 0.75106207  0.41990635  1.17688387 -0.28346109  0.71769468  0.45627178\n",
            "   0.71171931]\n",
            " [ 0.66451096  1.27602603  0.14642306  1.21792508  0.71125988 -0.91234575\n",
            "   1.05471877]\n",
            " [ 0.74196472  0.75985771  0.69649065  0.5325457   0.72097279  0.23244067\n",
            "   0.75654943]]\n"
          ]
        }
      ]
    },
    {
      "cell_type": "markdown",
      "source": [
        "이제 다음 작업을 수행한다.  \n",
        "* Model training(fitting) by `fit()`\n",
        "* Model의 accuracy 확인 by `score()`"
      ],
      "metadata": {
        "id": "ox65O_D8qEBK"
      }
    },
    {
      "cell_type": "code",
      "source": [
        "from sklearn.neighbors import KNeighborsClassifier\n",
        "\n",
        "kn = KNeighborsClassifier()\n",
        "kn.fit(train_scaled, train_target)\n",
        "\n",
        "# underfitting이라고 판단할 수 있겠다.\n",
        "print(kn.score(train_scaled, train_target))\n",
        "print(kn.score(test_scaled, test_target))"
      ],
      "metadata": {
        "colab": {
          "base_uri": "https://localhost:8080/"
        },
        "id": "cxHipFoIqMOZ",
        "outputId": "ff3b2ffe-4016-48ee-d7d1-7c18c460f350"
      },
      "execution_count": null,
      "outputs": [
        {
          "output_type": "stream",
          "name": "stdout",
          "text": [
            "0.8844444444444445\n",
            "0.8266666666666667\n"
          ]
        }
      ]
    },
    {
      "cell_type": "markdown",
      "source": [
        "이제 다음 작업을 수행한다.  \n",
        "* Solve the underfitting\n",
        "\n",
        "> fix, solve, handle, deal with 등의 용어를 사용할 수 있다.  \n",
        "  * [Link](https://www.linkedin.com/advice/0/how-can-you-fix-underfitting-deep-learning-optimization-jxjae)\n",
        "  How can you **fix** underfitting in deep learning optimization?\n",
        "  * [Link](https://allcloud.io/blog/how-to-solve-underfitting-and-overfitting-data-models/)\n",
        "  How to **Solve** Underfitting and Overfitting Data Models\n",
        "  * [Link](https://deepchecks.com/question/how-do-we-handle-overfitting-and-underfitting-in-a-machine-learning-model/) How do we **handle** overfitting and underfitting in a machine learning model?\n",
        "  * [Link](https://medium.com/@akshaykr.sharma19966/steps-to-deal-with-overfitting-and-underfitting-on-image-data-using-image-augmentation-87848ab06351)\n",
        "  Steps to **deal with** Overfitting and Underfitting on Image Data using Image Augmentation."
      ],
      "metadata": {
        "id": "PCeZ364LsSBV"
      }
    },
    {
      "cell_type": "markdown",
      "source": [
        "이때 underfitting의 원인에 따라 해결을 위한 접근방식을 다르게 취해야 한다.  \n",
        "underfitting의 원인은 다음과 같이 추정할 수 있다.  \n",
        "\n",
        "**common causes of underfitting**\n",
        "  * 적은 수의 training data\n",
        "  * 낮은 Complexity\n",
        "  * ...\n",
        "\n",
        "Model의 Complexity를 높이는 방법에는 여러 가지가 있다.  \n",
        "그 중 K-NN의 경우 **K**의 값을 줄여서 Complexity를 쉽게 높일 수 있다.\n",
        "> k의 값을 지정하는 `n_neighbors` parameter는 default 값이 5이다."
      ],
      "metadata": {
        "id": "eDIItuzEuXm5"
      }
    },
    {
      "cell_type": "code",
      "source": [
        "# 처음에 attribute 설정을 잘못해서 n_neighbors가 아닌, k_neighbors라고 입력함.\n",
        "# 이 경우 python은 k_neighbors라는 attribute를 새로 만든다.\n",
        "# del 명령으로 삭제가 가능\n",
        "# kn.k_neighbors = 3\n",
        "# del kn.k_neighbors\n",
        "\n",
        "kn.n_neighbors = 3\n",
        "kn.fit(train_scaled, train_target)\n",
        "\n",
        "print(kn.score(train_scaled, train_target))\n",
        "print(kn.score(test_scaled, test_target))"
      ],
      "metadata": {
        "colab": {
          "base_uri": "https://localhost:8080/"
        },
        "id": "kcIU6MzW8Yqb",
        "outputId": "3e79988b-5c8e-4fe9-f7c4-7f66755237c0"
      },
      "execution_count": null,
      "outputs": [
        {
          "output_type": "stream",
          "name": "stdout",
          "text": [
            "0.8977777777777778\n",
            "0.8311111111111111\n"
          ]
        }
      ]
    },
    {
      "cell_type": "markdown",
      "source": [
        "위 cell에서 n_neighbors의 수를 낮게 조정하여 model complexity를 높이려고 시도했다.  \n",
        "그 결과로 train set에 대한 score는 높아졌지만, test set에 대한 score는 더 낮아져서 여전히 underfitting인 상태이다.  \n",
        "다음 cell을 통해서 n_neighbors value 조정에 따른 train set과 test set의 score를 확인하자."
      ],
      "metadata": {
        "id": "oDPeorm--itz"
      }
    },
    {
      "cell_type": "code",
      "source": [
        "for n in range(2, 7):\n",
        "    kn.n_neighbors = n\n",
        "    kn.fit(train_scaled, train_target)\n",
        "    print(\">> n_neighbors is %d\" % n)\n",
        "    print(\"train set score: %f\" % kn.score(train_scaled, train_target))\n",
        "    print(\"test  set score: %f\\n\" % kn.score(test_scaled, test_target))\n",
        "\n",
        "kn.n_neighbors = 3"
      ],
      "metadata": {
        "colab": {
          "base_uri": "https://localhost:8080/"
        },
        "id": "eN7_y3v7_BJ7",
        "outputId": "78b4ef40-1734-4b76-d0d0-f9d33af4a743"
      },
      "execution_count": null,
      "outputs": [
        {
          "output_type": "stream",
          "name": "stdout",
          "text": [
            ">> n_neighbors is 2\n",
            "train set score: 0.918519\n",
            "test  set score: 0.768889\n",
            "\n",
            ">> n_neighbors is 3\n",
            "train set score: 0.897778\n",
            "test  set score: 0.831111\n",
            "\n",
            ">> n_neighbors is 4\n",
            "train set score: 0.885926\n",
            "test  set score: 0.808889\n",
            "\n",
            ">> n_neighbors is 5\n",
            "train set score: 0.884444\n",
            "test  set score: 0.826667\n",
            "\n",
            ">> n_neighbors is 6\n",
            "train set score: 0.878519\n",
            "test  set score: 0.826667\n",
            "\n"
          ]
        }
      ]
    },
    {
      "cell_type": "markdown",
      "source": [
        "`n_neighbors`값은 3으로 놔두고, 이제 다른 방법으로 underfitting에 대한 해결을 시도하자.  \n",
        "두 번째로 시도할 방법은 `PolynomialFeatures()`를 이용해서 feature의 수를 늘리는 것이다.  \n",
        "`PolynomialFeatures` 클래스는 **original features**를 거듭 제곱 또는 서로 곱하여 **derived features**를 만든다.  \n",
        "해당 예제에서는 다음과 같이 구분할 수 있겠다.  \n",
        "* **original features**\n",
        "  - $ x_1 $: Area\n",
        "  - $ x_2 $: MajorAxisLength\n",
        "  - ...\n",
        "  - $ x_7 $: Perimeter\n",
        "* **derived features**\n",
        "  - $ x_1^2 $\n",
        "  - $ x_2^2 $\n",
        "  - ...\n",
        "  - $ x_1*x_2 $\n",
        "  - ..."
      ],
      "metadata": {
        "id": "eK9vbybEAY5-"
      }
    },
    {
      "cell_type": "code",
      "source": [
        "from sklearn.preprocessing import PolynomialFeatures\n",
        "\n",
        "# default, degree=2, interaction_only=False\n",
        "# degree는 최대 차수 지정 x_0^2와 x_0*x_1 모두 degree=2\n",
        "# interaction_only는 True이면 거듭제곱은 하지 않음\n",
        "poly = PolynomialFeatures(degree=2, interaction_only=False)\n",
        "poly.fit(train_scaled)\n",
        "train_poly = poly.transform(train_scaled)\n",
        "test_poly = poly.transform(test_scaled)\n",
        "\n",
        "print(train_poly.shape)\n",
        "print(poly.get_feature_names_out())"
      ],
      "metadata": {
        "colab": {
          "base_uri": "https://localhost:8080/"
        },
        "id": "PBbHZjpuCpHK",
        "outputId": "33fc3c81-d617-4b48-9f23-07f9c78408c5"
      },
      "execution_count": null,
      "outputs": [
        {
          "output_type": "stream",
          "name": "stdout",
          "text": [
            "(675, 36)\n",
            "['1' 'x0' 'x1' 'x2' 'x3' 'x4' 'x5' 'x6' 'x0^2' 'x0 x1' 'x0 x2' 'x0 x3'\n",
            " 'x0 x4' 'x0 x5' 'x0 x6' 'x1^2' 'x1 x2' 'x1 x3' 'x1 x4' 'x1 x5' 'x1 x6'\n",
            " 'x2^2' 'x2 x3' 'x2 x4' 'x2 x5' 'x2 x6' 'x3^2' 'x3 x4' 'x3 x5' 'x3 x6'\n",
            " 'x4^2' 'x4 x5' 'x4 x6' 'x5^2' 'x5 x6' 'x6^2']\n"
          ]
        }
      ]
    },
    {
      "cell_type": "code",
      "source": [
        "kn.fit(train_poly, train_target)\n",
        "\n",
        "print(kn.score(train_poly, train_target))\n",
        "print(kn.score(test_poly, test_target))"
      ],
      "metadata": {
        "colab": {
          "base_uri": "https://localhost:8080/"
        },
        "id": "rtXPRJKVDmtl",
        "outputId": "43a10b7a-a78d-4975-ef71-96675647ab4a"
      },
      "execution_count": null,
      "outputs": [
        {
          "output_type": "stream",
          "name": "stdout",
          "text": [
            "0.8948148148148148\n",
            "0.8311111111111111\n"
          ]
        }
      ]
    },
    {
      "cell_type": "code",
      "source": [
        "for n in range(2, 7):\n",
        "    kn.n_neighbors = n\n",
        "    kn.fit(train_poly, train_target)\n",
        "    print(\">> n_neighbors is %d\" % n)\n",
        "    print(\"train set score: %f\" % kn.score(train_poly, train_target))\n",
        "    print(\"test  set score: %f\\n\" % kn.score(test_poly, test_target))"
      ],
      "metadata": {
        "colab": {
          "base_uri": "https://localhost:8080/"
        },
        "id": "tDpckI8JGEfm",
        "outputId": "6ad1683d-ad4d-4301-99c0-e0ff7428e436"
      },
      "execution_count": null,
      "outputs": [
        {
          "output_type": "stream",
          "name": "stdout",
          "text": [
            ">> n_neighbors is 2\n",
            "train set score: 0.920000\n",
            "test  set score: 0.777778\n",
            "\n",
            ">> n_neighbors is 3\n",
            "train set score: 0.894815\n",
            "test  set score: 0.831111\n",
            "\n",
            ">> n_neighbors is 4\n",
            "train set score: 0.885926\n",
            "test  set score: 0.795556\n",
            "\n",
            ">> n_neighbors is 5\n",
            "train set score: 0.871111\n",
            "test  set score: 0.835556\n",
            "\n",
            ">> n_neighbors is 6\n",
            "train set score: 0.874074\n",
            "test  set score: 0.817778\n",
            "\n"
          ]
        }
      ]
    },
    {
      "cell_type": "markdown",
      "source": [
        "지금까지 **`StandardScaler()`**와 **`n_neighbors`**, **`PolynomialFeatures()`**를 사용해서 model의 accuracy를 높이려는 시도를 했다.  \n",
        "최종적으로 다음과 같이 정리할 수 있겠다.  \n",
        "\n",
        "**standardization to Z-Score**, **n_neighbors=3**, **features=36**(original=7, derived=29)\n",
        "* train set accuracy: 0.903704\n",
        "* test  set accuracy: 0.844444"
      ],
      "metadata": {
        "id": "-p4COySmHMec"
      }
    },
    {
      "cell_type": "markdown",
      "source": [
        "# 2. Logistic Regreesion; LR"
      ],
      "metadata": {
        "id": "S-qp_0M_Xs_i"
      }
    },
    {
      "cell_type": "code",
      "source": [
        "import pandas as pd\n",
        "\n",
        "raisin = pd.read_excel('./Raisin_Dataset.xlsx')\n",
        "raisin.head()"
      ],
      "metadata": {
        "colab": {
          "base_uri": "https://localhost:8080/",
          "height": 206
        },
        "id": "4f4UXxqDZW2y",
        "outputId": "5363e85a-4376-495b-fbb1-882fafb6d5e3"
      },
      "execution_count": null,
      "outputs": [
        {
          "output_type": "execute_result",
          "data": {
            "text/plain": [
              "    Area  MajorAxisLength  MinorAxisLength  Eccentricity  ConvexArea  \\\n",
              "0  87524       442.246011       253.291155      0.819738       90546   \n",
              "1  75166       406.690687       243.032436      0.801805       78789   \n",
              "2  90856       442.267048       266.328318      0.798354       93717   \n",
              "3  45928       286.540559       208.760042      0.684989       47336   \n",
              "4  79408       352.190770       290.827533      0.564011       81463   \n",
              "\n",
              "     Extent  Perimeter    Class  \n",
              "0  0.758651   1184.040  Kecimen  \n",
              "1  0.684130   1121.786  Kecimen  \n",
              "2  0.637613   1208.575  Kecimen  \n",
              "3  0.699599    844.162  Kecimen  \n",
              "4  0.792772   1073.251  Kecimen  "
            ],
            "text/html": [
              "\n",
              "  <div id=\"df-99c31b54-4fe1-49c8-a965-49e038efdc73\" class=\"colab-df-container\">\n",
              "    <div>\n",
              "<style scoped>\n",
              "    .dataframe tbody tr th:only-of-type {\n",
              "        vertical-align: middle;\n",
              "    }\n",
              "\n",
              "    .dataframe tbody tr th {\n",
              "        vertical-align: top;\n",
              "    }\n",
              "\n",
              "    .dataframe thead th {\n",
              "        text-align: right;\n",
              "    }\n",
              "</style>\n",
              "<table border=\"1\" class=\"dataframe\">\n",
              "  <thead>\n",
              "    <tr style=\"text-align: right;\">\n",
              "      <th></th>\n",
              "      <th>Area</th>\n",
              "      <th>MajorAxisLength</th>\n",
              "      <th>MinorAxisLength</th>\n",
              "      <th>Eccentricity</th>\n",
              "      <th>ConvexArea</th>\n",
              "      <th>Extent</th>\n",
              "      <th>Perimeter</th>\n",
              "      <th>Class</th>\n",
              "    </tr>\n",
              "  </thead>\n",
              "  <tbody>\n",
              "    <tr>\n",
              "      <th>0</th>\n",
              "      <td>87524</td>\n",
              "      <td>442.246011</td>\n",
              "      <td>253.291155</td>\n",
              "      <td>0.819738</td>\n",
              "      <td>90546</td>\n",
              "      <td>0.758651</td>\n",
              "      <td>1184.040</td>\n",
              "      <td>Kecimen</td>\n",
              "    </tr>\n",
              "    <tr>\n",
              "      <th>1</th>\n",
              "      <td>75166</td>\n",
              "      <td>406.690687</td>\n",
              "      <td>243.032436</td>\n",
              "      <td>0.801805</td>\n",
              "      <td>78789</td>\n",
              "      <td>0.684130</td>\n",
              "      <td>1121.786</td>\n",
              "      <td>Kecimen</td>\n",
              "    </tr>\n",
              "    <tr>\n",
              "      <th>2</th>\n",
              "      <td>90856</td>\n",
              "      <td>442.267048</td>\n",
              "      <td>266.328318</td>\n",
              "      <td>0.798354</td>\n",
              "      <td>93717</td>\n",
              "      <td>0.637613</td>\n",
              "      <td>1208.575</td>\n",
              "      <td>Kecimen</td>\n",
              "    </tr>\n",
              "    <tr>\n",
              "      <th>3</th>\n",
              "      <td>45928</td>\n",
              "      <td>286.540559</td>\n",
              "      <td>208.760042</td>\n",
              "      <td>0.684989</td>\n",
              "      <td>47336</td>\n",
              "      <td>0.699599</td>\n",
              "      <td>844.162</td>\n",
              "      <td>Kecimen</td>\n",
              "    </tr>\n",
              "    <tr>\n",
              "      <th>4</th>\n",
              "      <td>79408</td>\n",
              "      <td>352.190770</td>\n",
              "      <td>290.827533</td>\n",
              "      <td>0.564011</td>\n",
              "      <td>81463</td>\n",
              "      <td>0.792772</td>\n",
              "      <td>1073.251</td>\n",
              "      <td>Kecimen</td>\n",
              "    </tr>\n",
              "  </tbody>\n",
              "</table>\n",
              "</div>\n",
              "    <div class=\"colab-df-buttons\">\n",
              "\n",
              "  <div class=\"colab-df-container\">\n",
              "    <button class=\"colab-df-convert\" onclick=\"convertToInteractive('df-99c31b54-4fe1-49c8-a965-49e038efdc73')\"\n",
              "            title=\"Convert this dataframe to an interactive table.\"\n",
              "            style=\"display:none;\">\n",
              "\n",
              "  <svg xmlns=\"http://www.w3.org/2000/svg\" height=\"24px\" viewBox=\"0 -960 960 960\">\n",
              "    <path d=\"M120-120v-720h720v720H120Zm60-500h600v-160H180v160Zm220 220h160v-160H400v160Zm0 220h160v-160H400v160ZM180-400h160v-160H180v160Zm440 0h160v-160H620v160ZM180-180h160v-160H180v160Zm440 0h160v-160H620v160Z\"/>\n",
              "  </svg>\n",
              "    </button>\n",
              "\n",
              "  <style>\n",
              "    .colab-df-container {\n",
              "      display:flex;\n",
              "      gap: 12px;\n",
              "    }\n",
              "\n",
              "    .colab-df-convert {\n",
              "      background-color: #E8F0FE;\n",
              "      border: none;\n",
              "      border-radius: 50%;\n",
              "      cursor: pointer;\n",
              "      display: none;\n",
              "      fill: #1967D2;\n",
              "      height: 32px;\n",
              "      padding: 0 0 0 0;\n",
              "      width: 32px;\n",
              "    }\n",
              "\n",
              "    .colab-df-convert:hover {\n",
              "      background-color: #E2EBFA;\n",
              "      box-shadow: 0px 1px 2px rgba(60, 64, 67, 0.3), 0px 1px 3px 1px rgba(60, 64, 67, 0.15);\n",
              "      fill: #174EA6;\n",
              "    }\n",
              "\n",
              "    .colab-df-buttons div {\n",
              "      margin-bottom: 4px;\n",
              "    }\n",
              "\n",
              "    [theme=dark] .colab-df-convert {\n",
              "      background-color: #3B4455;\n",
              "      fill: #D2E3FC;\n",
              "    }\n",
              "\n",
              "    [theme=dark] .colab-df-convert:hover {\n",
              "      background-color: #434B5C;\n",
              "      box-shadow: 0px 1px 3px 1px rgba(0, 0, 0, 0.15);\n",
              "      filter: drop-shadow(0px 1px 2px rgba(0, 0, 0, 0.3));\n",
              "      fill: #FFFFFF;\n",
              "    }\n",
              "  </style>\n",
              "\n",
              "    <script>\n",
              "      const buttonEl =\n",
              "        document.querySelector('#df-99c31b54-4fe1-49c8-a965-49e038efdc73 button.colab-df-convert');\n",
              "      buttonEl.style.display =\n",
              "        google.colab.kernel.accessAllowed ? 'block' : 'none';\n",
              "\n",
              "      async function convertToInteractive(key) {\n",
              "        const element = document.querySelector('#df-99c31b54-4fe1-49c8-a965-49e038efdc73');\n",
              "        const dataTable =\n",
              "          await google.colab.kernel.invokeFunction('convertToInteractive',\n",
              "                                                    [key], {});\n",
              "        if (!dataTable) return;\n",
              "\n",
              "        const docLinkHtml = 'Like what you see? Visit the ' +\n",
              "          '<a target=\"_blank\" href=https://colab.research.google.com/notebooks/data_table.ipynb>data table notebook</a>'\n",
              "          + ' to learn more about interactive tables.';\n",
              "        element.innerHTML = '';\n",
              "        dataTable['output_type'] = 'display_data';\n",
              "        await google.colab.output.renderOutput(dataTable, element);\n",
              "        const docLink = document.createElement('div');\n",
              "        docLink.innerHTML = docLinkHtml;\n",
              "        element.appendChild(docLink);\n",
              "      }\n",
              "    </script>\n",
              "  </div>\n",
              "\n",
              "\n",
              "<div id=\"df-f6548a54-8cc9-40cc-9cd4-3b37d8139419\">\n",
              "  <button class=\"colab-df-quickchart\" onclick=\"quickchart('df-f6548a54-8cc9-40cc-9cd4-3b37d8139419')\"\n",
              "            title=\"Suggest charts\"\n",
              "            style=\"display:none;\">\n",
              "\n",
              "<svg xmlns=\"http://www.w3.org/2000/svg\" height=\"24px\"viewBox=\"0 0 24 24\"\n",
              "     width=\"24px\">\n",
              "    <g>\n",
              "        <path d=\"M19 3H5c-1.1 0-2 .9-2 2v14c0 1.1.9 2 2 2h14c1.1 0 2-.9 2-2V5c0-1.1-.9-2-2-2zM9 17H7v-7h2v7zm4 0h-2V7h2v10zm4 0h-2v-4h2v4z\"/>\n",
              "    </g>\n",
              "</svg>\n",
              "  </button>\n",
              "\n",
              "<style>\n",
              "  .colab-df-quickchart {\n",
              "      --bg-color: #E8F0FE;\n",
              "      --fill-color: #1967D2;\n",
              "      --hover-bg-color: #E2EBFA;\n",
              "      --hover-fill-color: #174EA6;\n",
              "      --disabled-fill-color: #AAA;\n",
              "      --disabled-bg-color: #DDD;\n",
              "  }\n",
              "\n",
              "  [theme=dark] .colab-df-quickchart {\n",
              "      --bg-color: #3B4455;\n",
              "      --fill-color: #D2E3FC;\n",
              "      --hover-bg-color: #434B5C;\n",
              "      --hover-fill-color: #FFFFFF;\n",
              "      --disabled-bg-color: #3B4455;\n",
              "      --disabled-fill-color: #666;\n",
              "  }\n",
              "\n",
              "  .colab-df-quickchart {\n",
              "    background-color: var(--bg-color);\n",
              "    border: none;\n",
              "    border-radius: 50%;\n",
              "    cursor: pointer;\n",
              "    display: none;\n",
              "    fill: var(--fill-color);\n",
              "    height: 32px;\n",
              "    padding: 0;\n",
              "    width: 32px;\n",
              "  }\n",
              "\n",
              "  .colab-df-quickchart:hover {\n",
              "    background-color: var(--hover-bg-color);\n",
              "    box-shadow: 0 1px 2px rgba(60, 64, 67, 0.3), 0 1px 3px 1px rgba(60, 64, 67, 0.15);\n",
              "    fill: var(--button-hover-fill-color);\n",
              "  }\n",
              "\n",
              "  .colab-df-quickchart-complete:disabled,\n",
              "  .colab-df-quickchart-complete:disabled:hover {\n",
              "    background-color: var(--disabled-bg-color);\n",
              "    fill: var(--disabled-fill-color);\n",
              "    box-shadow: none;\n",
              "  }\n",
              "\n",
              "  .colab-df-spinner {\n",
              "    border: 2px solid var(--fill-color);\n",
              "    border-color: transparent;\n",
              "    border-bottom-color: var(--fill-color);\n",
              "    animation:\n",
              "      spin 1s steps(1) infinite;\n",
              "  }\n",
              "\n",
              "  @keyframes spin {\n",
              "    0% {\n",
              "      border-color: transparent;\n",
              "      border-bottom-color: var(--fill-color);\n",
              "      border-left-color: var(--fill-color);\n",
              "    }\n",
              "    20% {\n",
              "      border-color: transparent;\n",
              "      border-left-color: var(--fill-color);\n",
              "      border-top-color: var(--fill-color);\n",
              "    }\n",
              "    30% {\n",
              "      border-color: transparent;\n",
              "      border-left-color: var(--fill-color);\n",
              "      border-top-color: var(--fill-color);\n",
              "      border-right-color: var(--fill-color);\n",
              "    }\n",
              "    40% {\n",
              "      border-color: transparent;\n",
              "      border-right-color: var(--fill-color);\n",
              "      border-top-color: var(--fill-color);\n",
              "    }\n",
              "    60% {\n",
              "      border-color: transparent;\n",
              "      border-right-color: var(--fill-color);\n",
              "    }\n",
              "    80% {\n",
              "      border-color: transparent;\n",
              "      border-right-color: var(--fill-color);\n",
              "      border-bottom-color: var(--fill-color);\n",
              "    }\n",
              "    90% {\n",
              "      border-color: transparent;\n",
              "      border-bottom-color: var(--fill-color);\n",
              "    }\n",
              "  }\n",
              "</style>\n",
              "\n",
              "  <script>\n",
              "    async function quickchart(key) {\n",
              "      const quickchartButtonEl =\n",
              "        document.querySelector('#' + key + ' button');\n",
              "      quickchartButtonEl.disabled = true;  // To prevent multiple clicks.\n",
              "      quickchartButtonEl.classList.add('colab-df-spinner');\n",
              "      try {\n",
              "        const charts = await google.colab.kernel.invokeFunction(\n",
              "            'suggestCharts', [key], {});\n",
              "      } catch (error) {\n",
              "        console.error('Error during call to suggestCharts:', error);\n",
              "      }\n",
              "      quickchartButtonEl.classList.remove('colab-df-spinner');\n",
              "      quickchartButtonEl.classList.add('colab-df-quickchart-complete');\n",
              "    }\n",
              "    (() => {\n",
              "      let quickchartButtonEl =\n",
              "        document.querySelector('#df-f6548a54-8cc9-40cc-9cd4-3b37d8139419 button');\n",
              "      quickchartButtonEl.style.display =\n",
              "        google.colab.kernel.accessAllowed ? 'block' : 'none';\n",
              "    })();\n",
              "  </script>\n",
              "</div>\n",
              "\n",
              "    </div>\n",
              "  </div>\n"
            ],
            "application/vnd.google.colaboratory.intrinsic+json": {
              "type": "dataframe",
              "variable_name": "raisin",
              "summary": "{\n  \"name\": \"raisin\",\n  \"rows\": 900,\n  \"fields\": [\n    {\n      \"column\": \"Area\",\n      \"properties\": {\n        \"dtype\": \"number\",\n        \"std\": 39002,\n        \"min\": 25387,\n        \"max\": 235047,\n        \"num_unique_values\": 900,\n        \"samples\": [\n          95347,\n          61861,\n          52693\n        ],\n        \"semantic_type\": \"\",\n        \"description\": \"\"\n      }\n    },\n    {\n      \"column\": \"MajorAxisLength\",\n      \"properties\": {\n        \"dtype\": \"number\",\n        \"std\": 116.03512062468943,\n        \"min\": 225.629541,\n        \"max\": 997.2919406,\n        \"num_unique_values\": 900,\n        \"samples\": [\n          451.5261542,\n          345.9436498,\n          283.5042387\n        ],\n        \"semantic_type\": \"\",\n        \"description\": \"\"\n      }\n    },\n    {\n      \"column\": \"MinorAxisLength\",\n      \"properties\": {\n        \"dtype\": \"number\",\n        \"std\": 49.98890170571764,\n        \"min\": 143.7108718,\n        \"max\": 492.2752785,\n        \"num_unique_values\": 900,\n        \"samples\": [\n          280.2261534,\n          235.4304678,\n          242.1139544\n        ],\n        \"semantic_type\": \"\",\n        \"description\": \"\"\n      }\n    },\n    {\n      \"column\": \"Eccentricity\",\n      \"properties\": {\n        \"dtype\": \"number\",\n        \"std\": 0.09031840993160666,\n        \"min\": 0.348729642,\n        \"max\": 0.96212444,\n        \"num_unique_values\": 900,\n        \"samples\": [\n          0.784111496,\n          0.732705625,\n          0.520265279\n        ],\n        \"semantic_type\": \"\",\n        \"description\": \"\"\n      }\n    },\n    {\n      \"column\": \"ConvexArea\",\n      \"properties\": {\n        \"dtype\": \"number\",\n        \"std\": 40769,\n        \"min\": 26139,\n        \"max\": 278217,\n        \"num_unique_values\": 896,\n        \"samples\": [\n          89794,\n          71336,\n          120657\n        ],\n        \"semantic_type\": \"\",\n        \"description\": \"\"\n      }\n    },\n    {\n      \"column\": \"Extent\",\n      \"properties\": {\n        \"dtype\": \"number\",\n        \"std\": 0.053468200288159295,\n        \"min\": 0.379856115,\n        \"max\": 0.835454545,\n        \"num_unique_values\": 900,\n        \"samples\": [\n          0.674956111,\n          0.70227959,\n          0.737749216\n        ],\n        \"semantic_type\": \"\",\n        \"description\": \"\"\n      }\n    },\n    {\n      \"column\": \"Perimeter\",\n      \"properties\": {\n        \"dtype\": \"number\",\n        \"std\": 273.7643154160196,\n        \"min\": 619.074,\n        \"max\": 2697.753,\n        \"num_unique_values\": 900,\n        \"samples\": [\n          1255.245,\n          1063.621,\n          895.745\n        ],\n        \"semantic_type\": \"\",\n        \"description\": \"\"\n      }\n    },\n    {\n      \"column\": \"Class\",\n      \"properties\": {\n        \"dtype\": \"category\",\n        \"num_unique_values\": 2,\n        \"samples\": [\n          \"Besni\",\n          \"Kecimen\"\n        ],\n        \"semantic_type\": \"\",\n        \"description\": \"\"\n      }\n    }\n  ]\n}"
            }
          },
          "metadata": {},
          "execution_count": 2
        }
      ]
    },
    {
      "cell_type": "code",
      "source": [
        "raisin_input = raisin[['Area', 'MajorAxisLength', 'MinorAxisLength', 'Eccentricity', 'ConvexArea', 'Extent','Perimeter']].to_numpy()\n",
        "raisin_target = raisin['Class'].to_numpy()"
      ],
      "metadata": {
        "id": "gqtVAXszZpKg"
      },
      "execution_count": null,
      "outputs": []
    },
    {
      "cell_type": "code",
      "source": [
        "from sklearn.model_selection import train_test_split\n",
        "\n",
        "# cf. default, suffle parameter=True, test_size=0.25, train_size=1-test_size\n",
        "train_input, test_input, train_target, test_target = train_test_split(\n",
        "    raisin_input, raisin_target, random_state=42)\n",
        "\n",
        "# print(train_target.shape, test_target.shape) # cf. split ratio 0.75 : 0.25\n",
        "# print(test_target[:10]) # cf. shuffle"
      ],
      "metadata": {
        "id": "sKNGcvR2Zw0Q"
      },
      "execution_count": null,
      "outputs": []
    },
    {
      "cell_type": "code",
      "source": [
        "from sklearn.preprocessing import StandardScaler\n",
        "\n",
        "ss = StandardScaler()\n",
        "ss.fit(train_input)\n",
        "train_scaled = ss.transform(train_input)\n",
        "test_scaled = ss.transform(test_input)\n",
        "\n",
        "# print(train_scaled[:3]) # cf. standardization"
      ],
      "metadata": {
        "id": "TbeaVfVMZ3jq"
      },
      "execution_count": null,
      "outputs": []
    },
    {
      "cell_type": "code",
      "source": [
        "from sklearn.linear_model import LogisticRegression\n",
        "\n",
        "# default, C=1. 작을수록 Regularization 커진다.\n",
        "# default, max_iter=100. Warning이 뜨지 않으면 default로 유지해도 된다.\n",
        "lr = LogisticRegression(C=1, max_iter=100)\n",
        "lr.fit(train_scaled, train_target)\n",
        "\n",
        "predict = lr.predict(train_scaled[:5])\n",
        "target = train_target[:5]\n",
        "# 정상적으로 작동함을 확인\n",
        "print(f\"predict: {predict}\")\n",
        "print(f\"target: {target}\")"
      ],
      "metadata": {
        "colab": {
          "base_uri": "https://localhost:8080/"
        },
        "id": "nbNVUIUvZ_KM",
        "outputId": "28a54dc1-0467-4017-8c2f-9701a803387d"
      },
      "execution_count": null,
      "outputs": [
        {
          "output_type": "stream",
          "name": "stdout",
          "text": [
            "predict: ['Besni' 'Besni' 'Besni' 'Kecimen' 'Kecimen']\n",
            "target: ['Besni' 'Besni' 'Besni' 'Kecimen' 'Kecimen']\n"
          ]
        }
      ]
    },
    {
      "cell_type": "code",
      "source": [
        "print(lr.classes_)"
      ],
      "metadata": {
        "colab": {
          "base_uri": "https://localhost:8080/"
        },
        "id": "5ge0x0l9cdum",
        "outputId": "272f8222-4061-4599-d9c1-5c2e07576a55"
      },
      "execution_count": null,
      "outputs": [
        {
          "output_type": "stream",
          "name": "stdout",
          "text": [
            "['Besni' 'Kecimen']\n"
          ]
        }
      ]
    },
    {
      "cell_type": "code",
      "source": [
        "print(lr.score(train_scaled, train_target))\n",
        "print(lr.score(test_scaled, test_target))"
      ],
      "metadata": {
        "colab": {
          "base_uri": "https://localhost:8080/"
        },
        "id": "o9BWcFSPcrrQ",
        "outputId": "ce8ccb7a-32b3-4a35-8667-109f50175af0"
      },
      "execution_count": null,
      "outputs": [
        {
          "output_type": "stream",
          "name": "stdout",
          "text": [
            "0.8681481481481481\n",
            "0.8577777777777778\n"
          ]
        }
      ]
    },
    {
      "cell_type": "markdown",
      "source": [
        "현재 model은 underfitting 상태로 추정된다.  \n",
        "따라서 먼저, LogisticRegression의 `C` Parameter를 조정하여 Regularization을 완화해보겠다."
      ],
      "metadata": {
        "id": "L-G_0mNddt_W"
      }
    },
    {
      "cell_type": "code",
      "source": [
        "lr.C = 15\n",
        "lr.fit(train_scaled, train_target)\n",
        "print(lr.score(train_scaled, train_target))\n",
        "print(lr.score(test_scaled, test_target))"
      ],
      "metadata": {
        "colab": {
          "base_uri": "https://localhost:8080/"
        },
        "id": "Y8d_2xzmd-ql",
        "outputId": "e794debc-d6fa-43a6-979d-3e847df68912"
      },
      "execution_count": null,
      "outputs": [
        {
          "output_type": "stream",
          "name": "stdout",
          "text": [
            "0.8755555555555555\n",
            "0.8577777777777778\n"
          ]
        }
      ]
    },
    {
      "cell_type": "markdown",
      "source": [
        "위 cell을 보면 train set의 accuracy는 0.7 정도 증가했지만, test set의 accuracy는 변화하지 않았음을 확인할 수 있다.  \n",
        "따라서 이번에는 features 수를 증가시켜서 model complexity를 높여보겠다."
      ],
      "metadata": {
        "id": "g-NSOV9ceN8X"
      }
    },
    {
      "cell_type": "code",
      "source": [
        "from sklearn.preprocessing import PolynomialFeatures\n",
        "\n",
        "poly = PolynomialFeatures()\n",
        "poly.fit(train_scaled)\n",
        "train_poly = poly.transform(train_scaled)\n",
        "test_poly = poly.transform(test_scaled)"
      ],
      "metadata": {
        "id": "t2rv673QfUuN"
      },
      "execution_count": null,
      "outputs": []
    },
    {
      "cell_type": "code",
      "source": [
        "# lr.C는 15인 상태\n",
        "lr.fit(train_poly, train_target)\n",
        "print(lr.score(train_poly, train_target))\n",
        "print(lr.score(test_poly, test_target))"
      ],
      "metadata": {
        "colab": {
          "base_uri": "https://localhost:8080/"
        },
        "id": "uiEKSxb8fwHy",
        "outputId": "6f39bde3-b737-4e2b-86d3-fa999dc3e865"
      },
      "execution_count": null,
      "outputs": [
        {
          "output_type": "stream",
          "name": "stdout",
          "text": [
            "0.8844444444444445\n",
            "0.8488888888888889\n"
          ]
        },
        {
          "output_type": "stream",
          "name": "stderr",
          "text": [
            "/usr/local/lib/python3.10/dist-packages/sklearn/linear_model/_logistic.py:458: ConvergenceWarning: lbfgs failed to converge (status=1):\n",
            "STOP: TOTAL NO. of ITERATIONS REACHED LIMIT.\n",
            "\n",
            "Increase the number of iterations (max_iter) or scale the data as shown in:\n",
            "    https://scikit-learn.org/stable/modules/preprocessing.html\n",
            "Please also refer to the documentation for alternative solver options:\n",
            "    https://scikit-learn.org/stable/modules/linear_model.html#logistic-regression\n",
            "  n_iter_i = _check_optimize_result(\n"
          ]
        }
      ]
    },
    {
      "cell_type": "markdown",
      "source": [
        "이번에도 크게 개선되지 않았다.  \n",
        "또한 지금 내가 아는 수준에서는 model을 더 optimize하는 것은 어렵다고 판단된다.  \n",
        "하단에 [**cf. test set accuracy 0.905 나온 사례**](https://colab.research.google.com/drive/16HPpP5GJiAsHI7ZahRtgKNpsXtlv3Qjz#scrollTo=jDD9uSvxnGfq&line=2&uniqifier=1) cell을 나중에 확인할 필요가 있겠다."
      ],
      "metadata": {
        "id": "kLehs3R0i4m-"
      }
    },
    {
      "cell_type": "markdown",
      "source": [
        "* * *\n",
        "* * *"
      ],
      "metadata": {
        "id": "3A0BZXMIgelo"
      }
    },
    {
      "cell_type": "code",
      "source": [
        "train_score = []\n",
        "test_score = []\n",
        "c_list = [100, 10, 1, 0.1, 0.01, 0.001]\n",
        "\n",
        "for c in c_list:\n",
        "    lr = LogisticRegression(C=c, max_iter=1000)\n",
        "    lr.fit(train_poly, train_target)\n",
        "    train_score.append(lr.score(train_poly, train_target))\n",
        "    test_score.append(lr.score(test_poly, test_target))"
      ],
      "metadata": {
        "id": "vT90UpFqggM4"
      },
      "execution_count": null,
      "outputs": []
    },
    {
      "cell_type": "code",
      "source": [
        "import matplotlib.pyplot as plt\n",
        "import numpy as np\n",
        "plt.plot(np.log10(c_list), train_score)\n",
        "plt.plot(np.log10(c_list), test_score)\n",
        "plt.xlabel('c')\n",
        "plt.ylabel('score')\n",
        "plt.show()"
      ],
      "metadata": {
        "colab": {
          "base_uri": "https://localhost:8080/",
          "height": 449
        },
        "id": "VsJB3U2biFcx",
        "outputId": "3813e38e-04c5-4071-8d86-80e44c1a5075"
      },
      "execution_count": null,
      "outputs": [
        {
          "output_type": "display_data",
          "data": {
            "text/plain": [
              "<Figure size 640x480 with 1 Axes>"
            ],
            "image/png": "[encoded data removed]"
          },
          "metadata": {}
        }
      ]
    },
    {
      "cell_type": "markdown",
      "source": [
        "## cf. test set accuracy 0.905 나온 사례\n",
        "[cf. github link](https://github.com/SuzanKiraz/Raisin-Class-Prediction-with-Logistic-Regression/blob/main/Raisin_Class_Prediction.ipynb)  \n",
        "나와의 차이점은 LogisticRegression 클래스 객체를 생성할 때 `random_state` parameter를 다르게 설정했다는 점이다(나 42, 링크 101).  \n",
        "그러면 data set을 split되는 형태에 따라서 accuracy 값이 크게 변할 수 있다는 것인데, 지금 내 수준으로는 다음과 같은 추측을 할 수 있겠다.  \n",
        "* **추측1.** raisin의 features 중에서 outliar가 존재하는데, outliar가 train set과 test set에 얼마나 균등하게 split되느냐에 따라서 accuracy가 변동함.\n",
        "* **추측2.** ..."
      ],
      "metadata": {
        "id": "jDD9uSvxnGfq"
      }
    },
    {
      "cell_type": "markdown",
      "source": [
        "# 3. Decision Tree; DT"
      ],
      "metadata": {
        "id": "Xc1G55wPAUFN"
      }
    },
    {
      "cell_type": "code",
      "source": [
        "import pandas as pd\n",
        "\n",
        "raisin = pd.read_excel('./Raisin_Dataset.xlsx')"
      ],
      "metadata": {
        "id": "Hh3t8106w-bt"
      },
      "execution_count": 2,
      "outputs": []
    },
    {
      "cell_type": "code",
      "source": [
        "raisin.info()"
      ],
      "metadata": {
        "colab": {
          "base_uri": "https://localhost:8080/"
        },
        "id": "hsWrqKwZxVLo",
        "outputId": "fcc7c3fd-c863-4778-982e-a2fa53c7a4cb"
      },
      "execution_count": 3,
      "outputs": [
        {
          "output_type": "stream",
          "name": "stdout",
          "text": [
            "<class 'pandas.core.frame.DataFrame'>\n",
            "RangeIndex: 900 entries, 0 to 899\n",
            "Data columns (total 8 columns):\n",
            " #   Column           Non-Null Count  Dtype  \n",
            "---  ------           --------------  -----  \n",
            " 0   Area             900 non-null    int64  \n",
            " 1   MajorAxisLength  900 non-null    float64\n",
            " 2   MinorAxisLength  900 non-null    float64\n",
            " 3   Eccentricity     900 non-null    float64\n",
            " 4   ConvexArea       900 non-null    int64  \n",
            " 5   Extent           900 non-null    float64\n",
            " 6   Perimeter        900 non-null    float64\n",
            " 7   Class            900 non-null    object \n",
            "dtypes: float64(5), int64(2), object(1)\n",
            "memory usage: 56.4+ KB\n"
          ]
        }
      ]
    },
    {
      "cell_type": "code",
      "source": [
        "raisin.describe()"
      ],
      "metadata": {
        "colab": {
          "base_uri": "https://localhost:8080/",
          "height": 300
        },
        "id": "ycrp0p1XxYoL",
        "outputId": "3b859081-4e96-4347-b5e6-ae708d3aad35"
      },
      "execution_count": 4,
      "outputs": [
        {
          "output_type": "execute_result",
          "data": {
            "text/plain": [
              "                Area  MajorAxisLength  MinorAxisLength  Eccentricity  \\\n",
              "count     900.000000       900.000000       900.000000    900.000000   \n",
              "mean    87804.127778       430.929950       254.488133      0.781542   \n",
              "std     39002.111390       116.035121        49.988902      0.090318   \n",
              "min     25387.000000       225.629541       143.710872      0.348730   \n",
              "25%     59348.000000       345.442898       219.111126      0.741766   \n",
              "50%     78902.000000       407.803951       247.848409      0.798846   \n",
              "75%    105028.250000       494.187014       279.888575      0.842571   \n",
              "max    235047.000000       997.291941       492.275279      0.962124   \n",
              "\n",
              "          ConvexArea      Extent    Perimeter  \n",
              "count     900.000000  900.000000   900.000000  \n",
              "mean    91186.090000    0.699508  1165.906636  \n",
              "std     40769.290132    0.053468   273.764315  \n",
              "min     26139.000000    0.379856   619.074000  \n",
              "25%     61513.250000    0.670869   966.410750  \n",
              "50%     81651.000000    0.707367  1119.509000  \n",
              "75%    108375.750000    0.734991  1308.389750  \n",
              "max    278217.000000    0.835455  2697.753000  "
            ],
            "text/html": [
              "\n",
              "  <div id=\"df-9cb0888d-0205-4006-affc-82b1c5861d6a\" class=\"colab-df-container\">\n",
              "    <div>\n",
              "<style scoped>\n",
              "    .dataframe tbody tr th:only-of-type {\n",
              "        vertical-align: middle;\n",
              "    }\n",
              "\n",
              "    .dataframe tbody tr th {\n",
              "        vertical-align: top;\n",
              "    }\n",
              "\n",
              "    .dataframe thead th {\n",
              "        text-align: right;\n",
              "    }\n",
              "</style>\n",
              "<table border=\"1\" class=\"dataframe\">\n",
              "  <thead>\n",
              "    <tr style=\"text-align: right;\">\n",
              "      <th></th>\n",
              "      <th>Area</th>\n",
              "      <th>MajorAxisLength</th>\n",
              "      <th>MinorAxisLength</th>\n",
              "      <th>Eccentricity</th>\n",
              "      <th>ConvexArea</th>\n",
              "      <th>Extent</th>\n",
              "      <th>Perimeter</th>\n",
              "    </tr>\n",
              "  </thead>\n",
              "  <tbody>\n",
              "    <tr>\n",
              "      <th>count</th>\n",
              "      <td>900.000000</td>\n",
              "      <td>900.000000</td>\n",
              "      <td>900.000000</td>\n",
              "      <td>900.000000</td>\n",
              "      <td>900.000000</td>\n",
              "      <td>900.000000</td>\n",
              "      <td>900.000000</td>\n",
              "    </tr>\n",
              "    <tr>\n",
              "      <th>mean</th>\n",
              "      <td>87804.127778</td>\n",
              "      <td>430.929950</td>\n",
              "      <td>254.488133</td>\n",
              "      <td>0.781542</td>\n",
              "      <td>91186.090000</td>\n",
              "      <td>0.699508</td>\n",
              "      <td>1165.906636</td>\n",
              "    </tr>\n",
              "    <tr>\n",
              "      <th>std</th>\n",
              "      <td>39002.111390</td>\n",
              "      <td>116.035121</td>\n",
              "      <td>49.988902</td>\n",
              "      <td>0.090318</td>\n",
              "      <td>40769.290132</td>\n",
              "      <td>0.053468</td>\n",
              "      <td>273.764315</td>\n",
              "    </tr>\n",
              "    <tr>\n",
              "      <th>min</th>\n",
              "      <td>25387.000000</td>\n",
              "      <td>225.629541</td>\n",
              "      <td>143.710872</td>\n",
              "      <td>0.348730</td>\n",
              "      <td>26139.000000</td>\n",
              "      <td>0.379856</td>\n",
              "      <td>619.074000</td>\n",
              "    </tr>\n",
              "    <tr>\n",
              "      <th>25%</th>\n",
              "      <td>59348.000000</td>\n",
              "      <td>345.442898</td>\n",
              "      <td>219.111126</td>\n",
              "      <td>0.741766</td>\n",
              "      <td>61513.250000</td>\n",
              "      <td>0.670869</td>\n",
              "      <td>966.410750</td>\n",
              "    </tr>\n",
              "    <tr>\n",
              "      <th>50%</th>\n",
              "      <td>78902.000000</td>\n",
              "      <td>407.803951</td>\n",
              "      <td>247.848409</td>\n",
              "      <td>0.798846</td>\n",
              "      <td>81651.000000</td>\n",
              "      <td>0.707367</td>\n",
              "      <td>1119.509000</td>\n",
              "    </tr>\n",
              "    <tr>\n",
              "      <th>75%</th>\n",
              "      <td>105028.250000</td>\n",
              "      <td>494.187014</td>\n",
              "      <td>279.888575</td>\n",
              "      <td>0.842571</td>\n",
              "      <td>108375.750000</td>\n",
              "      <td>0.734991</td>\n",
              "      <td>1308.389750</td>\n",
              "    </tr>\n",
              "    <tr>\n",
              "      <th>max</th>\n",
              "      <td>235047.000000</td>\n",
              "      <td>997.291941</td>\n",
              "      <td>492.275279</td>\n",
              "      <td>0.962124</td>\n",
              "      <td>278217.000000</td>\n",
              "      <td>0.835455</td>\n",
              "      <td>2697.753000</td>\n",
              "    </tr>\n",
              "  </tbody>\n",
              "</table>\n",
              "</div>\n",
              "    <div class=\"colab-df-buttons\">\n",
              "\n",
              "  <div class=\"colab-df-container\">\n",
              "    <button class=\"colab-df-convert\" onclick=\"convertToInteractive('df-9cb0888d-0205-4006-affc-82b1c5861d6a')\"\n",
              "            title=\"Convert this dataframe to an interactive table.\"\n",
              "            style=\"display:none;\">\n",
              "\n",
              "  <svg xmlns=\"http://www.w3.org/2000/svg\" height=\"24px\" viewBox=\"0 -960 960 960\">\n",
              "    <path d=\"M120-120v-720h720v720H120Zm60-500h600v-160H180v160Zm220 220h160v-160H400v160Zm0 220h160v-160H400v160ZM180-400h160v-160H180v160Zm440 0h160v-160H620v160ZM180-180h160v-160H180v160Zm440 0h160v-160H620v160Z\"/>\n",
              "  </svg>\n",
              "    </button>\n",
              "\n",
              "  <style>\n",
              "    .colab-df-container {\n",
              "      display:flex;\n",
              "      gap: 12px;\n",
              "    }\n",
              "\n",
              "    .colab-df-convert {\n",
              "      background-color: #E8F0FE;\n",
              "      border: none;\n",
              "      border-radius: 50%;\n",
              "      cursor: pointer;\n",
              "      display: none;\n",
              "      fill: #1967D2;\n",
              "      height: 32px;\n",
              "      padding: 0 0 0 0;\n",
              "      width: 32px;\n",
              "    }\n",
              "\n",
              "    .colab-df-convert:hover {\n",
              "      background-color: #E2EBFA;\n",
              "      box-shadow: 0px 1px 2px rgba(60, 64, 67, 0.3), 0px 1px 3px 1px rgba(60, 64, 67, 0.15);\n",
              "      fill: #174EA6;\n",
              "    }\n",
              "\n",
              "    .colab-df-buttons div {\n",
              "      margin-bottom: 4px;\n",
              "    }\n",
              "\n",
              "    [theme=dark] .colab-df-convert {\n",
              "      background-color: #3B4455;\n",
              "      fill: #D2E3FC;\n",
              "    }\n",
              "\n",
              "    [theme=dark] .colab-df-convert:hover {\n",
              "      background-color: #434B5C;\n",
              "      box-shadow: 0px 1px 3px 1px rgba(0, 0, 0, 0.15);\n",
              "      filter: drop-shadow(0px 1px 2px rgba(0, 0, 0, 0.3));\n",
              "      fill: #FFFFFF;\n",
              "    }\n",
              "  </style>\n",
              "\n",
              "    <script>\n",
              "      const buttonEl =\n",
              "        document.querySelector('#df-9cb0888d-0205-4006-affc-82b1c5861d6a button.colab-df-convert');\n",
              "      buttonEl.style.display =\n",
              "        google.colab.kernel.accessAllowed ? 'block' : 'none';\n",
              "\n",
              "      async function convertToInteractive(key) {\n",
              "        const element = document.querySelector('#df-9cb0888d-0205-4006-affc-82b1c5861d6a');\n",
              "        const dataTable =\n",
              "          await google.colab.kernel.invokeFunction('convertToInteractive',\n",
              "                                                    [key], {});\n",
              "        if (!dataTable) return;\n",
              "\n",
              "        const docLinkHtml = 'Like what you see? Visit the ' +\n",
              "          '<a target=\"_blank\" href=https://colab.research.google.com/notebooks/data_table.ipynb>data table notebook</a>'\n",
              "          + ' to learn more about interactive tables.';\n",
              "        element.innerHTML = '';\n",
              "        dataTable['output_type'] = 'display_data';\n",
              "        await google.colab.output.renderOutput(dataTable, element);\n",
              "        const docLink = document.createElement('div');\n",
              "        docLink.innerHTML = docLinkHtml;\n",
              "        element.appendChild(docLink);\n",
              "      }\n",
              "    </script>\n",
              "  </div>\n",
              "\n",
              "\n",
              "<div id=\"df-46977f2c-fd63-42ff-9356-1b3f09736639\">\n",
              "  <button class=\"colab-df-quickchart\" onclick=\"quickchart('df-46977f2c-fd63-42ff-9356-1b3f09736639')\"\n",
              "            title=\"Suggest charts\"\n",
              "            style=\"display:none;\">\n",
              "\n",
              "<svg xmlns=\"http://www.w3.org/2000/svg\" height=\"24px\"viewBox=\"0 0 24 24\"\n",
              "     width=\"24px\">\n",
              "    <g>\n",
              "        <path d=\"M19 3H5c-1.1 0-2 .9-2 2v14c0 1.1.9 2 2 2h14c1.1 0 2-.9 2-2V5c0-1.1-.9-2-2-2zM9 17H7v-7h2v7zm4 0h-2V7h2v10zm4 0h-2v-4h2v4z\"/>\n",
              "    </g>\n",
              "</svg>\n",
              "  </button>\n",
              "\n",
              "<style>\n",
              "  .colab-df-quickchart {\n",
              "      --bg-color: #E8F0FE;\n",
              "      --fill-color: #1967D2;\n",
              "      --hover-bg-color: #E2EBFA;\n",
              "      --hover-fill-color: #174EA6;\n",
              "      --disabled-fill-color: #AAA;\n",
              "      --disabled-bg-color: #DDD;\n",
              "  }\n",
              "\n",
              "  [theme=dark] .colab-df-quickchart {\n",
              "      --bg-color: #3B4455;\n",
              "      --fill-color: #D2E3FC;\n",
              "      --hover-bg-color: #434B5C;\n",
              "      --hover-fill-color: #FFFFFF;\n",
              "      --disabled-bg-color: #3B4455;\n",
              "      --disabled-fill-color: #666;\n",
              "  }\n",
              "\n",
              "  .colab-df-quickchart {\n",
              "    background-color: var(--bg-color);\n",
              "    border: none;\n",
              "    border-radius: 50%;\n",
              "    cursor: pointer;\n",
              "    display: none;\n",
              "    fill: var(--fill-color);\n",
              "    height: 32px;\n",
              "    padding: 0;\n",
              "    width: 32px;\n",
              "  }\n",
              "\n",
              "  .colab-df-quickchart:hover {\n",
              "    background-color: var(--hover-bg-color);\n",
              "    box-shadow: 0 1px 2px rgba(60, 64, 67, 0.3), 0 1px 3px 1px rgba(60, 64, 67, 0.15);\n",
              "    fill: var(--button-hover-fill-color);\n",
              "  }\n",
              "\n",
              "  .colab-df-quickchart-complete:disabled,\n",
              "  .colab-df-quickchart-complete:disabled:hover {\n",
              "    background-color: var(--disabled-bg-color);\n",
              "    fill: var(--disabled-fill-color);\n",
              "    box-shadow: none;\n",
              "  }\n",
              "\n",
              "  .colab-df-spinner {\n",
              "    border: 2px solid var(--fill-color);\n",
              "    border-color: transparent;\n",
              "    border-bottom-color: var(--fill-color);\n",
              "    animation:\n",
              "      spin 1s steps(1) infinite;\n",
              "  }\n",
              "\n",
              "  @keyframes spin {\n",
              "    0% {\n",
              "      border-color: transparent;\n",
              "      border-bottom-color: var(--fill-color);\n",
              "      border-left-color: var(--fill-color);\n",
              "    }\n",
              "    20% {\n",
              "      border-color: transparent;\n",
              "      border-left-color: var(--fill-color);\n",
              "      border-top-color: var(--fill-color);\n",
              "    }\n",
              "    30% {\n",
              "      border-color: transparent;\n",
              "      border-left-color: var(--fill-color);\n",
              "      border-top-color: var(--fill-color);\n",
              "      border-right-color: var(--fill-color);\n",
              "    }\n",
              "    40% {\n",
              "      border-color: transparent;\n",
              "      border-right-color: var(--fill-color);\n",
              "      border-top-color: var(--fill-color);\n",
              "    }\n",
              "    60% {\n",
              "      border-color: transparent;\n",
              "      border-right-color: var(--fill-color);\n",
              "    }\n",
              "    80% {\n",
              "      border-color: transparent;\n",
              "      border-right-color: var(--fill-color);\n",
              "      border-bottom-color: var(--fill-color);\n",
              "    }\n",
              "    90% {\n",
              "      border-color: transparent;\n",
              "      border-bottom-color: var(--fill-color);\n",
              "    }\n",
              "  }\n",
              "</style>\n",
              "\n",
              "  <script>\n",
              "    async function quickchart(key) {\n",
              "      const quickchartButtonEl =\n",
              "        document.querySelector('#' + key + ' button');\n",
              "      quickchartButtonEl.disabled = true;  // To prevent multiple clicks.\n",
              "      quickchartButtonEl.classList.add('colab-df-spinner');\n",
              "      try {\n",
              "        const charts = await google.colab.kernel.invokeFunction(\n",
              "            'suggestCharts', [key], {});\n",
              "      } catch (error) {\n",
              "        console.error('Error during call to suggestCharts:', error);\n",
              "      }\n",
              "      quickchartButtonEl.classList.remove('colab-df-spinner');\n",
              "      quickchartButtonEl.classList.add('colab-df-quickchart-complete');\n",
              "    }\n",
              "    (() => {\n",
              "      let quickchartButtonEl =\n",
              "        document.querySelector('#df-46977f2c-fd63-42ff-9356-1b3f09736639 button');\n",
              "      quickchartButtonEl.style.display =\n",
              "        google.colab.kernel.accessAllowed ? 'block' : 'none';\n",
              "    })();\n",
              "  </script>\n",
              "</div>\n",
              "\n",
              "    </div>\n",
              "  </div>\n"
            ],
            "application/vnd.google.colaboratory.intrinsic+json": {
              "type": "dataframe",
              "summary": "{\n  \"name\": \"raisin\",\n  \"rows\": 8,\n  \"fields\": [\n    {\n      \"column\": \"Area\",\n      \"properties\": {\n        \"dtype\": \"number\",\n        \"std\": 71779.03790093416,\n        \"min\": 900.0,\n        \"max\": 235047.0,\n        \"num_unique_values\": 8,\n        \"samples\": [\n          87804.12777777777,\n          78902.0,\n          900.0\n        ],\n        \"semantic_type\": \"\",\n        \"description\": \"\"\n      }\n    },\n    {\n      \"column\": \"MajorAxisLength\",\n      \"properties\": {\n        \"dtype\": \"number\",\n        \"std\": 308.53234008572025,\n        \"min\": 116.03512062468943,\n        \"max\": 997.2919406,\n        \"num_unique_values\": 8,\n        \"samples\": [\n          430.92995049844444,\n          407.80395115,\n          900.0\n        ],\n        \"semantic_type\": \"\",\n        \"description\": \"\"\n      }\n    },\n    {\n      \"column\": \"MinorAxisLength\",\n      \"properties\": {\n        \"dtype\": \"number\",\n        \"std\": 264.91360620496556,\n        \"min\": 49.98890170571764,\n        \"max\": 900.0,\n        \"num_unique_values\": 8,\n        \"samples\": [\n          254.48813290322227,\n          247.84840865,\n          900.0\n        ],\n        \"semantic_type\": \"\",\n        \"description\": \"\"\n      }\n    },\n    {\n      \"column\": \"Eccentricity\",\n      \"properties\": {\n        \"dtype\": \"number\",\n        \"std\": 317.9675705812945,\n        \"min\": 0.09031840993160666,\n        \"max\": 900.0,\n        \"num_unique_values\": 8,\n        \"samples\": [\n          0.7815421500333333,\n          0.798846044,\n          900.0\n        ],\n        \"semantic_type\": \"\",\n        \"description\": \"\"\n      }\n    },\n    {\n      \"column\": \"ConvexArea\",\n      \"properties\": {\n        \"dtype\": \"number\",\n        \"std\": 85326.7295231056,\n        \"min\": 900.0,\n        \"max\": 278217.0,\n        \"num_unique_values\": 8,\n        \"samples\": [\n          91186.09,\n          81651.0,\n          900.0\n        ],\n        \"semantic_type\": \"\",\n        \"description\": \"\"\n      }\n    },\n    {\n      \"column\": \"Extent\",\n      \"properties\": {\n        \"dtype\": \"number\",\n        \"std\": 317.9920039511005,\n        \"min\": 0.053468200288159295,\n        \"max\": 900.0,\n        \"num_unique_values\": 8,\n        \"samples\": [\n          0.6995079264077777,\n          0.7073669579999999,\n          900.0\n        ],\n        \"semantic_type\": \"\",\n        \"description\": \"\"\n      }\n    },\n    {\n      \"column\": \"Perimeter\",\n      \"properties\": {\n        \"dtype\": \"number\",\n        \"std\": 713.6329075426044,\n        \"min\": 273.7643154160196,\n        \"max\": 2697.753,\n        \"num_unique_values\": 8,\n        \"samples\": [\n          1165.9066355555556,\n          1119.509,\n          900.0\n        ],\n        \"semantic_type\": \"\",\n        \"description\": \"\"\n      }\n    }\n  ]\n}"
            }
          },
          "metadata": {},
          "execution_count": 4
        }
      ]
    },
    {
      "cell_type": "code",
      "source": [
        "raisin_input = raisin[['Area', 'MajorAxisLength', 'MinorAxisLength', 'Eccentricity', 'ConvexArea', 'Extent']].to_numpy()\n",
        "raisin_target = raisin['Class'].to_numpy()"
      ],
      "metadata": {
        "id": "iD6S0CUAxoBa"
      },
      "execution_count": 5,
      "outputs": []
    },
    {
      "cell_type": "code",
      "source": [
        "from sklearn.model_selection import train_test_split\n",
        "\n",
        "train_input, test_input, train_target, test_target = train_test_split(\n",
        "    raisin_input, raisin_target, random_state=42)\n",
        "\n",
        "print(train_input[:3])"
      ],
      "metadata": {
        "colab": {
          "base_uri": "https://localhost:8080/"
        },
        "id": "IMIebGPOyFiN",
        "outputId": "bc5a3dc1-2964-43bb-e88c-445f8b803e0c"
      },
      "execution_count": 7,
      "outputs": [
        {
          "output_type": "stream",
          "name": "stdout",
          "text": [
            "[[1.17714000e+05 4.80629674e+02 3.14026534e+02 7.57043179e-01\n",
            "  1.20922000e+05 7.24300244e-01]\n",
            " [1.14289000e+05 5.80600830e+02 2.61763698e+02 8.92599892e-01\n",
            "  1.20657000e+05 6.49487407e-01]\n",
            " [1.17354000e+05 5.20326612e+02 2.89661986e+02 8.30718560e-01\n",
            "  1.21057000e+05 7.12064948e-01]]\n"
          ]
        }
      ]
    },
    {
      "cell_type": "code",
      "source": [
        "from sklearn.tree import DecisionTreeClassifier\n",
        "\n",
        "# default, max_depth=None\n",
        "dt = DecisionTreeClassifier(max_depth=4, random_state=42)\n",
        "dt.fit(train_input, train_target)\n",
        "print(dt.score(train_input, train_target))\n",
        "print(dt.score(test_input, test_target))"
      ],
      "metadata": {
        "colab": {
          "base_uri": "https://localhost:8080/"
        },
        "id": "EIulfA6QycO5",
        "outputId": "a4bf09a1-f6e7-4305-b71a-6e26f02bd683"
      },
      "execution_count": 15,
      "outputs": [
        {
          "output_type": "stream",
          "name": "stdout",
          "text": [
            "0.8992592592592593\n",
            "0.8533333333333334\n"
          ]
        }
      ]
    },
    {
      "cell_type": "code",
      "source": [
        "import matplotlib.pyplot as plt\n",
        "from sklearn.tree import plot_tree\n",
        "\n",
        "plt.figure(figsize=(20, 15))\n",
        "plot_tree (dt, max_depth=2, filled=True, feature_names=['Area', 'MajorAxisLength',\n",
        "                                                        'MinorAxisLength', 'Eccentricity',\n",
        "                                                        'ConvexArea', 'Extent'])\n",
        "plt.show()"
      ],
      "metadata": {
        "colab": {
          "base_uri": "https://localhost:8080/",
          "height": 1000
        },
        "id": "A-4kMbY5zDm2",
        "outputId": "8c4f6b8f-4449-4f0e-cf8d-ca37377984e9"
      },
      "execution_count": 19,
      "outputs": [
        {
          "output_type": "display_data",
          "data": {
            "text/plain": [
              "<Figure size 2000x1500 with 1 Axes>"
            ],
            "image/png": "[encoded data removed]"
          },
          "metadata": {}
        }
      ]
    },
    {
      "cell_type": "code",
      "source": [
        "print('Area\\t   ', 'MajorLen\\t', 'MinorLen', 'Eccentricity', 'ConvexArea', 'Extent')\n",
        "print(dt.feature_importances_)"
      ],
      "metadata": {
        "colab": {
          "base_uri": "https://localhost:8080/"
        },
        "id": "4ldBNgz-z7la",
        "outputId": "4d42b419-77df-4177-bd63-dbe36448e2b5"
      },
      "execution_count": 31,
      "outputs": [
        {
          "output_type": "stream",
          "name": "stdout",
          "text": [
            "Area\t    MajorLen\t MinorLen Eccentricity ConvexArea Extent\n",
            "[0.01448493 0.90320069 0.00940239 0.02833014 0.02692015 0.0176617 ]\n"
          ]
        }
      ]
    },
    {
      "cell_type": "markdown",
      "source": [
        "# 4. Random Forest; RF"
      ],
      "metadata": {
        "id": "DGOmJyTmAZKD"
      }
    },
    {
      "cell_type": "markdown",
      "source": [
        "# 5. Support Vector Machine; SVM"
      ],
      "metadata": {
        "id": "vfiO2PfHAcO6"
      }
    },
    {
      "cell_type": "markdown",
      "source": [
        "# References\n",
        "[1] CINAR I., KOKLU M. and TASDEMIR S., (2020), Classification of Raisin Grains Using Machine Vision and Artificial Intelligence Methods. Gazi Journal of Engineering Sciences, vol. 6, no. 3, pp. 200-209, December, 2020."
      ],
      "metadata": {
        "id": "2p0AcQuMRgWD"
      }
    }
  ]
}