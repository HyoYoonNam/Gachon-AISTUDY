{
  "nbformat": 4,
  "nbformat_minor": 0,
  "metadata": {
    "colab": {
      "provenance": [],
      "authorship_tag": "ABX9TyP6LxlSjbYiL0l0L7rrQiJt",
      "include_colab_link": true
    },
    "kernelspec": {
      "name": "python3",
      "display_name": "Python 3"
    },
    "language_info": {
      "name": "python"
    }
  },
  "cells": [
    {
      "cell_type": "markdown",
      "metadata": {
        "id": "view-in-github",
        "colab_type": "text"
      },
      "source": [
        "<a href=\"https://colab.research.google.com/github/rudevico/Gachon-AISTUDY/blob/main/4_Data_preprocessing.ipynb\" target=\"_parent\"><img src=\"https://colab.research.google.com/assets/colab-badge.svg\" alt=\"Open In Colab\"/></a>"
      ]
    },
    {
      "cell_type": "markdown",
      "source": [
        "# 1. Accuracy가 1.0인 Model은 항상 완벽할까?\n",
        "그렇지 않다. 예를 들어 앞선 **3_sampling-bias-and-numpy.ipynb**의 결과로 만들어진 Model은 test_input에 대해서 predict가 test_target과 완벽하게 일치하는 즉, Accuracy가 1.0인 Model이었다.  \n",
        "하지만 이는 test_input에 대해서만 적용되는 이야기이고, [length, weight] = [25.0, 150.0]인 bream을 Model에 넣었을 때는 smelt라고 잘못 판단하게 된다.  \n",
        "  \n",
        "본 예제에서는 새로운 bream에 대해서 잘못 판단하게 된 이유와 이를 해결하는 방법을 다루겠다.  \n",
        "또한 이전에는 list comprehension으로 만든 2-dim list를 nparray로 변환했지만 이제는 처음부터 python list를 nparray로 변환하는 방법을 사용하여 sample data set을 만들겠다."
      ],
      "metadata": {
        "id": "hTqvdejeNrod"
      }
    },
    {
      "cell_type": "code",
      "source": [
        "fish_length = [25.4, 26.3, 26.5, 29.0, 29.0, 29.7, 29.7, 30.0, 30.0, 30.7, 31.0, 31.0,\n",
        "                31.5, 32.0, 32.0, 32.0, 33.0, 33.0, 33.5, 33.5, 34.0, 34.0, 34.5, 35.0,\n",
        "                35.0, 35.0, 35.0, 36.0, 36.0, 37.0, 38.5, 38.5, 39.5, 41.0, 41.0, 9.8,\n",
        "                10.5, 10.6, 11.0, 11.2, 11.3, 11.8, 11.8, 12.0, 12.2, 12.4, 13.0, 14.3, 15.0]\n",
        "fish_weight = [242.0, 290.0, 340.0, 363.0, 430.0, 450.0, 500.0, 390.0, 450.0, 500.0, 475.0, 500.0,\n",
        "                500.0, 340.0, 600.0, 600.0, 700.0, 700.0, 610.0, 650.0, 575.0, 685.0, 620.0, 680.0,\n",
        "                700.0, 725.0, 720.0, 714.0, 850.0, 1000.0, 920.0, 955.0, 925.0, 975.0, 950.0, 6.7,\n",
        "                7.5, 7.0, 9.7, 9.8, 8.7, 10.0, 9.9, 9.8, 12.2, 13.4, 12.2, 19.7, 19.9]"
      ],
      "metadata": {
        "id": "zuAeXPPGOt6i"
      },
      "execution_count": null,
      "outputs": []
    },
    {
      "cell_type": "markdown",
      "source": [
        "**tuple**은 **immutable data type**이기 때문에 function에 parameter로 전달할 때 **값이 변경되지 않는다**는 것을 보장할 수 있다. 따라서 parameter로 전달할 때는 tuple을 사용하는 것이 일종의 관례처럼 작용한다.  \n",
        "* `np.column_stack()`은 입력받은 parameter를 2-dim array로 변환한다.  \n",
        "* `np.concatenate()`는 입력받은 parameter를 연결한다.  \n",
        "* `np.ones()`와 `np.zeros()`는 각각 입력받은 parameter 값 만큼 1과 0으로 채워진 array를 생성한다."
      ],
      "metadata": {
        "id": "Vd2IwrpUQX_w"
      }
    },
    {
      "cell_type": "code",
      "source": [
        "import numpy as np\n",
        "\n",
        "fish_data = np.column_stack((fish_length, fish_weight))\n",
        "print(fish_data[:5])"
      ],
      "metadata": {
        "colab": {
          "base_uri": "https://localhost:8080/"
        },
        "id": "Kov6tih-O_lu",
        "outputId": "a36a0c16-9cfe-4e8f-9093-4232d6ec8f99"
      },
      "execution_count": null,
      "outputs": [
        {
          "output_type": "stream",
          "name": "stdout",
          "text": [
            "[[ 25.4 242. ]\n",
            " [ 26.3 290. ]\n",
            " [ 26.5 340. ]\n",
            " [ 29.  363. ]\n",
            " [ 29.  430. ]]\n"
          ]
        }
      ]
    },
    {
      "cell_type": "code",
      "source": [
        "fish_target = np.concatenate((np.ones(35), np.zeros(14)))\n",
        "print(fish_target)"
      ],
      "metadata": {
        "colab": {
          "base_uri": "https://localhost:8080/"
        },
        "id": "aLdc-ZdPPqz0",
        "outputId": "a19cb732-c6b1-4dd6-d2f9-813f3d757aa1"
      },
      "execution_count": null,
      "outputs": [
        {
          "output_type": "stream",
          "name": "stdout",
          "text": [
            "[1. 1. 1. 1. 1. 1. 1. 1. 1. 1. 1. 1. 1. 1. 1. 1. 1. 1. 1. 1. 1. 1. 1. 1.\n",
            " 1. 1. 1. 1. 1. 1. 1. 1. 1. 1. 1. 0. 0. 0. 0. 0. 0. 0. 0. 0. 0. 0. 0. 0.\n",
            " 0.]\n"
          ]
        }
      ]
    },
    {
      "cell_type": "code",
      "source": [
        "from sklearn.model_selection import train_test_split\n",
        "\n",
        "train_input, test_input, train_target, test_target = train_test_split(fish_data, fish_target, stratify=fish_target, random_state=42)\n",
        "\n",
        "print(train_input.shape, test_input.shape)\n",
        "print(train_target.shape, test_target.shape)\n",
        "print(test_target)"
      ],
      "metadata": {
        "colab": {
          "base_uri": "https://localhost:8080/"
        },
        "id": "X2lUs6kDR5ot",
        "outputId": "a8c8840e-a863-4285-8b0f-85f313cc1880"
      },
      "execution_count": null,
      "outputs": [
        {
          "output_type": "stream",
          "name": "stdout",
          "text": [
            "(36, 2) (13, 2)\n",
            "(36,) (13,)\n",
            "[0. 0. 1. 0. 1. 0. 1. 1. 1. 1. 1. 1. 1.]\n"
          ]
        }
      ]
    },
    {
      "cell_type": "code",
      "source": [
        "from sklearn.neighbors import KNeighborsClassifier\n",
        "\n",
        "kn = KNeighborsClassifier()\n",
        "kn.fit(train_input, train_target)\n",
        "kn.score(test_input, test_target)"
      ],
      "metadata": {
        "colab": {
          "base_uri": "https://localhost:8080/"
        },
        "id": "tRTJfE5OW9Jj",
        "outputId": "75075f97-480b-44ed-82a9-ea41f9d1fa9c"
      },
      "execution_count": null,
      "outputs": [
        {
          "output_type": "execute_result",
          "data": {
            "text/plain": [
              "1.0"
            ]
          },
          "metadata": {},
          "execution_count": 16
        }
      ]
    },
    {
      "cell_type": "markdown",
      "source": [
        "앞선 과정에서는 length=25, weight=150인 bream(1)을 smelt(0)으로 잘못 판단한 원인을 sampling bias라고 추측하고, `stratify` parameter를 설정해서 sampling bias 문제를 해결했다.  \n",
        "그런데 다음 cell을 보면 여전히 Model이 bream(1)을 smelt(0)으로 잘못 판단하고 있음을 확인할 수 있다."
      ],
      "metadata": {
        "id": "h243iTJzYPWU"
      }
    },
    {
      "cell_type": "code",
      "source": [
        "print(kn.predict([[25, 150]]))"
      ],
      "metadata": {
        "colab": {
          "base_uri": "https://localhost:8080/"
        },
        "id": "YAzTPu_DXPtt",
        "outputId": "1b9c5997-7a6c-43ab-b865-b6c031be0a16"
      },
      "execution_count": null,
      "outputs": [
        {
          "output_type": "stream",
          "name": "stdout",
          "text": [
            "[0.]\n"
          ]
        }
      ]
    },
    {
      "cell_type": "markdown",
      "source": [
        "# 2. K-NN Algorithm\n",
        "K Nearest Neighbors Algorithm은 default로 주어진 sample에 대해서 **거리가 가장 가까운 5개의 이웃**을 기준으로 sample의 target값을 예측한다.  \n",
        "다음 cell과 같이 length=25, weight=150인 datainstance를 train set과 함께 scatter plot으로 그려보자.  \n",
        "바로 위의 bream이 제일 가까운 이웃인 것은 육안으로도 확인이 가능하지만, 그 다음으로 가까운 이웃들은 좌측의 smelt인지, 우측의 bream인지 구분이 어렵다."
      ],
      "metadata": {
        "id": "YS8CuquYZHPU"
      }
    },
    {
      "cell_type": "code",
      "source": [
        "import matplotlib.pyplot as plt\n",
        "\n",
        "plt.scatter(train_input[:, 0], train_input[:, 1])\n",
        "plt.scatter(25, 150, marker='^')\n",
        "plt.xlabel('length')\n",
        "plt.ylabel('weight')\n",
        "plt.show()"
      ],
      "metadata": {
        "colab": {
          "base_uri": "https://localhost:8080/",
          "height": 449
        },
        "id": "AFdt55aMX1Ue",
        "outputId": "6645ef53-f0fc-4a42-c4b2-0af0c214df95"
      },
      "execution_count": null,
      "outputs": [
        {
          "output_type": "display_data",
          "data": {
            "text/plain": [
              "<Figure size 640x480 with 1 Axes>"
            ],
            "image/png": "[encoded data removed]"
          },
          "metadata": {}
        }
      ]
    },
    {
      "cell_type": "markdown",
      "source": [
        "이때 `KNeighborsClassifier` 클래스가 제공하는 `kneighbors()` 메서드를 사용하면 parameter로 입력한 sample과 가장 가까운 이웃들의 거리와 인덱스를 확인할 수 있다(default=5)."
      ],
      "metadata": {
        "id": "2uANXux8a2cS"
      }
    },
    {
      "cell_type": "code",
      "source": [
        "distances, indexes = kn.kneighbors([[25, 150]])\n",
        "print(indexes)"
      ],
      "metadata": {
        "colab": {
          "base_uri": "https://localhost:8080/"
        },
        "id": "SQAlYs3CZZs6",
        "outputId": "c2ad6d0f-45a5-45fa-c7dd-acc53b251d14"
      },
      "execution_count": null,
      "outputs": [
        {
          "output_type": "stream",
          "name": "stdout",
          "text": [
            "[[21 33 19 30  1]]\n"
          ]
        }
      ]
    },
    {
      "cell_type": "markdown",
      "source": [
        "index만 봐서는 가까운 이웃 sample들이 bream인지, smelt인지 구분이 어려우므로 다음 cell과 같이 scatter plot상에 marker를 다르게 해서 표현해보자."
      ],
      "metadata": {
        "id": "H8H4xVWdbRXW"
      }
    },
    {
      "cell_type": "code",
      "source": [
        "plt.scatter(train_input[:, 0], train_input[:, 1])\n",
        "plt.scatter(25, 150, marker='^')\n",
        "# line 1에서의 train_input 중에서 line 3과 겹치는 sample이 있다면 line 3의 marker로 overwritting된다.\n",
        "plt.scatter(train_input[indexes, 0], train_input[indexes, 1], marker='D')\n",
        "plt.xlabel('length')\n",
        "plt.ylabel('weight')\n",
        "plt.show()"
      ],
      "metadata": {
        "colab": {
          "base_uri": "https://localhost:8080/",
          "height": 449
        },
        "id": "W9ACTqHRbenO",
        "outputId": "d042a2e5-16ef-451c-b6d7-c278e33a64cb"
      },
      "execution_count": null,
      "outputs": [
        {
          "output_type": "display_data",
          "data": {
            "text/plain": [
              "<Figure size 640x480 with 1 Axes>"
            ],
            "image/png": "[encoded data removed]"
          },
          "metadata": {}
        }
      ]
    },
    {
      "cell_type": "markdown",
      "source": [
        "이때 scale distortion에 의해 육안상의 거리와 실제 거리 간의 차이가 발생한다.  \n",
        "이를 `plt.xlim()`을 통해 x axis scale을 조정하여 해결할 수 있다."
      ],
      "metadata": {
        "id": "ujQAqXFZ2l5I"
      }
    },
    {
      "cell_type": "code",
      "source": [
        "plt.scatter(train_input[:, 0], train_input[:, 1])\n",
        "plt.scatter(25, 150, marker='^')\n",
        "# line 1에서의 train_input 중에서 line 3과 겹치는 sample이 있다면 line 3의 marker로 overwritting된다.\n",
        "plt.scatter(train_input[indexes, 0], train_input[indexes, 1], marker='D')\n",
        "plt.xlim((0, 1000))\n",
        "plt.xlabel('length')\n",
        "plt.ylabel('weight')\n",
        "plt.show()"
      ],
      "metadata": {
        "colab": {
          "base_uri": "https://localhost:8080/",
          "height": 449
        },
        "id": "wlnEQsnZ3A6c",
        "outputId": "f498d2b2-d211-4846-e772-ea22052b1d5d"
      },
      "execution_count": null,
      "outputs": [
        {
          "output_type": "display_data",
          "data": {
            "text/plain": [
              "<Figure size 640x480 with 1 Axes>"
            ],
            "image/png": "[encoded data removed]"
          },
          "metadata": {}
        }
      ]
    },
    {
      "cell_type": "markdown",
      "source": [
        "이때 x axis scale을 조정해서 scale distortion은 해결했으나, 근본적인 문제는 해결되지 않았다.  \n",
        "> K-NN Algorithm에서 distance 기준으로 nearest neighbors를 정할 때 length와 weight의 단위 차이 때문에 length 차이는 사실상 distance 계산에 영향을 미치지 못한다.  \n",
        "\n",
        "이를 해결하기 위해서는 **data preprocessing; 데이터 전처리**가 필요하다.  \n",
        "본 예제에서는 가장 널리 사용하는 data preprocessing 방법 중 하나인 **standard score; 표준점수**, 그 중에서도 가장 기본적인 **Z-Score**를 사용하겠다.  \n",
        "$ Z =  \\frac{X- \\mu }{  \\sigma } $"
      ],
      "metadata": {
        "id": "qwaSc-BlIleB"
      }
    },
    {
      "cell_type": "code",
      "source": [
        "mean = np.mean(train_input, axis=0)\n",
        "std = np.std(train_input, axis=0)\n",
        "print(mean, std)\n",
        "\n",
        "train_scaled = (train_input - mean) / std\n",
        "print(train_scaled)"
      ],
      "metadata": {
        "colab": {
          "base_uri": "https://localhost:8080/"
        },
        "id": "-FABRUVVLUnf",
        "outputId": "79e00daa-6f5f-4558-c22a-1690eaccff51"
      },
      "execution_count": null,
      "outputs": [
        {
          "output_type": "stream",
          "name": "stdout",
          "text": [
            "[ 27.29722222 454.09722222] [  9.98244253 323.29893931]\n",
            "[[ 0.24070039  0.14198246]\n",
            " [-1.51237757 -1.36683783]\n",
            " [ 0.5712808   0.76060496]\n",
            " [-1.60253587 -1.37766373]\n",
            " [ 1.22242404  1.45655528]\n",
            " [ 0.17057727 -0.07453542]\n",
            " [ 0.87180845  0.80390854]\n",
            " [ 0.87180845  1.22457184]\n",
            " [ 0.37092904  0.06465464]\n",
            " [ 0.77163257  0.82246721]\n",
            " [ 0.97198434  1.68853872]\n",
            " [-1.61255346 -1.3742613 ]\n",
            " [ 0.72154463  0.51315596]\n",
            " [-1.53241275 -1.3742613 ]\n",
            " [ 0.17057727 -0.28177396]\n",
            " [ 0.5712808   0.76060496]\n",
            " [ 0.34087627  0.14198246]\n",
            " [ 1.12224816  1.54934866]\n",
            " [ 0.62136874  0.60594934]\n",
            " [-1.30200822 -1.34363949]\n",
            " [ 0.42101698  0.14198246]\n",
            " [-0.19005591 -0.65604058]\n",
            " [-1.75279969 -1.38384995]\n",
            " [ 0.47110492  0.45129371]\n",
            " [-1.68267658 -1.38137546]\n",
            " [ 0.62136874  0.48222484]\n",
            " [-1.67265899 -1.38292202]\n",
            " [ 0.77163257  0.76060496]\n",
            " [ 0.47110492  0.45129371]\n",
            " [ 0.77163257  0.83793278]\n",
            " [-1.43223687 -1.36683783]\n",
            " [ 0.27075315 -0.01267317]\n",
            " [ 0.47110492 -0.35291555]\n",
            " [-1.2318851  -1.34302087]\n",
            " [ 0.27075315 -0.19825992]\n",
            " [ 1.37268787  1.61121091]]\n"
          ]
        }
      ]
    },
    {
      "cell_type": "code",
      "source": [
        "plt.scatter(train_scaled[:, 0], train_scaled[:, 1])\n",
        "plt.scatter(25, 150, marker='^')\n",
        "plt.xlabel('length')\n",
        "plt.ylabel('weight')\n",
        "plt.show()"
      ],
      "metadata": {
        "colab": {
          "base_uri": "https://localhost:8080/",
          "height": 449
        },
        "id": "9iSYA-rvMwkm",
        "outputId": "58ff637c-0391-49d4-faf6-76e069695f71"
      },
      "execution_count": null,
      "outputs": [
        {
          "output_type": "display_data",
          "data": {
            "text/plain": [
              "<Figure size 640x480 with 1 Axes>"
            ],
            "image/png": "[encoded data removed]"
          },
          "metadata": {}
        }
      ]
    },
    {
      "cell_type": "markdown",
      "source": [
        "당연하게도 train set에 대해서는 Z-Score로 standardization을 수행했지만, [25, 150]에 대해서는 하지 않았기 때문에 scatter plot상에 동떨어진 곳에 찍힘을 알 수 있다."
      ],
      "metadata": {
        "id": "9guA7ZXxNCYB"
      }
    },
    {
      "cell_type": "code",
      "source": [
        "new_bream = ([25, 150] - mean) / std\n",
        "plt.scatter(train_scaled[:, 0], train_scaled[:, 1])\n",
        "plt.scatter(new_bream[0], new_bream[1])\n",
        "plt.xlabel('length')\n",
        "plt.ylabel('weight')\n",
        "plt.show()"
      ],
      "metadata": {
        "colab": {
          "base_uri": "https://localhost:8080/",
          "height": 449
        },
        "id": "XUjQDPykNTlF",
        "outputId": "feb74c36-f542-4bd1-a9cd-db4d63165932"
      },
      "execution_count": null,
      "outputs": [
        {
          "output_type": "display_data",
          "data": {
            "text/plain": [
              "<Figure size 640x480 with 1 Axes>"
            ],
            "image/png": "[encoded data removed]"
          },
          "metadata": {}
        }
      ]
    },
    {
      "cell_type": "markdown",
      "source": [
        "이제 train set을 사용하여 fitting을 하고, Model을 test해보자.  \n",
        "이때 test set도 마찬가지로 Z-Score로의 standardization을 해야함에 유의하자."
      ],
      "metadata": {
        "id": "Z0O5mq2aNnbH"
      }
    },
    {
      "cell_type": "code",
      "source": [
        "test_scaled = (test_input - mean) / std\n",
        "\n",
        "kn.fit(train_scaled, train_target)\n",
        "kn.score(test_scaled, test_target)"
      ],
      "metadata": {
        "colab": {
          "base_uri": "https://localhost:8080/"
        },
        "id": "fexf_qC_N6-2",
        "outputId": "36e57f61-7afd-4759-d05d-3c49b5c9f074"
      },
      "execution_count": null,
      "outputs": [
        {
          "output_type": "execute_result",
          "data": {
            "text/plain": [
              "1.0"
            ]
          },
          "metadata": {},
          "execution_count": 27
        }
      ]
    },
    {
      "cell_type": "markdown",
      "source": [
        "이제 [25, 150](정확히는 이를 Z-Score로 환산한 값)에 대해서 정상적으로 bream(1)이라고 판단하는 것을 확인할 수 있다."
      ],
      "metadata": {
        "id": "k12kWknPOUfz"
      }
    },
    {
      "cell_type": "code",
      "source": [
        "print(kn.predict([new_bream]))"
      ],
      "metadata": {
        "colab": {
          "base_uri": "https://localhost:8080/"
        },
        "id": "Ugm_9A-FOOe2",
        "outputId": "37262c7b-0dfb-4a14-b21b-ef789e08922b"
      },
      "execution_count": null,
      "outputs": [
        {
          "output_type": "stream",
          "name": "stdout",
          "text": [
            "[1.]\n"
          ]
        }
      ]
    }
  ]
}