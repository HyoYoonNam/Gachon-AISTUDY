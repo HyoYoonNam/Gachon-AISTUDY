{
  "nbformat": 4,
  "nbformat_minor": 0,
  "metadata": {
    "colab": {
      "provenance": [],
      "collapsed_sections": [
        "pa0euUlD-i5L",
        "1KO3vJ_w-9bm",
        "BKlEFGFhCzie",
        "J4R6-FbhDl62",
        "2yMt10h8Eje6",
        "BiseHQLA7Mf2",
        "Ty-zT7t-AmZP",
        "I287UhYaWZ_V",
        "rOZwWI86fa0i"
      ],
      "authorship_tag": "ABX9TyPWZswfCyXV8b5IW6ZyM5/V",
      "include_colab_link": true
    },
    "kernelspec": {
      "name": "python3",
      "display_name": "Python 3"
    },
    "language_info": {
      "name": "python"
    }
  },
  "cells": [
    {
      "cell_type": "markdown",
      "metadata": {
        "id": "view-in-github",
        "colab_type": "text"
      },
      "source": [
        "<a href=\"https://colab.research.google.com/github/rudevico/Gachon-AISTUDY/blob/main/Diabetes_Classification.ipynb\" target=\"_parent\"><img src=\"https://colab.research.google.com/assets/colab-badge.svg\" alt=\"Open In Colab\"/></a>"
      ]
    },
    {
      "cell_type": "markdown",
      "source": [
        "# 0. Introduction\n",
        "[Download Sample data set: diabetes.csv](https://github.com/plotly/datasets/blob/master/diabetes.csv)  \n",
        "Diabetes(당뇨병) data set에 대해서 여러 가지의 Clssification algorithm을 적용해서 분류해보겠다.  \n",
        "\n",
        "**types of Classification algorithms that we use**  \n",
        "1. K-Nearest Neighbors; K-NN\n",
        "2. Logistic Regression; LR\n",
        "3. Decision Tree; DT\n",
        "4. Random Forest; RF\n",
        "5. Support Vector Machine; SVM"
      ],
      "metadata": {
        "id": "KtMGZ5pU862x"
      }
    },
    {
      "cell_type": "markdown",
      "source": [
        "## 0. 1. Load data set"
      ],
      "metadata": {
        "id": "pa0euUlD-i5L"
      }
    },
    {
      "cell_type": "code",
      "source": [
        "import pandas as pd\n",
        "\n",
        "diabetes = pd.read_csv('https://raw.githubusercontent.com/plotly/datasets/master/diabetes.csv')\n",
        "diabetes.head()"
      ],
      "metadata": {
        "colab": {
          "base_uri": "https://localhost:8080/",
          "height": 206
        },
        "id": "KuecOP0h90JK",
        "outputId": "ad873b9f-8086-4d53-ce67-7cdebac52d1e"
      },
      "execution_count": 1,
      "outputs": [
        {
          "output_type": "execute_result",
          "data": {
            "text/plain": [
              "   Pregnancies  Glucose  BloodPressure  SkinThickness  Insulin   BMI  \\\n",
              "0            6      148             72             35        0  33.6   \n",
              "1            1       85             66             29        0  26.6   \n",
              "2            8      183             64              0        0  23.3   \n",
              "3            1       89             66             23       94  28.1   \n",
              "4            0      137             40             35      168  43.1   \n",
              "\n",
              "   DiabetesPedigreeFunction  Age  Outcome  \n",
              "0                     0.627   50        1  \n",
              "1                     0.351   31        0  \n",
              "2                     0.672   32        1  \n",
              "3                     0.167   21        0  \n",
              "4                     2.288   33        1  "
            ],
            "text/html": [
              "\n",
              "  <div id=\"df-fcff91eb-59fb-4237-a34f-c5040174dee9\" class=\"colab-df-container\">\n",
              "    <div>\n",
              "<style scoped>\n",
              "    .dataframe tbody tr th:only-of-type {\n",
              "        vertical-align: middle;\n",
              "    }\n",
              "\n",
              "    .dataframe tbody tr th {\n",
              "        vertical-align: top;\n",
              "    }\n",
              "\n",
              "    .dataframe thead th {\n",
              "        text-align: right;\n",
              "    }\n",
              "</style>\n",
              "<table border=\"1\" class=\"dataframe\">\n",
              "  <thead>\n",
              "    <tr style=\"text-align: right;\">\n",
              "      <th></th>\n",
              "      <th>Pregnancies</th>\n",
              "      <th>Glucose</th>\n",
              "      <th>BloodPressure</th>\n",
              "      <th>SkinThickness</th>\n",
              "      <th>Insulin</th>\n",
              "      <th>BMI</th>\n",
              "      <th>DiabetesPedigreeFunction</th>\n",
              "      <th>Age</th>\n",
              "      <th>Outcome</th>\n",
              "    </tr>\n",
              "  </thead>\n",
              "  <tbody>\n",
              "    <tr>\n",
              "      <th>0</th>\n",
              "      <td>6</td>\n",
              "      <td>148</td>\n",
              "      <td>72</td>\n",
              "      <td>35</td>\n",
              "      <td>0</td>\n",
              "      <td>33.6</td>\n",
              "      <td>0.627</td>\n",
              "      <td>50</td>\n",
              "      <td>1</td>\n",
              "    </tr>\n",
              "    <tr>\n",
              "      <th>1</th>\n",
              "      <td>1</td>\n",
              "      <td>85</td>\n",
              "      <td>66</td>\n",
              "      <td>29</td>\n",
              "      <td>0</td>\n",
              "      <td>26.6</td>\n",
              "      <td>0.351</td>\n",
              "      <td>31</td>\n",
              "      <td>0</td>\n",
              "    </tr>\n",
              "    <tr>\n",
              "      <th>2</th>\n",
              "      <td>8</td>\n",
              "      <td>183</td>\n",
              "      <td>64</td>\n",
              "      <td>0</td>\n",
              "      <td>0</td>\n",
              "      <td>23.3</td>\n",
              "      <td>0.672</td>\n",
              "      <td>32</td>\n",
              "      <td>1</td>\n",
              "    </tr>\n",
              "    <tr>\n",
              "      <th>3</th>\n",
              "      <td>1</td>\n",
              "      <td>89</td>\n",
              "      <td>66</td>\n",
              "      <td>23</td>\n",
              "      <td>94</td>\n",
              "      <td>28.1</td>\n",
              "      <td>0.167</td>\n",
              "      <td>21</td>\n",
              "      <td>0</td>\n",
              "    </tr>\n",
              "    <tr>\n",
              "      <th>4</th>\n",
              "      <td>0</td>\n",
              "      <td>137</td>\n",
              "      <td>40</td>\n",
              "      <td>35</td>\n",
              "      <td>168</td>\n",
              "      <td>43.1</td>\n",
              "      <td>2.288</td>\n",
              "      <td>33</td>\n",
              "      <td>1</td>\n",
              "    </tr>\n",
              "  </tbody>\n",
              "</table>\n",
              "</div>\n",
              "    <div class=\"colab-df-buttons\">\n",
              "\n",
              "  <div class=\"colab-df-container\">\n",
              "    <button class=\"colab-df-convert\" onclick=\"convertToInteractive('df-fcff91eb-59fb-4237-a34f-c5040174dee9')\"\n",
              "            title=\"Convert this dataframe to an interactive table.\"\n",
              "            style=\"display:none;\">\n",
              "\n",
              "  <svg xmlns=\"http://www.w3.org/2000/svg\" height=\"24px\" viewBox=\"0 -960 960 960\">\n",
              "    <path d=\"M120-120v-720h720v720H120Zm60-500h600v-160H180v160Zm220 220h160v-160H400v160Zm0 220h160v-160H400v160ZM180-400h160v-160H180v160Zm440 0h160v-160H620v160ZM180-180h160v-160H180v160Zm440 0h160v-160H620v160Z\"/>\n",
              "  </svg>\n",
              "    </button>\n",
              "\n",
              "  <style>\n",
              "    .colab-df-container {\n",
              "      display:flex;\n",
              "      gap: 12px;\n",
              "    }\n",
              "\n",
              "    .colab-df-convert {\n",
              "      background-color: #E8F0FE;\n",
              "      border: none;\n",
              "      border-radius: 50%;\n",
              "      cursor: pointer;\n",
              "      display: none;\n",
              "      fill: #1967D2;\n",
              "      height: 32px;\n",
              "      padding: 0 0 0 0;\n",
              "      width: 32px;\n",
              "    }\n",
              "\n",
              "    .colab-df-convert:hover {\n",
              "      background-color: #E2EBFA;\n",
              "      box-shadow: 0px 1px 2px rgba(60, 64, 67, 0.3), 0px 1px 3px 1px rgba(60, 64, 67, 0.15);\n",
              "      fill: #174EA6;\n",
              "    }\n",
              "\n",
              "    .colab-df-buttons div {\n",
              "      margin-bottom: 4px;\n",
              "    }\n",
              "\n",
              "    [theme=dark] .colab-df-convert {\n",
              "      background-color: #3B4455;\n",
              "      fill: #D2E3FC;\n",
              "    }\n",
              "\n",
              "    [theme=dark] .colab-df-convert:hover {\n",
              "      background-color: #434B5C;\n",
              "      box-shadow: 0px 1px 3px 1px rgba(0, 0, 0, 0.15);\n",
              "      filter: drop-shadow(0px 1px 2px rgba(0, 0, 0, 0.3));\n",
              "      fill: #FFFFFF;\n",
              "    }\n",
              "  </style>\n",
              "\n",
              "    <script>\n",
              "      const buttonEl =\n",
              "        document.querySelector('#df-fcff91eb-59fb-4237-a34f-c5040174dee9 button.colab-df-convert');\n",
              "      buttonEl.style.display =\n",
              "        google.colab.kernel.accessAllowed ? 'block' : 'none';\n",
              "\n",
              "      async function convertToInteractive(key) {\n",
              "        const element = document.querySelector('#df-fcff91eb-59fb-4237-a34f-c5040174dee9');\n",
              "        const dataTable =\n",
              "          await google.colab.kernel.invokeFunction('convertToInteractive',\n",
              "                                                    [key], {});\n",
              "        if (!dataTable) return;\n",
              "\n",
              "        const docLinkHtml = 'Like what you see? Visit the ' +\n",
              "          '<a target=\"_blank\" href=https://colab.research.google.com/notebooks/data_table.ipynb>data table notebook</a>'\n",
              "          + ' to learn more about interactive tables.';\n",
              "        element.innerHTML = '';\n",
              "        dataTable['output_type'] = 'display_data';\n",
              "        await google.colab.output.renderOutput(dataTable, element);\n",
              "        const docLink = document.createElement('div');\n",
              "        docLink.innerHTML = docLinkHtml;\n",
              "        element.appendChild(docLink);\n",
              "      }\n",
              "    </script>\n",
              "  </div>\n",
              "\n",
              "\n",
              "<div id=\"df-8506d953-be7b-4fb3-8cea-e1559fd48675\">\n",
              "  <button class=\"colab-df-quickchart\" onclick=\"quickchart('df-8506d953-be7b-4fb3-8cea-e1559fd48675')\"\n",
              "            title=\"Suggest charts\"\n",
              "            style=\"display:none;\">\n",
              "\n",
              "<svg xmlns=\"http://www.w3.org/2000/svg\" height=\"24px\"viewBox=\"0 0 24 24\"\n",
              "     width=\"24px\">\n",
              "    <g>\n",
              "        <path d=\"M19 3H5c-1.1 0-2 .9-2 2v14c0 1.1.9 2 2 2h14c1.1 0 2-.9 2-2V5c0-1.1-.9-2-2-2zM9 17H7v-7h2v7zm4 0h-2V7h2v10zm4 0h-2v-4h2v4z\"/>\n",
              "    </g>\n",
              "</svg>\n",
              "  </button>\n",
              "\n",
              "<style>\n",
              "  .colab-df-quickchart {\n",
              "      --bg-color: #E8F0FE;\n",
              "      --fill-color: #1967D2;\n",
              "      --hover-bg-color: #E2EBFA;\n",
              "      --hover-fill-color: #174EA6;\n",
              "      --disabled-fill-color: #AAA;\n",
              "      --disabled-bg-color: #DDD;\n",
              "  }\n",
              "\n",
              "  [theme=dark] .colab-df-quickchart {\n",
              "      --bg-color: #3B4455;\n",
              "      --fill-color: #D2E3FC;\n",
              "      --hover-bg-color: #434B5C;\n",
              "      --hover-fill-color: #FFFFFF;\n",
              "      --disabled-bg-color: #3B4455;\n",
              "      --disabled-fill-color: #666;\n",
              "  }\n",
              "\n",
              "  .colab-df-quickchart {\n",
              "    background-color: var(--bg-color);\n",
              "    border: none;\n",
              "    border-radius: 50%;\n",
              "    cursor: pointer;\n",
              "    display: none;\n",
              "    fill: var(--fill-color);\n",
              "    height: 32px;\n",
              "    padding: 0;\n",
              "    width: 32px;\n",
              "  }\n",
              "\n",
              "  .colab-df-quickchart:hover {\n",
              "    background-color: var(--hover-bg-color);\n",
              "    box-shadow: 0 1px 2px rgba(60, 64, 67, 0.3), 0 1px 3px 1px rgba(60, 64, 67, 0.15);\n",
              "    fill: var(--button-hover-fill-color);\n",
              "  }\n",
              "\n",
              "  .colab-df-quickchart-complete:disabled,\n",
              "  .colab-df-quickchart-complete:disabled:hover {\n",
              "    background-color: var(--disabled-bg-color);\n",
              "    fill: var(--disabled-fill-color);\n",
              "    box-shadow: none;\n",
              "  }\n",
              "\n",
              "  .colab-df-spinner {\n",
              "    border: 2px solid var(--fill-color);\n",
              "    border-color: transparent;\n",
              "    border-bottom-color: var(--fill-color);\n",
              "    animation:\n",
              "      spin 1s steps(1) infinite;\n",
              "  }\n",
              "\n",
              "  @keyframes spin {\n",
              "    0% {\n",
              "      border-color: transparent;\n",
              "      border-bottom-color: var(--fill-color);\n",
              "      border-left-color: var(--fill-color);\n",
              "    }\n",
              "    20% {\n",
              "      border-color: transparent;\n",
              "      border-left-color: var(--fill-color);\n",
              "      border-top-color: var(--fill-color);\n",
              "    }\n",
              "    30% {\n",
              "      border-color: transparent;\n",
              "      border-left-color: var(--fill-color);\n",
              "      border-top-color: var(--fill-color);\n",
              "      border-right-color: var(--fill-color);\n",
              "    }\n",
              "    40% {\n",
              "      border-color: transparent;\n",
              "      border-right-color: var(--fill-color);\n",
              "      border-top-color: var(--fill-color);\n",
              "    }\n",
              "    60% {\n",
              "      border-color: transparent;\n",
              "      border-right-color: var(--fill-color);\n",
              "    }\n",
              "    80% {\n",
              "      border-color: transparent;\n",
              "      border-right-color: var(--fill-color);\n",
              "      border-bottom-color: var(--fill-color);\n",
              "    }\n",
              "    90% {\n",
              "      border-color: transparent;\n",
              "      border-bottom-color: var(--fill-color);\n",
              "    }\n",
              "  }\n",
              "</style>\n",
              "\n",
              "  <script>\n",
              "    async function quickchart(key) {\n",
              "      const quickchartButtonEl =\n",
              "        document.querySelector('#' + key + ' button');\n",
              "      quickchartButtonEl.disabled = true;  // To prevent multiple clicks.\n",
              "      quickchartButtonEl.classList.add('colab-df-spinner');\n",
              "      try {\n",
              "        const charts = await google.colab.kernel.invokeFunction(\n",
              "            'suggestCharts', [key], {});\n",
              "      } catch (error) {\n",
              "        console.error('Error during call to suggestCharts:', error);\n",
              "      }\n",
              "      quickchartButtonEl.classList.remove('colab-df-spinner');\n",
              "      quickchartButtonEl.classList.add('colab-df-quickchart-complete');\n",
              "    }\n",
              "    (() => {\n",
              "      let quickchartButtonEl =\n",
              "        document.querySelector('#df-8506d953-be7b-4fb3-8cea-e1559fd48675 button');\n",
              "      quickchartButtonEl.style.display =\n",
              "        google.colab.kernel.accessAllowed ? 'block' : 'none';\n",
              "    })();\n",
              "  </script>\n",
              "</div>\n",
              "\n",
              "    </div>\n",
              "  </div>\n"
            ],
            "application/vnd.google.colaboratory.intrinsic+json": {
              "type": "dataframe",
              "variable_name": "diabetes",
              "summary": "{\n  \"name\": \"diabetes\",\n  \"rows\": 768,\n  \"fields\": [\n    {\n      \"column\": \"Pregnancies\",\n      \"properties\": {\n        \"dtype\": \"number\",\n        \"std\": 3,\n        \"min\": 0,\n        \"max\": 17,\n        \"num_unique_values\": 17,\n        \"samples\": [\n          6,\n          1,\n          3\n        ],\n        \"semantic_type\": \"\",\n        \"description\": \"\"\n      }\n    },\n    {\n      \"column\": \"Glucose\",\n      \"properties\": {\n        \"dtype\": \"number\",\n        \"std\": 31,\n        \"min\": 0,\n        \"max\": 199,\n        \"num_unique_values\": 136,\n        \"samples\": [\n          151,\n          101,\n          112\n        ],\n        \"semantic_type\": \"\",\n        \"description\": \"\"\n      }\n    },\n    {\n      \"column\": \"BloodPressure\",\n      \"properties\": {\n        \"dtype\": \"number\",\n        \"std\": 19,\n        \"min\": 0,\n        \"max\": 122,\n        \"num_unique_values\": 47,\n        \"samples\": [\n          86,\n          46,\n          85\n        ],\n        \"semantic_type\": \"\",\n        \"description\": \"\"\n      }\n    },\n    {\n      \"column\": \"SkinThickness\",\n      \"properties\": {\n        \"dtype\": \"number\",\n        \"std\": 15,\n        \"min\": 0,\n        \"max\": 99,\n        \"num_unique_values\": 51,\n        \"samples\": [\n          7,\n          12,\n          48\n        ],\n        \"semantic_type\": \"\",\n        \"description\": \"\"\n      }\n    },\n    {\n      \"column\": \"Insulin\",\n      \"properties\": {\n        \"dtype\": \"number\",\n        \"std\": 115,\n        \"min\": 0,\n        \"max\": 846,\n        \"num_unique_values\": 186,\n        \"samples\": [\n          52,\n          41,\n          183\n        ],\n        \"semantic_type\": \"\",\n        \"description\": \"\"\n      }\n    },\n    {\n      \"column\": \"BMI\",\n      \"properties\": {\n        \"dtype\": \"number\",\n        \"std\": 7.884160320375446,\n        \"min\": 0.0,\n        \"max\": 67.1,\n        \"num_unique_values\": 248,\n        \"samples\": [\n          19.9,\n          31.0,\n          38.1\n        ],\n        \"semantic_type\": \"\",\n        \"description\": \"\"\n      }\n    },\n    {\n      \"column\": \"DiabetesPedigreeFunction\",\n      \"properties\": {\n        \"dtype\": \"number\",\n        \"std\": 0.3313285950127749,\n        \"min\": 0.078,\n        \"max\": 2.42,\n        \"num_unique_values\": 517,\n        \"samples\": [\n          1.731,\n          0.426,\n          0.138\n        ],\n        \"semantic_type\": \"\",\n        \"description\": \"\"\n      }\n    },\n    {\n      \"column\": \"Age\",\n      \"properties\": {\n        \"dtype\": \"number\",\n        \"std\": 11,\n        \"min\": 21,\n        \"max\": 81,\n        \"num_unique_values\": 52,\n        \"samples\": [\n          60,\n          47,\n          72\n        ],\n        \"semantic_type\": \"\",\n        \"description\": \"\"\n      }\n    },\n    {\n      \"column\": \"Outcome\",\n      \"properties\": {\n        \"dtype\": \"number\",\n        \"std\": 0,\n        \"min\": 0,\n        \"max\": 1,\n        \"num_unique_values\": 2,\n        \"samples\": [\n          0,\n          1\n        ],\n        \"semantic_type\": \"\",\n        \"description\": \"\"\n      }\n    }\n  ]\n}"
            }
          },
          "metadata": {},
          "execution_count": 1
        }
      ]
    },
    {
      "cell_type": "code",
      "source": [
        "diabetes.info()"
      ],
      "metadata": {
        "colab": {
          "base_uri": "https://localhost:8080/"
        },
        "id": "M0wHWYdW-mEl",
        "outputId": "3cf55cf9-47d9-4318-80c1-6caab3a7179d"
      },
      "execution_count": 2,
      "outputs": [
        {
          "output_type": "stream",
          "name": "stdout",
          "text": [
            "<class 'pandas.core.frame.DataFrame'>\n",
            "RangeIndex: 768 entries, 0 to 767\n",
            "Data columns (total 9 columns):\n",
            " #   Column                    Non-Null Count  Dtype  \n",
            "---  ------                    --------------  -----  \n",
            " 0   Pregnancies               768 non-null    int64  \n",
            " 1   Glucose                   768 non-null    int64  \n",
            " 2   BloodPressure             768 non-null    int64  \n",
            " 3   SkinThickness             768 non-null    int64  \n",
            " 4   Insulin                   768 non-null    int64  \n",
            " 5   BMI                       768 non-null    float64\n",
            " 6   DiabetesPedigreeFunction  768 non-null    float64\n",
            " 7   Age                       768 non-null    int64  \n",
            " 8   Outcome                   768 non-null    int64  \n",
            "dtypes: float64(2), int64(7)\n",
            "memory usage: 54.1 KB\n"
          ]
        }
      ]
    },
    {
      "cell_type": "code",
      "source": [
        "diabetes.describe()"
      ],
      "metadata": {
        "colab": {
          "base_uri": "https://localhost:8080/",
          "height": 300
        },
        "id": "EW1RZ9p0-noB",
        "outputId": "db206ce7-d44f-40bc-e4fa-3cf164e66db1"
      },
      "execution_count": 3,
      "outputs": [
        {
          "output_type": "execute_result",
          "data": {
            "text/plain": [
              "       Pregnancies     Glucose  BloodPressure  SkinThickness     Insulin  \\\n",
              "count   768.000000  768.000000     768.000000     768.000000  768.000000   \n",
              "mean      3.845052  120.894531      69.105469      20.536458   79.799479   \n",
              "std       3.369578   31.972618      19.355807      15.952218  115.244002   \n",
              "min       0.000000    0.000000       0.000000       0.000000    0.000000   \n",
              "25%       1.000000   99.000000      62.000000       0.000000    0.000000   \n",
              "50%       3.000000  117.000000      72.000000      23.000000   30.500000   \n",
              "75%       6.000000  140.250000      80.000000      32.000000  127.250000   \n",
              "max      17.000000  199.000000     122.000000      99.000000  846.000000   \n",
              "\n",
              "              BMI  DiabetesPedigreeFunction         Age     Outcome  \n",
              "count  768.000000                768.000000  768.000000  768.000000  \n",
              "mean    31.992578                  0.471876   33.240885    0.348958  \n",
              "std      7.884160                  0.331329   11.760232    0.476951  \n",
              "min      0.000000                  0.078000   21.000000    0.000000  \n",
              "25%     27.300000                  0.243750   24.000000    0.000000  \n",
              "50%     32.000000                  0.372500   29.000000    0.000000  \n",
              "75%     36.600000                  0.626250   41.000000    1.000000  \n",
              "max     67.100000                  2.420000   81.000000    1.000000  "
            ],
            "text/html": [
              "\n",
              "  <div id=\"df-34d2f493-3cbd-4e93-962b-0d85149ebc85\" class=\"colab-df-container\">\n",
              "    <div>\n",
              "<style scoped>\n",
              "    .dataframe tbody tr th:only-of-type {\n",
              "        vertical-align: middle;\n",
              "    }\n",
              "\n",
              "    .dataframe tbody tr th {\n",
              "        vertical-align: top;\n",
              "    }\n",
              "\n",
              "    .dataframe thead th {\n",
              "        text-align: right;\n",
              "    }\n",
              "</style>\n",
              "<table border=\"1\" class=\"dataframe\">\n",
              "  <thead>\n",
              "    <tr style=\"text-align: right;\">\n",
              "      <th></th>\n",
              "      <th>Pregnancies</th>\n",
              "      <th>Glucose</th>\n",
              "      <th>BloodPressure</th>\n",
              "      <th>SkinThickness</th>\n",
              "      <th>Insulin</th>\n",
              "      <th>BMI</th>\n",
              "      <th>DiabetesPedigreeFunction</th>\n",
              "      <th>Age</th>\n",
              "      <th>Outcome</th>\n",
              "    </tr>\n",
              "  </thead>\n",
              "  <tbody>\n",
              "    <tr>\n",
              "      <th>count</th>\n",
              "      <td>768.000000</td>\n",
              "      <td>768.000000</td>\n",
              "      <td>768.000000</td>\n",
              "      <td>768.000000</td>\n",
              "      <td>768.000000</td>\n",
              "      <td>768.000000</td>\n",
              "      <td>768.000000</td>\n",
              "      <td>768.000000</td>\n",
              "      <td>768.000000</td>\n",
              "    </tr>\n",
              "    <tr>\n",
              "      <th>mean</th>\n",
              "      <td>3.845052</td>\n",
              "      <td>120.894531</td>\n",
              "      <td>69.105469</td>\n",
              "      <td>20.536458</td>\n",
              "      <td>79.799479</td>\n",
              "      <td>31.992578</td>\n",
              "      <td>0.471876</td>\n",
              "      <td>33.240885</td>\n",
              "      <td>0.348958</td>\n",
              "    </tr>\n",
              "    <tr>\n",
              "      <th>std</th>\n",
              "      <td>3.369578</td>\n",
              "      <td>31.972618</td>\n",
              "      <td>19.355807</td>\n",
              "      <td>15.952218</td>\n",
              "      <td>115.244002</td>\n",
              "      <td>7.884160</td>\n",
              "      <td>0.331329</td>\n",
              "      <td>11.760232</td>\n",
              "      <td>0.476951</td>\n",
              "    </tr>\n",
              "    <tr>\n",
              "      <th>min</th>\n",
              "      <td>0.000000</td>\n",
              "      <td>0.000000</td>\n",
              "      <td>0.000000</td>\n",
              "      <td>0.000000</td>\n",
              "      <td>0.000000</td>\n",
              "      <td>0.000000</td>\n",
              "      <td>0.078000</td>\n",
              "      <td>21.000000</td>\n",
              "      <td>0.000000</td>\n",
              "    </tr>\n",
              "    <tr>\n",
              "      <th>25%</th>\n",
              "      <td>1.000000</td>\n",
              "      <td>99.000000</td>\n",
              "      <td>62.000000</td>\n",
              "      <td>0.000000</td>\n",
              "      <td>0.000000</td>\n",
              "      <td>27.300000</td>\n",
              "      <td>0.243750</td>\n",
              "      <td>24.000000</td>\n",
              "      <td>0.000000</td>\n",
              "    </tr>\n",
              "    <tr>\n",
              "      <th>50%</th>\n",
              "      <td>3.000000</td>\n",
              "      <td>117.000000</td>\n",
              "      <td>72.000000</td>\n",
              "      <td>23.000000</td>\n",
              "      <td>30.500000</td>\n",
              "      <td>32.000000</td>\n",
              "      <td>0.372500</td>\n",
              "      <td>29.000000</td>\n",
              "      <td>0.000000</td>\n",
              "    </tr>\n",
              "    <tr>\n",
              "      <th>75%</th>\n",
              "      <td>6.000000</td>\n",
              "      <td>140.250000</td>\n",
              "      <td>80.000000</td>\n",
              "      <td>32.000000</td>\n",
              "      <td>127.250000</td>\n",
              "      <td>36.600000</td>\n",
              "      <td>0.626250</td>\n",
              "      <td>41.000000</td>\n",
              "      <td>1.000000</td>\n",
              "    </tr>\n",
              "    <tr>\n",
              "      <th>max</th>\n",
              "      <td>17.000000</td>\n",
              "      <td>199.000000</td>\n",
              "      <td>122.000000</td>\n",
              "      <td>99.000000</td>\n",
              "      <td>846.000000</td>\n",
              "      <td>67.100000</td>\n",
              "      <td>2.420000</td>\n",
              "      <td>81.000000</td>\n",
              "      <td>1.000000</td>\n",
              "    </tr>\n",
              "  </tbody>\n",
              "</table>\n",
              "</div>\n",
              "    <div class=\"colab-df-buttons\">\n",
              "\n",
              "  <div class=\"colab-df-container\">\n",
              "    <button class=\"colab-df-convert\" onclick=\"convertToInteractive('df-34d2f493-3cbd-4e93-962b-0d85149ebc85')\"\n",
              "            title=\"Convert this dataframe to an interactive table.\"\n",
              "            style=\"display:none;\">\n",
              "\n",
              "  <svg xmlns=\"http://www.w3.org/2000/svg\" height=\"24px\" viewBox=\"0 -960 960 960\">\n",
              "    <path d=\"M120-120v-720h720v720H120Zm60-500h600v-160H180v160Zm220 220h160v-160H400v160Zm0 220h160v-160H400v160ZM180-400h160v-160H180v160Zm440 0h160v-160H620v160ZM180-180h160v-160H180v160Zm440 0h160v-160H620v160Z\"/>\n",
              "  </svg>\n",
              "    </button>\n",
              "\n",
              "  <style>\n",
              "    .colab-df-container {\n",
              "      display:flex;\n",
              "      gap: 12px;\n",
              "    }\n",
              "\n",
              "    .colab-df-convert {\n",
              "      background-color: #E8F0FE;\n",
              "      border: none;\n",
              "      border-radius: 50%;\n",
              "      cursor: pointer;\n",
              "      display: none;\n",
              "      fill: #1967D2;\n",
              "      height: 32px;\n",
              "      padding: 0 0 0 0;\n",
              "      width: 32px;\n",
              "    }\n",
              "\n",
              "    .colab-df-convert:hover {\n",
              "      background-color: #E2EBFA;\n",
              "      box-shadow: 0px 1px 2px rgba(60, 64, 67, 0.3), 0px 1px 3px 1px rgba(60, 64, 67, 0.15);\n",
              "      fill: #174EA6;\n",
              "    }\n",
              "\n",
              "    .colab-df-buttons div {\n",
              "      margin-bottom: 4px;\n",
              "    }\n",
              "\n",
              "    [theme=dark] .colab-df-convert {\n",
              "      background-color: #3B4455;\n",
              "      fill: #D2E3FC;\n",
              "    }\n",
              "\n",
              "    [theme=dark] .colab-df-convert:hover {\n",
              "      background-color: #434B5C;\n",
              "      box-shadow: 0px 1px 3px 1px rgba(0, 0, 0, 0.15);\n",
              "      filter: drop-shadow(0px 1px 2px rgba(0, 0, 0, 0.3));\n",
              "      fill: #FFFFFF;\n",
              "    }\n",
              "  </style>\n",
              "\n",
              "    <script>\n",
              "      const buttonEl =\n",
              "        document.querySelector('#df-34d2f493-3cbd-4e93-962b-0d85149ebc85 button.colab-df-convert');\n",
              "      buttonEl.style.display =\n",
              "        google.colab.kernel.accessAllowed ? 'block' : 'none';\n",
              "\n",
              "      async function convertToInteractive(key) {\n",
              "        const element = document.querySelector('#df-34d2f493-3cbd-4e93-962b-0d85149ebc85');\n",
              "        const dataTable =\n",
              "          await google.colab.kernel.invokeFunction('convertToInteractive',\n",
              "                                                    [key], {});\n",
              "        if (!dataTable) return;\n",
              "\n",
              "        const docLinkHtml = 'Like what you see? Visit the ' +\n",
              "          '<a target=\"_blank\" href=https://colab.research.google.com/notebooks/data_table.ipynb>data table notebook</a>'\n",
              "          + ' to learn more about interactive tables.';\n",
              "        element.innerHTML = '';\n",
              "        dataTable['output_type'] = 'display_data';\n",
              "        await google.colab.output.renderOutput(dataTable, element);\n",
              "        const docLink = document.createElement('div');\n",
              "        docLink.innerHTML = docLinkHtml;\n",
              "        element.appendChild(docLink);\n",
              "      }\n",
              "    </script>\n",
              "  </div>\n",
              "\n",
              "\n",
              "<div id=\"df-600aa5bd-6b71-4a17-8c5a-e66596efde07\">\n",
              "  <button class=\"colab-df-quickchart\" onclick=\"quickchart('df-600aa5bd-6b71-4a17-8c5a-e66596efde07')\"\n",
              "            title=\"Suggest charts\"\n",
              "            style=\"display:none;\">\n",
              "\n",
              "<svg xmlns=\"http://www.w3.org/2000/svg\" height=\"24px\"viewBox=\"0 0 24 24\"\n",
              "     width=\"24px\">\n",
              "    <g>\n",
              "        <path d=\"M19 3H5c-1.1 0-2 .9-2 2v14c0 1.1.9 2 2 2h14c1.1 0 2-.9 2-2V5c0-1.1-.9-2-2-2zM9 17H7v-7h2v7zm4 0h-2V7h2v10zm4 0h-2v-4h2v4z\"/>\n",
              "    </g>\n",
              "</svg>\n",
              "  </button>\n",
              "\n",
              "<style>\n",
              "  .colab-df-quickchart {\n",
              "      --bg-color: #E8F0FE;\n",
              "      --fill-color: #1967D2;\n",
              "      --hover-bg-color: #E2EBFA;\n",
              "      --hover-fill-color: #174EA6;\n",
              "      --disabled-fill-color: #AAA;\n",
              "      --disabled-bg-color: #DDD;\n",
              "  }\n",
              "\n",
              "  [theme=dark] .colab-df-quickchart {\n",
              "      --bg-color: #3B4455;\n",
              "      --fill-color: #D2E3FC;\n",
              "      --hover-bg-color: #434B5C;\n",
              "      --hover-fill-color: #FFFFFF;\n",
              "      --disabled-bg-color: #3B4455;\n",
              "      --disabled-fill-color: #666;\n",
              "  }\n",
              "\n",
              "  .colab-df-quickchart {\n",
              "    background-color: var(--bg-color);\n",
              "    border: none;\n",
              "    border-radius: 50%;\n",
              "    cursor: pointer;\n",
              "    display: none;\n",
              "    fill: var(--fill-color);\n",
              "    height: 32px;\n",
              "    padding: 0;\n",
              "    width: 32px;\n",
              "  }\n",
              "\n",
              "  .colab-df-quickchart:hover {\n",
              "    background-color: var(--hover-bg-color);\n",
              "    box-shadow: 0 1px 2px rgba(60, 64, 67, 0.3), 0 1px 3px 1px rgba(60, 64, 67, 0.15);\n",
              "    fill: var(--button-hover-fill-color);\n",
              "  }\n",
              "\n",
              "  .colab-df-quickchart-complete:disabled,\n",
              "  .colab-df-quickchart-complete:disabled:hover {\n",
              "    background-color: var(--disabled-bg-color);\n",
              "    fill: var(--disabled-fill-color);\n",
              "    box-shadow: none;\n",
              "  }\n",
              "\n",
              "  .colab-df-spinner {\n",
              "    border: 2px solid var(--fill-color);\n",
              "    border-color: transparent;\n",
              "    border-bottom-color: var(--fill-color);\n",
              "    animation:\n",
              "      spin 1s steps(1) infinite;\n",
              "  }\n",
              "\n",
              "  @keyframes spin {\n",
              "    0% {\n",
              "      border-color: transparent;\n",
              "      border-bottom-color: var(--fill-color);\n",
              "      border-left-color: var(--fill-color);\n",
              "    }\n",
              "    20% {\n",
              "      border-color: transparent;\n",
              "      border-left-color: var(--fill-color);\n",
              "      border-top-color: var(--fill-color);\n",
              "    }\n",
              "    30% {\n",
              "      border-color: transparent;\n",
              "      border-left-color: var(--fill-color);\n",
              "      border-top-color: var(--fill-color);\n",
              "      border-right-color: var(--fill-color);\n",
              "    }\n",
              "    40% {\n",
              "      border-color: transparent;\n",
              "      border-right-color: var(--fill-color);\n",
              "      border-top-color: var(--fill-color);\n",
              "    }\n",
              "    60% {\n",
              "      border-color: transparent;\n",
              "      border-right-color: var(--fill-color);\n",
              "    }\n",
              "    80% {\n",
              "      border-color: transparent;\n",
              "      border-right-color: var(--fill-color);\n",
              "      border-bottom-color: var(--fill-color);\n",
              "    }\n",
              "    90% {\n",
              "      border-color: transparent;\n",
              "      border-bottom-color: var(--fill-color);\n",
              "    }\n",
              "  }\n",
              "</style>\n",
              "\n",
              "  <script>\n",
              "    async function quickchart(key) {\n",
              "      const quickchartButtonEl =\n",
              "        document.querySelector('#' + key + ' button');\n",
              "      quickchartButtonEl.disabled = true;  // To prevent multiple clicks.\n",
              "      quickchartButtonEl.classList.add('colab-df-spinner');\n",
              "      try {\n",
              "        const charts = await google.colab.kernel.invokeFunction(\n",
              "            'suggestCharts', [key], {});\n",
              "      } catch (error) {\n",
              "        console.error('Error during call to suggestCharts:', error);\n",
              "      }\n",
              "      quickchartButtonEl.classList.remove('colab-df-spinner');\n",
              "      quickchartButtonEl.classList.add('colab-df-quickchart-complete');\n",
              "    }\n",
              "    (() => {\n",
              "      let quickchartButtonEl =\n",
              "        document.querySelector('#df-600aa5bd-6b71-4a17-8c5a-e66596efde07 button');\n",
              "      quickchartButtonEl.style.display =\n",
              "        google.colab.kernel.accessAllowed ? 'block' : 'none';\n",
              "    })();\n",
              "  </script>\n",
              "</div>\n",
              "\n",
              "    </div>\n",
              "  </div>\n"
            ],
            "application/vnd.google.colaboratory.intrinsic+json": {
              "type": "dataframe",
              "summary": "{\n  \"name\": \"diabetes\",\n  \"rows\": 8,\n  \"fields\": [\n    {\n      \"column\": \"Pregnancies\",\n      \"properties\": {\n        \"dtype\": \"number\",\n        \"std\": 269.85223453356366,\n        \"min\": 0.0,\n        \"max\": 768.0,\n        \"num_unique_values\": 8,\n        \"samples\": [\n          3.8450520833333335,\n          3.0,\n          768.0\n        ],\n        \"semantic_type\": \"\",\n        \"description\": \"\"\n      }\n    },\n    {\n      \"column\": \"Glucose\",\n      \"properties\": {\n        \"dtype\": \"number\",\n        \"std\": 243.73802348295857,\n        \"min\": 0.0,\n        \"max\": 768.0,\n        \"num_unique_values\": 8,\n        \"samples\": [\n          120.89453125,\n          117.0,\n          768.0\n        ],\n        \"semantic_type\": \"\",\n        \"description\": \"\"\n      }\n    },\n    {\n      \"column\": \"BloodPressure\",\n      \"properties\": {\n        \"dtype\": \"number\",\n        \"std\": 252.8525053581062,\n        \"min\": 0.0,\n        \"max\": 768.0,\n        \"num_unique_values\": 8,\n        \"samples\": [\n          69.10546875,\n          72.0,\n          768.0\n        ],\n        \"semantic_type\": \"\",\n        \"description\": \"\"\n      }\n    },\n    {\n      \"column\": \"SkinThickness\",\n      \"properties\": {\n        \"dtype\": \"number\",\n        \"std\": 263.7684730531098,\n        \"min\": 0.0,\n        \"max\": 768.0,\n        \"num_unique_values\": 7,\n        \"samples\": [\n          768.0,\n          20.536458333333332,\n          32.0\n        ],\n        \"semantic_type\": \"\",\n        \"description\": \"\"\n      }\n    },\n    {\n      \"column\": \"Insulin\",\n      \"properties\": {\n        \"dtype\": \"number\",\n        \"std\": 350.26059167945886,\n        \"min\": 0.0,\n        \"max\": 846.0,\n        \"num_unique_values\": 7,\n        \"samples\": [\n          768.0,\n          79.79947916666667,\n          127.25\n        ],\n        \"semantic_type\": \"\",\n        \"description\": \"\"\n      }\n    },\n    {\n      \"column\": \"BMI\",\n      \"properties\": {\n        \"dtype\": \"number\",\n        \"std\": 262.05117817552093,\n        \"min\": 0.0,\n        \"max\": 768.0,\n        \"num_unique_values\": 8,\n        \"samples\": [\n          31.992578124999998,\n          32.0,\n          768.0\n        ],\n        \"semantic_type\": \"\",\n        \"description\": \"\"\n      }\n    },\n    {\n      \"column\": \"DiabetesPedigreeFunction\",\n      \"properties\": {\n        \"dtype\": \"number\",\n        \"std\": 271.3005221658502,\n        \"min\": 0.078,\n        \"max\": 768.0,\n        \"num_unique_values\": 8,\n        \"samples\": [\n          0.47187630208333325,\n          0.3725,\n          768.0\n        ],\n        \"semantic_type\": \"\",\n        \"description\": \"\"\n      }\n    },\n    {\n      \"column\": \"Age\",\n      \"properties\": {\n        \"dtype\": \"number\",\n        \"std\": 260.1941178528413,\n        \"min\": 11.760231540678685,\n        \"max\": 768.0,\n        \"num_unique_values\": 8,\n        \"samples\": [\n          33.240885416666664,\n          29.0,\n          768.0\n        ],\n        \"semantic_type\": \"\",\n        \"description\": \"\"\n      }\n    },\n    {\n      \"column\": \"Outcome\",\n      \"properties\": {\n        \"dtype\": \"number\",\n        \"std\": 271.3865920388932,\n        \"min\": 0.0,\n        \"max\": 768.0,\n        \"num_unique_values\": 5,\n        \"samples\": [\n          0.3489583333333333,\n          1.0,\n          0.47695137724279896\n        ],\n        \"semantic_type\": \"\",\n        \"description\": \"\"\n      }\n    }\n  ]\n}"
            }
          },
          "metadata": {},
          "execution_count": 3
        }
      ]
    },
    {
      "cell_type": "code",
      "source": [
        "pd.unique(diabetes['Outcome'])"
      ],
      "metadata": {
        "colab": {
          "base_uri": "https://localhost:8080/"
        },
        "id": "eTQF6TYpBgWe",
        "outputId": "b51e7f87-80e0-4f82-de84-518442c43403"
      },
      "execution_count": 4,
      "outputs": [
        {
          "output_type": "execute_result",
          "data": {
            "text/plain": [
              "array([1, 0])"
            ]
          },
          "metadata": {},
          "execution_count": 4
        }
      ]
    },
    {
      "cell_type": "code",
      "source": [
        "pd.value_counts(diabetes['Outcome'])"
      ],
      "metadata": {
        "colab": {
          "base_uri": "https://localhost:8080/"
        },
        "id": "OCBJvHboBugg",
        "outputId": "59cad48e-1e6b-4aa5-f765-311a9ebfeeb4"
      },
      "execution_count": 5,
      "outputs": [
        {
          "output_type": "execute_result",
          "data": {
            "text/plain": [
              "Outcome\n",
              "0    500\n",
              "1    268\n",
              "Name: count, dtype: int64"
            ]
          },
          "metadata": {},
          "execution_count": 5
        }
      ]
    },
    {
      "cell_type": "markdown",
      "source": [
        "## 0. 2. Description of data set"
      ],
      "metadata": {
        "id": "1KO3vJ_w-9bm"
      }
    },
    {
      "cell_type": "markdown",
      "source": [
        "**8 Features**  \n",
        "  * $x_1$, Pregnancies(임신 횟수)\n",
        "  * $x_2$, Glucose\n",
        "  * $x_3$, BloodPressure\n",
        "  * $x_4$, SkinThickness(삼두근 피부 두께)\n",
        "  * $x_5$, Insulin\n",
        "  * $x_6$, BMI\n",
        "  * $x_7$, DiabetesPedigreeFunction(당뇨 유전병 가중치)\n",
        "  * $x_8$, Age\n",
        "\n",
        "**Label**  \n",
        "  * $y$, Outcome\n",
        "    - 500 negative class, 268 positive class\n",
        "\n"
      ],
      "metadata": {
        "id": "bDB5xbIS_Bj6"
      }
    },
    {
      "cell_type": "markdown",
      "source": [
        "## 0. 3. Splitting the data set into X(features) and y(label)"
      ],
      "metadata": {
        "id": "BKlEFGFhCzie"
      }
    },
    {
      "cell_type": "code",
      "source": [
        "X = diabetes.drop('Outcome', axis=1)\n",
        "y = diabetes['Outcome']\n",
        "print(X[:3])"
      ],
      "metadata": {
        "colab": {
          "base_uri": "https://localhost:8080/"
        },
        "id": "zh4z16lyDHfE",
        "outputId": "cebd6aad-321e-4aa0-aad1-281f93c03ec0"
      },
      "execution_count": 6,
      "outputs": [
        {
          "output_type": "stream",
          "name": "stdout",
          "text": [
            "   Pregnancies  Glucose  BloodPressure  SkinThickness  Insulin   BMI  \\\n",
            "0            6      148             72             35        0  33.6   \n",
            "1            1       85             66             29        0  26.6   \n",
            "2            8      183             64              0        0  23.3   \n",
            "\n",
            "   DiabetesPedigreeFunction  Age  \n",
            "0                     0.627   50  \n",
            "1                     0.351   31  \n",
            "2                     0.672   32  \n"
          ]
        }
      ]
    },
    {
      "cell_type": "markdown",
      "source": [
        "## 0. 4. Convert pandas dataframe to numpy array"
      ],
      "metadata": {
        "id": "J4R6-FbhDl62"
      }
    },
    {
      "cell_type": "code",
      "source": [
        "X = X.to_numpy()\n",
        "y = y.to_numpy()"
      ],
      "metadata": {
        "id": "tY3qoK9rDrrj"
      },
      "execution_count": 7,
      "outputs": []
    },
    {
      "cell_type": "markdown",
      "source": [
        "## 0. 5. Splitting the Data sets(X, y) into train set and test set\n",
        "> `stratify` parameter를 `y`로 지정한 이유에 대해서는 **0. 5. 1.**을 참고"
      ],
      "metadata": {
        "id": "NaCX7t7xD8-b"
      }
    },
    {
      "cell_type": "code",
      "source": [
        "from sklearn.model_selection import train_test_split\n",
        "\n",
        "# default, test_size=0.25, shuffle=True, stratify=None\n",
        "X_train, X_test, y_train, y_test = train_test_split(\n",
        "    X, y, test_size=0.2, shuffle=True, stratify=y, random_state=42)\n",
        "print(X_train.shape, X_test.shape)"
      ],
      "metadata": {
        "colab": {
          "base_uri": "https://localhost:8080/"
        },
        "id": "B0Q50b6_EBlE",
        "outputId": "5e640ceb-000e-4a4d-f4b6-62add5988de0"
      },
      "execution_count": 8,
      "outputs": [
        {
          "output_type": "stream",
          "name": "stdout",
          "text": [
            "(614, 8) (154, 8)\n"
          ]
        }
      ]
    },
    {
      "cell_type": "markdown",
      "source": [
        "### 0. 5. 1. Why we need the `shuffle` and `stratify` parameters?"
      ],
      "metadata": {
        "id": "DQdJzVFqMtJk"
      }
    },
    {
      "cell_type": "markdown",
      "source": [
        "본 예제의 data set이 아닌, **별도의 data set을 사용**해서 설명하도록 하겠다."
      ],
      "metadata": {
        "id": "Bd3nWhPROMIa"
      }
    },
    {
      "cell_type": "code",
      "source": [
        "# parametet 설명을 위한 별도의 data set\n",
        "bream_length = [25.4, 26.3, 26.5, 29.0, 29.0, 29.7, 29.7, 30.0, 30.0, 30.7, 31.0, 31.0,\n",
        "                31.5, 32.0, 32.0, 32.0, 33.0, 33.0, 33.5, 33.5, 34.0, 34.0, 34.5, 35.0,\n",
        "                35.0, 35.0, 35.0, 36.0, 36.0, 37.0, 38.5, 38.5, 39.5, 41.0, 41.0]\n",
        "bream_weight = [242.0, 290.0, 340.0, 363.0, 430.0, 450.0, 500.0, 390.0, 450.0, 500.0, 475.0, 500.0,\n",
        "                500.0, 340.0, 600.0, 600.0, 700.0, 700.0, 610.0, 650.0, 575.0, 685.0, 620.0, 680.0,\n",
        "                700.0, 725.0, 720.0, 714.0, 850.0, 1000.0, 920.0, 955.0, 925.0, 975.0, 950.0]\n",
        "\n",
        "smelt_length = [9.8, 10.5, 10.6, 11.0, 11.2, 11.3, 11.8, 11.8, 12.0, 12.2, 12.4, 13.0, 14.3, 15.0]\n",
        "smelt_weight = [6.7, 7.5, 7.0, 9.7, 9.8, 8.7, 10.0, 9.9, 9.8, 12.2, 13.4, 12.2, 19.7, 19.9]\n",
        "\n",
        "fish_length = bream_length + smelt_length\n",
        "fish_weight = bream_weight + smelt_weight\n",
        "\n",
        "tX = [ [l, w] for l, w in zip(fish_length, fish_weight) ]\n",
        "ty = [1] * 35 + [0] * 14"
      ],
      "metadata": {
        "id": "uXysNmklOsoF"
      },
      "execution_count": 9,
      "outputs": []
    },
    {
      "cell_type": "code",
      "source": [
        "print(ty)"
      ],
      "metadata": {
        "colab": {
          "base_uri": "https://localhost:8080/"
        },
        "id": "4R_KwCfDQH68",
        "outputId": "56521b84-51ed-4ab7-b4d3-5e4c9592f06c"
      },
      "execution_count": 10,
      "outputs": [
        {
          "output_type": "stream",
          "name": "stdout",
          "text": [
            "[1, 1, 1, 1, 1, 1, 1, 1, 1, 1, 1, 1, 1, 1, 1, 1, 1, 1, 1, 1, 1, 1, 1, 1, 1, 1, 1, 1, 1, 1, 1, 1, 1, 1, 1, 0, 0, 0, 0, 0, 0, 0, 0, 0, 0, 0, 0, 0, 0]\n"
          ]
        }
      ]
    },
    {
      "cell_type": "markdown",
      "source": [
        "(위 cell)  \n",
        "해당 data set은 sample의 수가 총 39개이고, 먼저 positive class가 모두 나열된 후에 negative class가 나열되는 특징을 갖는다.  \n",
        "또한 The ratio between the positive class and the negative class is $ 35 : 14 $."
      ],
      "metadata": {
        "id": "vsptmj_wPHz9"
      }
    },
    {
      "cell_type": "markdown",
      "source": [
        "* * *\n",
        "먼저, `shuffle` parameter에 대해서 알아보자."
      ],
      "metadata": {
        "id": "CKC9ZhgzQxWz"
      }
    },
    {
      "cell_type": "code",
      "source": [
        "# ex1-1. shuffle=False, stratify=None(default)\n",
        "tX_train, tX_test, ty_train, ty_test = train_test_split(\n",
        "    tX, ty, test_size=0.2, shuffle=False, random_state=42)"
      ],
      "metadata": {
        "id": "FtKXTPStNPkN"
      },
      "execution_count": 11,
      "outputs": []
    },
    {
      "cell_type": "code",
      "source": [
        "print(ty_train)\n",
        "print(ty_train.count(1), ty_train.count(0))\n",
        "print(ty_test)\n",
        "print(ty_test.count(1), ty_test.count(0))"
      ],
      "metadata": {
        "colab": {
          "base_uri": "https://localhost:8080/"
        },
        "id": "0Wgu9JcqQ6sj",
        "outputId": "b555a500-f0fb-4727-ea44-7df4911d78de"
      },
      "execution_count": 12,
      "outputs": [
        {
          "output_type": "stream",
          "name": "stdout",
          "text": [
            "[1, 1, 1, 1, 1, 1, 1, 1, 1, 1, 1, 1, 1, 1, 1, 1, 1, 1, 1, 1, 1, 1, 1, 1, 1, 1, 1, 1, 1, 1, 1, 1, 1, 1, 1, 0, 0, 0, 0]\n",
            "35 4\n",
            "[0, 0, 0, 0, 0, 0, 0, 0, 0, 0]\n",
            "0 10\n"
          ]
        }
      ]
    },
    {
      "cell_type": "markdown",
      "source": [
        "(위 cell)  \n",
        "`shuffle=False`인 경우에는 data set의 처음부터 순서대로 $49*0.8$개 만큼을 split하여 tX_train으로 사용하고, 이후부터 순서대로 $49*0.2$개 만큼을 tX_test로 사용한다.  \n",
        "따라서 다음과 같은 문제가 발생한다.  \n",
        "* 4개의 negative class에 대해서만 training됨\n",
        "* positive class에 대한 test는 단 1개도 할 수 없음"
      ],
      "metadata": {
        "id": "M_aEe8iVRIpV"
      }
    },
    {
      "cell_type": "code",
      "source": [
        "# ex1-2. shuffle=True(default), stratify=None(default)\n",
        "tX_train, tX_test, ty_train, ty_test = train_test_split(\n",
        "    tX, ty, test_size=0.2, shuffle=True, random_state=19)"
      ],
      "metadata": {
        "id": "gOdg9MpLSBD0"
      },
      "execution_count": 13,
      "outputs": []
    },
    {
      "cell_type": "code",
      "source": [
        "print(ty_train)\n",
        "print(ty_train.count(1), ty_train.count(0))\n",
        "print(ty_test)\n",
        "print(ty_test.count(1), ty_test.count(0))"
      ],
      "metadata": {
        "colab": {
          "base_uri": "https://localhost:8080/"
        },
        "id": "cUMaonEgS0Zx",
        "outputId": "4178f5c3-3725-4beb-d858-76d0037a0286"
      },
      "execution_count": 14,
      "outputs": [
        {
          "output_type": "stream",
          "name": "stdout",
          "text": [
            "[1, 0, 1, 1, 1, 1, 1, 1, 1, 1, 1, 1, 0, 1, 1, 1, 0, 1, 1, 0, 1, 1, 1, 1, 1, 0, 0, 1, 1, 0, 1, 1, 1, 1, 1, 0, 1, 0, 1]\n",
            "30 9\n",
            "[0, 0, 0, 1, 1, 1, 0, 0, 1, 1]\n",
            "5 5\n"
          ]
        }
      ]
    },
    {
      "cell_type": "markdown",
      "source": [
        "(위 cell)  \n",
        "`shuffle=True`인 경우에는 data set을 일단 shuffle한 다음에 처음부터 순서대로 split하기 때문에 **ex1-1**에서 발생한 문제를 방지할 수 있다."
      ],
      "metadata": {
        "id": "qEWvs_hvS_1O"
      }
    },
    {
      "cell_type": "markdown",
      "source": [
        "* * *\n",
        "다음으로 `stratify` parameter에 대해서 알아보자.  \n",
        "**ex1-2**과 같이 shuffle을 한다고 하더라도 결국 shuffle 결과는 random이기 때문에,  \n",
        "경우에 따라서는 shuffle을 했음에도 불구하고, positive(negative) class가 train set이나 test set 중 한 쪽으로 쏠릴 수가 있다.  \n",
        "> 이 문제는 positive class와 negative class의 비율이 한 쪽이 클수록 더욱 발생 가능성이 높아진다.  \n",
        "    >> 극단적으로 1 class가 48개, 0 class가 2개라고 한다면 train set(test set)에 0 class가 모두 몰리게 되는 경우가 매우 빈번하게 발생할 것이다.  \n",
        "\n",
        "위 문제를 다음과 같이 해결할 수 있다."
      ],
      "metadata": {
        "id": "cTqnZLD2TR8_"
      }
    },
    {
      "cell_type": "code",
      "source": [
        "# ex2. shuffle=True(default), stratify=ty\n",
        "tX_train, tX_test, ty_train, ty_test = train_test_split(\n",
        "    tX, ty, test_size=0.2, shuffle=True, stratify=ty, random_state=19)"
      ],
      "metadata": {
        "id": "u9DbYjP-YNnI"
      },
      "execution_count": 15,
      "outputs": []
    },
    {
      "cell_type": "code",
      "source": [
        "print('==== ex1-2에서의 결과(stratify=None) ====')\n",
        "print(30, 9)\n",
        "print(5, 5)\n",
        "print()\n",
        "print('====   ex2에서의 결과(stratify=ty)   ====')\n",
        "print(ty_train.count(1), ty_train.count(0))\n",
        "print(ty_test.count(1), ty_test.count(0))"
      ],
      "metadata": {
        "colab": {
          "base_uri": "https://localhost:8080/"
        },
        "id": "BCaOQTFMYWvv",
        "outputId": "303858fb-0d7b-4161-8191-088ae912b538"
      },
      "execution_count": 16,
      "outputs": [
        {
          "output_type": "stream",
          "name": "stdout",
          "text": [
            "==== ex1-2에서의 결과(stratify=None) ====\n",
            "30 9\n",
            "5 5\n",
            "\n",
            "====   ex2에서의 결과(stratify=ty)   ====\n",
            "28 11\n",
            "7 3\n"
          ]
        }
      ]
    },
    {
      "cell_type": "markdown",
      "source": [
        "앞선 설명에서 다음과 같이 언급했었다.  \n",
        "> The ratio between the positive class and the negative class is **$ 35 : 14 $**."
      ],
      "metadata": {
        "id": "ozEQpL7EZAC7"
      }
    },
    {
      "cell_type": "code",
      "source": [
        "print('====      ty에서의 class ratio      ====')\n",
        "print('35 / 14 = %f' % (35/14))\n",
        "print()\n",
        "print('==== ex1-2에서의 ratio(stratify=None) ====')\n",
        "print('30 / 9 = %f' % (30/9), '--- tX_train')\n",
        "print('5 / 5 = %f' % (5/5), '--- tX_test')\n",
        "print()\n",
        "print('====   ex2에서의 ratio(stratify=ty)   ====')\n",
        "print('28 / 11 = %f' % (ty_train.count(1)/ty_train.count(0)), '--- tX_train')\n",
        "print('7 / 3 = %f' % (ty_test.count(1)/ty_test.count(0)), '--- tX_test')"
      ],
      "metadata": {
        "colab": {
          "base_uri": "https://localhost:8080/"
        },
        "id": "xEoZFpjKZU6-",
        "outputId": "26c97d47-7764-4e22-c742-9469aba63333"
      },
      "execution_count": 17,
      "outputs": [
        {
          "output_type": "stream",
          "name": "stdout",
          "text": [
            "====      ty에서의 class ratio      ====\n",
            "35 / 14 = 2.500000\n",
            "\n",
            "==== ex1-2에서의 ratio(stratify=None) ====\n",
            "30 / 9 = 3.333333 --- tX_train\n",
            "5 / 5 = 1.000000 --- tX_test\n",
            "\n",
            "====   ex2에서의 ratio(stratify=ty)   ====\n",
            "28 / 11 = 2.545455 --- tX_train\n",
            "7 / 3 = 2.333333 --- tX_test\n"
          ]
        }
      ]
    },
    {
      "cell_type": "markdown",
      "source": [
        "(위 cell)  \n",
        "`stratify=ty`로 지정하면 `ty`로부터 split되는 **`ty_train`과 `ty_test`에서의 1 class와 0 class의 비율**이 **`ty`에서의 1 class와 0 class의 비율**과 유사해지도록 split해준다."
      ],
      "metadata": {
        "id": "20fMiJfzaiwF"
      }
    },
    {
      "cell_type": "markdown",
      "source": [
        "# Total summary\n",
        "\n",
        "| K-NN Classification | train_score | test(val)_score | n_neighbors |\n",
        "| :--- | :---: | :---: | :---: |\n",
        "| K-NN only | 0.863 | - | 3 |\n",
        "| Cross validate | 0.859 | 0.733 | 3 |\n",
        "| Grid search | 0.806 | 0.751 | 7 |\n",
        "\n",
        "| Logistic Regression | train_score | test(val)_score |\n",
        "| :--- | :---: | :---: |\n",
        "| default | 0.792 | 0.779 |\n",
        "| Polynomial Features | 0.816 | 0.769 |\n",
        "| Polynomial Features + Grid search | 0.795 | 0.785 |\n",
        "\n",
        "| Decision Tree | train_score | test(val)_score |\n",
        "| :--- | :---: | :---: |\n",
        "| default(max_depth=5) | 0.844 | 0.713 |\n",
        "| default + importance 0.1 미만 features 제외 | 0.828 | 0.731 |\n",
        "| importance 0.1 미만 features 제외 + Grid search | 0.811 | 0.751 |\n",
        "| Grid search(얘가 알아서 features 제외) | 0.770 | 0.759 |\n",
        "\n",
        "| Random Forest | train_score | test(val)_score |\n",
        "| :--- | :---: | :---: |\n",
        "| default(max_depth=5) | 0.862 | 0.770 |\n",
        "| Grid search | 0.841 | 0.782 |\n",
        "\n",
        "| Support Vector Machine | train_score | test(val)_score |\n",
        "| :--- | :---: | :---: |\n",
        "| default | 0.795 | 0.775 |"
      ],
      "metadata": {
        "id": "Dj7R5YbjhHTq"
      }
    },
    {
      "cell_type": "markdown",
      "source": [
        "# 1. K-NN Classification\n",
        "Cross validation, Grid search를 모두 사용해보겠다(Random search의 경우, K-NN에서는 hyperparameter 경우의 수가 적다고 판단되어서 굳이 사용하지 않겠다).  \n",
        "\n",
        "**summary:**  \n",
        "\n",
        "| K-NN Classification | train_score | test(val)_score | n_neighbors |\n",
        "| :--- | :---: | :---: | :---: |\n",
        "| K-NN only | 0.863 | - | 3 |\n",
        "| Cross validate | 0.859 | 0.733 | 3 |\n",
        "| Grid search | 0.806 | 0.751 | 7 |"
      ],
      "metadata": {
        "id": "2yMt10h8Eje6"
      }
    },
    {
      "cell_type": "markdown",
      "source": [
        "먼저, K-NN Classification의 경우 **features scale을 standardization**해주는 작업을 했을 때 유의미한 model performance enhanced를 기대할 수 있다."
      ],
      "metadata": {
        "id": "Wlfyoty_mDQv"
      }
    },
    {
      "cell_type": "code",
      "source": [
        "from sklearn.preprocessing import StandardScaler\n",
        "\n",
        "scaler = StandardScaler()\n",
        "scaler.fit(X_train)\n",
        "X_train_scaled = scaler.transform(X_train)\n",
        "X_test_scaled = scaler.transform(X_test)\n",
        "\n",
        "print(X_train_scaled[:3])"
      ],
      "metadata": {
        "colab": {
          "base_uri": "https://localhost:8080/"
        },
        "id": "ZjRsHgIQmUJR",
        "outputId": "d3c5ef31-f476-41e6-9b5a-2793af22f0bf"
      },
      "execution_count": 18,
      "outputs": [
        {
          "output_type": "stream",
          "name": "stdout",
          "text": [
            "[[-0.85135507 -0.98013068 -0.40478372 -0.55397256 -0.33131928 -0.60767846\n",
            "   0.31079384 -0.79216928]\n",
            " [ 0.35657564  0.16144422  0.46536842  0.392787   -0.52639809 -0.30213902\n",
            "  -0.11643851  0.56103382]\n",
            " [-0.5493724  -0.50447447 -0.62232176  1.21331196  0.14244354  0.3725939\n",
            "  -0.76486207 -0.70759409]]\n"
          ]
        }
      ]
    },
    {
      "cell_type": "code",
      "source": [
        "from sklearn.neighbors import KNeighborsClassifier\n",
        "\n",
        "# default, n_neighbors=5\n",
        "kn = KNeighborsClassifier(n_neighbors=3)\n",
        "\n",
        "kn.fit(X_train_scaled, y_train)\n",
        "kn.score(X_train_scaled, y_train)"
      ],
      "metadata": {
        "id": "oLO-EroYfKys",
        "colab": {
          "base_uri": "https://localhost:8080/"
        },
        "outputId": "1b7312f2-b134-417f-98d4-63e0332e0b1a"
      },
      "execution_count": 19,
      "outputs": [
        {
          "output_type": "execute_result",
          "data": {
            "text/plain": [
              "0.8631921824104235"
            ]
          },
          "metadata": {},
          "execution_count": 19
        }
      ]
    },
    {
      "cell_type": "markdown",
      "source": [
        "## case1. Cross validation only"
      ],
      "metadata": {
        "id": "VWbGACymAiAQ"
      }
    },
    {
      "cell_type": "code",
      "source": [
        "from sklearn.model_selection import cross_validate\n",
        "import numpy as np\n",
        "\n",
        "# default, return_train_score=False, cv=5, n_jobs=1\n",
        "# cv parameter is a value of k of k-fold\n",
        "scores = cross_validate(kn, X_train_scaled, y_train,\n",
        "                    return_train_score=True, cv=10, n_jobs=-1)\n",
        "\n",
        "print(np.mean(scores['train_score']), np.mean(scores['test_score']))"
      ],
      "metadata": {
        "colab": {
          "base_uri": "https://localhost:8080/"
        },
        "id": "mCc9NJqogTln",
        "outputId": "04bdf8c4-29af-4a7d-b48c-28d0c68de37a"
      },
      "execution_count": 20,
      "outputs": [
        {
          "output_type": "stream",
          "name": "stdout",
          "text": [
            "0.8588522420525724 0.733051295610788\n"
          ]
        }
      ]
    },
    {
      "cell_type": "markdown",
      "source": [
        "## case2. Grid search(Cross validation is included in Grid search)"
      ],
      "metadata": {
        "id": "8KFpubcwAm2S"
      }
    },
    {
      "cell_type": "code",
      "source": [
        "from sklearn.model_selection import GridSearchCV\n",
        "\n",
        "params = {'n_neighbors': [2, 3, 4, 5, 6, 7, 8], # default=5\n",
        "          'weights': ['uniform', 'distance'],   # default='uniform'\n",
        "          'p': [1, 2]                           # default=2\n",
        "}\n",
        "\n",
        "gs = GridSearchCV(estimator=kn, param_grid=params,\n",
        "                  return_train_score=True, cv=5, n_jobs=-1)\n",
        "gs.fit(X_train_scaled, y_train)"
      ],
      "metadata": {
        "id": "Hx770gAimVI_",
        "colab": {
          "base_uri": "https://localhost:8080/",
          "height": 0
        },
        "outputId": "6c855ed3-20d1-4d18-ae56-f89664292725"
      },
      "execution_count": 21,
      "outputs": [
        {
          "output_type": "execute_result",
          "data": {
            "text/plain": [
              "GridSearchCV(cv=5, estimator=KNeighborsClassifier(n_neighbors=3), n_jobs=-1,\n",
              "             param_grid={'n_neighbors': [2, 3, 4, 5, 6, 7, 8], 'p': [1, 2],\n",
              "                         'weights': ['uniform', 'distance']},\n",
              "             return_train_score=True)"
            ],
            "text/html": [
              "<style>#sk-container-id-1 {color: black;background-color: white;}#sk-container-id-1 pre{padding: 0;}#sk-container-id-1 div.sk-toggleable {background-color: white;}#sk-container-id-1 label.sk-toggleable__label {cursor: pointer;display: block;width: 100%;margin-bottom: 0;padding: 0.3em;box-sizing: border-box;text-align: center;}#sk-container-id-1 label.sk-toggleable__label-arrow:before {content: \"▸\";float: left;margin-right: 0.25em;color: #696969;}#sk-container-id-1 label.sk-toggleable__label-arrow:hover:before {color: black;}#sk-container-id-1 div.sk-estimator:hover label.sk-toggleable__label-arrow:before {color: black;}#sk-container-id-1 div.sk-toggleable__content {max-height: 0;max-width: 0;overflow: hidden;text-align: left;background-color: #f0f8ff;}#sk-container-id-1 div.sk-toggleable__content pre {margin: 0.2em;color: black;border-radius: 0.25em;background-color: #f0f8ff;}#sk-container-id-1 input.sk-toggleable__control:checked~div.sk-toggleable__content {max-height: 200px;max-width: 100%;overflow: auto;}#sk-container-id-1 input.sk-toggleable__control:checked~label.sk-toggleable__label-arrow:before {content: \"▾\";}#sk-container-id-1 div.sk-estimator input.sk-toggleable__control:checked~label.sk-toggleable__label {background-color: #d4ebff;}#sk-container-id-1 div.sk-label input.sk-toggleable__control:checked~label.sk-toggleable__label {background-color: #d4ebff;}#sk-container-id-1 input.sk-hidden--visually {border: 0;clip: rect(1px 1px 1px 1px);clip: rect(1px, 1px, 1px, 1px);height: 1px;margin: -1px;overflow: hidden;padding: 0;position: absolute;width: 1px;}#sk-container-id-1 div.sk-estimator {font-family: monospace;background-color: #f0f8ff;border: 1px dotted black;border-radius: 0.25em;box-sizing: border-box;margin-bottom: 0.5em;}#sk-container-id-1 div.sk-estimator:hover {background-color: #d4ebff;}#sk-container-id-1 div.sk-parallel-item::after {content: \"\";width: 100%;border-bottom: 1px solid gray;flex-grow: 1;}#sk-container-id-1 div.sk-label:hover label.sk-toggleable__label {background-color: #d4ebff;}#sk-container-id-1 div.sk-serial::before {content: \"\";position: absolute;border-left: 1px solid gray;box-sizing: border-box;top: 0;bottom: 0;left: 50%;z-index: 0;}#sk-container-id-1 div.sk-serial {display: flex;flex-direction: column;align-items: center;background-color: white;padding-right: 0.2em;padding-left: 0.2em;position: relative;}#sk-container-id-1 div.sk-item {position: relative;z-index: 1;}#sk-container-id-1 div.sk-parallel {display: flex;align-items: stretch;justify-content: center;background-color: white;position: relative;}#sk-container-id-1 div.sk-item::before, #sk-container-id-1 div.sk-parallel-item::before {content: \"\";position: absolute;border-left: 1px solid gray;box-sizing: border-box;top: 0;bottom: 0;left: 50%;z-index: -1;}#sk-container-id-1 div.sk-parallel-item {display: flex;flex-direction: column;z-index: 1;position: relative;background-color: white;}#sk-container-id-1 div.sk-parallel-item:first-child::after {align-self: flex-end;width: 50%;}#sk-container-id-1 div.sk-parallel-item:last-child::after {align-self: flex-start;width: 50%;}#sk-container-id-1 div.sk-parallel-item:only-child::after {width: 0;}#sk-container-id-1 div.sk-dashed-wrapped {border: 1px dashed gray;margin: 0 0.4em 0.5em 0.4em;box-sizing: border-box;padding-bottom: 0.4em;background-color: white;}#sk-container-id-1 div.sk-label label {font-family: monospace;font-weight: bold;display: inline-block;line-height: 1.2em;}#sk-container-id-1 div.sk-label-container {text-align: center;}#sk-container-id-1 div.sk-container {/* jupyter's `normalize.less` sets `[hidden] { display: none; }` but bootstrap.min.css set `[hidden] { display: none !important; }` so we also need the `!important` here to be able to override the default hidden behavior on the sphinx rendered scikit-learn.org. See: https://github.com/scikit-learn/scikit-learn/issues/21755 */display: inline-block !important;position: relative;}#sk-container-id-1 div.sk-text-repr-fallback {display: none;}</style><div id=\"sk-container-id-1\" class=\"sk-top-container\"><div class=\"sk-text-repr-fallback\"><pre>GridSearchCV(cv=5, estimator=KNeighborsClassifier(n_neighbors=3), n_jobs=-1,\n",
              "             param_grid={&#x27;n_neighbors&#x27;: [2, 3, 4, 5, 6, 7, 8], &#x27;p&#x27;: [1, 2],\n",
              "                         &#x27;weights&#x27;: [&#x27;uniform&#x27;, &#x27;distance&#x27;]},\n",
              "             return_train_score=True)</pre><b>In a Jupyter environment, please rerun this cell to show the HTML representation or trust the notebook. <br />On GitHub, the HTML representation is unable to render, please try loading this page with nbviewer.org.</b></div><div class=\"sk-container\" hidden><div class=\"sk-item sk-dashed-wrapped\"><div class=\"sk-label-container\"><div class=\"sk-label sk-toggleable\"><input class=\"sk-toggleable__control sk-hidden--visually\" id=\"sk-estimator-id-1\" type=\"checkbox\" ><label for=\"sk-estimator-id-1\" class=\"sk-toggleable__label sk-toggleable__label-arrow\">GridSearchCV</label><div class=\"sk-toggleable__content\"><pre>GridSearchCV(cv=5, estimator=KNeighborsClassifier(n_neighbors=3), n_jobs=-1,\n",
              "             param_grid={&#x27;n_neighbors&#x27;: [2, 3, 4, 5, 6, 7, 8], &#x27;p&#x27;: [1, 2],\n",
              "                         &#x27;weights&#x27;: [&#x27;uniform&#x27;, &#x27;distance&#x27;]},\n",
              "             return_train_score=True)</pre></div></div></div><div class=\"sk-parallel\"><div class=\"sk-parallel-item\"><div class=\"sk-item\"><div class=\"sk-label-container\"><div class=\"sk-label sk-toggleable\"><input class=\"sk-toggleable__control sk-hidden--visually\" id=\"sk-estimator-id-2\" type=\"checkbox\" ><label for=\"sk-estimator-id-2\" class=\"sk-toggleable__label sk-toggleable__label-arrow\">estimator: KNeighborsClassifier</label><div class=\"sk-toggleable__content\"><pre>KNeighborsClassifier(n_neighbors=3)</pre></div></div></div><div class=\"sk-serial\"><div class=\"sk-item\"><div class=\"sk-estimator sk-toggleable\"><input class=\"sk-toggleable__control sk-hidden--visually\" id=\"sk-estimator-id-3\" type=\"checkbox\" ><label for=\"sk-estimator-id-3\" class=\"sk-toggleable__label sk-toggleable__label-arrow\">KNeighborsClassifier</label><div class=\"sk-toggleable__content\"><pre>KNeighborsClassifier(n_neighbors=3)</pre></div></div></div></div></div></div></div></div></div></div>"
            ]
          },
          "metadata": {},
          "execution_count": 21
        }
      ]
    },
    {
      "cell_type": "code",
      "source": [
        "kn_grid_searched = gs.best_estimator_\n",
        "print(kn_grid_searched)"
      ],
      "metadata": {
        "colab": {
          "base_uri": "https://localhost:8080/"
        },
        "id": "FH_VOknzvDsc",
        "outputId": "e0de8931-fa4e-4c4a-e2e1-cf06791be7cf"
      },
      "execution_count": 22,
      "outputs": [
        {
          "output_type": "stream",
          "name": "stdout",
          "text": [
            "KNeighborsClassifier(n_neighbors=7)\n"
          ]
        }
      ]
    },
    {
      "cell_type": "markdown",
      "source": [
        "(위 cell)  \n",
        "`weights`, `p` parameter는 default가 최적이라서 default로 지정되었기 때문에 출력되지 않는다.  \n",
        "\n",
        "(다음 cell)  \n",
        "* 이미 생성된 kn_grid_searched object의 attribute를 호출하여 확인할 수 있다.\n",
        "* 또는 GridSearchCV object의 `best_params_` attribute를 호출하여 확인할 수 있다."
      ],
      "metadata": {
        "id": "EI7JX_sXvwmG"
      }
    },
    {
      "cell_type": "code",
      "source": [
        "print(kn_grid_searched.weights, kn_grid_searched.p)\n",
        "print(gs.best_params_)"
      ],
      "metadata": {
        "colab": {
          "base_uri": "https://localhost:8080/"
        },
        "id": "JuVDvbt8vg1I",
        "outputId": "6fad7c64-dc61-40c5-9c73-11fb966f8c33"
      },
      "execution_count": 23,
      "outputs": [
        {
          "output_type": "stream",
          "name": "stdout",
          "text": [
            "uniform 2\n",
            "{'n_neighbors': 7, 'p': 2, 'weights': 'uniform'}\n"
          ]
        }
      ]
    },
    {
      "cell_type": "code",
      "source": [
        "print(kn_grid_searched.score(X_train_scaled, y_train))"
      ],
      "metadata": {
        "colab": {
          "base_uri": "https://localhost:8080/"
        },
        "id": "0Yz68ktzxH61",
        "outputId": "64c75b01-8490-4bf4-c2ca-a5cd3b332d5d"
      },
      "execution_count": 24,
      "outputs": [
        {
          "output_type": "stream",
          "name": "stdout",
          "text": [
            "0.8061889250814332\n"
          ]
        }
      ]
    },
    {
      "cell_type": "markdown",
      "source": [
        "(위 cell)  \n",
        "다음 code block을 보면 `n_neighbors=3`일 때가 `X_train_scaled`에 대한 score가 더 높은 것을 확인할 수 있다.\n",
        "```\n",
        "kn_grid_searched.n_neighbors = 3\n",
        "kn_grid_searched.fit(X_train_scaled, y_train)\n",
        "kn_grid_searched.score(X_train_scaled, y_train)\n",
        "> 0.8631921824104235(is greater than 0.8061...)\n",
        "```\n",
        "\n",
        "처음에 내가 헷갈린 부분은 다음과 같다.\n",
        "\n",
        "> 왜 `n_neighbors=3`일 때가 `X_train_scaled`에 대한 score가 더 높음에도 불구하고, `GridSearchCV`는 `n_neighbors`의 best value가 7이라고 하는가?\n",
        "\n",
        "이에 대해서 조금 생각해보니 헷갈린 부분에 대해서 다음과 같이 정정할 수 있었다.  \n",
        "* 결국 ML의 목표는 **실제 현장에 투입되어서 최선의 성과를 내는 것**이다.  \n",
        "* training은 **Seen data**에 의해서 수행된다.  \n",
        "* 하지만 **실제 현장에서 만나는 데이터**는 **Unseen data**이다.\n",
        "    - 예제 실습 단계에서는 최종적으로 **test set이 Unseen data**에 해당하고, **cross validation 단계에서는 해당 단계에서의 test set(전체 입장에서 보면 validate set)**이 여기에 해당한다.\n",
        "* 즉, **Unseen data에 대한 score가 높은 것**이 중요하다.  \n",
        "    - Unseen data에 대한 score가 높은 model에 대해서 **[generalization ability가 뛰어나다](https://colab.research.google.com/drive/16M5guTPGlzBdq7E_fUua9BBF8LsE8p_j#scrollTo=Jd525wJ-peJ0)**고 한다.\n",
        "    - 당연하게도 Unseen data에 대한 score만 높다고 좋은 것이 아니고, Seen data에 대한 score가 일정 수준으로 높고 Unseen data에 대한 score도 이에 유사한 수준으로 높은 상황을 말하는 것이다.\n",
        "* 위와 같은 이유로 `GridSearchCV`는 **Unseen data 즉, validate set에 대한 score가 높도록 하는 parameter값**을 해당 parameter의 **optimal value**라고 설정(?)한다.\n",
        "* 즉 **Seen data에 대한 score**는 0.86 : 0.80으로 `n_neighbors=3`일 때가 더 높을지 몰라도, **Unseen data에 대한 score**는 `n_neighbors=7`일 때가 더 높다는 것이다.  \n",
        "* (다음 cell)  \n",
        "자세한 결과는 다음 cell에서 확인할 수 있다."
      ],
      "metadata": {
        "id": "f6UfOG6D1lER"
      }
    },
    {
      "cell_type": "code",
      "source": [
        "max_value = np.max(gs.cv_results_['mean_test_score'])\n",
        "print(f'>> max value of mean_test_score(정확히는 validate set score)\\n{max_value} <<')\n",
        "print()\n",
        "# print(gs.cv_results_['mean_test_score'])\n",
        "# print(gs.cv_results_['mean_train_score'])\n",
        "for i in range(len(gs.cv_results_['mean_test_score'])):\n",
        "    # train score가 1.0인 경우가 존재하는데, 터무니없으므로 제외함\n",
        "    if gs.cv_results_['mean_train_score'][i] == 1.0: continue\n",
        "    # 출력 결과를 보면, test score의 max가 train score의 max를 보장하지는 않음을 확인 가능\n",
        "    # 출력 결과 기준으로 test score는 하단 3번 째가 최대이고, train score는 상단 4번 째가 최대\n",
        "    print(gs.cv_results_['mean_test_score'][i], gs.cv_results_['mean_train_score'][i])\n",
        "    print()"
      ],
      "metadata": {
        "colab": {
          "base_uri": "https://localhost:8080/"
        },
        "id": "Ty_4p3QHxwXu",
        "outputId": "8e6102f9-b614-41dc-9e5b-31f36a04563a"
      },
      "execution_count": 25,
      "outputs": [
        {
          "output_type": "stream",
          "name": "stdout",
          "text": [
            ">> max value of mean_test_score(정확히는 validate set score)\n",
            "0.7508596561375449 <<\n",
            "\n",
            "0.6987471677995469 0.8346911065852003\n",
            "\n",
            "0.6987471677995469 0.8407936350239267\n",
            "\n",
            "0.7019858723177397 0.8469102379414833\n",
            "\n",
            "0.7183126749300279 0.8591310251188051\n",
            "\n",
            "0.7133946421431427 0.8053764509131852\n",
            "\n",
            "0.7166333466613354 0.8135206066928287\n",
            "\n",
            "0.7297081167532987 0.8151565578792244\n",
            "\n",
            "0.7328935092629616 0.8167776066762705\n",
            "\n",
            "0.7394508863121417 0.796421770735019\n",
            "\n",
            "0.7296947887511662 0.8029365986124221\n",
            "\n",
            "0.7476076236172198 0.8057837828887454\n",
            "\n",
            "0.7508596561375449 0.8061911148643055\n",
            "\n",
            "0.7394508863121418 0.7899061149470965\n",
            "\n",
            "0.7508463281354125 0.7992722666534201\n",
            "\n"
          ]
        }
      ]
    },
    {
      "cell_type": "markdown",
      "source": [
        "# 2. Logistic Regression\n",
        "**summary:**  \n",
        "\n",
        "| Logistic Regression | train_score | test(val)_score |\n",
        "| :--- | :---: | :---: |\n",
        "| default | 0.792 | 0.779 |\n",
        "| Polynomial Features | 0.816 | 0.769 |\n",
        "| Polynomial Features + Grid search | 0.795 | 0.785 |"
      ],
      "metadata": {
        "id": "BiseHQLA7Mf2"
      }
    },
    {
      "cell_type": "code",
      "source": [
        "from sklearn.linear_model import LogisticRegression\n",
        "\n",
        "lr = LogisticRegression()\n",
        "lr.fit(X_train_scaled, y_train)\n",
        "\n",
        "print(lr.predict(X_train_scaled[:50]))\n",
        "print(lr.score(X_train_scaled, y_train))\n",
        "print(lr.coef_, lr.intercept_)"
      ],
      "metadata": {
        "colab": {
          "base_uri": "https://localhost:8080/"
        },
        "id": "ILUkCdTnEnQu",
        "outputId": "0d940cd6-ca14-4fa4-8673-7af3bb260db7"
      },
      "execution_count": 26,
      "outputs": [
        {
          "output_type": "stream",
          "name": "stdout",
          "text": [
            "[0 0 0 0 0 1 0 1 0 0 0 0 0 0 1 0 1 0 0 1 0 0 0 0 0 1 0 0 0 0 1 0 1 0 0 0 1\n",
            " 0 1 1 1 0 1 0 0 1 0 0 0 1]\n",
            "0.7915309446254072\n",
            "[[ 0.37299675  1.14382572 -0.19771633  0.06642437 -0.12729128  0.71380999\n",
            "   0.25550662  0.18413458]] [-0.87494895]\n"
          ]
        }
      ]
    },
    {
      "cell_type": "markdown",
      "source": [
        "(위 cell)  \n",
        "이때 Logistic regression에서의 regression 자체의 predicted label value = $z$ 라고 했을 때 이 값을 sigmoid function에 대입하는데 이는 다음과 같다.  \n",
        "$ sigmoid function = \\sigma(z) = \\frac{1}{1+e^{-z}} $  \n",
        "그리고 기본적으로 다음과 같이 classify한다.  \n",
        "> multiple-class classification에서는 softmax function을 사용한다.\n",
        "\n",
        "* $ \\sigma(z) > 0.5 $이면, positive class\n",
        "* $ \\sigma(z) <= 0.5 $이면, negative class  \n",
        "\n",
        "그러면 다음과 같이 판단할 수 있겠다.  \n",
        "* $ z = 0 $이면,  $ \\sigma(z) = 0.5 $\n",
        "* $ z \\rightarrow \\infty $이면, $ \\sigma(z) \\rightarrow 1.0 $\n",
        "* _(질문) features 중에 coefficient가 높은 것이 중요한건지(부호 구분 yes), 아니면 coefficient의 absolute value가 높은 것이 중요한건지 궁금함._\n",
        "    - 내 생각엔 후자가 맞는 것 같음.\n"
      ],
      "metadata": {
        "id": "1cPJ90GGGpjW"
      }
    },
    {
      "cell_type": "markdown",
      "source": [
        "## case1. cross validate only"
      ],
      "metadata": {
        "id": "-s1aIKNMGIzX"
      }
    },
    {
      "cell_type": "markdown",
      "source": [
        "(다음 cell)  \n",
        "Linear regression을 사용한 경우 기본 model임에도 불구하고, performance(0.779)가 K-NN regression에서 hyperparameter tuning을 한 경우(0.751)보다도 우수함을 확인할 수 있다."
      ],
      "metadata": {
        "id": "E8gAuM1UMhUO"
      }
    },
    {
      "cell_type": "code",
      "source": [
        "from sklearn.model_selection import cross_validate\n",
        "\n",
        "scores = cross_validate(estimator=lr, X=X_train_scaled, y=y_train,\n",
        "                        return_train_score=True, cv=5, n_jobs=-1)\n",
        "\n",
        "print(np.mean(scores['train_score']), np.mean(scores['test_score']))"
      ],
      "metadata": {
        "colab": {
          "base_uri": "https://localhost:8080/"
        },
        "id": "D_g6sUApFJoE",
        "outputId": "598884d8-1d1b-47f2-c350-2bbb568a6985"
      },
      "execution_count": 27,
      "outputs": [
        {
          "output_type": "stream",
          "name": "stdout",
          "text": [
            "0.7923484509794181 0.7785285885645742\n"
          ]
        }
      ]
    },
    {
      "cell_type": "markdown",
      "source": [
        "> 또한 Linear regression을 사용한 classification에서는 cross validate만 사용한 case 이후에 Grid search, Random search 등으로 바로 넘어가지 않고, **Polynomial regression으로 변환**한 후에 model performance를 먼저 확인하고 결정하도록 하겠다."
      ],
      "metadata": {
        "id": "vY_oXIxHNIml"
      }
    },
    {
      "cell_type": "markdown",
      "source": [
        "## case2. Convert to polynomial regression\n",
        "처음 개념을 접할 때 polynomial과 multiple이 무슨 관계인지, 관계가 있는건지? 없는건지? 등이 헷갈렸다.  \n",
        "이때 다음 문장들을 보면서 헷갈리는 부분을 해결할 수 있었기에 함께 첨부한다.\n",
        "\n",
        "> Polynomial regression models a nonlinear relationship between the dependent variable and one or more independent variables(예제의 경우 당연하게도 more independent variables임 즉, **multiple polynomial regression**이라고 할 수 있겠음) by using polynomial terms.\n",
        "\n",
        "> Polynomial regression includes high-degree terms of the features to capture nonlinear patterns.\n",
        "\n",
        "> Polynomial regression is considerd linear because it is linear in the coefficients.\n",
        "\n",
        "> Polynomial regression is used to capture non-linear relationships between the predictor(=label=dependent) and the responsible variables(=features=independent), but the model itself is considered as linear because it is linear in the parameters.\n",
        "\n",
        "한국어로 의역해보자면 다음과 같이 할 수 있겠다.  \n",
        "* Multiple은 feature의 개수와 관련된 개념이다. 본 예제에서는 $x_1$ ~ $x_8$ 8개의 features가 존재하므로 Multiple linear regression이다.\n",
        "    - 1개의 feature만 존재하는 경우, simple linear regression이라고 한다.\n",
        "* Polynomial은 feature의 차수와 관련된 개념이다. $x_1$은 1차, $(x_1)^2$은 2차.\n",
        "    - function 내에서 가장 큰 차수가 제곱 이상이라면 polynomial이고, 모두 1차항이라면 linear이다.\n",
        "    - 이 부분이 조금 헷갈릴 수 있는데, $y = ax_1^2 + bx_1 + c $는 가장 큰 차수가 제곱이기 때문에 polynomial이지만, $x_1^2$ 자체가 $ x_1 $으로부터 파생된 것이기 때문에 linear로 취급한다.\n",
        "        + 이때 $x_1$을 original feature, $x_1^2$을 derived feature라고 한다.\n",
        "        + 위 영어 문장 중에서 __Polynomial regression is considerd linear__ 부분을 참고"
      ],
      "metadata": {
        "id": "TmVLCpyNNg5C"
      }
    },
    {
      "cell_type": "code",
      "source": [
        "from sklearn.preprocessing import PolynomialFeatures\n",
        "\n",
        "# default, degree=2, interaction_only=False, include_bias=True\n",
        "poly = PolynomialFeatures(degree=2, interaction_only=False, include_bias=False)\n",
        "poly.fit(X_train_scaled)\n",
        "X_train_poly = poly.transform(X_train_scaled)\n",
        "\n",
        "# features가 8개 -> 44개로 늘어난 것을 확인할 수 있다\n",
        "print(X_train_scaled.shape, X_train_poly.shape)"
      ],
      "metadata": {
        "colab": {
          "base_uri": "https://localhost:8080/"
        },
        "id": "3RNIDgtsSnd6",
        "outputId": "8eac980c-456f-4995-8717-6ef7ff127b10"
      },
      "execution_count": 28,
      "outputs": [
        {
          "output_type": "stream",
          "name": "stdout",
          "text": [
            "(614, 8) (614, 44)\n"
          ]
        }
      ]
    },
    {
      "cell_type": "markdown",
      "source": [
        "> 이때 `PolynomialFeatures`를 통해서 features를 추가해줬기 때문에, 새롭게 fitting이 필요하다는 것을 주의하자."
      ],
      "metadata": {
        "id": "b7vnGr8qTzg6"
      }
    },
    {
      "cell_type": "code",
      "source": [
        "lr.fit(X_train_poly, y_train)"
      ],
      "metadata": {
        "colab": {
          "base_uri": "https://localhost:8080/",
          "height": 75
        },
        "id": "cgkk_ux_Tuvf",
        "outputId": "7f56968d-e128-4874-c3ef-44e3c062327f"
      },
      "execution_count": 29,
      "outputs": [
        {
          "output_type": "execute_result",
          "data": {
            "text/plain": [
              "LogisticRegression()"
            ],
            "text/html": [
              "<style>#sk-container-id-2 {color: black;background-color: white;}#sk-container-id-2 pre{padding: 0;}#sk-container-id-2 div.sk-toggleable {background-color: white;}#sk-container-id-2 label.sk-toggleable__label {cursor: pointer;display: block;width: 100%;margin-bottom: 0;padding: 0.3em;box-sizing: border-box;text-align: center;}#sk-container-id-2 label.sk-toggleable__label-arrow:before {content: \"▸\";float: left;margin-right: 0.25em;color: #696969;}#sk-container-id-2 label.sk-toggleable__label-arrow:hover:before {color: black;}#sk-container-id-2 div.sk-estimator:hover label.sk-toggleable__label-arrow:before {color: black;}#sk-container-id-2 div.sk-toggleable__content {max-height: 0;max-width: 0;overflow: hidden;text-align: left;background-color: #f0f8ff;}#sk-container-id-2 div.sk-toggleable__content pre {margin: 0.2em;color: black;border-radius: 0.25em;background-color: #f0f8ff;}#sk-container-id-2 input.sk-toggleable__control:checked~div.sk-toggleable__content {max-height: 200px;max-width: 100%;overflow: auto;}#sk-container-id-2 input.sk-toggleable__control:checked~label.sk-toggleable__label-arrow:before {content: \"▾\";}#sk-container-id-2 div.sk-estimator input.sk-toggleable__control:checked~label.sk-toggleable__label {background-color: #d4ebff;}#sk-container-id-2 div.sk-label input.sk-toggleable__control:checked~label.sk-toggleable__label {background-color: #d4ebff;}#sk-container-id-2 input.sk-hidden--visually {border: 0;clip: rect(1px 1px 1px 1px);clip: rect(1px, 1px, 1px, 1px);height: 1px;margin: -1px;overflow: hidden;padding: 0;position: absolute;width: 1px;}#sk-container-id-2 div.sk-estimator {font-family: monospace;background-color: #f0f8ff;border: 1px dotted black;border-radius: 0.25em;box-sizing: border-box;margin-bottom: 0.5em;}#sk-container-id-2 div.sk-estimator:hover {background-color: #d4ebff;}#sk-container-id-2 div.sk-parallel-item::after {content: \"\";width: 100%;border-bottom: 1px solid gray;flex-grow: 1;}#sk-container-id-2 div.sk-label:hover label.sk-toggleable__label {background-color: #d4ebff;}#sk-container-id-2 div.sk-serial::before {content: \"\";position: absolute;border-left: 1px solid gray;box-sizing: border-box;top: 0;bottom: 0;left: 50%;z-index: 0;}#sk-container-id-2 div.sk-serial {display: flex;flex-direction: column;align-items: center;background-color: white;padding-right: 0.2em;padding-left: 0.2em;position: relative;}#sk-container-id-2 div.sk-item {position: relative;z-index: 1;}#sk-container-id-2 div.sk-parallel {display: flex;align-items: stretch;justify-content: center;background-color: white;position: relative;}#sk-container-id-2 div.sk-item::before, #sk-container-id-2 div.sk-parallel-item::before {content: \"\";position: absolute;border-left: 1px solid gray;box-sizing: border-box;top: 0;bottom: 0;left: 50%;z-index: -1;}#sk-container-id-2 div.sk-parallel-item {display: flex;flex-direction: column;z-index: 1;position: relative;background-color: white;}#sk-container-id-2 div.sk-parallel-item:first-child::after {align-self: flex-end;width: 50%;}#sk-container-id-2 div.sk-parallel-item:last-child::after {align-self: flex-start;width: 50%;}#sk-container-id-2 div.sk-parallel-item:only-child::after {width: 0;}#sk-container-id-2 div.sk-dashed-wrapped {border: 1px dashed gray;margin: 0 0.4em 0.5em 0.4em;box-sizing: border-box;padding-bottom: 0.4em;background-color: white;}#sk-container-id-2 div.sk-label label {font-family: monospace;font-weight: bold;display: inline-block;line-height: 1.2em;}#sk-container-id-2 div.sk-label-container {text-align: center;}#sk-container-id-2 div.sk-container {/* jupyter's `normalize.less` sets `[hidden] { display: none; }` but bootstrap.min.css set `[hidden] { display: none !important; }` so we also need the `!important` here to be able to override the default hidden behavior on the sphinx rendered scikit-learn.org. See: https://github.com/scikit-learn/scikit-learn/issues/21755 */display: inline-block !important;position: relative;}#sk-container-id-2 div.sk-text-repr-fallback {display: none;}</style><div id=\"sk-container-id-2\" class=\"sk-top-container\"><div class=\"sk-text-repr-fallback\"><pre>LogisticRegression()</pre><b>In a Jupyter environment, please rerun this cell to show the HTML representation or trust the notebook. <br />On GitHub, the HTML representation is unable to render, please try loading this page with nbviewer.org.</b></div><div class=\"sk-container\" hidden><div class=\"sk-item\"><div class=\"sk-estimator sk-toggleable\"><input class=\"sk-toggleable__control sk-hidden--visually\" id=\"sk-estimator-id-4\" type=\"checkbox\" checked><label for=\"sk-estimator-id-4\" class=\"sk-toggleable__label sk-toggleable__label-arrow\">LogisticRegression</label><div class=\"sk-toggleable__content\"><pre>LogisticRegression()</pre></div></div></div></div></div>"
            ]
          },
          "metadata": {},
          "execution_count": 29
        }
      ]
    },
    {
      "cell_type": "code",
      "source": [
        "scores = cross_validate(estimator=lr, X=X_train_poly, y=y_train,\n",
        "                        return_train_score=True, cv=5, n_jobs=-1)\n",
        "\n",
        "print(np.mean(scores['train_score']), np.mean(scores['test_score']))"
      ],
      "metadata": {
        "colab": {
          "base_uri": "https://localhost:8080/"
        },
        "id": "em5VicGAUqSS",
        "outputId": "e598ed96-8292-4e39-d939-8c15468c8d22"
      },
      "execution_count": 30,
      "outputs": [
        {
          "output_type": "stream",
          "name": "stdout",
          "text": [
            "0.8163727584322686 0.7688258030121286\n"
          ]
        }
      ]
    },
    {
      "cell_type": "markdown",
      "source": [
        "(위 cell)  \n",
        "`PolynomialFeatures` class를 사용해서 feature의 개수를 8개에서 44개로 늘렸다.  \n",
        "이때 오히려 model performance가 감소한 것을 확인할 수 있는데, feature의 수가 너무 많아졌기 때문이라고 추정할 수 있겠다.  \n",
        "따라서 `LinearRegression`의 `C` parameter를 조정해서 model complexity를 낮춰보겠다.  \n",
        "> 조정하는 김에 아예 **case3**으로 해서 hyperparameter tuning을 하겠다."
      ],
      "metadata": {
        "id": "KiyrnKpMVILd"
      }
    },
    {
      "cell_type": "markdown",
      "source": [
        "## case3. Hyperparameter tuning by GridSearchCV"
      ],
      "metadata": {
        "id": "aS58L_tpZhjg"
      }
    },
    {
      "cell_type": "code",
      "source": [
        "from sklearn.model_selection import GridSearchCV\n",
        "\n",
        "param_grid = {'max_iter': [100, 500, 1000], # default=100\n",
        "              'solver': ['newton-cg', 'lbfgs', 'liblinear', 'sag', 'saga'],\n",
        "              'C': [0.001, 0.01, 0.1, 1.0, 5.0, 10.0], # default=1.0, 규제 정도\n",
        "              'penalty': ['l1', 'l2'] # default=l2(ridge)\n",
        "              }\n",
        "\n",
        "grid_search = GridSearchCV(estimator=LogisticRegression(), param_grid=param_grid,\n",
        "                           return_train_score=True, n_jobs=-1)\n",
        "\n",
        "grid_search.fit(X_train_poly, y_train)"
      ],
      "metadata": {
        "id": "JO9bPeacV8nz"
      },
      "execution_count": null,
      "outputs": []
    },
    {
      "cell_type": "code",
      "source": [
        "grid_search.best_params_"
      ],
      "metadata": {
        "colab": {
          "base_uri": "https://localhost:8080/"
        },
        "id": "xIYcU9pSXyTP",
        "outputId": "a637ba0e-cb7c-4bfa-aeb8-5a776d1a3d5d"
      },
      "execution_count": 32,
      "outputs": [
        {
          "output_type": "execute_result",
          "data": {
            "text/plain": [
              "{'C': 0.1, 'max_iter': 100, 'penalty': 'l1', 'solver': 'liblinear'}"
            ]
          },
          "metadata": {},
          "execution_count": 32
        }
      ]
    },
    {
      "cell_type": "code",
      "source": [
        "print(np.max(grid_search.cv_results_['mean_test_score']))\n",
        "print(grid_search.cv_results_['mean_test_score'])"
      ],
      "metadata": {
        "colab": {
          "base_uri": "https://localhost:8080/"
        },
        "id": "DcQR-7-TX_ND",
        "outputId": "f4e562c7-c152-4371-82c1-7f03a7f44a6d"
      },
      "execution_count": 33,
      "outputs": [
        {
          "output_type": "stream",
          "name": "stdout",
          "text": [
            "nan\n",
            "[       nan        nan 0.65147274        nan 0.65147274 0.67756897\n",
            " 0.67756897 0.7442623  0.67756897 0.680821          nan        nan\n",
            " 0.65147274        nan 0.65147274 0.67756897 0.67756897 0.7442623\n",
            " 0.67756897 0.67756897        nan        nan 0.65147274        nan\n",
            " 0.65147274 0.67756897 0.67756897 0.7442623  0.67756897 0.67756897\n",
            "        nan        nan 0.70371851        nan 0.65147274 0.75902972\n",
            " 0.75902972 0.77366387 0.76229508 0.76066907        nan        nan\n",
            " 0.70371851        nan 0.65147274 0.75902972 0.75902972 0.77366387\n",
            " 0.75901639 0.76064241        nan        nan 0.70371851        nan\n",
            " 0.65147274 0.75902972 0.75902972 0.77366387 0.75901639 0.76064241\n",
            "        nan        nan 0.78505931        nan 0.78019459 0.77046515\n",
            " 0.77046515 0.77206451 0.77207784 0.76881248        nan        nan\n",
            " 0.78505931        nan 0.77369052 0.77046515 0.77046515 0.77206451\n",
            " 0.77046515 0.76883913        nan        nan 0.78505931        nan\n",
            " 0.77369052 0.77046515 0.77046515 0.77206451 0.77046515 0.76883913\n",
            "        nan        nan 0.77043849        nan 0.77043849 0.7688258\n",
            " 0.7688258  0.77207784 0.7736772  0.76717313        nan        nan\n",
            " 0.77043849        nan 0.7688258  0.7688258  0.7688258  0.77207784\n",
            " 0.77045182 0.77369052        nan        nan 0.77043849        nan\n",
            " 0.7688258  0.7688258  0.7688258  0.77207784 0.77045182 0.77370385\n",
            "        nan        nan 0.76719979        nan 0.76553379 0.7688258\n",
            " 0.7688258  0.76719979 0.7736772  0.7671598         nan        nan\n",
            " 0.76719979        nan 0.77531654 0.7688258  0.7688258  0.76719979\n",
            " 0.76719979 0.77369052        nan        nan 0.76719979        nan\n",
            " 0.76881248 0.7688258  0.7688258  0.76719979 0.76719979 0.76719979\n",
            "        nan        nan 0.76719979        nan 0.7671598  0.7688258\n",
            " 0.7688258  0.7688258  0.77205118 0.76878582        nan        nan\n",
            " 0.76719979        nan 0.77369052 0.7688258  0.7688258  0.7688258\n",
            " 0.76719979 0.77369052        nan        nan 0.76719979        nan\n",
            " 0.76718646 0.7688258  0.7688258  0.7688258  0.76719979 0.76556044]\n"
          ]
        }
      ]
    },
    {
      "cell_type": "code",
      "source": [
        "tmp_score = 0.0\n",
        "tmp_index = 0\n",
        "for i in range(len(grid_search.cv_results_['mean_test_score'])):\n",
        "    if grid_search.cv_results_['mean_test_score'][i] == 'nan':\n",
        "        continue\n",
        "    if grid_search.cv_results_['mean_test_score'][i] >= tmp_score:\n",
        "        tmp_score = grid_search.cv_results_['mean_test_score'][i]\n",
        "        tmp_index=i"
      ],
      "metadata": {
        "id": "WfGmwoGsYbHW"
      },
      "execution_count": 34,
      "outputs": []
    },
    {
      "cell_type": "code",
      "source": [
        "print(tmp_score)\n",
        "print(tmp_index)"
      ],
      "metadata": {
        "colab": {
          "base_uri": "https://localhost:8080/"
        },
        "id": "RVDsl0X2Yxbv",
        "outputId": "efa0e635-3e72-4f5e-b583-84dbb5cb34dd"
      },
      "execution_count": 35,
      "outputs": [
        {
          "output_type": "stream",
          "name": "stdout",
          "text": [
            "0.7850593096094897\n",
            "82\n"
          ]
        }
      ]
    },
    {
      "cell_type": "code",
      "source": [
        "print(grid_search.cv_results_['mean_train_score'][tmp_index])"
      ],
      "metadata": {
        "colab": {
          "base_uri": "https://localhost:8080/"
        },
        "id": "QlZ7eFuCZMOo",
        "outputId": "c6d3c8c7-0088-44a1-e3e7-6383ad88e2de"
      },
      "execution_count": 36,
      "outputs": [
        {
          "output_type": "stream",
          "name": "stdout",
          "text": [
            "0.7947916149222591\n"
          ]
        }
      ]
    },
    {
      "cell_type": "markdown",
      "source": [
        "(위 cell, 그 위 cell)  \n",
        "유의미한 model performance enhanced를 이뤘다고 볼 수 있겠다.  \n",
        "\n",
        "* `PolynomialFeatures` 사용 전: 0.779  \n",
        "* `PolynomialFeatures` 사용 후: 0.769  \n",
        "* `GridSearchCV` &nbsp;&nbsp;&nbsp;&nbsp;&nbsp;&nbsp;&nbsp;&nbsp;&nbsp;&nbsp;&nbsp;사용 후: 0.785"
      ],
      "metadata": {
        "id": "TBqMv_5RZsFp"
      }
    },
    {
      "cell_type": "markdown",
      "source": [
        "# 3. Decision Tree\n",
        "DT의 경우에는, features에 대해서 scale standardization을 하지 않아도 된다. 또한 오히려 하지 않는 편이 인간이 model을 파악하기에 용이하다.  \n",
        "\n",
        "**summary1:**  \n",
        "\n",
        "| Decision Tree | train_score | test(val)_score |\n",
        "| :--- | :---: | :---: |\n",
        "| default(max_depth=5) | 0.844 | 0.713 |\n",
        "| default + importance 0.1 미만 features 제외 | 0.828 | 0.731 |\n",
        "| importance 0.1 미만 features 제외 + Grid search | 0.811 | 0.751 |\n",
        "| Grid search(얘가 알아서 features 제외) | 0.770 | 0.759 |\n",
        "\n",
        "**summary2:**  \n",
        "\n",
        "| features 제외 여부 | GridSearchCV | Me |\n",
        "| :--- | :---: | :---: |\n",
        "| Pregnancies | o | x |\n",
        "| Glucose | x | x |\n",
        "| BloodPressure | o | o |\n",
        "| SkinThickness | o | o |\n",
        "| Insulin | x | o |\n",
        "| BMI | x | x |\n",
        "| DiabetesPedigreeFunction | o | o |\n",
        "| Age | x | x |"
      ],
      "metadata": {
        "id": "Ty-zT7t-AmZP"
      }
    },
    {
      "cell_type": "code",
      "source": [
        "from sklearn.tree import DecisionTreeClassifier\n",
        "\n",
        "dt = DecisionTreeClassifier(random_state=42)\n",
        "dt.fit(X_train, y_train) # no use scaled data in DT"
      ],
      "metadata": {
        "colab": {
          "base_uri": "https://localhost:8080/",
          "height": 75
        },
        "id": "0w2mfObeBhSb",
        "outputId": "a5e9d44a-34b3-44e7-d783-2bcf1606e187"
      },
      "execution_count": 37,
      "outputs": [
        {
          "output_type": "execute_result",
          "data": {
            "text/plain": [
              "DecisionTreeClassifier(random_state=42)"
            ],
            "text/html": [
              "<style>#sk-container-id-4 {color: black;background-color: white;}#sk-container-id-4 pre{padding: 0;}#sk-container-id-4 div.sk-toggleable {background-color: white;}#sk-container-id-4 label.sk-toggleable__label {cursor: pointer;display: block;width: 100%;margin-bottom: 0;padding: 0.3em;box-sizing: border-box;text-align: center;}#sk-container-id-4 label.sk-toggleable__label-arrow:before {content: \"▸\";float: left;margin-right: 0.25em;color: #696969;}#sk-container-id-4 label.sk-toggleable__label-arrow:hover:before {color: black;}#sk-container-id-4 div.sk-estimator:hover label.sk-toggleable__label-arrow:before {color: black;}#sk-container-id-4 div.sk-toggleable__content {max-height: 0;max-width: 0;overflow: hidden;text-align: left;background-color: #f0f8ff;}#sk-container-id-4 div.sk-toggleable__content pre {margin: 0.2em;color: black;border-radius: 0.25em;background-color: #f0f8ff;}#sk-container-id-4 input.sk-toggleable__control:checked~div.sk-toggleable__content {max-height: 200px;max-width: 100%;overflow: auto;}#sk-container-id-4 input.sk-toggleable__control:checked~label.sk-toggleable__label-arrow:before {content: \"▾\";}#sk-container-id-4 div.sk-estimator input.sk-toggleable__control:checked~label.sk-toggleable__label {background-color: #d4ebff;}#sk-container-id-4 div.sk-label input.sk-toggleable__control:checked~label.sk-toggleable__label {background-color: #d4ebff;}#sk-container-id-4 input.sk-hidden--visually {border: 0;clip: rect(1px 1px 1px 1px);clip: rect(1px, 1px, 1px, 1px);height: 1px;margin: -1px;overflow: hidden;padding: 0;position: absolute;width: 1px;}#sk-container-id-4 div.sk-estimator {font-family: monospace;background-color: #f0f8ff;border: 1px dotted black;border-radius: 0.25em;box-sizing: border-box;margin-bottom: 0.5em;}#sk-container-id-4 div.sk-estimator:hover {background-color: #d4ebff;}#sk-container-id-4 div.sk-parallel-item::after {content: \"\";width: 100%;border-bottom: 1px solid gray;flex-grow: 1;}#sk-container-id-4 div.sk-label:hover label.sk-toggleable__label {background-color: #d4ebff;}#sk-container-id-4 div.sk-serial::before {content: \"\";position: absolute;border-left: 1px solid gray;box-sizing: border-box;top: 0;bottom: 0;left: 50%;z-index: 0;}#sk-container-id-4 div.sk-serial {display: flex;flex-direction: column;align-items: center;background-color: white;padding-right: 0.2em;padding-left: 0.2em;position: relative;}#sk-container-id-4 div.sk-item {position: relative;z-index: 1;}#sk-container-id-4 div.sk-parallel {display: flex;align-items: stretch;justify-content: center;background-color: white;position: relative;}#sk-container-id-4 div.sk-item::before, #sk-container-id-4 div.sk-parallel-item::before {content: \"\";position: absolute;border-left: 1px solid gray;box-sizing: border-box;top: 0;bottom: 0;left: 50%;z-index: -1;}#sk-container-id-4 div.sk-parallel-item {display: flex;flex-direction: column;z-index: 1;position: relative;background-color: white;}#sk-container-id-4 div.sk-parallel-item:first-child::after {align-self: flex-end;width: 50%;}#sk-container-id-4 div.sk-parallel-item:last-child::after {align-self: flex-start;width: 50%;}#sk-container-id-4 div.sk-parallel-item:only-child::after {width: 0;}#sk-container-id-4 div.sk-dashed-wrapped {border: 1px dashed gray;margin: 0 0.4em 0.5em 0.4em;box-sizing: border-box;padding-bottom: 0.4em;background-color: white;}#sk-container-id-4 div.sk-label label {font-family: monospace;font-weight: bold;display: inline-block;line-height: 1.2em;}#sk-container-id-4 div.sk-label-container {text-align: center;}#sk-container-id-4 div.sk-container {/* jupyter's `normalize.less` sets `[hidden] { display: none; }` but bootstrap.min.css set `[hidden] { display: none !important; }` so we also need the `!important` here to be able to override the default hidden behavior on the sphinx rendered scikit-learn.org. See: https://github.com/scikit-learn/scikit-learn/issues/21755 */display: inline-block !important;position: relative;}#sk-container-id-4 div.sk-text-repr-fallback {display: none;}</style><div id=\"sk-container-id-4\" class=\"sk-top-container\"><div class=\"sk-text-repr-fallback\"><pre>DecisionTreeClassifier(random_state=42)</pre><b>In a Jupyter environment, please rerun this cell to show the HTML representation or trust the notebook. <br />On GitHub, the HTML representation is unable to render, please try loading this page with nbviewer.org.</b></div><div class=\"sk-container\" hidden><div class=\"sk-item\"><div class=\"sk-estimator sk-toggleable\"><input class=\"sk-toggleable__control sk-hidden--visually\" id=\"sk-estimator-id-8\" type=\"checkbox\" checked><label for=\"sk-estimator-id-8\" class=\"sk-toggleable__label sk-toggleable__label-arrow\">DecisionTreeClassifier</label><div class=\"sk-toggleable__content\"><pre>DecisionTreeClassifier(random_state=42)</pre></div></div></div></div></div>"
            ]
          },
          "metadata": {},
          "execution_count": 37
        }
      ]
    },
    {
      "cell_type": "markdown",
      "source": [
        "## case1-1. cross validate only"
      ],
      "metadata": {
        "id": "0Os-9FsuHkEQ"
      }
    },
    {
      "cell_type": "code",
      "source": [
        "from sklearn.model_selection import cross_validate\n",
        "\n",
        "scores = cross_validate(estimator=dt, X=X_train, y=y_train,\n",
        "                        return_train_score=True, cv=5, n_jobs=-1)\n",
        "\n",
        "print(np.mean(scores['train_score']), np.mean(scores['test_score']))"
      ],
      "metadata": {
        "colab": {
          "base_uri": "https://localhost:8080/"
        },
        "id": "QjkZgZBVCC9H",
        "outputId": "d2a22a08-dfbf-4bc4-f4ed-5b90a87ebc77"
      },
      "execution_count": 40,
      "outputs": [
        {
          "output_type": "stream",
          "name": "stdout",
          "text": [
            "1.0 0.6743569238971079\n"
          ]
        }
      ]
    },
    {
      "cell_type": "markdown",
      "source": [
        "(위 cell)  \n",
        "overfitting됨을 확인할 수 있다.  \n",
        "먼저 `max_depth` parameter를 조정해서 해결을 시도해보겠다."
      ],
      "metadata": {
        "id": "zaP_AUbIC8pb"
      }
    },
    {
      "cell_type": "code",
      "source": [
        "dt.max_depth = 5\n",
        "\n",
        "scores = cross_validate(estimator=dt, X=X_train, y=y_train,\n",
        "                        return_train_score=True, cv=5, n_jobs=-1)\n",
        "\n",
        "print(np.mean(scores['train_score']), np.mean(scores['test_score']))\n",
        "print(dt.feature_importances_)"
      ],
      "metadata": {
        "colab": {
          "base_uri": "https://localhost:8080/"
        },
        "id": "D21xfF5RDDNi",
        "outputId": "f6cd287d-8f90-4f45-fbc9-9910fc5510cc"
      },
      "execution_count": 54,
      "outputs": [
        {
          "output_type": "stream",
          "name": "stdout",
          "text": [
            "0.8440572582915239 0.7134479541516725\n",
            "[0.10609584 0.33016058 0.09101643 0.02630062 0.05873107 0.18398258\n",
            " 0.09003696 0.11367592]\n"
          ]
        }
      ]
    },
    {
      "cell_type": "markdown",
      "source": [
        "(위 cell)  \n",
        "`dt.feature_importances_`를 봤을 때 importance가 높지 않은 features들로 인해서 model complexity가  올라갔기 때문으로도 추정할 수 있겠다.  \n",
        "따라서 일부 features를 제외하고, 다시 DT를 사용해보겠다."
      ],
      "metadata": {
        "id": "gWfiaONtECfe"
      }
    },
    {
      "cell_type": "markdown",
      "source": [
        "## case1-2. importance가 낮은 features 제외"
      ],
      "metadata": {
        "id": "w_PtFZGzHrF5"
      }
    },
    {
      "cell_type": "code",
      "source": [
        "diabetes.info()"
      ],
      "metadata": {
        "colab": {
          "base_uri": "https://localhost:8080/"
        },
        "id": "qmTDVoR9EhnD",
        "outputId": "5d21e0d3-f0f5-49af-90fa-a19c2eb60847"
      },
      "execution_count": 55,
      "outputs": [
        {
          "output_type": "stream",
          "name": "stdout",
          "text": [
            "<class 'pandas.core.frame.DataFrame'>\n",
            "RangeIndex: 768 entries, 0 to 767\n",
            "Data columns (total 9 columns):\n",
            " #   Column                    Non-Null Count  Dtype  \n",
            "---  ------                    --------------  -----  \n",
            " 0   Pregnancies               768 non-null    int64  \n",
            " 1   Glucose                   768 non-null    int64  \n",
            " 2   BloodPressure             768 non-null    int64  \n",
            " 3   SkinThickness             768 non-null    int64  \n",
            " 4   Insulin                   768 non-null    int64  \n",
            " 5   BMI                       768 non-null    float64\n",
            " 6   DiabetesPedigreeFunction  768 non-null    float64\n",
            " 7   Age                       768 non-null    int64  \n",
            " 8   Outcome                   768 non-null    int64  \n",
            "dtypes: float64(2), int64(7)\n",
            "memory usage: 54.1 KB\n"
          ]
        }
      ]
    },
    {
      "cell_type": "code",
      "source": [
        "# feature_importance_가 0.1 미만인 features를 제외함\n",
        "X_dt = diabetes[['Pregnancies', 'Glucose', 'BMI', 'Age']]\n",
        "y_dt = diabetes['Outcome']"
      ],
      "metadata": {
        "id": "V8Sm6VsyEqr1"
      },
      "execution_count": 75,
      "outputs": []
    },
    {
      "cell_type": "code",
      "source": [
        "X_train_dt, X_test_dt, y_train_dt, y_test_dt = train_test_split(\n",
        "    X_dt, y_dt, test_size=0.2, stratify=y_dt)"
      ],
      "metadata": {
        "id": "lQfyuMqGFqe3"
      },
      "execution_count": 76,
      "outputs": []
    },
    {
      "cell_type": "code",
      "source": [
        "dt = DecisionTreeClassifier(max_depth=5, random_state=42)\n",
        "\n",
        "scores = cross_validate(estimator=dt, X=X_train_dt, y=y_train_dt,\n",
        "                        return_train_score=True, cv=5, n_jobs=-1)\n",
        "\n",
        "print(np.mean(scores['train_score']), np.mean(scores['test_score']))"
      ],
      "metadata": {
        "colab": {
          "base_uri": "https://localhost:8080/"
        },
        "id": "1S6hfylxF8fn",
        "outputId": "688e5154-dba4-4bf2-d242-93b00462552a"
      },
      "execution_count": 97,
      "outputs": [
        {
          "output_type": "stream",
          "name": "stdout",
          "text": [
            "0.8277631513586012 0.7313208050113288\n"
          ]
        }
      ]
    },
    {
      "cell_type": "markdown",
      "source": [
        "(위 cell)  \n",
        "`max_depth=5`로 그대로 유지하고, features 수를 줄인 뒤에 score를 측정하니 이전(0.713)보다 개선된 것을 확인할 수 있다.  \n",
        "다만, train_score 자체도 그다지 높지 않고, test_score와의 차이가 많이 나서 여전히 overfitting된 상태라고 판단할 수 있겠다."
      ],
      "metadata": {
        "id": "gNxKH114HHN1"
      }
    },
    {
      "cell_type": "markdown",
      "source": [
        "## case2. Hyperparameter tuning by GridSearchCV"
      ],
      "metadata": {
        "id": "B7wvW-jdHywV"
      }
    },
    {
      "cell_type": "code",
      "source": [
        "params_grid = {'min_impurity_decrease': np.arange(0.0001, 0.001, 0.0001),\n",
        "               'max_depth': range(3, 20, 1),\n",
        "               'min_samples_split': range(2, 100, 10)\n",
        "               }\n",
        "\n",
        "gs = GridSearchCV(estimator=DecisionTreeClassifier(random_state=42),\n",
        "                  param_grid=params_grid, return_train_score=True, n_jobs=-1)\n",
        "gs.fit(X_train_dt, y_train_dt)\n",
        "\n",
        "# max value의 index 리턴\n",
        "best_index = np.argmax(gs.cv_results_['mean_test_score'])\n",
        "print(gs.cv_results_['mean_train_score'][best_index],\n",
        "      gs.cv_results_['mean_test_score'][best_index])"
      ],
      "metadata": {
        "colab": {
          "base_uri": "https://localhost:8080/"
        },
        "id": "321omN0tH9OD",
        "outputId": "cecd18c1-a64c-480a-d656-00ce103b1518"
      },
      "execution_count": 78,
      "outputs": [
        {
          "output_type": "stream",
          "name": "stdout",
          "text": [
            "0.8114789793519115 0.7507663601226177\n"
          ]
        }
      ]
    },
    {
      "cell_type": "markdown",
      "source": [
        "(위 cell)  \n",
        "overfitting은 이전보다는 해소되었고(하지만 여전히 overfitting), test_score도 유의미한 개선을 이뤘다고 판단할 수 있겠다.  \n",
        "\n",
        "다만, model performance 자체는 그다지 높지 않다(Logistic regression에서의 최고점인 0.785보다 조금 낮음)."
      ],
      "metadata": {
        "id": "_ey6Ol8AKu8Y"
      }
    },
    {
      "cell_type": "code",
      "source": [
        "print(gs.best_params_)"
      ],
      "metadata": {
        "colab": {
          "base_uri": "https://localhost:8080/"
        },
        "id": "NsK7EGx8KBWy",
        "outputId": "77757707-e529-4600-97a2-5a0004247de8"
      },
      "execution_count": 80,
      "outputs": [
        {
          "output_type": "stream",
          "name": "stdout",
          "text": [
            "{'max_depth': 7, 'min_impurity_decrease': 0.0001, 'min_samples_split': 72}\n"
          ]
        }
      ]
    },
    {
      "cell_type": "markdown",
      "source": [
        "(다음 cell)  \n",
        "feature importance가 낮은 feature를 제외할 때 그 기준을 0.1로 설정했었다.  \n",
        "이때 $x_1$인 'pregnancies'의 경우 importance가 0.106이어서 제외하지 않았었는데, `GridSearchCV`로 찾아낸 best estimator(model이라고 생각하면 됨)에서는 importance를 0으로 설정한 것을 확인할 수 있다."
      ],
      "metadata": {
        "id": "5CAOAJDoMTpR"
      }
    },
    {
      "cell_type": "code",
      "source": [
        "print(gs.best_estimator_.feature_importances_)"
      ],
      "metadata": {
        "colab": {
          "base_uri": "https://localhost:8080/"
        },
        "id": "E0skuYH1L4gG",
        "outputId": "0602d9fb-81ad-4f8e-bdb4-2f897df96462"
      },
      "execution_count": 81,
      "outputs": [
        {
          "output_type": "stream",
          "name": "stdout",
          "text": [
            "[0.04248467 0.53558412 0.26371898 0.15821222]\n"
          ]
        }
      ]
    },
    {
      "cell_type": "markdown",
      "source": [
        "(다음 cell, 그 다음 cell)  \n",
        "features를 제외하지 않고, `GridSearchCV`가 알아서 판단하도록 두었을 때 오히려 overfitting이 꽤나 해소되었고, test_score도 0.008 개선되었다.  \n",
        "\n",
        "\n",
        "| features 제외 여부 | GridSearchCV | Me |\n",
        "| :--- | :---: | :---: |\n",
        "| Pregnancies | o | x |\n",
        "| Glucose | x | x |\n",
        "| BloodPressure | o | o |\n",
        "| SkinThickness | o | o |\n",
        "| Insulin | x | o |\n",
        "| BMI | x | x |\n",
        "| DiabetesPedigreeFunction | o | o |\n",
        "| Age | x | x |"
      ],
      "metadata": {
        "id": "p3IpLdxpPIG7"
      }
    },
    {
      "cell_type": "code",
      "source": [
        "gs = GridSearchCV(estimator=DecisionTreeClassifier(random_state=42),\n",
        "                  param_grid=params_grid, return_train_score=True, n_jobs=-1)\n",
        "gs.fit(X_train, y_train)\n",
        "\n",
        "# max value의 index 리턴\n",
        "best_index = np.argmax(gs.cv_results_['mean_test_score'])\n",
        "print(gs.cv_results_['mean_train_score'][best_index],\n",
        "      gs.cv_results_['mean_test_score'][best_index])"
      ],
      "metadata": {
        "colab": {
          "base_uri": "https://localhost:8080/"
        },
        "id": "FhlaKSfHKuJD",
        "outputId": "b4490241-1134-4e6c-cce1-0429a6817c24"
      },
      "execution_count": 70,
      "outputs": [
        {
          "output_type": "stream",
          "name": "stdout",
          "text": [
            "0.7699551272498468 0.759016393442623\n"
          ]
        }
      ]
    },
    {
      "cell_type": "code",
      "source": [
        "print(gs.best_estimator_.feature_importances_)"
      ],
      "metadata": {
        "colab": {
          "base_uri": "https://localhost:8080/"
        },
        "id": "zUDXF-z7M_Uy",
        "outputId": "a34d5e51-0bd3-4f2c-f214-8df895785951"
      },
      "execution_count": 72,
      "outputs": [
        {
          "output_type": "stream",
          "name": "stdout",
          "text": [
            "[0.         0.64256308 0.         0.         0.01856819 0.20109353\n",
            " 0.         0.13777521]\n"
          ]
        }
      ]
    },
    {
      "cell_type": "markdown",
      "source": [
        "# 4. Random Forest\n",
        "**summary:**  \n",
        "\n",
        "| Random Forest | train_score | test(val)_score |\n",
        "| :--- | :---: | :---: |\n",
        "| default(max_depth=5) | 0.862 | 0.770 |\n",
        "| Grid search | 0.841 | 0.782 |"
      ],
      "metadata": {
        "id": "I287UhYaWZ_V"
      }
    },
    {
      "cell_type": "markdown",
      "source": [
        "## case1. cross validate only"
      ],
      "metadata": {
        "id": "pEA9lZAjXvTw"
      }
    },
    {
      "cell_type": "code",
      "source": [
        "from sklearn.ensemble import RandomForestClassifier\n",
        "\n",
        "rf = RandomForestClassifier(max_depth=5, random_state=42, n_jobs=-1)\n",
        "\n",
        "scores = cross_validate(estimator=rf, X=X_train, y=y_train,\n",
        "                        return_train_score=True, cv=5, n_jobs=-1)\n",
        "\n",
        "print(np.mean(scores['train_score']), np.mean(scores['test_score']))"
      ],
      "metadata": {
        "colab": {
          "base_uri": "https://localhost:8080/"
        },
        "id": "nTmUmPyQWxAv",
        "outputId": "a3fe4486-0a57-4c35-f66d-b89ec6421b67"
      },
      "execution_count": 93,
      "outputs": [
        {
          "output_type": "stream",
          "name": "stdout",
          "text": [
            "0.861562598314374 0.7704251632680262\n"
          ]
        }
      ]
    },
    {
      "cell_type": "markdown",
      "source": [
        "## case2. Hyperparameter tuning by GridSearchCV"
      ],
      "metadata": {
        "id": "ygTCCtA2X2yO"
      }
    },
    {
      "cell_type": "code",
      "source": [
        "params_grid = {'min_impurity_decrease': np.arange(0.0001, 0.001, 0.0001),\n",
        "               'max_depth': range(3, 20, 1),\n",
        "               'min_samples_split': range(2, 100, 10)\n",
        "               }\n",
        "\n",
        "gs = GridSearchCV(estimator=RandomForestClassifier(random_state=42),\n",
        "                  param_grid=params_grid, return_train_score=True, n_jobs=-1)"
      ],
      "metadata": {
        "id": "bmJEe8zvYIXV"
      },
      "execution_count": 94,
      "outputs": []
    },
    {
      "cell_type": "code",
      "source": [
        "gs.fit(X_train, y_train)\n",
        "best_index = np.argmax(gs.cv_results_['mean_test_score'])\n",
        "print(gs.cv_results_['mean_train_score'][best_index],\n",
        "      gs.cv_results_['mean_test_score'][best_index])"
      ],
      "metadata": {
        "colab": {
          "base_uri": "https://localhost:8080/"
        },
        "id": "Skj6PJSIZK48",
        "outputId": "c0829109-9c92-490b-d03f-5dba246305b1"
      },
      "execution_count": 95,
      "outputs": [
        {
          "output_type": "stream",
          "name": "stdout",
          "text": [
            "0.841203450731045 0.7818206050912969\n"
          ]
        }
      ]
    },
    {
      "cell_type": "markdown",
      "source": [
        "# 5. Support Vector Machine\n",
        "**summary:**  \n",
        "\n",
        "| Support Vector Machine | train_score | test(val)_score |\n",
        "| :--- | :---: | :---: |\n",
        "| default | 0.795 | 0.775 |"
      ],
      "metadata": {
        "id": "rOZwWI86fa0i"
      }
    },
    {
      "cell_type": "code",
      "source": [
        "from sklearn.svm import SVC # Support Vector Classification\n",
        "\n",
        "svm = SVC(kernel='linear', C=1.0, random_state=42)"
      ],
      "metadata": {
        "id": "oBHJHalKfq-8"
      },
      "execution_count": 99,
      "outputs": []
    },
    {
      "cell_type": "code",
      "source": [
        "scores = cross_validate(estimator=svm, X=X_train_scaled, y=y_train,\n",
        "                        return_train_score=True, cv=5, n_jobs=-1)\n",
        "\n",
        "print(np.mean(scores['train_score']), np.mean(scores['test_score']))"
      ],
      "metadata": {
        "colab": {
          "base_uri": "https://localhost:8080/"
        },
        "id": "NRRVsZdaf2Sr",
        "outputId": "be8550be-9be4-48bd-e772-55e1ecdc07ee"
      },
      "execution_count": 100,
      "outputs": [
        {
          "output_type": "stream",
          "name": "stdout",
          "text": [
            "0.7951972910767805 0.7752898840463814\n"
          ]
        }
      ]
    },
    {
      "cell_type": "code",
      "source": [
        "# svm.fit(X_train_scaled, y_train)"
      ],
      "metadata": {
        "id": "ZuNAphfQgYg6"
      },
      "execution_count": 104,
      "outputs": []
    }
  ]
}
